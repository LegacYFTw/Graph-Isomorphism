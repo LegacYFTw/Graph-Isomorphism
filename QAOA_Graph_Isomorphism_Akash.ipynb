{
  "nbformat": 4,
  "nbformat_minor": 0,
  "metadata": {
    "colab": {
      "name": "QAOA-Graph-Isomorphism-Akash.ipynb",
      "provenance": [],
      "collapsed_sections": []
    },
    "kernelspec": {
      "display_name": "Python 3",
      "language": "python",
      "name": "python3"
    },
    "language_info": {
      "codemirror_mode": {
        "name": "ipython",
        "version": 3
      },
      "file_extension": ".py",
      "mimetype": "text/x-python",
      "name": "python",
      "nbconvert_exporter": "python",
      "pygments_lexer": "ipython3",
      "version": "3.8.5"
    }
  },
  "cells": [
    {
      "cell_type": "code",
      "metadata": {
        "id": "Iv-5PMZ9VkrE",
        "colab": {
          "base_uri": "https://localhost:8080/",
          "height": 1000
        },
        "outputId": "43a4ee88-2ad3-47ca-dec8-58978d331210"
      },
      "source": [
        "!pip install dimod\n",
        "!pip install 'qiskit[all]'\n",
        "!pip install dwave-neal"
      ],
      "execution_count": null,
      "outputs": [
        {
          "output_type": "stream",
          "name": "stdout",
          "text": [
            "Collecting dimod\n",
            "  Downloading dimod-0.10.7-cp37-cp37m-manylinux_2_17_x86_64.manylinux2014_x86_64.whl (13.1 MB)\n",
            "\u001b[K     |████████████████████████████████| 13.1 MB 64 kB/s \n",
            "\u001b[?25hRequirement already satisfied: pyparsing<3.0.0,>=2.4.7 in /usr/local/lib/python3.7/dist-packages (from dimod) (2.4.7)\n",
            "Collecting dwave-preprocessing<0.4,>=0.3\n",
            "  Downloading dwave_preprocessing-0.3.1.post0-cp37-cp37m-manylinux_2_5_x86_64.manylinux1_x86_64.whl (782 kB)\n",
            "\u001b[K     |████████████████████████████████| 782 kB 76.7 MB/s \n",
            "\u001b[?25hRequirement already satisfied: numpy!=1.21.0,!=1.21.1,<2.0.0,>=1.17.3 in /usr/local/lib/python3.7/dist-packages (from dimod) (1.19.5)\n",
            "Installing collected packages: dwave-preprocessing, dimod\n",
            "Successfully installed dimod-0.10.7 dwave-preprocessing-0.3.1.post0\n",
            "Collecting qiskit[all]\n",
            "  Downloading qiskit-0.31.0.tar.gz (13 kB)\n",
            "Collecting qiskit-terra==0.18.3\n",
            "  Downloading qiskit_terra-0.18.3-cp37-cp37m-manylinux2010_x86_64.whl (6.1 MB)\n",
            "\u001b[K     |████████████████████████████████| 6.1 MB 5.0 MB/s \n",
            "\u001b[?25hCollecting qiskit-aer==0.9.1\n",
            "  Downloading qiskit_aer-0.9.1-cp37-cp37m-manylinux_2_12_x86_64.manylinux2010_x86_64.whl (17.9 MB)\n",
            "\u001b[K     |████████████████████████████████| 17.9 MB 67 kB/s \n",
            "\u001b[?25hCollecting qiskit-ibmq-provider==0.17.0\n",
            "  Downloading qiskit_ibmq_provider-0.17.0-py3-none-any.whl (236 kB)\n",
            "\u001b[K     |████████████████████████████████| 236 kB 71.2 MB/s \n",
            "\u001b[?25hCollecting qiskit-ignis==0.6.0\n",
            "  Downloading qiskit_ignis-0.6.0-py3-none-any.whl (207 kB)\n",
            "\u001b[K     |████████████████████████████████| 207 kB 66.5 MB/s \n",
            "\u001b[?25hCollecting qiskit-aqua==0.9.5\n",
            "  Downloading qiskit_aqua-0.9.5-py3-none-any.whl (2.1 MB)\n",
            "\u001b[K     |████████████████████████████████| 2.1 MB 49.8 MB/s \n",
            "\u001b[?25hCollecting qiskit-optimization>=0.2.2\n",
            "  Downloading qiskit_optimization-0.2.3-py3-none-any.whl (144 kB)\n",
            "\u001b[K     |████████████████████████████████| 144 kB 70.7 MB/s \n",
            "\u001b[?25hCollecting qiskit-finance>=0.2.1\n",
            "  Downloading qiskit_finance-0.2.1-py3-none-any.whl (48 kB)\n",
            "\u001b[K     |████████████████████████████████| 48 kB 5.6 MB/s \n",
            "\u001b[?25hCollecting qiskit-machine-learning>=0.2.1\n",
            "  Downloading qiskit_machine_learning-0.2.1-py3-none-any.whl (96 kB)\n",
            "\u001b[K     |████████████████████████████████| 96 kB 5.7 MB/s \n",
            "\u001b[?25hCollecting qiskit-nature>=0.2.0\n",
            "  Downloading qiskit_nature-0.2.2-py3-none-any.whl (2.8 MB)\n",
            "\u001b[K     |████████████████████████████████| 2.8 MB 12.5 MB/s \n",
            "\u001b[?25hCollecting qiskit-experiments\n",
            "  Downloading qiskit_experiments-0.1.0-py3-none-any.whl (210 kB)\n",
            "\u001b[K     |████████████████████████████████| 210 kB 57.4 MB/s \n",
            "\u001b[?25hRequirement already satisfied: matplotlib>=2.1 in /usr/local/lib/python3.7/dist-packages (from qiskit[all]) (3.2.2)\n",
            "Requirement already satisfied: ipywidgets>=7.3.0 in /usr/local/lib/python3.7/dist-packages (from qiskit[all]) (7.6.5)\n",
            "Requirement already satisfied: pydot in /usr/local/lib/python3.7/dist-packages (from qiskit[all]) (1.3.0)\n",
            "Requirement already satisfied: pillow>=4.2.1 in /usr/local/lib/python3.7/dist-packages (from qiskit[all]) (7.1.2)\n",
            "Collecting pylatexenc>=1.4\n",
            "  Downloading pylatexenc-2.10.tar.gz (162 kB)\n",
            "\u001b[K     |████████████████████████████████| 162 kB 76.1 MB/s \n",
            "\u001b[?25hRequirement already satisfied: seaborn>=0.9.0 in /usr/local/lib/python3.7/dist-packages (from qiskit[all]) (0.11.2)\n",
            "Requirement already satisfied: pygments>=2.4 in /usr/local/lib/python3.7/dist-packages (from qiskit[all]) (2.6.1)\n",
            "Requirement already satisfied: numpy>=1.16.3 in /usr/local/lib/python3.7/dist-packages (from qiskit-aer==0.9.1->qiskit[all]) (1.19.5)\n",
            "Requirement already satisfied: scipy>=1.0 in /usr/local/lib/python3.7/dist-packages (from qiskit-aer==0.9.1->qiskit[all]) (1.4.1)\n",
            "Requirement already satisfied: setuptools>=40.1.0 in /usr/local/lib/python3.7/dist-packages (from qiskit-aqua==0.9.5->qiskit[all]) (57.4.0)\n",
            "Collecting docplex>=2.21.207\n",
            "  Downloading docplex-2.22.213.tar.gz (634 kB)\n",
            "\u001b[K     |████████████████████████████████| 634 kB 53.2 MB/s \n",
            "\u001b[?25hRequirement already satisfied: pandas in /usr/local/lib/python3.7/dist-packages (from qiskit-aqua==0.9.5->qiskit[all]) (1.1.5)\n",
            "Collecting yfinance>=0.1.62\n",
            "  Downloading yfinance-0.1.64.tar.gz (26 kB)\n",
            "Collecting retworkx>=0.8.0\n",
            "  Downloading retworkx-0.10.2-cp37-cp37m-manylinux_2_5_x86_64.manylinux1_x86_64.manylinux_2_12_x86_64.manylinux2010_x86_64.whl (1.4 MB)\n",
            "\u001b[K     |████████████████████████████████| 1.4 MB 42.2 MB/s \n",
            "\u001b[?25hRequirement already satisfied: psutil>=5 in /usr/local/lib/python3.7/dist-packages (from qiskit-aqua==0.9.5->qiskit[all]) (5.4.8)\n",
            "Requirement already satisfied: sympy>=1.3 in /usr/local/lib/python3.7/dist-packages (from qiskit-aqua==0.9.5->qiskit[all]) (1.7.1)\n",
            "Collecting dlx<=1.0.4\n",
            "  Downloading dlx-1.0.4.tar.gz (5.5 kB)\n",
            "Requirement already satisfied: scikit-learn>=0.20.0 in /usr/local/lib/python3.7/dist-packages (from qiskit-aqua==0.9.5->qiskit[all]) (0.22.2.post1)\n",
            "Collecting quandl\n",
            "  Downloading Quandl-3.6.1-py2.py3-none-any.whl (26 kB)\n",
            "Requirement already satisfied: h5py<3.3.0 in /usr/local/lib/python3.7/dist-packages (from qiskit-aqua==0.9.5->qiskit[all]) (3.1.0)\n",
            "Requirement already satisfied: fastdtw<=0.3.4 in /usr/local/lib/python3.7/dist-packages (from qiskit-aqua==0.9.5->qiskit[all]) (0.3.4)\n",
            "Requirement already satisfied: python-dateutil>=2.8.0 in /usr/local/lib/python3.7/dist-packages (from qiskit-ibmq-provider==0.17.0->qiskit[all]) (2.8.2)\n",
            "Collecting websocket-client>=1.0.1\n",
            "  Downloading websocket_client-1.2.1-py2.py3-none-any.whl (52 kB)\n",
            "\u001b[K     |████████████████████████████████| 52 kB 1.4 MB/s \n",
            "\u001b[?25hCollecting requests-ntlm>=1.1.0\n",
            "  Downloading requests_ntlm-1.1.0-py2.py3-none-any.whl (5.7 kB)\n",
            "Requirement already satisfied: urllib3>=1.21.1 in /usr/local/lib/python3.7/dist-packages (from qiskit-ibmq-provider==0.17.0->qiskit[all]) (1.24.3)\n",
            "Requirement already satisfied: requests>=2.19 in /usr/local/lib/python3.7/dist-packages (from qiskit-ibmq-provider==0.17.0->qiskit[all]) (2.23.0)\n",
            "Collecting fastjsonschema>=2.10\n",
            "  Downloading fastjsonschema-2.15.1-py3-none-any.whl (21 kB)\n",
            "Collecting python-constraint>=1.4\n",
            "  Downloading python-constraint-1.4.0.tar.bz2 (18 kB)\n",
            "Collecting tweedledum<2.0,>=1.1\n",
            "  Downloading tweedledum-1.1.1-cp37-cp37m-manylinux_2_12_x86_64.manylinux2010_x86_64.whl (943 kB)\n",
            "\u001b[K     |████████████████████████████████| 943 kB 56.7 MB/s \n",
            "\u001b[?25hRequirement already satisfied: dill>=0.3 in /usr/local/lib/python3.7/dist-packages (from qiskit-terra==0.18.3->qiskit[all]) (0.3.4)\n",
            "Collecting ply>=3.10\n",
            "  Downloading ply-3.11-py2.py3-none-any.whl (49 kB)\n",
            "\u001b[K     |████████████████████████████████| 49 kB 5.8 MB/s \n",
            "\u001b[?25hRequirement already satisfied: jsonschema>=2.6 in /usr/local/lib/python3.7/dist-packages (from qiskit-terra==0.18.3->qiskit[all]) (2.6.0)\n",
            "Collecting symengine>0.7\n",
            "  Downloading symengine-0.8.1-cp37-cp37m-manylinux2010_x86_64.whl (38.2 MB)\n",
            "\u001b[K     |████████████████████████████████| 38.2 MB 24 kB/s \n",
            "\u001b[?25hRequirement already satisfied: six in /usr/local/lib/python3.7/dist-packages (from docplex>=2.21.207->qiskit-aqua==0.9.5->qiskit[all]) (1.15.0)\n",
            "Requirement already satisfied: cached-property in /usr/local/lib/python3.7/dist-packages (from h5py<3.3.0->qiskit-aqua==0.9.5->qiskit[all]) (1.5.2)\n",
            "Requirement already satisfied: ipython-genutils~=0.2.0 in /usr/local/lib/python3.7/dist-packages (from ipywidgets>=7.3.0->qiskit[all]) (0.2.0)\n",
            "Requirement already satisfied: ipykernel>=4.5.1 in /usr/local/lib/python3.7/dist-packages (from ipywidgets>=7.3.0->qiskit[all]) (4.10.1)\n",
            "Requirement already satisfied: traitlets>=4.3.1 in /usr/local/lib/python3.7/dist-packages (from ipywidgets>=7.3.0->qiskit[all]) (5.1.0)\n",
            "Requirement already satisfied: jupyterlab-widgets>=1.0.0 in /usr/local/lib/python3.7/dist-packages (from ipywidgets>=7.3.0->qiskit[all]) (1.0.2)\n",
            "Requirement already satisfied: widgetsnbextension~=3.5.0 in /usr/local/lib/python3.7/dist-packages (from ipywidgets>=7.3.0->qiskit[all]) (3.5.1)\n",
            "Requirement already satisfied: nbformat>=4.2.0 in /usr/local/lib/python3.7/dist-packages (from ipywidgets>=7.3.0->qiskit[all]) (5.1.3)\n",
            "Requirement already satisfied: ipython>=4.0.0 in /usr/local/lib/python3.7/dist-packages (from ipywidgets>=7.3.0->qiskit[all]) (5.5.0)\n",
            "Requirement already satisfied: tornado>=4.0 in /usr/local/lib/python3.7/dist-packages (from ipykernel>=4.5.1->ipywidgets>=7.3.0->qiskit[all]) (5.1.1)\n",
            "Requirement already satisfied: jupyter-client in /usr/local/lib/python3.7/dist-packages (from ipykernel>=4.5.1->ipywidgets>=7.3.0->qiskit[all]) (5.3.5)\n",
            "Requirement already satisfied: prompt-toolkit<2.0.0,>=1.0.4 in /usr/local/lib/python3.7/dist-packages (from ipython>=4.0.0->ipywidgets>=7.3.0->qiskit[all]) (1.0.18)\n",
            "Requirement already satisfied: pickleshare in /usr/local/lib/python3.7/dist-packages (from ipython>=4.0.0->ipywidgets>=7.3.0->qiskit[all]) (0.7.5)\n",
            "Requirement already satisfied: decorator in /usr/local/lib/python3.7/dist-packages (from ipython>=4.0.0->ipywidgets>=7.3.0->qiskit[all]) (4.4.2)\n",
            "Requirement already satisfied: pexpect in /usr/local/lib/python3.7/dist-packages (from ipython>=4.0.0->ipywidgets>=7.3.0->qiskit[all]) (4.8.0)\n",
            "Requirement already satisfied: simplegeneric>0.8 in /usr/local/lib/python3.7/dist-packages (from ipython>=4.0.0->ipywidgets>=7.3.0->qiskit[all]) (0.8.1)\n",
            "Requirement already satisfied: cycler>=0.10 in /usr/local/lib/python3.7/dist-packages (from matplotlib>=2.1->qiskit[all]) (0.10.0)\n",
            "Requirement already satisfied: pyparsing!=2.0.4,!=2.1.2,!=2.1.6,>=2.0.1 in /usr/local/lib/python3.7/dist-packages (from matplotlib>=2.1->qiskit[all]) (2.4.7)\n",
            "Requirement already satisfied: kiwisolver>=1.0.1 in /usr/local/lib/python3.7/dist-packages (from matplotlib>=2.1->qiskit[all]) (1.3.2)\n",
            "Requirement already satisfied: jupyter-core in /usr/local/lib/python3.7/dist-packages (from nbformat>=4.2.0->ipywidgets>=7.3.0->qiskit[all]) (4.8.1)\n",
            "Requirement already satisfied: wcwidth in /usr/local/lib/python3.7/dist-packages (from prompt-toolkit<2.0.0,>=1.0.4->ipython>=4.0.0->ipywidgets>=7.3.0->qiskit[all]) (0.2.5)\n",
            "Collecting networkx<2.6,>=2.2\n",
            "  Downloading networkx-2.5.1-py3-none-any.whl (1.6 MB)\n",
            "\u001b[K     |████████████████████████████████| 1.6 MB 34.6 MB/s \n",
            "\u001b[?25hRequirement already satisfied: chardet<4,>=3.0.2 in /usr/local/lib/python3.7/dist-packages (from requests>=2.19->qiskit-ibmq-provider==0.17.0->qiskit[all]) (3.0.4)\n",
            "Requirement already satisfied: certifi>=2017.4.17 in /usr/local/lib/python3.7/dist-packages (from requests>=2.19->qiskit-ibmq-provider==0.17.0->qiskit[all]) (2021.5.30)\n",
            "Requirement already satisfied: idna<3,>=2.5 in /usr/local/lib/python3.7/dist-packages (from requests>=2.19->qiskit-ibmq-provider==0.17.0->qiskit[all]) (2.10)\n",
            "Collecting ntlm-auth>=1.0.2\n",
            "  Downloading ntlm_auth-1.5.0-py2.py3-none-any.whl (29 kB)\n",
            "Collecting cryptography>=1.3\n",
            "  Downloading cryptography-35.0.0-cp36-abi3-manylinux_2_24_x86_64.whl (3.5 MB)\n",
            "\u001b[K     |████████████████████████████████| 3.5 MB 47.0 MB/s \n",
            "\u001b[?25hRequirement already satisfied: cffi>=1.12 in /usr/local/lib/python3.7/dist-packages (from cryptography>=1.3->requests-ntlm>=1.1.0->qiskit-ibmq-provider==0.17.0->qiskit[all]) (1.14.6)\n",
            "Requirement already satisfied: pycparser in /usr/local/lib/python3.7/dist-packages (from cffi>=1.12->cryptography>=1.3->requests-ntlm>=1.1.0->qiskit-ibmq-provider==0.17.0->qiskit[all]) (2.20)\n",
            "Requirement already satisfied: joblib>=0.11 in /usr/local/lib/python3.7/dist-packages (from scikit-learn>=0.20.0->qiskit-aqua==0.9.5->qiskit[all]) (1.0.1)\n",
            "Requirement already satisfied: pytz>=2017.2 in /usr/local/lib/python3.7/dist-packages (from pandas->qiskit-aqua==0.9.5->qiskit[all]) (2018.9)\n",
            "Requirement already satisfied: mpmath>=0.19 in /usr/local/lib/python3.7/dist-packages (from sympy>=1.3->qiskit-aqua==0.9.5->qiskit[all]) (1.2.1)\n",
            "Requirement already satisfied: notebook>=4.4.1 in /usr/local/lib/python3.7/dist-packages (from widgetsnbextension~=3.5.0->ipywidgets>=7.3.0->qiskit[all]) (5.3.1)\n",
            "Requirement already satisfied: nbconvert in /usr/local/lib/python3.7/dist-packages (from notebook>=4.4.1->widgetsnbextension~=3.5.0->ipywidgets>=7.3.0->qiskit[all]) (5.6.1)\n",
            "Requirement already satisfied: jinja2 in /usr/local/lib/python3.7/dist-packages (from notebook>=4.4.1->widgetsnbextension~=3.5.0->ipywidgets>=7.3.0->qiskit[all]) (2.11.3)\n",
            "Requirement already satisfied: Send2Trash in /usr/local/lib/python3.7/dist-packages (from notebook>=4.4.1->widgetsnbextension~=3.5.0->ipywidgets>=7.3.0->qiskit[all]) (1.8.0)\n",
            "Requirement already satisfied: terminado>=0.8.1 in /usr/local/lib/python3.7/dist-packages (from notebook>=4.4.1->widgetsnbextension~=3.5.0->ipywidgets>=7.3.0->qiskit[all]) (0.12.1)\n",
            "Requirement already satisfied: pyzmq>=13 in /usr/local/lib/python3.7/dist-packages (from jupyter-client->ipykernel>=4.5.1->ipywidgets>=7.3.0->qiskit[all]) (22.3.0)\n",
            "Requirement already satisfied: ptyprocess in /usr/local/lib/python3.7/dist-packages (from terminado>=0.8.1->notebook>=4.4.1->widgetsnbextension~=3.5.0->ipywidgets>=7.3.0->qiskit[all]) (0.7.0)\n",
            "Requirement already satisfied: multitasking>=0.0.7 in /usr/local/lib/python3.7/dist-packages (from yfinance>=0.1.62->qiskit-aqua==0.9.5->qiskit[all]) (0.0.9)\n",
            "Collecting lxml>=4.5.1\n",
            "  Downloading lxml-4.6.3-cp37-cp37m-manylinux2014_x86_64.whl (6.3 MB)\n",
            "\u001b[K     |████████████████████████████████| 6.3 MB 36.9 MB/s \n",
            "\u001b[?25hRequirement already satisfied: MarkupSafe>=0.23 in /usr/local/lib/python3.7/dist-packages (from jinja2->notebook>=4.4.1->widgetsnbextension~=3.5.0->ipywidgets>=7.3.0->qiskit[all]) (2.0.1)\n",
            "Requirement already satisfied: bleach in /usr/local/lib/python3.7/dist-packages (from nbconvert->notebook>=4.4.1->widgetsnbextension~=3.5.0->ipywidgets>=7.3.0->qiskit[all]) (4.1.0)\n",
            "Requirement already satisfied: defusedxml in /usr/local/lib/python3.7/dist-packages (from nbconvert->notebook>=4.4.1->widgetsnbextension~=3.5.0->ipywidgets>=7.3.0->qiskit[all]) (0.7.1)\n",
            "Requirement already satisfied: mistune<2,>=0.8.1 in /usr/local/lib/python3.7/dist-packages (from nbconvert->notebook>=4.4.1->widgetsnbextension~=3.5.0->ipywidgets>=7.3.0->qiskit[all]) (0.8.4)\n",
            "Requirement already satisfied: entrypoints>=0.2.2 in /usr/local/lib/python3.7/dist-packages (from nbconvert->notebook>=4.4.1->widgetsnbextension~=3.5.0->ipywidgets>=7.3.0->qiskit[all]) (0.3)\n",
            "Requirement already satisfied: pandocfilters>=1.4.1 in /usr/local/lib/python3.7/dist-packages (from nbconvert->notebook>=4.4.1->widgetsnbextension~=3.5.0->ipywidgets>=7.3.0->qiskit[all]) (1.5.0)\n",
            "Requirement already satisfied: testpath in /usr/local/lib/python3.7/dist-packages (from nbconvert->notebook>=4.4.1->widgetsnbextension~=3.5.0->ipywidgets>=7.3.0->qiskit[all]) (0.5.0)\n",
            "Requirement already satisfied: packaging in /usr/local/lib/python3.7/dist-packages (from bleach->nbconvert->notebook>=4.4.1->widgetsnbextension~=3.5.0->ipywidgets>=7.3.0->qiskit[all]) (21.0)\n",
            "Requirement already satisfied: webencodings in /usr/local/lib/python3.7/dist-packages (from bleach->nbconvert->notebook>=4.4.1->widgetsnbextension~=3.5.0->ipywidgets>=7.3.0->qiskit[all]) (0.5.1)\n",
            "Collecting matplotlib>=2.1\n",
            "  Downloading matplotlib-3.4.3-cp37-cp37m-manylinux1_x86_64.whl (10.3 MB)\n",
            "\u001b[K     |████████████████████████████████| 10.3 MB 39.4 MB/s \n",
            "\u001b[?25hCollecting inflection>=0.3.1\n",
            "  Downloading inflection-0.5.1-py2.py3-none-any.whl (9.5 kB)\n",
            "Requirement already satisfied: more-itertools in /usr/local/lib/python3.7/dist-packages (from quandl->qiskit-aqua==0.9.5->qiskit[all]) (8.10.0)\n",
            "Building wheels for collected packages: qiskit, dlx, docplex, pylatexenc, python-constraint, yfinance\n",
            "  Building wheel for qiskit (setup.py) ... \u001b[?25l\u001b[?25hdone\n",
            "  Created wheel for qiskit: filename=qiskit-0.31.0-py3-none-any.whl size=11728 sha256=ece4a7c4552baab11c789c113cbb1001c060ed707ca85bd3e9b687c24db80fba\n",
            "  Stored in directory: /root/.cache/pip/wheels/29/dd/b2/1fe1a9ac92aaf75b267d893ae27329ea229f292a293017afc7\n",
            "  Building wheel for dlx (setup.py) ... \u001b[?25l\u001b[?25hdone\n",
            "  Created wheel for dlx: filename=dlx-1.0.4-py3-none-any.whl size=5719 sha256=620c821a39e9257a2745ca565d293c73197ad9ba693e4091bafa7a4d05d7c6e8\n",
            "  Stored in directory: /root/.cache/pip/wheels/78/55/c8/dc61e772445a566b7608a476d151e9dcaf4e092b01b0c4bc3c\n",
            "  Building wheel for docplex (setup.py) ... \u001b[?25l\u001b[?25hdone\n",
            "  Created wheel for docplex: filename=docplex-2.22.213-py3-none-any.whl size=696881 sha256=acefef700e22b84a7e1a11c106c0706bb454eee43a5cc4d8578bc7eb9edfae1c\n",
            "  Stored in directory: /root/.cache/pip/wheels/90/69/6b/1375c68a5b7ff94c40263b151c86f58bd72200bf0c465b5ba3\n",
            "  Building wheel for pylatexenc (setup.py) ... \u001b[?25l\u001b[?25hdone\n",
            "  Created wheel for pylatexenc: filename=pylatexenc-2.10-py3-none-any.whl size=136833 sha256=b1ff70e8eea3de9a7478162937ed840db86a4b3815d5453b94f3b41802893b27\n",
            "  Stored in directory: /root/.cache/pip/wheels/f1/8a/f5/33ee79d4473eb201b519fa40f989b842e373237395a3421f52\n",
            "  Building wheel for python-constraint (setup.py) ... \u001b[?25l\u001b[?25hdone\n",
            "  Created wheel for python-constraint: filename=python_constraint-1.4.0-py2.py3-none-any.whl size=24081 sha256=d4dc1da48d6363405da44131629f027b78b6534d9044edd96baad655a164852b\n",
            "  Stored in directory: /root/.cache/pip/wheels/07/27/db/1222c80eb1e431f3d2199c12569cb1cac60f562a451fe30479\n",
            "  Building wheel for yfinance (setup.py) ... \u001b[?25l\u001b[?25hdone\n",
            "  Created wheel for yfinance: filename=yfinance-0.1.64-py2.py3-none-any.whl size=24109 sha256=d91d379eb7e1c15cbfa87997c5bd85d2d840676d5d71faaafde97e6a76303201\n",
            "  Stored in directory: /root/.cache/pip/wheels/86/fe/9b/a4d3d78796b699e37065e5b6c27b75cff448ddb8b24943c288\n",
            "Successfully built qiskit dlx docplex pylatexenc python-constraint yfinance\n",
            "Installing collected packages: tweedledum, symengine, retworkx, python-constraint, ply, fastjsonschema, qiskit-terra, ntlm-auth, lxml, inflection, cryptography, yfinance, websocket-client, requests-ntlm, quandl, qiskit-ignis, networkx, docplex, dlx, qiskit-optimization, qiskit-ibmq-provider, qiskit-aqua, qiskit-aer, matplotlib, qiskit-nature, qiskit-machine-learning, qiskit-finance, qiskit-experiments, qiskit, pylatexenc\n",
            "  Attempting uninstall: lxml\n",
            "    Found existing installation: lxml 4.2.6\n",
            "    Uninstalling lxml-4.2.6:\n",
            "      Successfully uninstalled lxml-4.2.6\n",
            "  Attempting uninstall: networkx\n",
            "    Found existing installation: networkx 2.6.3\n",
            "    Uninstalling networkx-2.6.3:\n",
            "      Successfully uninstalled networkx-2.6.3\n",
            "  Attempting uninstall: matplotlib\n",
            "    Found existing installation: matplotlib 3.2.2\n",
            "    Uninstalling matplotlib-3.2.2:\n",
            "      Successfully uninstalled matplotlib-3.2.2\n",
            "\u001b[31mERROR: pip's dependency resolver does not currently take into account all the packages that are installed. This behaviour is the source of the following dependency conflicts.\n",
            "albumentations 0.1.12 requires imgaug<0.2.7,>=0.2.5, but you have imgaug 0.2.9 which is incompatible.\u001b[0m\n",
            "Successfully installed cryptography-35.0.0 dlx-1.0.4 docplex-2.22.213 fastjsonschema-2.15.1 inflection-0.5.1 lxml-4.6.3 matplotlib-3.4.3 networkx-2.5.1 ntlm-auth-1.5.0 ply-3.11 pylatexenc-2.10 python-constraint-1.4.0 qiskit-0.31.0 qiskit-aer-0.9.1 qiskit-aqua-0.9.5 qiskit-experiments-0.1.0 qiskit-finance-0.2.1 qiskit-ibmq-provider-0.17.0 qiskit-ignis-0.6.0 qiskit-machine-learning-0.2.1 qiskit-nature-0.2.2 qiskit-optimization-0.2.3 qiskit-terra-0.18.3 quandl-3.6.1 requests-ntlm-1.1.0 retworkx-0.10.2 symengine-0.8.1 tweedledum-1.1.1 websocket-client-1.2.1 yfinance-0.1.64\n"
          ]
        },
        {
          "output_type": "display_data",
          "data": {
            "application/vnd.colab-display-data+json": {
              "pip_warning": {
                "packages": [
                  "matplotlib",
                  "mpl_toolkits"
                ]
              }
            }
          },
          "metadata": {}
        },
        {
          "output_type": "stream",
          "name": "stdout",
          "text": [
            "Collecting dwave-neal\n",
            "  Downloading dwave_neal-0.5.8-cp37-cp37m-manylinux_2_5_x86_64.manylinux1_x86_64.whl (397 kB)\n",
            "\u001b[?25l\r\u001b[K     |▉                               | 10 kB 25.1 MB/s eta 0:00:01\r\u001b[K     |█▋                              | 20 kB 30.9 MB/s eta 0:00:01\r\u001b[K     |██▌                             | 30 kB 12.6 MB/s eta 0:00:01\r\u001b[K     |███▎                            | 40 kB 9.7 MB/s eta 0:00:01\r\u001b[K     |████▏                           | 51 kB 5.1 MB/s eta 0:00:01\r\u001b[K     |█████                           | 61 kB 5.8 MB/s eta 0:00:01\r\u001b[K     |█████▊                          | 71 kB 5.4 MB/s eta 0:00:01\r\u001b[K     |██████▋                         | 81 kB 6.1 MB/s eta 0:00:01\r\u001b[K     |███████▍                        | 92 kB 4.7 MB/s eta 0:00:01\r\u001b[K     |████████▎                       | 102 kB 5.1 MB/s eta 0:00:01\r\u001b[K     |█████████                       | 112 kB 5.1 MB/s eta 0:00:01\r\u001b[K     |██████████                      | 122 kB 5.1 MB/s eta 0:00:01\r\u001b[K     |██████████▊                     | 133 kB 5.1 MB/s eta 0:00:01\r\u001b[K     |███████████▌                    | 143 kB 5.1 MB/s eta 0:00:01\r\u001b[K     |████████████▍                   | 153 kB 5.1 MB/s eta 0:00:01\r\u001b[K     |█████████████▏                  | 163 kB 5.1 MB/s eta 0:00:01\r\u001b[K     |██████████████                  | 174 kB 5.1 MB/s eta 0:00:01\r\u001b[K     |██████████████▉                 | 184 kB 5.1 MB/s eta 0:00:01\r\u001b[K     |███████████████▋                | 194 kB 5.1 MB/s eta 0:00:01\r\u001b[K     |████████████████▌               | 204 kB 5.1 MB/s eta 0:00:01\r\u001b[K     |█████████████████▎              | 215 kB 5.1 MB/s eta 0:00:01\r\u001b[K     |██████████████████▏             | 225 kB 5.1 MB/s eta 0:00:01\r\u001b[K     |███████████████████             | 235 kB 5.1 MB/s eta 0:00:01\r\u001b[K     |███████████████████▉            | 245 kB 5.1 MB/s eta 0:00:01\r\u001b[K     |████████████████████▋           | 256 kB 5.1 MB/s eta 0:00:01\r\u001b[K     |█████████████████████▍          | 266 kB 5.1 MB/s eta 0:00:01\r\u001b[K     |██████████████████████▎         | 276 kB 5.1 MB/s eta 0:00:01\r\u001b[K     |███████████████████████         | 286 kB 5.1 MB/s eta 0:00:01\r\u001b[K     |████████████████████████        | 296 kB 5.1 MB/s eta 0:00:01\r\u001b[K     |████████████████████████▊       | 307 kB 5.1 MB/s eta 0:00:01\r\u001b[K     |█████████████████████████▋      | 317 kB 5.1 MB/s eta 0:00:01\r\u001b[K     |██████████████████████████▍     | 327 kB 5.1 MB/s eta 0:00:01\r\u001b[K     |███████████████████████████▏    | 337 kB 5.1 MB/s eta 0:00:01\r\u001b[K     |████████████████████████████    | 348 kB 5.1 MB/s eta 0:00:01\r\u001b[K     |████████████████████████████▉   | 358 kB 5.1 MB/s eta 0:00:01\r\u001b[K     |█████████████████████████████▊  | 368 kB 5.1 MB/s eta 0:00:01\r\u001b[K     |██████████████████████████████▌ | 378 kB 5.1 MB/s eta 0:00:01\r\u001b[K     |███████████████████████████████▎| 389 kB 5.1 MB/s eta 0:00:01\r\u001b[K     |████████████████████████████████| 397 kB 5.1 MB/s \n",
            "\u001b[?25hRequirement already satisfied: numpy!=1.21.0,!=1.21.1,<2.0.0,>=1.16.0 in /usr/local/lib/python3.7/dist-packages (from dwave-neal) (1.19.5)\n",
            "Requirement already satisfied: dimod>=0.9.2 in /usr/local/lib/python3.7/dist-packages (from dwave-neal) (0.10.7)\n",
            "Requirement already satisfied: dwave-preprocessing<0.4,>=0.3 in /usr/local/lib/python3.7/dist-packages (from dimod>=0.9.2->dwave-neal) (0.3.1.post0)\n",
            "Requirement already satisfied: pyparsing<3.0.0,>=2.4.7 in /usr/local/lib/python3.7/dist-packages (from dimod>=0.9.2->dwave-neal) (2.4.7)\n",
            "Installing collected packages: dwave-neal\n",
            "Successfully installed dwave-neal-0.5.8\n"
          ]
        }
      ]
    },
    {
      "cell_type": "code",
      "metadata": {
        "id": "BBKF9kTPYm7U",
        "colab": {
          "base_uri": "https://localhost:8080/",
          "height": 436
        },
        "outputId": "ec6325ee-7285-402d-f09a-6f4e8aa5eb4f"
      },
      "source": [
        "!pip install matplotlib==3.1.3"
      ],
      "execution_count": null,
      "outputs": [
        {
          "output_type": "stream",
          "name": "stdout",
          "text": [
            "Collecting matplotlib==3.1.3\n",
            "  Downloading matplotlib-3.1.3-cp37-cp37m-manylinux1_x86_64.whl (13.1 MB)\n",
            "\u001b[K     |████████████████████████████████| 13.1 MB 97 kB/s \n",
            "\u001b[?25hRequirement already satisfied: kiwisolver>=1.0.1 in /usr/local/lib/python3.7/dist-packages (from matplotlib==3.1.3) (1.3.2)\n",
            "Requirement already satisfied: pyparsing!=2.0.4,!=2.1.2,!=2.1.6,>=2.0.1 in /usr/local/lib/python3.7/dist-packages (from matplotlib==3.1.3) (2.4.7)\n",
            "Requirement already satisfied: cycler>=0.10 in /usr/local/lib/python3.7/dist-packages (from matplotlib==3.1.3) (0.10.0)\n",
            "Requirement already satisfied: numpy>=1.11 in /usr/local/lib/python3.7/dist-packages (from matplotlib==3.1.3) (1.19.5)\n",
            "Requirement already satisfied: python-dateutil>=2.1 in /usr/local/lib/python3.7/dist-packages (from matplotlib==3.1.3) (2.8.2)\n",
            "Requirement already satisfied: six in /usr/local/lib/python3.7/dist-packages (from cycler>=0.10->matplotlib==3.1.3) (1.15.0)\n",
            "Installing collected packages: matplotlib\n",
            "  Attempting uninstall: matplotlib\n",
            "    Found existing installation: matplotlib 3.4.3\n",
            "    Uninstalling matplotlib-3.4.3:\n",
            "      Successfully uninstalled matplotlib-3.4.3\n",
            "\u001b[31mERROR: pip's dependency resolver does not currently take into account all the packages that are installed. This behaviour is the source of the following dependency conflicts.\n",
            "qiskit-experiments 0.1.0 requires matplotlib>=3.3, but you have matplotlib 3.1.3 which is incompatible.\n",
            "albumentations 0.1.12 requires imgaug<0.2.7,>=0.2.5, but you have imgaug 0.2.9 which is incompatible.\u001b[0m\n",
            "Successfully installed matplotlib-3.1.3\n"
          ]
        },
        {
          "output_type": "display_data",
          "data": {
            "application/vnd.colab-display-data+json": {
              "pip_warning": {
                "packages": [
                  "matplotlib",
                  "mpl_toolkits"
                ]
              }
            }
          },
          "metadata": {}
        }
      ]
    },
    {
      "cell_type": "code",
      "metadata": {
        "colab": {
          "base_uri": "https://localhost:8080/"
        },
        "id": "I3AH-z--mJnW",
        "outputId": "3b9e0cec-6d21-4a6a-a45a-f58bf2a09f86"
      },
      "source": [
        "!pip install plotly"
      ],
      "execution_count": null,
      "outputs": [
        {
          "output_type": "stream",
          "name": "stdout",
          "text": [
            "Requirement already satisfied: plotly in /usr/local/lib/python3.7/dist-packages (4.4.1)\n",
            "Requirement already satisfied: six in /usr/local/lib/python3.7/dist-packages (from plotly) (1.15.0)\n",
            "Requirement already satisfied: retrying>=1.3.3 in /usr/local/lib/python3.7/dist-packages (from plotly) (1.3.3)\n"
          ]
        }
      ]
    },
    {
      "cell_type": "code",
      "metadata": {
        "colab": {
          "base_uri": "https://localhost:8080/"
        },
        "id": "Ee8WMAt561oY",
        "outputId": "3ca2bfed-1394-485c-c4f7-eeae9d090daf"
      },
      "source": [
        "!pip install gsgmorph"
      ],
      "execution_count": null,
      "outputs": [
        {
          "output_type": "stream",
          "name": "stdout",
          "text": [
            "Collecting gsgmorph\n",
            "  Downloading gsgmorph-1.0.2-py3-none-any.whl (23 kB)\n",
            "Collecting pyqubo\n",
            "  Downloading pyqubo-1.0.13-cp37-cp37m-manylinux_2_5_x86_64.manylinux1_x86_64.whl (887 kB)\n",
            "\u001b[K     |████████████████████████████████| 887 kB 7.5 MB/s \n",
            "\u001b[?25hRequirement already satisfied: networkx in /usr/local/lib/python3.7/dist-packages (from gsgmorph) (2.5.1)\n",
            "Requirement already satisfied: decorator<5,>=4.3 in /usr/local/lib/python3.7/dist-packages (from networkx->gsgmorph) (4.4.2)\n",
            "Requirement already satisfied: dwave-neal>=0.5.7 in /usr/local/lib/python3.7/dist-packages (from pyqubo->gsgmorph) (0.5.8)\n",
            "Requirement already satisfied: numpy>=1.17.3 in /usr/local/lib/python3.7/dist-packages (from pyqubo->gsgmorph) (1.19.5)\n",
            "Collecting Deprecated>=1.2.12\n",
            "  Downloading Deprecated-1.2.13-py2.py3-none-any.whl (9.6 kB)\n",
            "Requirement already satisfied: six>=1.15.0 in /usr/local/lib/python3.7/dist-packages (from pyqubo->gsgmorph) (1.15.0)\n",
            "Requirement already satisfied: dimod<0.11,>=0.9.14 in /usr/local/lib/python3.7/dist-packages (from pyqubo->gsgmorph) (0.10.7)\n",
            "Requirement already satisfied: wrapt<2,>=1.10 in /usr/local/lib/python3.7/dist-packages (from Deprecated>=1.2.12->pyqubo->gsgmorph) (1.12.1)\n",
            "Requirement already satisfied: dwave-preprocessing<0.4,>=0.3 in /usr/local/lib/python3.7/dist-packages (from dimod<0.11,>=0.9.14->pyqubo->gsgmorph) (0.3.1.post0)\n",
            "Requirement already satisfied: pyparsing<3.0.0,>=2.4.7 in /usr/local/lib/python3.7/dist-packages (from dimod<0.11,>=0.9.14->pyqubo->gsgmorph) (2.4.7)\n",
            "Installing collected packages: Deprecated, pyqubo, gsgmorph\n",
            "Successfully installed Deprecated-1.2.13 gsgmorph-1.0.2 pyqubo-1.0.13\n"
          ]
        }
      ]
    },
    {
      "cell_type": "code",
      "metadata": {
        "id": "opCbLgxHX4uc"
      },
      "source": [
        "import networkx as nx\n",
        "import matplotlib.pyplot as plt\n",
        "import numpy as np\n",
        "from time import time\n",
        "from pprint import pprint\n",
        "import plotly.graph_objects as go\n",
        "from plotly.subplots import make_subplots\n",
        "from IPython.display import clear_output"
      ],
      "execution_count": null,
      "outputs": []
    },
    {
      "cell_type": "code",
      "metadata": {
        "colab": {
          "base_uri": "https://localhost:8080/"
        },
        "id": "o0qvZFxFm-TP",
        "outputId": "799be2cf-4520-4235-cca6-19bee8963ea2"
      },
      "source": [
        "import itertools\n",
        "import networkx as nx\n",
        "import matplotlib.pyplot as plt\n",
        "from collections import defaultdict\n",
        "from dimod import BinaryQuadraticModel, AdjVectorBQM\n",
        "from qiskit.optimization import QuadraticProgram\n",
        "from qiskit.optimization.converters import LinearEqualityToPenalty, InequalityToEquality, IntegerToBinary\n",
        "import neal"
      ],
      "execution_count": null,
      "outputs": [
        {
          "output_type": "stream",
          "name": "stderr",
          "text": [
            "/usr/local/lib/python3.7/dist-packages/qiskit/aqua/__init__.py:86: DeprecationWarning:\n",
            "\n",
            "The package qiskit.aqua is deprecated. It was moved/refactored to qiskit-terra For more information see <https://github.com/Qiskit/qiskit-aqua/blob/main/README.md#migration-guide>\n",
            "\n",
            "/usr/local/lib/python3.7/dist-packages/qiskit/optimization/__init__.py:92: DeprecationWarning:\n",
            "\n",
            "The package qiskit.optimization is deprecated. It was moved/refactored to qiskit_optimization (pip install qiskit-optimization). For more information see <https://github.com/Qiskit/qiskit-aqua/blob/main/README.md#migration-guide>\n",
            "\n"
          ]
        }
      ]
    },
    {
      "cell_type": "code",
      "metadata": {
        "id": "k5PV-TBU8eF6"
      },
      "source": [
        "from qiskit.aqua.algorithms import QAOA\n",
        "from qiskit.optimization.algorithms import MinimumEigenOptimizer\n",
        "from qiskit import Aer\n",
        "from qiskit import QuantumCircuit\n",
        "from qiskit.visualization import plot_state_city\n",
        "from qiskit.aqua.components.optimizers import COBYLA, SLSQP, ADAM, L_BFGS_B\n",
        "from qiskit.optimization import QuadraticProgram\n",
        "from docplex.mp.model import Model\n",
        "\n",
        "from qiskit.optimization.applications.ising import stable_set\n",
        "from qiskit import Aer\n",
        "from qiskit.optimization.applications.ising import stable_set\n",
        "from qiskit.aqua.algorithms import VQE, NumPyMinimumEigensolver, QAOA, NumPyEigensolver\n",
        "from qiskit.aqua import aqua_globals\n",
        "from qiskit.aqua import QuantumInstance\n",
        "from qiskit.optimization.applications.ising.common import sample_most_likely\n",
        "from qiskit.optimization.algorithms import MinimumEigenOptimizer\n",
        "from qiskit.optimization.problems import QuadraticProgram"
      ],
      "execution_count": null,
      "outputs": []
    },
    {
      "cell_type": "code",
      "metadata": {
        "id": "ZqFqov1L7WkA"
      },
      "source": [
        "import gsgmorph.matrix_form as gsgm_mf\n",
        "import networkx as nx\n",
        "\n",
        "graph_to_embed = nx.Graph([(1,2),(2,3),(3,4),(1,4)])\n",
        "target_graph = nx.Graph([('a','b'),('b','c'),('b', 'd'), ('a', 'd')])"
      ],
      "execution_count": null,
      "outputs": []
    },
    {
      "cell_type": "code",
      "metadata": {
        "colab": {
          "base_uri": "https://localhost:8080/",
          "height": 319
        },
        "id": "V48hE6qd7XuP",
        "outputId": "d713c67a-1ca7-446c-97f5-44bd0b3145ea"
      },
      "source": [
        "# Get fixed position\n",
        "pos = nx.spring_layout(graph_to_embed, seed=9999)\n",
        "\n",
        "# Graph to be embedded onto a target graph\n",
        "nx.draw(graph_to_embed, pos, with_labels=True, font_color='w')"
      ],
      "execution_count": null,
      "outputs": [
        {
          "output_type": "display_data",
          "data": {
            "image/png": "[encoded data removed]",
            "text/plain": [
              "<Figure size 432x288 with 1 Axes>"
            ]
          },
          "metadata": {}
        }
      ]
    },
    {
      "cell_type": "code",
      "metadata": {
        "colab": {
          "base_uri": "https://localhost:8080/",
          "height": 319
        },
        "id": "tTDHGw5d7qVg",
        "outputId": "44e692b7-f2f0-40d4-ba28-4d59cbfacd2c"
      },
      "source": [
        "\n",
        "# Get fixed position\n",
        "pos = nx.spring_layout(target_graph, seed=9999)\n",
        "\n",
        "# Target graph, the above graph will be mapped to this one\n",
        "nx.draw(target_graph, pos, with_labels=True, font_color='w')"
      ],
      "execution_count": null,
      "outputs": [
        {
          "output_type": "display_data",
          "data": {
            "image/png": "[encoded data removed]",
            "text/plain": [
              "<Figure size 432x288 with 1 Axes>"
            ]
          },
          "metadata": {}
        }
      ]
    },
    {
      "cell_type": "code",
      "metadata": {
        "id": "QORX2zsS7rc0"
      },
      "source": [
        "\n",
        "# Obtain the QUBO and the sample translation dictionary\n",
        "Q, sample_translation_dict = gsgm_mf.graph_isomorphism(graph_to_embed, target_graph)"
      ],
      "execution_count": null,
      "outputs": []
    },
    {
      "cell_type": "code",
      "metadata": {
        "id": "kKhaD7p77yyh"
      },
      "source": [
        "# Put the QUBO on the annealer and obtain the lowest energy solution.\n",
        "# NOTE: It is possible to have multiple acceptable solutions!\n",
        "import neal\n",
        "sampler = neal.SimulatedAnnealingSampler()\n",
        "sampleset = sampler.sample_qubo(Q, num_reads=100)\n",
        "sampleset = sampleset.aggregate()\n",
        "best_sample = sampleset.first"
      ],
      "execution_count": null,
      "outputs": []
    },
    {
      "cell_type": "code",
      "metadata": {
        "colab": {
          "base_uri": "https://localhost:8080/"
        },
        "id": "8LIalLPe71mf",
        "outputId": "ea00b5ba-08da-446f-f826-56c93ad1bc38"
      },
      "source": [
        "sampleset"
      ],
      "execution_count": null,
      "outputs": [
        {
          "output_type": "execute_result",
          "data": {
            "text/plain": [
              "SampleSet(rec.array([([1, 0, 0, 0, 0, 0, 0, 1, 0, 0, 1, 0, 0, 1, 0, 0], -7.,  6),\n",
              "           ([0, 0, 0, 1, 1, 0, 0, 0, 0, 0, 1, 0, 0, 1, 0, 0], -7.,  9),\n",
              "           ([0, 0, 0, 1, 0, 1, 0, 0, 0, 0, 1, 0, 1, 0, 0, 0], -7.,  6),\n",
              "           ([0, 0, 0, 1, 0, 0, 1, 0, 0, 1, 0, 0, 1, 0, 0, 0], -7.,  6),\n",
              "           ([0, 0, 1, 0, 1, 0, 0, 0, 0, 0, 0, 1, 0, 1, 0, 0], -7.,  7),\n",
              "           ([1, 0, 0, 0, 0, 0, 0, 1, 0, 1, 0, 0, 0, 0, 1, 0], -7.,  5),\n",
              "           ([1, 0, 0, 0, 0, 1, 0, 0, 0, 0, 1, 0, 0, 0, 0, 1], -7.,  8),\n",
              "           ([0, 1, 0, 0, 0, 0, 0, 1, 1, 0, 0, 0, 0, 0, 1, 0], -7.,  3),\n",
              "           ([0, 1, 0, 0, 0, 0, 1, 0, 0, 0, 0, 1, 1, 0, 0, 0], -7.,  6),\n",
              "           ([1, 0, 0, 0, 0, 0, 1, 0, 0, 1, 0, 0, 0, 0, 0, 1], -7.,  4),\n",
              "           ([0, 0, 0, 1, 1, 0, 0, 0, 0, 1, 0, 0, 0, 0, 1, 0], -7., 10),\n",
              "           ([0, 0, 1, 0, 0, 1, 0, 0, 1, 0, 0, 0, 0, 0, 0, 1], -7.,  9),\n",
              "           ([0, 0, 1, 0, 0, 1, 0, 0, 0, 0, 0, 1, 1, 0, 0, 0], -7.,  5),\n",
              "           ([0, 1, 0, 0, 1, 0, 0, 0, 0, 0, 0, 1, 0, 0, 1, 0], -7.,  9),\n",
              "           ([0, 0, 1, 0, 0, 0, 0, 1, 1, 0, 0, 0, 0, 1, 0, 0], -7.,  6),\n",
              "           ([0, 1, 0, 0, 0, 0, 1, 0, 1, 0, 0, 0, 0, 0, 0, 1], -7.,  1)],\n",
              "          dtype=[('sample', 'i1', (16,)), ('energy', '<f8'), ('num_occurrences', '<i8')]), Variables(range(0, 16)), {'beta_range': [0.08664339756999316, 18.420680743952367], 'beta_schedule_type': 'geometric'}, 'BINARY')"
            ]
          },
          "metadata": {},
          "execution_count": 13
        }
      ]
    },
    {
      "cell_type": "code",
      "metadata": {
        "id": "AKHgvj_o-oBp"
      },
      "source": [
        "\n",
        "# We can use an annealing sample and the sample translation dictionary from before to\n",
        "# generate a dictionary that maps nodes from the graph to be embedded to the target graph\n",
        "mapping = gsgm_mf.translate_sample(best_sample, sample_translation_dict)"
      ],
      "execution_count": null,
      "outputs": []
    },
    {
      "cell_type": "code",
      "metadata": {
        "colab": {
          "base_uri": "https://localhost:8080/",
          "height": 319
        },
        "id": "TgvQ-mw6-pRf",
        "outputId": "8a1c33b9-1d4b-40ff-a37d-bb8cfab9e658"
      },
      "source": [
        "# We can use NetworkX to help us visualize the subgraph and how it maps to the target graph\n",
        "\n",
        "# Invert the mapping so it is from the target graph TO the graph to embed nodes\n",
        "# Snippet taken from: \n",
        "# https://stackoverflow.com/a/483833\n",
        "inv_mapping = {v: k for k, v in mapping.items()}\n",
        "\n",
        "# relabel the nodes in the target graph with the node labels from the graph to embed\n",
        "updated_nodes = nx.relabel_nodes(target_graph, inv_mapping, copy=True)\n",
        "# Get the same fixed position used before\n",
        "pos = nx.spring_layout(updated_nodes, seed=9999)\n",
        "\n",
        "# Highlight the nodes that have been relabeled\n",
        "nx.draw(updated_nodes, pos, with_labels=True, \n",
        "        font_color='w', \n",
        "        nodelist=[key for key in mapping.keys()], \n",
        "        node_color=\"tab:red\")\n",
        "\n",
        "# Difference between two lists:\n",
        "# https://stackoverflow.com/a/3462160\n",
        "nx.draw(updated_nodes, \n",
        "        pos, \n",
        "        with_labels=True, \n",
        "        font_color='w', \n",
        "        nodelist=list(set(updated_nodes.nodes()) - set(mapping.keys())), \n",
        "        node_color=\"tab:blue\")"
      ],
      "execution_count": null,
      "outputs": [
        {
          "output_type": "display_data",
          "data": {
            "image/png": "[encoded data removed]",
            "text/plain": [
              "<Figure size 432x288 with 1 Axes>"
            ]
          },
          "metadata": {}
        }
      ]
    },
    {
      "cell_type": "code",
      "metadata": {
        "id": "DGI9WPv__9mv",
        "colab": {
          "base_uri": "https://localhost:8080/"
        },
        "outputId": "c7eaf20a-bf74-4dac-a90e-04ac46e1c6a7"
      },
      "source": [
        "import numpy as np\n",
        "\n",
        "def build_matrix(data):\n",
        "    data = dict(data)\n",
        "\n",
        "    maxX = max([x for (x, y) in list(data.keys())])\n",
        "    maxY = max([y for (x, y) in list(data.keys())])\n",
        "\n",
        "    maxX = max([maxX, maxY])\n",
        "    maxY = max([maxX, maxY])\n",
        "\n",
        "    mat = np.zeros(shape=(maxX+1, maxY+1))\n",
        "\n",
        "    for key, value in data.items():\n",
        "        x, y = key\n",
        "        mat[x][y] = value\n",
        "\n",
        "    return mat\n",
        "\n",
        "Q_mat = build_matrix(Q)\n",
        "Q"
      ],
      "execution_count": null,
      "outputs": [
        {
          "output_type": "execute_result",
          "data": {
            "text/plain": [
              "defaultdict(int,\n",
              "            {(0, 0): -2,\n",
              "             (0, 1): 2,\n",
              "             (0, 2): 2,\n",
              "             (0, 3): 2,\n",
              "             (0, 4): 3,\n",
              "             (0, 6): 1,\n",
              "             (0, 8): 2,\n",
              "             (0, 12): 3,\n",
              "             (0, 14): 1,\n",
              "             (1, 1): -2,\n",
              "             (1, 2): 2,\n",
              "             (1, 3): 2,\n",
              "             (1, 5): 3,\n",
              "             (1, 9): 2,\n",
              "             (1, 13): 3,\n",
              "             (2, 2): -2,\n",
              "             (2, 3): 2,\n",
              "             (2, 4): 1,\n",
              "             (2, 6): 3,\n",
              "             (2, 7): 1,\n",
              "             (2, 10): 2,\n",
              "             (2, 12): 1,\n",
              "             (2, 14): 3,\n",
              "             (2, 15): 1,\n",
              "             (3, 3): -2,\n",
              "             (3, 6): 1,\n",
              "             (3, 7): 3,\n",
              "             (3, 11): 2,\n",
              "             (3, 14): 1,\n",
              "             (3, 15): 3,\n",
              "             (4, 4): -2,\n",
              "             (4, 5): 2,\n",
              "             (4, 6): 2,\n",
              "             (4, 7): 2,\n",
              "             (4, 8): 3,\n",
              "             (4, 10): 1,\n",
              "             (4, 12): 2,\n",
              "             (5, 5): -2,\n",
              "             (5, 6): 2,\n",
              "             (5, 7): 2,\n",
              "             (5, 9): 3,\n",
              "             (5, 13): 2,\n",
              "             (6, 6): -2,\n",
              "             (6, 7): 2,\n",
              "             (6, 8): 1,\n",
              "             (6, 10): 3,\n",
              "             (6, 11): 1,\n",
              "             (6, 14): 2,\n",
              "             (7, 7): -2,\n",
              "             (7, 10): 1,\n",
              "             (7, 11): 3,\n",
              "             (7, 15): 2,\n",
              "             (8, 8): -2,\n",
              "             (8, 9): 2,\n",
              "             (8, 10): 2,\n",
              "             (8, 11): 2,\n",
              "             (8, 12): 3,\n",
              "             (8, 14): 1,\n",
              "             (9, 9): -2,\n",
              "             (9, 10): 2,\n",
              "             (9, 11): 2,\n",
              "             (9, 13): 3,\n",
              "             (10, 10): -2,\n",
              "             (10, 11): 2,\n",
              "             (10, 12): 1,\n",
              "             (10, 14): 3,\n",
              "             (10, 15): 1,\n",
              "             (11, 11): -2,\n",
              "             (11, 14): 1,\n",
              "             (11, 15): 3,\n",
              "             (12, 12): -2,\n",
              "             (12, 13): 2,\n",
              "             (12, 14): 2,\n",
              "             (12, 15): 2,\n",
              "             (13, 13): -2,\n",
              "             (13, 14): 2,\n",
              "             (13, 15): 2,\n",
              "             (14, 14): -2,\n",
              "             (14, 15): 2,\n",
              "             (15, 15): -2})"
            ]
          },
          "metadata": {},
          "execution_count": 16
        }
      ]
    },
    {
      "cell_type": "code",
      "metadata": {
        "id": "5C_iUsNR__TY"
      },
      "source": [
        "s = neal.SimulatedAnnealingSampler()\n",
        "sampleset = s.sample_qubo(Q, beta_range=(5, 100), num_sweeps=20000, num_reads=100,\n",
        "                        beta_schedule_type='geometric')"
      ],
      "execution_count": null,
      "outputs": []
    },
    {
      "cell_type": "code",
      "metadata": {
        "colab": {
          "base_uri": "https://localhost:8080/"
        },
        "id": "lCE-p4wpACbJ",
        "outputId": "f6c9784e-00e4-4ef9-a745-2c725a33508b"
      },
      "source": [
        "\n",
        "# Post processing\n",
        "\n",
        "# Offset is empirically calculated as of now. \n",
        "# From preliminary experiments, the offset is \n",
        "# calculated to be 2 * number of nodes of the \n",
        "# graph\n",
        "\n",
        "offset = 2.0 * len(graph_to_embed.nodes)\n",
        "\n",
        "energies = []\n",
        "final_energies = []\n",
        "for datum in sampleset.data(fields=[\"sample\", \"energy\"]):\n",
        "    energies.append(datum.energy)\n",
        "\n",
        "print(offset)\n",
        "for energy in energies: \n",
        "  final_energy = float(energy) + float(offset)\n",
        "  final_energies.append(final_energy)"
      ],
      "execution_count": null,
      "outputs": [
        {
          "output_type": "stream",
          "name": "stdout",
          "text": [
            "8.0\n"
          ]
        }
      ]
    },
    {
      "cell_type": "code",
      "metadata": {
        "id": "l4TGCwBeAFCh",
        "colab": {
          "base_uri": "https://localhost:8080/"
        },
        "outputId": "e6c54c2a-b8d6-4d6c-e3b5-8a167860e815"
      },
      "source": [
        "final_energies[0]"
      ],
      "execution_count": null,
      "outputs": [
        {
          "output_type": "execute_result",
          "data": {
            "text/plain": [
              "1.0"
            ]
          },
          "metadata": {},
          "execution_count": 19
        }
      ]
    },
    {
      "cell_type": "code",
      "metadata": {
        "colab": {
          "base_uri": "https://localhost:8080/",
          "height": 337
        },
        "id": "OiWwsDe0mTMA",
        "outputId": "42193bd2-7d22-4e5e-ff8e-bba9eb857558"
      },
      "source": [
        "G1 = nx.Graph([(0,1), (1,2), (2,3), (0,3)])\n",
        "# G1 = nx.Graph()\n",
        "# G1_edges_list = [(1,2), (2,3)]\n",
        "# G1.add_node(0)\n",
        "# G1_nodes_list = [0,1,2,3]\n",
        "# G1.add_edges_from(G1_edges_list)\n",
        "# G1.add_nodes_from(G1_nodes_list)\n",
        "nx.draw(G1, with_labels=True, alpha=1, node_size=500)\n",
        "G1.nodes"
      ],
      "execution_count": null,
      "outputs": [
        {
          "output_type": "execute_result",
          "data": {
            "text/plain": [
              "NodeView((0, 1, 2, 3))"
            ]
          },
          "metadata": {},
          "execution_count": 43
        },
        {
          "output_type": "display_data",
          "data": {
            "image/png": "[encoded data removed]",
            "text/plain": [
              "<Figure size 432x288 with 1 Axes>"
            ]
          },
          "metadata": {}
        }
      ]
    },
    {
      "cell_type": "code",
      "metadata": {
        "colab": {
          "base_uri": "https://localhost:8080/",
          "height": 337
        },
        "id": "46jN9ul4mbCP",
        "outputId": "aa6fc37f-a23b-4436-d0c2-a113ca084b27"
      },
      "source": [
        "G2 = nx.Graph([(0,1), (1,2), (1,3), (0,3)])\n",
        "# G2 = nx.Graph()\n",
        "# G2_edges_list = [(0,3), (3,1)]\n",
        "# G2.add_node(2)\n",
        "# G2_nodes_list = [0,1,2,3]\n",
        "# G2.add_edges_from(G2_edges_list)\n",
        "# G2.add_nodes_from(G2_nodes_list)\n",
        "nx.draw(G2, with_labels=True, alpha=1, node_size=500)\n",
        "G2.nodes\n",
        "nx.is_isomorphic(G1,G2)"
      ],
      "execution_count": null,
      "outputs": [
        {
          "output_type": "execute_result",
          "data": {
            "text/plain": [
              "False"
            ]
          },
          "metadata": {},
          "execution_count": 46
        },
        {
          "output_type": "display_data",
          "data": {
            "image/png": "[encoded data removed]",
            "text/plain": [
              "<Figure size 432x288 with 1 Axes>"
            ]
          },
          "metadata": {}
        }
      ]
    },
    {
      "cell_type": "code",
      "metadata": {
        "id": "IL3mcD5smDs2"
      },
      "source": [
        "def add_variables(qp, G1, G2):\n",
        "    for u in range(G1.number_of_nodes()):\n",
        "        for i in range(G2.number_of_nodes()):\n",
        "            qp.binary_var(f\"x_{u}_{i}\")\n",
        "\n",
        "\n",
        "def one_node_connectG1(qp, G1, G2):\n",
        "    \n",
        "    num_nodes = G1.number_of_nodes()\n",
        "    \n",
        "    for u in range(num_nodes):\n",
        "        L = {}\n",
        "        for i in range(num_nodes):\n",
        "            L[f\"x_{u}_{i}\"] = 1\n",
        "    \n",
        "        qp.linear_constraint(linear = L, sense='E', rhs=1)\n",
        "\n",
        "\n",
        "def one_node_connectG2(qp, G1, G2):\n",
        "    \n",
        "    num_nodes = G1.number_of_nodes()\n",
        "    \n",
        "    for i in range(num_nodes):\n",
        "        L = {}\n",
        "        for u in range(num_nodes):\n",
        "            \n",
        "            L[f\"x_{u}_{i}\"] = 1\n",
        "    \n",
        "        qp.linear_constraint(linear = L, sense='E', rhs=1)\n",
        "\n",
        "\n",
        "def get_objective(qp):\n",
        "    qdict = {}\n",
        "    for key, item in qp.variables_index.items():\n",
        "        qdict[item] = key\n",
        "\n",
        "    qp.objective.quadratic.to_dict()\n",
        "    Q_int = qp.objective.quadratic.to_dict()\n",
        "    L_int = qp.objective.linear.to_dict()\n",
        "    \n",
        "    Q = defaultdict(lambda: 0) \n",
        "    for k, v in Q_int.items():\n",
        "        k1 = k[0]\n",
        "        k2 = k[1]\n",
        "        Q[(qdict[k1], qdict[k2])] = v\n",
        "    \n",
        "    L = defaultdict(lambda: 0)\n",
        "    for k, v in L_int.items():\n",
        "        L[qdict[k]] = v\n",
        "\n",
        "    C = qp.objective.constant\n",
        "    return Q, L, C\n",
        "\n",
        "\n",
        "def not_in_edges1(qp, G1, G2, C2):\n",
        "    \n",
        "    num_nodes = list(range(G2.number_of_nodes()))\n",
        "    \n",
        "    Q, L, C = get_objective(qp)\n",
        "\n",
        "    for i,j in itertools.permutations(num_nodes, 2): #original\n",
        "#     for i,j in itertools.permutations(list(range(G2.number_of_nodes())), 2):\n",
        "        \n",
        "        if (i,j) not in G1.edges and i != j:\n",
        "            \n",
        "            for u,v in itertools.permutations(num_nodes, 2): #original\n",
        "            # for u,v in itertools.combinations(G2.nodes, 2):\n",
        "                if (u,v) in G2.edges:\n",
        "#                     print(i,j,u,v)\n",
        "                    Q[(f\"x_{u}_{i}\", f\"x_{v}_{j}\")] = C2\n",
        "    \n",
        "    qp.minimize(quadratic = Q, linear = L, constant = C)\n",
        "\n",
        "\n",
        "def not_in_edges2(qp, G1, G2, C2):\n",
        "    \n",
        "    num_nodes = list(range(G2.number_of_nodes()))\n",
        "    Q, L, C = get_objective(qp)\n",
        "    print('L')\n",
        "    print(L)\n",
        "    for i,j in itertools.permutations(num_nodes, 2): #original\n",
        "        \n",
        "        if (i,j) in G1.edges:\n",
        "            \n",
        "            for u,v in itertools.permutations(num_nodes, 2): #original\n",
        "            # for u,v in itertools.combinations(G2.nodes, 2):\n",
        "                \n",
        "                if (u,v) not in G2.edges and u != v:\n",
        "#                     print(i,j,u,v)\n",
        "                    Q[(f\"x_{u}_{i}\", f\"x_{v}_{j}\")] = C2\n",
        "    \n",
        "    qp.minimize(quadratic = Q, linear = L, constant = C)"
      ],
      "execution_count": null,
      "outputs": []
    },
    {
      "cell_type": "code",
      "metadata": {
        "id": "yLuXcPD3XUTh"
      },
      "source": [
        "import dimod\n",
        "from dimod import BinaryQuadraticModel, AdjVectorBQM\n",
        "\n",
        "qp = QuadraticProgram()\n",
        "ineq2eq = InequalityToEquality()\n",
        "int2bin = IntegerToBinary()\n",
        "\n",
        "C1 = 1\n",
        "C2 = 1\n",
        "\n",
        "# print('Ration of: ', C2/C1)\n",
        "\n",
        "add_variables(qp, G1, G2)\n",
        "\n",
        "one_node_connectG1(qp, G1, G2)\n",
        "lineq2penalty = LinearEqualityToPenalty(penalty=C1)\n",
        "qp = lineq2penalty.convert(int2bin.convert(ineq2eq.convert(qp)))"
      ],
      "execution_count": null,
      "outputs": []
    },
    {
      "cell_type": "code",
      "metadata": {
        "id": "IxEC0WBDmJne",
        "scrolled": true,
        "colab": {
          "base_uri": "https://localhost:8080/"
        },
        "outputId": "d09c4268-75f5-4f19-a6bc-dfd850de62ba"
      },
      "source": [
        "from qiskit.optimization.converters import QuadraticProgramToQubo\n",
        "\n",
        "one_node_connectG2(qp, G1, G2)\n",
        "lineq2penalty = LinearEqualityToPenalty(penalty=C1)\n",
        "qp = lineq2penalty.convert(int2bin.convert(ineq2eq.convert(qp)))\n",
        "                           \n",
        "not_in_edges1(qp, G1, G2, C2)\n",
        "not_in_edges2(qp, G1, G2, C2)\n",
        "\n",
        "conv = QuadraticProgramToQubo()\n",
        "prob = conv.convert(qp)\n",
        "Hamiltonian, offset  = prob.to_ising()\n",
        "variables = prob.variables_index\n",
        "# true_result = NumPyEigensolver(operator = Hamiltonian).run().eigenvalues"
      ],
      "execution_count": null,
      "outputs": [
        {
          "output_type": "stream",
          "name": "stdout",
          "text": [
            "L\n",
            "defaultdict(<function get_objective.<locals>.<lambda> at 0x7f379b176950>, {'x_0_0': -6.0, 'x_0_1': -6.0, 'x_0_2': -6.0, 'x_0_3': -6.0, 'x_1_0': -6.0, 'x_1_1': -6.0, 'x_1_2': -6.0, 'x_1_3': -6.0, 'x_2_0': -6.0, 'x_2_1': -6.0, 'x_2_2': -6.0, 'x_2_3': -6.0, 'x_3_0': -6.0, 'x_3_1': -6.0, 'x_3_2': -6.0, 'x_3_3': -6.0})\n"
          ]
        }
      ]
    },
    {
      "cell_type": "code",
      "metadata": {
        "colab": {
          "base_uri": "https://localhost:8080/"
        },
        "id": "N5NsFRcpmJne",
        "outputId": "b24a0a9a-09f5-492e-87d2-ba48a7e8c740"
      },
      "source": [
        "print(prob)"
      ],
      "execution_count": null,
      "outputs": [
        {
          "output_type": "stream",
          "name": "stdout",
          "text": [
            "\\ This file has been generated by DOcplex\n",
            "\\ ENCODING=ISO-8859-1\n",
            "\\Problem name: CPLEX\n",
            "\n",
            "Minimize\n",
            " obj: - 6 x_0_0 - 6 x_0_1 - 6 x_0_2 - 6 x_0_3 - 6 x_1_0 - 6 x_1_1 - 6 x_1_2\n",
            "      - 6 x_1_3 - 6 x_2_0 - 6 x_2_1 - 6 x_2_2 - 6 x_2_3 - 6 x_3_0 - 6 x_3_1\n",
            "      - 6 x_3_2 - 6 x_3_3 + [ 6 x_0_0^2 + 4 x_0_0*x_0_1 + 4 x_0_0*x_0_2\n",
            "      + 4 x_0_0*x_0_3 + 8 x_0_0*x_1_0 + 4 x_0_0*x_1_2 + 8 x_0_0*x_2_0\n",
            "      + 4 x_0_0*x_2_1 + 4 x_0_0*x_2_3 + 8 x_0_0*x_3_0 + 4 x_0_0*x_3_2\n",
            "      + 6 x_0_1^2 + 4 x_0_1*x_0_2 + 4 x_0_1*x_0_3 + 8 x_0_1*x_1_1\n",
            "      + 4 x_0_1*x_1_3 + 4 x_0_1*x_2_0 + 8 x_0_1*x_2_1 + 4 x_0_1*x_2_2\n",
            "      + 8 x_0_1*x_3_1 + 4 x_0_1*x_3_3 + 6 x_0_2^2 + 4 x_0_2*x_0_3\n",
            "      + 4 x_0_2*x_1_0 + 8 x_0_2*x_1_2 + 4 x_0_2*x_2_1 + 8 x_0_2*x_2_2\n",
            "      + 4 x_0_2*x_2_3 + 4 x_0_2*x_3_0 + 8 x_0_2*x_3_2 + 6 x_0_3^2\n",
            "      + 4 x_0_3*x_1_1 + 8 x_0_3*x_1_3 + 4 x_0_3*x_2_0 + 4 x_0_3*x_2_2\n",
            "      + 8 x_0_3*x_2_3 + 4 x_0_3*x_3_1 + 8 x_0_3*x_3_3 + 6 x_1_0^2\n",
            "      + 4 x_1_0*x_1_1 + 4 x_1_0*x_1_2 + 4 x_1_0*x_1_3 + 8 x_1_0*x_2_0\n",
            "      + 4 x_1_0*x_2_2 + 8 x_1_0*x_3_0 + 4 x_1_0*x_3_2 + 6 x_1_1^2\n",
            "      + 4 x_1_1*x_1_2 + 4 x_1_1*x_1_3 + 8 x_1_1*x_2_1 + 4 x_1_1*x_2_3\n",
            "      + 8 x_1_1*x_3_1 + 4 x_1_1*x_3_3 + 6 x_1_2^2 + 4 x_1_2*x_1_3\n",
            "      + 4 x_1_2*x_2_0 + 8 x_1_2*x_2_2 + 4 x_1_2*x_3_0 + 8 x_1_2*x_3_2\n",
            "      + 6 x_1_3^2 + 4 x_1_3*x_2_1 + 8 x_1_3*x_2_3 + 4 x_1_3*x_3_1\n",
            "      + 8 x_1_3*x_3_3 + 6 x_2_0^2 + 4 x_2_0*x_2_1 + 4 x_2_0*x_2_2\n",
            "      + 4 x_2_0*x_2_3 + 8 x_2_0*x_3_0 + 4 x_2_0*x_3_1 + 4 x_2_0*x_3_3\n",
            "      + 6 x_2_1^2 + 4 x_2_1*x_2_2 + 4 x_2_1*x_2_3 + 4 x_2_1*x_3_0\n",
            "      + 8 x_2_1*x_3_1 + 4 x_2_1*x_3_2 + 6 x_2_2^2 + 4 x_2_2*x_2_3\n",
            "      + 4 x_2_2*x_3_1 + 8 x_2_2*x_3_2 + 4 x_2_2*x_3_3 + 6 x_2_3^2\n",
            "      + 4 x_2_3*x_3_0 + 4 x_2_3*x_3_2 + 8 x_2_3*x_3_3 + 6 x_3_0^2\n",
            "      + 4 x_3_0*x_3_1 + 4 x_3_0*x_3_2 + 4 x_3_0*x_3_3 + 6 x_3_1^2\n",
            "      + 4 x_3_1*x_3_2 + 4 x_3_1*x_3_3 + 6 x_3_2^2 + 4 x_3_2*x_3_3 + 6 x_3_3^2\n",
            "      ]/2 + 12\n",
            "Subject To\n",
            "\n",
            "Bounds\n",
            " 0 <= x_0_0 <= 1\n",
            " 0 <= x_0_1 <= 1\n",
            " 0 <= x_0_2 <= 1\n",
            " 0 <= x_0_3 <= 1\n",
            " 0 <= x_1_0 <= 1\n",
            " 0 <= x_1_1 <= 1\n",
            " 0 <= x_1_2 <= 1\n",
            " 0 <= x_1_3 <= 1\n",
            " 0 <= x_2_0 <= 1\n",
            " 0 <= x_2_1 <= 1\n",
            " 0 <= x_2_2 <= 1\n",
            " 0 <= x_2_3 <= 1\n",
            " 0 <= x_3_0 <= 1\n",
            " 0 <= x_3_1 <= 1\n",
            " 0 <= x_3_2 <= 1\n",
            " 0 <= x_3_3 <= 1\n",
            "\n",
            "Binaries\n",
            " x_0_0 x_0_1 x_0_2 x_0_3 x_1_0 x_1_1 x_1_2 x_1_3 x_2_0 x_2_1 x_2_2 x_2_3 x_3_0\n",
            " x_3_1 x_3_2 x_3_3\n",
            "End\n",
            "\n"
          ]
        }
      ]
    },
    {
      "cell_type": "code",
      "metadata": {
        "id": "Fp2-q4JhBFXh"
      },
      "source": [
        "min_val = NumPyMinimumEigensolver(Hamiltonian)"
      ],
      "execution_count": null,
      "outputs": []
    },
    {
      "cell_type": "code",
      "metadata": {
        "id": "qfNHurm0_N6s",
        "colab": {
          "base_uri": "https://localhost:8080/"
        },
        "outputId": "0903de5c-8c4c-490e-f9c7-6bb297579839"
      },
      "source": [
        "min_val"
      ],
      "execution_count": null,
      "outputs": [
        {
          "output_type": "execute_result",
          "data": {
            "text/plain": [
              "<qiskit.aqua.algorithms.minimum_eigen_solvers.numpy_minimum_eigen_solver.NumPyMinimumEigensolver at 0x7f379b2ae110>"
            ]
          },
          "metadata": {},
          "execution_count": 54
        }
      ]
    },
    {
      "cell_type": "code",
      "metadata": {
        "colab": {
          "base_uri": "https://localhost:8080/"
        },
        "id": "0KrL51m5Bi2I",
        "outputId": "ef6ae2f3-08ac-4f7c-dad1-eeb18f44dfa7"
      },
      "source": [
        "offset"
      ],
      "execution_count": null,
      "outputs": [
        {
          "output_type": "execute_result",
          "data": {
            "text/plain": [
              "40.0"
            ]
          },
          "metadata": {},
          "execution_count": 55
        }
      ]
    },
    {
      "cell_type": "code",
      "metadata": {
        "colab": {
          "base_uri": "https://localhost:8080/"
        },
        "id": "G6XqrFBUBN_X",
        "outputId": "27f6ceea-6782-477d-8eaf-b9798547fd45"
      },
      "source": [
        "min_val.compute_minimum_eigenvalue()"
      ],
      "execution_count": null,
      "outputs": [
        {
          "output_type": "execute_result",
          "data": {
            "text/plain": [
              "{'eigenvalue': (-38+0j), 'eigenstate': VectorStateFn(Statevector([0.+0.j, 0.+0.j, 0.+0.j, ..., 0.+0.j, 0.+0.j, 0.+0.j],\n",
              "            dims=(2, 2, 2, 2, 2, 2, 2, 2, 2, 2, 2, 2, 2, 2, 2, 2)), coeff=1.0, is_measurement=False)}"
            ]
          },
          "metadata": {},
          "execution_count": 56
        }
      ]
    },
    {
      "cell_type": "code",
      "metadata": {
        "id": "H4yg6hs0nh_R"
      },
      "source": [
        "# Hamiltonian_matrix = qp.to_qubo()"
      ],
      "execution_count": null,
      "outputs": []
    },
    {
      "cell_type": "code",
      "metadata": {
        "id": "wnpFiUBbnpnP"
      },
      "source": [
        "# import scipy.linalg as la\n",
        "\n",
        "# min(la.eig(Hamiltonian_matrix)[0])"
      ],
      "execution_count": null,
      "outputs": []
    },
    {
      "cell_type": "code",
      "metadata": {
        "id": "BH53HNmzmJnf"
      },
      "source": [
        "# optmizer = MinimumEigenOptimizer(maxiter = 5000)\n",
        "# seed = 10598\n",
        "# backend = Aer.get_backend('qasm_simulator')\n",
        "# p = 15\n",
        "# initial_angle = np.random.random(2*p)\n",
        "# quantum_instance = QuantumInstance(backend, seed_simulator=seed, seed_transpiler=seed)\n",
        "# qaoa_solve = QAOA(Hamiltonian, optimizer = optmizer, p = p, quantum_instance  = quantum_instance, initial_point=initial_angle)"
      ],
      "execution_count": null,
      "outputs": []
    },
    {
      "cell_type": "code",
      "metadata": {
        "id": "yWM0nO2emJnf"
      },
      "source": [
        "# qaoa_solve.cleanup_parameterized_circuits\n",
        "# initial_angle = np.random.random(2)\n",
        "# x = qaoa_solve.construct_circuit(initial_angle)"
      ],
      "execution_count": null,
      "outputs": []
    },
    {
      "cell_type": "code",
      "metadata": {
        "id": "bFRyw_0Z4syA"
      },
      "source": [
        "# q = qaoa_solve.run()"
      ],
      "execution_count": null,
      "outputs": []
    },
    {
      "cell_type": "code",
      "metadata": {
        "id": "il7L5l2XmJnf"
      },
      "source": [
        "# optimal_val_list = []\n",
        "# for _ in range(15):\n",
        "#   qaoa_solve = QAOA(Hamiltonian, optimizer = optmizer, p = p, quantum_instance  = quantum_instance, initial_point=initial_angle)\n",
        "#   q = qaoa_solve.run()\n",
        "#   optimal_val_list.append(q['optimal_value'])"
      ],
      "execution_count": null,
      "outputs": []
    },
    {
      "cell_type": "code",
      "metadata": {
        "id": "fpJQNN5Vz8qZ"
      },
      "source": [
        "\n",
        "\n",
        "# # Python program to get average of a list\n",
        "# def Average(lst):\n",
        "#     return sum(lst) / len(lst)\n",
        "\n",
        "# average = Average(optimal_val_list)"
      ],
      "execution_count": null,
      "outputs": []
    },
    {
      "cell_type": "code",
      "metadata": {
        "id": "FdopsVyx0G5R"
      },
      "source": [
        "# average"
      ],
      "execution_count": null,
      "outputs": []
    },
    {
      "cell_type": "code",
      "metadata": {
        "colab": {
          "base_uri": "https://localhost:8080/"
        },
        "id": "nsoVLc1LlFDl",
        "outputId": "38979878-b16d-48f0-ac68-0660a1c85204"
      },
      "source": [
        "aqua_globals.random_seed = np.random.default_rng(123)\n",
        "seed = 10598\n",
        "backend = Aer.get_backend('qasm_simulator')\n",
        "quantum_instance = QuantumInstance(backend, seed_simulator=seed, seed_transpiler=seed)\n",
        "\n",
        "qaoa = QAOA(quantum_instance=quantum_instance, p = 1)\n",
        "\n",
        "# create minimum eigen optimizer based on qaoa\n",
        "qaoa_optimizer = MinimumEigenOptimizer(qaoa)\n",
        "\n",
        "# solve quadratic program\n",
        "result = qaoa_optimizer.solve(qp)"
      ],
      "execution_count": null,
      "outputs": [
        {
          "output_type": "stream",
          "name": "stderr",
          "text": [
            "/usr/local/lib/python3.7/dist-packages/ipykernel_launcher.py:1: DeprecationWarning:\n",
            "\n",
            "The variable qiskit.aqua.aqua_globals is deprecated. It was moved/refactored to qiskit.utils.algorithm_globals (pip install qiskit-terra). For more information see <https://github.com/Qiskit/qiskit-aqua/blob/main/README.md#migration-guide>\n",
            "\n",
            "/usr/local/lib/python3.7/dist-packages/qiskit/aqua/quantum_instance.py:137: DeprecationWarning:\n",
            "\n",
            "The class qiskit.aqua.QuantumInstance is deprecated. It was moved/refactored to qiskit.utils.QuantumInstance (pip install qiskit-terra). For more information see <https://github.com/Qiskit/qiskit-aqua/blob/main/README.md#migration-guide>\n",
            "\n",
            "/usr/local/lib/python3.7/dist-packages/qiskit/aqua/components/optimizers/optimizer.py:50: DeprecationWarning:\n",
            "\n",
            "The package qiskit.aqua.components.optimizers is deprecated. It was moved/refactored to qiskit.algorithms.optimizers (pip install qiskit-terra). For more information see <https://github.com/Qiskit/qiskit-aqua/blob/main/README.md#migration-guide>\n",
            "\n",
            "/usr/local/lib/python3.7/dist-packages/qiskit/aqua/algorithms/vq_algorithm.py:72: DeprecationWarning:\n",
            "\n",
            "The class qiskit.aqua.algorithms.VQAlgorithm is deprecated. It was moved/refactored to qiskit.algorithms.VariationalAlgorithm (pip install qiskit-terra). For more information see <https://github.com/Qiskit/qiskit-aqua/blob/main/README.md#migration-guide>\n",
            "\n",
            "/usr/local/lib/python3.7/dist-packages/qiskit/aqua/components/variational_forms/variational_form.py:48: DeprecationWarning:\n",
            "\n",
            "The package qiskit.aqua.components.variational_forms is deprecated. For more information see <https://github.com/Qiskit/qiskit-aqua/blob/main/README.md#migration-guide>\n",
            "\n",
            "/usr/local/lib/python3.7/dist-packages/qiskit/utils/deprecation.py:62: DeprecationWarning:\n",
            "\n",
            "Using a qobj for run() is deprecated as of qiskit-aer 0.9.0 and will be removed no sooner than 3 months from that release date. Transpiled circuits should now be passed directly using `backend.run(circuits, **run_options).\n",
            "\n"
          ]
        }
      ]
    },
    {
      "cell_type": "code",
      "metadata": {
        "colab": {
          "base_uri": "https://localhost:8080/"
        },
        "id": "HPPeExQj8Cih",
        "outputId": "8dae0cb9-a357-4c36-8bf8-0c6127d3e0e0"
      },
      "source": [
        "print(result)"
      ],
      "execution_count": null,
      "outputs": [
        {
          "output_type": "stream",
          "name": "stdout",
          "text": [
            "optimal function value: 0.0\n",
            "optimal value: [0. 0. 1. 0. 0. 1. 0. 0. 1. 0. 0. 0. 0. 0. 0. 1.]\n",
            "status: SUCCESS\n"
          ]
        }
      ]
    },
    {
      "cell_type": "code",
      "metadata": {
        "colab": {
          "base_uri": "https://localhost:8080/"
        },
        "id": "gXqCMAIvmJni",
        "outputId": "bc6f6f8a-8e55-491a-980f-3846bf08172e"
      },
      "source": [
        "offset"
      ],
      "execution_count": null,
      "outputs": [
        {
          "output_type": "execute_result",
          "data": {
            "text/plain": [
              "32.0"
            ]
          },
          "metadata": {},
          "execution_count": 39
        }
      ]
    },
    {
      "cell_type": "code",
      "metadata": {
        "id": "N9Q3LiU2mJni"
      },
      "source": [
        "import networkx as nx\n",
        "import warnings\n",
        "from itertools import product\n",
        "from collections import defaultdict\n",
        "\n",
        "\n",
        "def graph_isomorphism(graph_to_embed, target_graph):\n",
        "    \"\"\"Graph Isomorphism QUBO generator. Given a graph to embed\n",
        "    (graph_to_embed) onto a target graph (target_graph), a QUBO\n",
        "    is returned along with a dictionary that allows for translation from\n",
        "    the QUBO variables to the potential node mapping combinations.\n",
        "    Args:\n",
        "        graph_to_embed (networkx.classes.graph.Graph):\n",
        "            An undirected graph to be mapped to another graph.\n",
        "        target_graph (networkx.classes.graph.Graph):\n",
        "            An undirected graph that the graph_to_embed (see above)\n",
        "            is to be mapped onto.\n",
        "    Raises:\n",
        "        IncompatibleGraphError:\n",
        "            A graph isomorphism can only exist if the number of nodes\n",
        "            and the number of edges in the graph are identical. If\n",
        "            graphs are given that fail to satisfy this criteria the\n",
        "            exception is raised and the QUBO is not generated.\n",
        "    Returns:\n",
        "        (defaultdict(int), { int: (networkx\n",
        "        node (any hashable object), networkx node) }:\n",
        "            A tuple containing a QUBO represented by a defaultdict with\n",
        "            `int()` as the `default_factory` attribute and a dictionary\n",
        "            for translating from the indices used in the QUBO to the\n",
        "            potential node mappings (represented as tuples).\n",
        "            The dictionary should be passed to `translate_sample()` to\n",
        "            generate the proper node-to-node mapping.\n",
        "    \"\"\"\n",
        "\n",
        "    # Ensure that the requirements\n",
        "    # |V1| = |V2| (graphs must have the same number of nodes/vertices)\n",
        "    # and |E1| = |E2| (graphs must have the same number of edges)\n",
        "    # holds\n",
        "#     if (graph_to_embed.number_of_nodes()\n",
        "#             != target_graph.number_of_nodes()):\n",
        "#         raise IncompatibleGraphError(\"The number of vertices \"\n",
        "#                                      \"do not match!\")\n",
        "\n",
        "#     if (graph_to_embed.number_of_edges()\n",
        "#             != target_graph.number_of_edges()):\n",
        "#         raise IncompatibleGraphError(\"The number of edges \"\n",
        "#                                      \"do not match!\")\n",
        "\n",
        "    # get the \"n\" used for indexing\n",
        "    num_nodes = graph_to_embed.number_of_nodes()\n",
        "\n",
        "    # target_graph_dict and graph_to_embed dict are used to\n",
        "    # translate between the integer indices found in Calude et al.'s\n",
        "    # paper and any hashable type used in the NetworkX graph.\n",
        "    target_graph_dict = {i: node for i, node\n",
        "                         in enumerate(target_graph.nodes())}\n",
        "    graph_to_embed_dict = {node: i for i, node\n",
        "                           in enumerate(graph_to_embed.nodes())}\n",
        "\n",
        "    # Allow for samples to be translated\n",
        "    # back to prospective node mappings (must be fed by user to\n",
        "    # `translate_sample()` along with sample from `dimod.SampleSet`)\n",
        "    sample_translation_dict = {i: v for i, v in\n",
        "                               enumerate(product(graph_to_embed.nodes(),\n",
        "                                                 target_graph.nodes()))}\n",
        "\n",
        "    # translate summation indices to individual QUBO indices\n",
        "    # `product` usage inspired by: https://arxiv.org/pdf/2009.00140.pdf\n",
        "    # code repository: https://github.com/bdury/QUBO-for-Qubit-Allocation\n",
        "    td = {v: k for k, v in enumerate(product(range(num_nodes),\n",
        "                                             range(num_nodes)))}\n",
        "\n",
        "    # initialize empty QUBO\n",
        "    Q = defaultdict(int)\n",
        "    print('i,j')\n",
        "    # Ensure mapping function is bijective\n",
        "    for i in range(num_nodes):\n",
        "        for i_p in range(num_nodes):\n",
        "            Q[td[i, i_p], td[i, i_p]] += -2\n",
        "            for j, j_p in zip(range(num_nodes), range(num_nodes)):\n",
        "                if j != i:\n",
        "                    print(i,j)\n",
        "                    if td[i, i_p] <= td[j, i_p]:\n",
        "                        \n",
        "                        Q[td[i, i_p], td[j, i_p]] += 1\n",
        "                    else:\n",
        "                        Q[td[j, i_p], td[i, i_p]] += 1\n",
        "                if j_p != i_p:\n",
        "                    if td[i, i_p] <= td[i, j_p]:\n",
        "                        Q[td[i, i_p], td[i, j_p]] += 1\n",
        "                    else:\n",
        "                        Q[td[i, j_p], td[i, i_p]] += 1\n",
        "\n",
        "    # Ensure edge invariance\n",
        "    for edge in graph_to_embed.edges():\n",
        "        i, j = graph_to_embed_dict[edge[0]], graph_to_embed_dict[edge[1]]\n",
        "        for i_p in range(num_nodes):\n",
        "            for j_p in range(num_nodes):\n",
        "                if not target_graph.has_edge(target_graph_dict[i_p],\n",
        "                                             target_graph_dict[j_p]):\n",
        "                    if td[i, i_p] <= td[j, j_p]:\n",
        "                        Q[td[i, i_p], td[j, j_p]] += 1\n",
        "                    else:\n",
        "                        Q[td[j, j_p], td[i, i_p]] += 1\n",
        "\n",
        "    return Q, sample_translation_dict"
      ],
      "execution_count": null,
      "outputs": []
    },
    {
      "cell_type": "code",
      "metadata": {
        "id": "Vhskz3zJ92po",
        "colab": {
          "base_uri": "https://localhost:8080/"
        },
        "outputId": "b25d06f7-1bde-406c-a343-1c704008050c"
      },
      "source": [
        "graph_to_embed = G1\n",
        "target_graph = G2\n",
        "\n",
        "graph_isomorphism(graph_to_embed, target_graph)"
      ],
      "execution_count": null,
      "outputs": [
        {
          "output_type": "stream",
          "name": "stdout",
          "text": [
            "i,j\n",
            "0 1\n",
            "0 2\n",
            "0 3\n",
            "0 1\n",
            "0 2\n",
            "0 3\n",
            "0 1\n",
            "0 2\n",
            "0 3\n",
            "0 1\n",
            "0 2\n",
            "0 3\n",
            "1 0\n",
            "1 2\n",
            "1 3\n",
            "1 0\n",
            "1 2\n",
            "1 3\n",
            "1 0\n",
            "1 2\n",
            "1 3\n",
            "1 0\n",
            "1 2\n",
            "1 3\n",
            "2 0\n",
            "2 1\n",
            "2 3\n",
            "2 0\n",
            "2 1\n",
            "2 3\n",
            "2 0\n",
            "2 1\n",
            "2 3\n",
            "2 0\n",
            "2 1\n",
            "2 3\n",
            "3 0\n",
            "3 1\n",
            "3 2\n",
            "3 0\n",
            "3 1\n",
            "3 2\n",
            "3 0\n",
            "3 1\n",
            "3 2\n",
            "3 0\n",
            "3 1\n",
            "3 2\n"
          ]
        },
        {
          "output_type": "execute_result",
          "data": {
            "text/plain": [
              "(defaultdict(int,\n",
              "             {(0, 0): -2,\n",
              "              (0, 1): 2,\n",
              "              (0, 2): 2,\n",
              "              (0, 3): 2,\n",
              "              (0, 4): 3,\n",
              "              (0, 6): 1,\n",
              "              (0, 8): 2,\n",
              "              (0, 12): 3,\n",
              "              (0, 14): 1,\n",
              "              (1, 1): -2,\n",
              "              (1, 2): 2,\n",
              "              (1, 3): 2,\n",
              "              (1, 5): 3,\n",
              "              (1, 7): 1,\n",
              "              (1, 9): 2,\n",
              "              (1, 13): 3,\n",
              "              (1, 15): 1,\n",
              "              (2, 2): -2,\n",
              "              (2, 3): 2,\n",
              "              (2, 4): 1,\n",
              "              (2, 6): 3,\n",
              "              (2, 10): 2,\n",
              "              (2, 12): 1,\n",
              "              (2, 14): 3,\n",
              "              (3, 3): -2,\n",
              "              (3, 5): 1,\n",
              "              (3, 7): 3,\n",
              "              (3, 11): 2,\n",
              "              (3, 13): 1,\n",
              "              (3, 15): 3,\n",
              "              (4, 4): -2,\n",
              "              (4, 5): 2,\n",
              "              (4, 6): 2,\n",
              "              (4, 7): 2,\n",
              "              (4, 8): 3,\n",
              "              (4, 10): 1,\n",
              "              (4, 12): 2,\n",
              "              (5, 5): -2,\n",
              "              (5, 6): 2,\n",
              "              (5, 7): 2,\n",
              "              (5, 9): 3,\n",
              "              (5, 11): 1,\n",
              "              (5, 13): 2,\n",
              "              (6, 6): -2,\n",
              "              (6, 7): 2,\n",
              "              (6, 8): 1,\n",
              "              (6, 10): 3,\n",
              "              (6, 14): 2,\n",
              "              (7, 7): -2,\n",
              "              (7, 9): 1,\n",
              "              (7, 11): 3,\n",
              "              (7, 15): 2,\n",
              "              (8, 8): -2,\n",
              "              (8, 9): 2,\n",
              "              (8, 10): 2,\n",
              "              (8, 11): 2,\n",
              "              (8, 12): 3,\n",
              "              (8, 14): 1,\n",
              "              (9, 9): -2,\n",
              "              (9, 10): 2,\n",
              "              (9, 11): 2,\n",
              "              (9, 13): 3,\n",
              "              (9, 15): 1,\n",
              "              (10, 10): -2,\n",
              "              (10, 11): 2,\n",
              "              (10, 12): 1,\n",
              "              (10, 14): 3,\n",
              "              (11, 11): -2,\n",
              "              (11, 13): 1,\n",
              "              (11, 15): 3,\n",
              "              (12, 12): -2,\n",
              "              (12, 13): 2,\n",
              "              (12, 14): 2,\n",
              "              (12, 15): 2,\n",
              "              (13, 13): -2,\n",
              "              (13, 14): 2,\n",
              "              (13, 15): 2,\n",
              "              (14, 14): -2,\n",
              "              (14, 15): 2,\n",
              "              (15, 15): -2}),\n",
              " {0: (0, 0),\n",
              "  1: (0, 1),\n",
              "  2: (0, 2),\n",
              "  3: (0, 3),\n",
              "  4: (1, 0),\n",
              "  5: (1, 1),\n",
              "  6: (1, 2),\n",
              "  7: (1, 3),\n",
              "  8: (2, 0),\n",
              "  9: (2, 1),\n",
              "  10: (2, 2),\n",
              "  11: (2, 3),\n",
              "  12: (3, 0),\n",
              "  13: (3, 1),\n",
              "  14: (3, 2),\n",
              "  15: (3, 3)})"
            ]
          },
          "metadata": {},
          "execution_count": 41
        }
      ]
    },
    {
      "cell_type": "code",
      "metadata": {
        "id": "2BVOgL2H92po"
      },
      "source": [
        ""
      ],
      "execution_count": null,
      "outputs": []
    }
  ]
}