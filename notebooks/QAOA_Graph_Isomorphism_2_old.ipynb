{
  "nbformat": 4,
  "nbformat_minor": 0,
  "metadata": {
    "colab": {
      "name": "QAOA-Graph-Isomorphism-2.ipynb",
      "provenance": [],
      "collapsed_sections": []
    },
    "kernelspec": {
      "display_name": "Python 3",
      "language": "python",
      "name": "python3"
    },
    "language_info": {
      "codemirror_mode": {
        "name": "ipython",
        "version": 3
      },
      "file_extension": ".py",
      "mimetype": "text/x-python",
      "name": "python",
      "nbconvert_exporter": "python",
      "pygments_lexer": "ipython3",
      "version": "3.8.5"
    }
  },
  "cells": [
    {
      "cell_type": "code",
      "metadata": {
        "id": "Iv-5PMZ9VkrE",
        "colab": {
          "base_uri": "https://localhost:8080/",
          "height": 1000
        },
        "outputId": "9c93e8b5-f351-4f07-dfea-d3430058208d"
      },
      "source": [
        "!pip install dimod\n",
        "!pip install 'qiskit[all]'\n",
        "!pip install dwave-neal"
      ],
      "execution_count": 1,
      "outputs": [
        {
          "output_type": "stream",
          "name": "stdout",
          "text": [
            "Collecting dimod\n",
            "  Downloading dimod-0.10.7-cp37-cp37m-manylinux_2_17_x86_64.manylinux2014_x86_64.whl (13.1 MB)\n",
            "\u001b[K     |████████████████████████████████| 13.1 MB 63 kB/s \n",
            "\u001b[?25hCollecting dwave-preprocessing<0.4,>=0.3\n",
            "  Downloading dwave_preprocessing-0.3.1.post0-cp37-cp37m-manylinux_2_5_x86_64.manylinux1_x86_64.whl (782 kB)\n",
            "\u001b[K     |████████████████████████████████| 782 kB 42.3 MB/s \n",
            "\u001b[?25hRequirement already satisfied: pyparsing<3.0.0,>=2.4.7 in /usr/local/lib/python3.7/dist-packages (from dimod) (2.4.7)\n",
            "Requirement already satisfied: numpy!=1.21.0,!=1.21.1,<2.0.0,>=1.17.3 in /usr/local/lib/python3.7/dist-packages (from dimod) (1.19.5)\n",
            "Installing collected packages: dwave-preprocessing, dimod\n",
            "Successfully installed dimod-0.10.7 dwave-preprocessing-0.3.1.post0\n",
            "Collecting qiskit[all]\n",
            "  Downloading qiskit-0.31.0.tar.gz (13 kB)\n",
            "Collecting qiskit-terra==0.18.3\n",
            "  Downloading qiskit_terra-0.18.3-cp37-cp37m-manylinux2010_x86_64.whl (6.1 MB)\n",
            "\u001b[K     |████████████████████████████████| 6.1 MB 6.8 MB/s \n",
            "\u001b[?25hCollecting qiskit-aer==0.9.1\n",
            "  Downloading qiskit_aer-0.9.1-cp37-cp37m-manylinux_2_12_x86_64.manylinux2010_x86_64.whl (17.9 MB)\n",
            "\u001b[K     |████████████████████████████████| 17.9 MB 115 kB/s \n",
            "\u001b[?25hCollecting qiskit-ibmq-provider==0.17.0\n",
            "  Downloading qiskit_ibmq_provider-0.17.0-py3-none-any.whl (236 kB)\n",
            "\u001b[K     |████████████████████████████████| 236 kB 54.3 MB/s \n",
            "\u001b[?25hCollecting qiskit-ignis==0.6.0\n",
            "  Downloading qiskit_ignis-0.6.0-py3-none-any.whl (207 kB)\n",
            "\u001b[K     |████████████████████████████████| 207 kB 59.3 MB/s \n",
            "\u001b[?25hCollecting qiskit-aqua==0.9.5\n",
            "  Downloading qiskit_aqua-0.9.5-py3-none-any.whl (2.1 MB)\n",
            "\u001b[K     |████████████████████████████████| 2.1 MB 19.2 MB/s \n",
            "\u001b[?25hCollecting qiskit-optimization>=0.2.2\n",
            "  Downloading qiskit_optimization-0.2.3-py3-none-any.whl (144 kB)\n",
            "\u001b[K     |████████████████████████████████| 144 kB 59.3 MB/s \n",
            "\u001b[?25hCollecting qiskit-finance>=0.2.1\n",
            "  Downloading qiskit_finance-0.2.1-py3-none-any.whl (48 kB)\n",
            "\u001b[K     |████████████████████████████████| 48 kB 5.2 MB/s \n",
            "\u001b[?25hCollecting qiskit-machine-learning>=0.2.1\n",
            "  Downloading qiskit_machine_learning-0.2.1-py3-none-any.whl (96 kB)\n",
            "\u001b[K     |████████████████████████████████| 96 kB 5.6 MB/s \n",
            "\u001b[?25hCollecting qiskit-nature>=0.2.0\n",
            "  Downloading qiskit_nature-0.2.2-py3-none-any.whl (2.8 MB)\n",
            "\u001b[K     |████████████████████████████████| 2.8 MB 28.0 MB/s \n",
            "\u001b[?25hCollecting qiskit-experiments\n",
            "  Downloading qiskit_experiments-0.1.0-py3-none-any.whl (210 kB)\n",
            "\u001b[K     |████████████████████████████████| 210 kB 62.1 MB/s \n",
            "\u001b[?25hRequirement already satisfied: matplotlib>=2.1 in /usr/local/lib/python3.7/dist-packages (from qiskit[all]) (3.2.2)\n",
            "Requirement already satisfied: ipywidgets>=7.3.0 in /usr/local/lib/python3.7/dist-packages (from qiskit[all]) (7.6.5)\n",
            "Requirement already satisfied: pydot in /usr/local/lib/python3.7/dist-packages (from qiskit[all]) (1.3.0)\n",
            "Requirement already satisfied: pillow>=4.2.1 in /usr/local/lib/python3.7/dist-packages (from qiskit[all]) (7.1.2)\n",
            "Collecting pylatexenc>=1.4\n",
            "  Downloading pylatexenc-2.10.tar.gz (162 kB)\n",
            "\u001b[K     |████████████████████████████████| 162 kB 60.2 MB/s \n",
            "\u001b[?25hRequirement already satisfied: seaborn>=0.9.0 in /usr/local/lib/python3.7/dist-packages (from qiskit[all]) (0.11.2)\n",
            "Requirement already satisfied: pygments>=2.4 in /usr/local/lib/python3.7/dist-packages (from qiskit[all]) (2.6.1)\n",
            "Requirement already satisfied: numpy>=1.16.3 in /usr/local/lib/python3.7/dist-packages (from qiskit-aer==0.9.1->qiskit[all]) (1.19.5)\n",
            "Requirement already satisfied: scipy>=1.0 in /usr/local/lib/python3.7/dist-packages (from qiskit-aer==0.9.1->qiskit[all]) (1.4.1)\n",
            "Collecting dlx<=1.0.4\n",
            "  Downloading dlx-1.0.4.tar.gz (5.5 kB)\n",
            "Requirement already satisfied: setuptools>=40.1.0 in /usr/local/lib/python3.7/dist-packages (from qiskit-aqua==0.9.5->qiskit[all]) (57.4.0)\n",
            "Collecting yfinance>=0.1.62\n",
            "  Downloading yfinance-0.1.64.tar.gz (26 kB)\n",
            "Requirement already satisfied: scikit-learn>=0.20.0 in /usr/local/lib/python3.7/dist-packages (from qiskit-aqua==0.9.5->qiskit[all]) (0.22.2.post1)\n",
            "Requirement already satisfied: pandas in /usr/local/lib/python3.7/dist-packages (from qiskit-aqua==0.9.5->qiskit[all]) (1.1.5)\n",
            "Collecting docplex>=2.21.207\n",
            "  Downloading docplex-2.22.213.tar.gz (634 kB)\n",
            "\u001b[K     |████████████████████████████████| 634 kB 44.5 MB/s \n",
            "\u001b[?25hRequirement already satisfied: psutil>=5 in /usr/local/lib/python3.7/dist-packages (from qiskit-aqua==0.9.5->qiskit[all]) (5.4.8)\n",
            "Collecting quandl\n",
            "  Downloading Quandl-3.6.1-py2.py3-none-any.whl (26 kB)\n",
            "Requirement already satisfied: h5py<3.3.0 in /usr/local/lib/python3.7/dist-packages (from qiskit-aqua==0.9.5->qiskit[all]) (3.1.0)\n",
            "Requirement already satisfied: sympy>=1.3 in /usr/local/lib/python3.7/dist-packages (from qiskit-aqua==0.9.5->qiskit[all]) (1.7.1)\n",
            "Requirement already satisfied: fastdtw<=0.3.4 in /usr/local/lib/python3.7/dist-packages (from qiskit-aqua==0.9.5->qiskit[all]) (0.3.4)\n",
            "Collecting retworkx>=0.8.0\n",
            "  Downloading retworkx-0.10.2-cp37-cp37m-manylinux_2_5_x86_64.manylinux1_x86_64.manylinux_2_12_x86_64.manylinux2010_x86_64.whl (1.4 MB)\n",
            "\u001b[K     |████████████████████████████████| 1.4 MB 25.1 MB/s \n",
            "\u001b[?25hRequirement already satisfied: requests>=2.19 in /usr/local/lib/python3.7/dist-packages (from qiskit-ibmq-provider==0.17.0->qiskit[all]) (2.23.0)\n",
            "Requirement already satisfied: urllib3>=1.21.1 in /usr/local/lib/python3.7/dist-packages (from qiskit-ibmq-provider==0.17.0->qiskit[all]) (1.24.3)\n",
            "Collecting websocket-client>=1.0.1\n",
            "  Downloading websocket_client-1.2.1-py2.py3-none-any.whl (52 kB)\n",
            "\u001b[K     |████████████████████████████████| 52 kB 1.5 MB/s \n",
            "\u001b[?25hRequirement already satisfied: python-dateutil>=2.8.0 in /usr/local/lib/python3.7/dist-packages (from qiskit-ibmq-provider==0.17.0->qiskit[all]) (2.8.2)\n",
            "Collecting requests-ntlm>=1.1.0\n",
            "  Downloading requests_ntlm-1.1.0-py2.py3-none-any.whl (5.7 kB)\n",
            "Requirement already satisfied: dill>=0.3 in /usr/local/lib/python3.7/dist-packages (from qiskit-terra==0.18.3->qiskit[all]) (0.3.4)\n",
            "Collecting ply>=3.10\n",
            "  Downloading ply-3.11-py2.py3-none-any.whl (49 kB)\n",
            "\u001b[K     |████████████████████████████████| 49 kB 5.7 MB/s \n",
            "\u001b[?25hCollecting fastjsonschema>=2.10\n",
            "  Downloading fastjsonschema-2.15.1-py3-none-any.whl (21 kB)\n",
            "Collecting python-constraint>=1.4\n",
            "  Downloading python-constraint-1.4.0.tar.bz2 (18 kB)\n",
            "Collecting symengine>0.7\n",
            "  Downloading symengine-0.8.1-cp37-cp37m-manylinux2010_x86_64.whl (38.2 MB)\n",
            "\u001b[K     |████████████████████████████████| 38.2 MB 25 kB/s \n",
            "\u001b[?25hRequirement already satisfied: jsonschema>=2.6 in /usr/local/lib/python3.7/dist-packages (from qiskit-terra==0.18.3->qiskit[all]) (2.6.0)\n",
            "Collecting tweedledum<2.0,>=1.1\n",
            "  Downloading tweedledum-1.1.1-cp37-cp37m-manylinux_2_12_x86_64.manylinux2010_x86_64.whl (943 kB)\n",
            "\u001b[K     |████████████████████████████████| 943 kB 62.6 MB/s \n",
            "\u001b[?25hRequirement already satisfied: six in /usr/local/lib/python3.7/dist-packages (from docplex>=2.21.207->qiskit-aqua==0.9.5->qiskit[all]) (1.15.0)\n",
            "Requirement already satisfied: cached-property in /usr/local/lib/python3.7/dist-packages (from h5py<3.3.0->qiskit-aqua==0.9.5->qiskit[all]) (1.5.2)\n",
            "Requirement already satisfied: widgetsnbextension~=3.5.0 in /usr/local/lib/python3.7/dist-packages (from ipywidgets>=7.3.0->qiskit[all]) (3.5.1)\n",
            "Requirement already satisfied: ipython>=4.0.0 in /usr/local/lib/python3.7/dist-packages (from ipywidgets>=7.3.0->qiskit[all]) (5.5.0)\n",
            "Requirement already satisfied: jupyterlab-widgets>=1.0.0 in /usr/local/lib/python3.7/dist-packages (from ipywidgets>=7.3.0->qiskit[all]) (1.0.2)\n",
            "Requirement already satisfied: nbformat>=4.2.0 in /usr/local/lib/python3.7/dist-packages (from ipywidgets>=7.3.0->qiskit[all]) (5.1.3)\n",
            "Requirement already satisfied: traitlets>=4.3.1 in /usr/local/lib/python3.7/dist-packages (from ipywidgets>=7.3.0->qiskit[all]) (5.1.0)\n",
            "Requirement already satisfied: ipykernel>=4.5.1 in /usr/local/lib/python3.7/dist-packages (from ipywidgets>=7.3.0->qiskit[all]) (4.10.1)\n",
            "Requirement already satisfied: ipython-genutils~=0.2.0 in /usr/local/lib/python3.7/dist-packages (from ipywidgets>=7.3.0->qiskit[all]) (0.2.0)\n",
            "Requirement already satisfied: jupyter-client in /usr/local/lib/python3.7/dist-packages (from ipykernel>=4.5.1->ipywidgets>=7.3.0->qiskit[all]) (5.3.5)\n",
            "Requirement already satisfied: tornado>=4.0 in /usr/local/lib/python3.7/dist-packages (from ipykernel>=4.5.1->ipywidgets>=7.3.0->qiskit[all]) (5.1.1)\n",
            "Requirement already satisfied: pexpect in /usr/local/lib/python3.7/dist-packages (from ipython>=4.0.0->ipywidgets>=7.3.0->qiskit[all]) (4.8.0)\n",
            "Requirement already satisfied: pickleshare in /usr/local/lib/python3.7/dist-packages (from ipython>=4.0.0->ipywidgets>=7.3.0->qiskit[all]) (0.7.5)\n",
            "Requirement already satisfied: decorator in /usr/local/lib/python3.7/dist-packages (from ipython>=4.0.0->ipywidgets>=7.3.0->qiskit[all]) (4.4.2)\n",
            "Requirement already satisfied: prompt-toolkit<2.0.0,>=1.0.4 in /usr/local/lib/python3.7/dist-packages (from ipython>=4.0.0->ipywidgets>=7.3.0->qiskit[all]) (1.0.18)\n",
            "Requirement already satisfied: simplegeneric>0.8 in /usr/local/lib/python3.7/dist-packages (from ipython>=4.0.0->ipywidgets>=7.3.0->qiskit[all]) (0.8.1)\n",
            "Requirement already satisfied: cycler>=0.10 in /usr/local/lib/python3.7/dist-packages (from matplotlib>=2.1->qiskit[all]) (0.10.0)\n",
            "Requirement already satisfied: kiwisolver>=1.0.1 in /usr/local/lib/python3.7/dist-packages (from matplotlib>=2.1->qiskit[all]) (1.3.2)\n",
            "Requirement already satisfied: pyparsing!=2.0.4,!=2.1.2,!=2.1.6,>=2.0.1 in /usr/local/lib/python3.7/dist-packages (from matplotlib>=2.1->qiskit[all]) (2.4.7)\n",
            "Requirement already satisfied: jupyter-core in /usr/local/lib/python3.7/dist-packages (from nbformat>=4.2.0->ipywidgets>=7.3.0->qiskit[all]) (4.8.1)\n",
            "Requirement already satisfied: wcwidth in /usr/local/lib/python3.7/dist-packages (from prompt-toolkit<2.0.0,>=1.0.4->ipython>=4.0.0->ipywidgets>=7.3.0->qiskit[all]) (0.2.5)\n",
            "Collecting networkx<2.6,>=2.2\n",
            "  Downloading networkx-2.5.1-py3-none-any.whl (1.6 MB)\n",
            "\u001b[K     |████████████████████████████████| 1.6 MB 46.4 MB/s \n",
            "\u001b[?25hRequirement already satisfied: certifi>=2017.4.17 in /usr/local/lib/python3.7/dist-packages (from requests>=2.19->qiskit-ibmq-provider==0.17.0->qiskit[all]) (2021.5.30)\n",
            "Requirement already satisfied: chardet<4,>=3.0.2 in /usr/local/lib/python3.7/dist-packages (from requests>=2.19->qiskit-ibmq-provider==0.17.0->qiskit[all]) (3.0.4)\n",
            "Requirement already satisfied: idna<3,>=2.5 in /usr/local/lib/python3.7/dist-packages (from requests>=2.19->qiskit-ibmq-provider==0.17.0->qiskit[all]) (2.10)\n",
            "Collecting cryptography>=1.3\n",
            "  Downloading cryptography-35.0.0-cp36-abi3-manylinux_2_24_x86_64.whl (3.5 MB)\n",
            "\u001b[K     |████████████████████████████████| 3.5 MB 46.1 MB/s \n",
            "\u001b[?25hCollecting ntlm-auth>=1.0.2\n",
            "  Downloading ntlm_auth-1.5.0-py2.py3-none-any.whl (29 kB)\n",
            "Requirement already satisfied: cffi>=1.12 in /usr/local/lib/python3.7/dist-packages (from cryptography>=1.3->requests-ntlm>=1.1.0->qiskit-ibmq-provider==0.17.0->qiskit[all]) (1.14.6)\n",
            "Requirement already satisfied: pycparser in /usr/local/lib/python3.7/dist-packages (from cffi>=1.12->cryptography>=1.3->requests-ntlm>=1.1.0->qiskit-ibmq-provider==0.17.0->qiskit[all]) (2.20)\n",
            "Requirement already satisfied: joblib>=0.11 in /usr/local/lib/python3.7/dist-packages (from scikit-learn>=0.20.0->qiskit-aqua==0.9.5->qiskit[all]) (1.0.1)\n",
            "Requirement already satisfied: pytz>=2017.2 in /usr/local/lib/python3.7/dist-packages (from pandas->qiskit-aqua==0.9.5->qiskit[all]) (2018.9)\n",
            "Requirement already satisfied: mpmath>=0.19 in /usr/local/lib/python3.7/dist-packages (from sympy>=1.3->qiskit-aqua==0.9.5->qiskit[all]) (1.2.1)\n",
            "Requirement already satisfied: notebook>=4.4.1 in /usr/local/lib/python3.7/dist-packages (from widgetsnbextension~=3.5.0->ipywidgets>=7.3.0->qiskit[all]) (5.3.1)\n",
            "Requirement already satisfied: nbconvert in /usr/local/lib/python3.7/dist-packages (from notebook>=4.4.1->widgetsnbextension~=3.5.0->ipywidgets>=7.3.0->qiskit[all]) (5.6.1)\n",
            "Requirement already satisfied: terminado>=0.8.1 in /usr/local/lib/python3.7/dist-packages (from notebook>=4.4.1->widgetsnbextension~=3.5.0->ipywidgets>=7.3.0->qiskit[all]) (0.12.1)\n",
            "Requirement already satisfied: jinja2 in /usr/local/lib/python3.7/dist-packages (from notebook>=4.4.1->widgetsnbextension~=3.5.0->ipywidgets>=7.3.0->qiskit[all]) (2.11.3)\n",
            "Requirement already satisfied: Send2Trash in /usr/local/lib/python3.7/dist-packages (from notebook>=4.4.1->widgetsnbextension~=3.5.0->ipywidgets>=7.3.0->qiskit[all]) (1.8.0)\n",
            "Requirement already satisfied: pyzmq>=13 in /usr/local/lib/python3.7/dist-packages (from jupyter-client->ipykernel>=4.5.1->ipywidgets>=7.3.0->qiskit[all]) (22.3.0)\n",
            "Requirement already satisfied: ptyprocess in /usr/local/lib/python3.7/dist-packages (from terminado>=0.8.1->notebook>=4.4.1->widgetsnbextension~=3.5.0->ipywidgets>=7.3.0->qiskit[all]) (0.7.0)\n",
            "Requirement already satisfied: multitasking>=0.0.7 in /usr/local/lib/python3.7/dist-packages (from yfinance>=0.1.62->qiskit-aqua==0.9.5->qiskit[all]) (0.0.9)\n",
            "Collecting lxml>=4.5.1\n",
            "  Downloading lxml-4.6.3-cp37-cp37m-manylinux2014_x86_64.whl (6.3 MB)\n",
            "\u001b[K     |████████████████████████████████| 6.3 MB 48.8 MB/s \n",
            "\u001b[?25hRequirement already satisfied: MarkupSafe>=0.23 in /usr/local/lib/python3.7/dist-packages (from jinja2->notebook>=4.4.1->widgetsnbextension~=3.5.0->ipywidgets>=7.3.0->qiskit[all]) (2.0.1)\n",
            "Requirement already satisfied: pandocfilters>=1.4.1 in /usr/local/lib/python3.7/dist-packages (from nbconvert->notebook>=4.4.1->widgetsnbextension~=3.5.0->ipywidgets>=7.3.0->qiskit[all]) (1.5.0)\n",
            "Requirement already satisfied: defusedxml in /usr/local/lib/python3.7/dist-packages (from nbconvert->notebook>=4.4.1->widgetsnbextension~=3.5.0->ipywidgets>=7.3.0->qiskit[all]) (0.7.1)\n",
            "Requirement already satisfied: entrypoints>=0.2.2 in /usr/local/lib/python3.7/dist-packages (from nbconvert->notebook>=4.4.1->widgetsnbextension~=3.5.0->ipywidgets>=7.3.0->qiskit[all]) (0.3)\n",
            "Requirement already satisfied: testpath in /usr/local/lib/python3.7/dist-packages (from nbconvert->notebook>=4.4.1->widgetsnbextension~=3.5.0->ipywidgets>=7.3.0->qiskit[all]) (0.5.0)\n",
            "Requirement already satisfied: mistune<2,>=0.8.1 in /usr/local/lib/python3.7/dist-packages (from nbconvert->notebook>=4.4.1->widgetsnbextension~=3.5.0->ipywidgets>=7.3.0->qiskit[all]) (0.8.4)\n",
            "Requirement already satisfied: bleach in /usr/local/lib/python3.7/dist-packages (from nbconvert->notebook>=4.4.1->widgetsnbextension~=3.5.0->ipywidgets>=7.3.0->qiskit[all]) (4.1.0)\n",
            "Requirement already satisfied: packaging in /usr/local/lib/python3.7/dist-packages (from bleach->nbconvert->notebook>=4.4.1->widgetsnbextension~=3.5.0->ipywidgets>=7.3.0->qiskit[all]) (21.0)\n",
            "Requirement already satisfied: webencodings in /usr/local/lib/python3.7/dist-packages (from bleach->nbconvert->notebook>=4.4.1->widgetsnbextension~=3.5.0->ipywidgets>=7.3.0->qiskit[all]) (0.5.1)\n",
            "Collecting matplotlib>=2.1\n",
            "  Downloading matplotlib-3.4.3-cp37-cp37m-manylinux1_x86_64.whl (10.3 MB)\n",
            "\u001b[K     |████████████████████████████████| 10.3 MB 27.4 MB/s \n",
            "\u001b[?25hRequirement already satisfied: more-itertools in /usr/local/lib/python3.7/dist-packages (from quandl->qiskit-aqua==0.9.5->qiskit[all]) (8.10.0)\n",
            "Collecting inflection>=0.3.1\n",
            "  Downloading inflection-0.5.1-py2.py3-none-any.whl (9.5 kB)\n",
            "Building wheels for collected packages: qiskit, dlx, docplex, pylatexenc, python-constraint, yfinance\n",
            "  Building wheel for qiskit (setup.py) ... \u001b[?25l\u001b[?25hdone\n",
            "  Created wheel for qiskit: filename=qiskit-0.31.0-py3-none-any.whl size=11728 sha256=541fd164fc7a03d7e0117be0509941f3d0814d914348c3ee4aeecc31f919add4\n",
            "  Stored in directory: /root/.cache/pip/wheels/29/dd/b2/1fe1a9ac92aaf75b267d893ae27329ea229f292a293017afc7\n",
            "  Building wheel for dlx (setup.py) ... \u001b[?25l\u001b[?25hdone\n",
            "  Created wheel for dlx: filename=dlx-1.0.4-py3-none-any.whl size=5719 sha256=09a2d5ac35ea50828c0aac919c882c8d8d79ac00767dcc5ccd9dad2a504442b6\n",
            "  Stored in directory: /root/.cache/pip/wheels/78/55/c8/dc61e772445a566b7608a476d151e9dcaf4e092b01b0c4bc3c\n",
            "  Building wheel for docplex (setup.py) ... \u001b[?25l\u001b[?25hdone\n",
            "  Created wheel for docplex: filename=docplex-2.22.213-py3-none-any.whl size=696881 sha256=166bc9ce2d0a69dce96e1447944d15e9ad532d12391bc452516b94a3114bbd9c\n",
            "  Stored in directory: /root/.cache/pip/wheels/90/69/6b/1375c68a5b7ff94c40263b151c86f58bd72200bf0c465b5ba3\n",
            "  Building wheel for pylatexenc (setup.py) ... \u001b[?25l\u001b[?25hdone\n",
            "  Created wheel for pylatexenc: filename=pylatexenc-2.10-py3-none-any.whl size=136833 sha256=9cf3a62b4f19f7727e3f77ee48c57b76f0a19dd9204ac3f470b96df67e94a7f0\n",
            "  Stored in directory: /root/.cache/pip/wheels/f1/8a/f5/33ee79d4473eb201b519fa40f989b842e373237395a3421f52\n",
            "  Building wheel for python-constraint (setup.py) ... \u001b[?25l\u001b[?25hdone\n",
            "  Created wheel for python-constraint: filename=python_constraint-1.4.0-py2.py3-none-any.whl size=24081 sha256=825c8dace97c4f4b2bfa887574ec85c04728972cf8d0b317704e8692e48bc5d6\n",
            "  Stored in directory: /root/.cache/pip/wheels/07/27/db/1222c80eb1e431f3d2199c12569cb1cac60f562a451fe30479\n",
            "  Building wheel for yfinance (setup.py) ... \u001b[?25l\u001b[?25hdone\n",
            "  Created wheel for yfinance: filename=yfinance-0.1.64-py2.py3-none-any.whl size=24109 sha256=45e048491eb044846c62dc293dfe310524c52841b38a77f9520a5624748b4763\n",
            "  Stored in directory: /root/.cache/pip/wheels/86/fe/9b/a4d3d78796b699e37065e5b6c27b75cff448ddb8b24943c288\n",
            "Successfully built qiskit dlx docplex pylatexenc python-constraint yfinance\n",
            "Installing collected packages: tweedledum, symengine, retworkx, python-constraint, ply, fastjsonschema, qiskit-terra, ntlm-auth, lxml, inflection, cryptography, yfinance, websocket-client, requests-ntlm, quandl, qiskit-ignis, networkx, docplex, dlx, qiskit-optimization, qiskit-ibmq-provider, qiskit-aqua, qiskit-aer, matplotlib, qiskit-nature, qiskit-machine-learning, qiskit-finance, qiskit-experiments, qiskit, pylatexenc\n",
            "  Attempting uninstall: lxml\n",
            "    Found existing installation: lxml 4.2.6\n",
            "    Uninstalling lxml-4.2.6:\n",
            "      Successfully uninstalled lxml-4.2.6\n",
            "  Attempting uninstall: networkx\n",
            "    Found existing installation: networkx 2.6.3\n",
            "    Uninstalling networkx-2.6.3:\n",
            "      Successfully uninstalled networkx-2.6.3\n",
            "  Attempting uninstall: matplotlib\n",
            "    Found existing installation: matplotlib 3.2.2\n",
            "    Uninstalling matplotlib-3.2.2:\n",
            "      Successfully uninstalled matplotlib-3.2.2\n",
            "\u001b[31mERROR: pip's dependency resolver does not currently take into account all the packages that are installed. This behaviour is the source of the following dependency conflicts.\n",
            "albumentations 0.1.12 requires imgaug<0.2.7,>=0.2.5, but you have imgaug 0.2.9 which is incompatible.\u001b[0m\n",
            "Successfully installed cryptography-35.0.0 dlx-1.0.4 docplex-2.22.213 fastjsonschema-2.15.1 inflection-0.5.1 lxml-4.6.3 matplotlib-3.4.3 networkx-2.5.1 ntlm-auth-1.5.0 ply-3.11 pylatexenc-2.10 python-constraint-1.4.0 qiskit-0.31.0 qiskit-aer-0.9.1 qiskit-aqua-0.9.5 qiskit-experiments-0.1.0 qiskit-finance-0.2.1 qiskit-ibmq-provider-0.17.0 qiskit-ignis-0.6.0 qiskit-machine-learning-0.2.1 qiskit-nature-0.2.2 qiskit-optimization-0.2.3 qiskit-terra-0.18.3 quandl-3.6.1 requests-ntlm-1.1.0 retworkx-0.10.2 symengine-0.8.1 tweedledum-1.1.1 websocket-client-1.2.1 yfinance-0.1.64\n"
          ]
        },
        {
          "output_type": "display_data",
          "data": {
            "application/vnd.colab-display-data+json": {
              "pip_warning": {
                "packages": [
                  "matplotlib",
                  "mpl_toolkits"
                ]
              }
            }
          },
          "metadata": {}
        },
        {
          "output_type": "stream",
          "name": "stdout",
          "text": [
            "Collecting dwave-neal\n",
            "  Downloading dwave_neal-0.5.8-cp37-cp37m-manylinux_2_5_x86_64.manylinux1_x86_64.whl (397 kB)\n",
            "\u001b[?25l\r\u001b[K     |▉                               | 10 kB 23.8 MB/s eta 0:00:01\r\u001b[K     |█▋                              | 20 kB 27.9 MB/s eta 0:00:01\r\u001b[K     |██▌                             | 30 kB 20.1 MB/s eta 0:00:01\r\u001b[K     |███▎                            | 40 kB 16.8 MB/s eta 0:00:01\r\u001b[K     |████▏                           | 51 kB 8.0 MB/s eta 0:00:01\r\u001b[K     |█████                           | 61 kB 9.2 MB/s eta 0:00:01\r\u001b[K     |█████▊                          | 71 kB 8.7 MB/s eta 0:00:01\r\u001b[K     |██████▋                         | 81 kB 9.7 MB/s eta 0:00:01\r\u001b[K     |███████▍                        | 92 kB 9.9 MB/s eta 0:00:01\r\u001b[K     |████████▎                       | 102 kB 7.6 MB/s eta 0:00:01\r\u001b[K     |█████████                       | 112 kB 7.6 MB/s eta 0:00:01\r\u001b[K     |██████████                      | 122 kB 7.6 MB/s eta 0:00:01\r\u001b[K     |██████████▊                     | 133 kB 7.6 MB/s eta 0:00:01\r\u001b[K     |███████████▌                    | 143 kB 7.6 MB/s eta 0:00:01\r\u001b[K     |████████████▍                   | 153 kB 7.6 MB/s eta 0:00:01\r\u001b[K     |█████████████▏                  | 163 kB 7.6 MB/s eta 0:00:01\r\u001b[K     |██████████████                  | 174 kB 7.6 MB/s eta 0:00:01\r\u001b[K     |██████████████▉                 | 184 kB 7.6 MB/s eta 0:00:01\r\u001b[K     |███████████████▋                | 194 kB 7.6 MB/s eta 0:00:01\r\u001b[K     |████████████████▌               | 204 kB 7.6 MB/s eta 0:00:01\r\u001b[K     |█████████████████▎              | 215 kB 7.6 MB/s eta 0:00:01\r\u001b[K     |██████████████████▏             | 225 kB 7.6 MB/s eta 0:00:01\r\u001b[K     |███████████████████             | 235 kB 7.6 MB/s eta 0:00:01\r\u001b[K     |███████████████████▉            | 245 kB 7.6 MB/s eta 0:00:01\r\u001b[K     |████████████████████▋           | 256 kB 7.6 MB/s eta 0:00:01\r\u001b[K     |█████████████████████▍          | 266 kB 7.6 MB/s eta 0:00:01\r\u001b[K     |██████████████████████▎         | 276 kB 7.6 MB/s eta 0:00:01\r\u001b[K     |███████████████████████         | 286 kB 7.6 MB/s eta 0:00:01\r\u001b[K     |████████████████████████        | 296 kB 7.6 MB/s eta 0:00:01\r\u001b[K     |████████████████████████▊       | 307 kB 7.6 MB/s eta 0:00:01\r\u001b[K     |█████████████████████████▋      | 317 kB 7.6 MB/s eta 0:00:01\r\u001b[K     |██████████████████████████▍     | 327 kB 7.6 MB/s eta 0:00:01\r\u001b[K     |███████████████████████████▏    | 337 kB 7.6 MB/s eta 0:00:01\r\u001b[K     |████████████████████████████    | 348 kB 7.6 MB/s eta 0:00:01\r\u001b[K     |████████████████████████████▉   | 358 kB 7.6 MB/s eta 0:00:01\r\u001b[K     |█████████████████████████████▊  | 368 kB 7.6 MB/s eta 0:00:01\r\u001b[K     |██████████████████████████████▌ | 378 kB 7.6 MB/s eta 0:00:01\r\u001b[K     |███████████████████████████████▎| 389 kB 7.6 MB/s eta 0:00:01\r\u001b[K     |████████████████████████████████| 397 kB 7.6 MB/s \n",
            "\u001b[?25hRequirement already satisfied: numpy!=1.21.0,!=1.21.1,<2.0.0,>=1.16.0 in /usr/local/lib/python3.7/dist-packages (from dwave-neal) (1.19.5)\n",
            "Requirement already satisfied: dimod>=0.9.2 in /usr/local/lib/python3.7/dist-packages (from dwave-neal) (0.10.7)\n",
            "Requirement already satisfied: pyparsing<3.0.0,>=2.4.7 in /usr/local/lib/python3.7/dist-packages (from dimod>=0.9.2->dwave-neal) (2.4.7)\n",
            "Requirement already satisfied: dwave-preprocessing<0.4,>=0.3 in /usr/local/lib/python3.7/dist-packages (from dimod>=0.9.2->dwave-neal) (0.3.1.post0)\n",
            "Installing collected packages: dwave-neal\n",
            "Successfully installed dwave-neal-0.5.8\n"
          ]
        }
      ]
    },
    {
      "cell_type": "code",
      "metadata": {
        "colab": {
          "base_uri": "https://localhost:8080/"
        },
        "id": "5vOozUqSt47t",
        "outputId": "ac6150ef-f9af-44fd-97bb-51eed893eb7f"
      },
      "source": [
        "!pip install 'qiskit-optimization[cplex]'"
      ],
      "execution_count": 160,
      "outputs": [
        {
          "output_type": "stream",
          "name": "stdout",
          "text": [
            "Requirement already satisfied: qiskit-optimization[cplex] in /usr/local/lib/python3.7/dist-packages (0.2.3)\n",
            "Requirement already satisfied: setuptools>=40.1.0 in /usr/local/lib/python3.7/dist-packages (from qiskit-optimization[cplex]) (57.4.0)\n",
            "Requirement already satisfied: networkx<2.6,>=2.2 in /usr/local/lib/python3.7/dist-packages (from qiskit-optimization[cplex]) (2.5.1)\n",
            "Requirement already satisfied: docplex>=2.21.207 in /usr/local/lib/python3.7/dist-packages (from qiskit-optimization[cplex]) (2.22.213)\n",
            "Requirement already satisfied: scipy>=1.4 in /usr/local/lib/python3.7/dist-packages (from qiskit-optimization[cplex]) (1.4.1)\n",
            "Requirement already satisfied: numpy>=1.17 in /usr/local/lib/python3.7/dist-packages (from qiskit-optimization[cplex]) (1.19.5)\n",
            "Requirement already satisfied: qiskit-terra>=0.17.0 in /usr/local/lib/python3.7/dist-packages (from qiskit-optimization[cplex]) (0.18.3)\n",
            "Collecting cplex\n",
            "  Downloading cplex-20.1.0.1-cp37-cp37m-manylinux1_x86_64.whl (30.9 MB)\n",
            "\u001b[K     |████████████████████████████████| 30.9 MB 36 kB/s \n",
            "\u001b[?25hRequirement already satisfied: six in /usr/local/lib/python3.7/dist-packages (from docplex>=2.21.207->qiskit-optimization[cplex]) (1.15.0)\n",
            "Requirement already satisfied: decorator<5,>=4.3 in /usr/local/lib/python3.7/dist-packages (from networkx<2.6,>=2.2->qiskit-optimization[cplex]) (4.4.2)\n",
            "Requirement already satisfied: python-dateutil>=2.8.0 in /usr/local/lib/python3.7/dist-packages (from qiskit-terra>=0.17.0->qiskit-optimization[cplex]) (2.8.2)\n",
            "Requirement already satisfied: python-constraint>=1.4 in /usr/local/lib/python3.7/dist-packages (from qiskit-terra>=0.17.0->qiskit-optimization[cplex]) (1.4.0)\n",
            "Requirement already satisfied: jsonschema>=2.6 in /usr/local/lib/python3.7/dist-packages (from qiskit-terra>=0.17.0->qiskit-optimization[cplex]) (2.6.0)\n",
            "Requirement already satisfied: dill>=0.3 in /usr/local/lib/python3.7/dist-packages (from qiskit-terra>=0.17.0->qiskit-optimization[cplex]) (0.3.4)\n",
            "Requirement already satisfied: ply>=3.10 in /usr/local/lib/python3.7/dist-packages (from qiskit-terra>=0.17.0->qiskit-optimization[cplex]) (3.11)\n",
            "Requirement already satisfied: sympy>=1.3 in /usr/local/lib/python3.7/dist-packages (from qiskit-terra>=0.17.0->qiskit-optimization[cplex]) (1.7.1)\n",
            "Requirement already satisfied: symengine>0.7 in /usr/local/lib/python3.7/dist-packages (from qiskit-terra>=0.17.0->qiskit-optimization[cplex]) (0.8.1)\n",
            "Requirement already satisfied: psutil>=5 in /usr/local/lib/python3.7/dist-packages (from qiskit-terra>=0.17.0->qiskit-optimization[cplex]) (5.4.8)\n",
            "Requirement already satisfied: fastjsonschema>=2.10 in /usr/local/lib/python3.7/dist-packages (from qiskit-terra>=0.17.0->qiskit-optimization[cplex]) (2.15.1)\n",
            "Requirement already satisfied: retworkx>=0.9.0 in /usr/local/lib/python3.7/dist-packages (from qiskit-terra>=0.17.0->qiskit-optimization[cplex]) (0.10.2)\n",
            "Requirement already satisfied: tweedledum<2.0,>=1.1 in /usr/local/lib/python3.7/dist-packages (from qiskit-terra>=0.17.0->qiskit-optimization[cplex]) (1.1.1)\n",
            "Requirement already satisfied: mpmath>=0.19 in /usr/local/lib/python3.7/dist-packages (from sympy>=1.3->qiskit-terra>=0.17.0->qiskit-optimization[cplex]) (1.2.1)\n",
            "Installing collected packages: cplex\n",
            "Successfully installed cplex-20.1.0.1\n"
          ]
        }
      ]
    },
    {
      "cell_type": "code",
      "metadata": {
        "id": "BBKF9kTPYm7U",
        "colab": {
          "base_uri": "https://localhost:8080/",
          "height": 408
        },
        "outputId": "be8743ac-9967-4ead-cc45-e8ebc4fa9d9c"
      },
      "source": [
        "!pip install matplotlib==3.1.3"
      ],
      "execution_count": 2,
      "outputs": [
        {
          "output_type": "stream",
          "name": "stdout",
          "text": [
            "Collecting matplotlib==3.1.3\n",
            "  Downloading matplotlib-3.1.3-cp37-cp37m-manylinux1_x86_64.whl (13.1 MB)\n",
            "\u001b[K     |████████████████████████████████| 13.1 MB 94 kB/s \n",
            "\u001b[?25hRequirement already satisfied: kiwisolver>=1.0.1 in /usr/local/lib/python3.7/dist-packages (from matplotlib==3.1.3) (1.3.2)\n",
            "Requirement already satisfied: python-dateutil>=2.1 in /usr/local/lib/python3.7/dist-packages (from matplotlib==3.1.3) (2.8.2)\n",
            "Requirement already satisfied: cycler>=0.10 in /usr/local/lib/python3.7/dist-packages (from matplotlib==3.1.3) (0.10.0)\n",
            "Requirement already satisfied: numpy>=1.11 in /usr/local/lib/python3.7/dist-packages (from matplotlib==3.1.3) (1.19.5)\n",
            "Requirement already satisfied: pyparsing!=2.0.4,!=2.1.2,!=2.1.6,>=2.0.1 in /usr/local/lib/python3.7/dist-packages (from matplotlib==3.1.3) (2.4.7)\n",
            "Requirement already satisfied: six in /usr/local/lib/python3.7/dist-packages (from cycler>=0.10->matplotlib==3.1.3) (1.15.0)\n",
            "Installing collected packages: matplotlib\n",
            "  Attempting uninstall: matplotlib\n",
            "    Found existing installation: matplotlib 3.4.3\n",
            "    Uninstalling matplotlib-3.4.3:\n",
            "      Successfully uninstalled matplotlib-3.4.3\n",
            "\u001b[31mERROR: pip's dependency resolver does not currently take into account all the packages that are installed. This behaviour is the source of the following dependency conflicts.\n",
            "qiskit-experiments 0.1.0 requires matplotlib>=3.3, but you have matplotlib 3.1.3 which is incompatible.\n",
            "albumentations 0.1.12 requires imgaug<0.2.7,>=0.2.5, but you have imgaug 0.2.9 which is incompatible.\u001b[0m\n",
            "Successfully installed matplotlib-3.1.3\n"
          ]
        },
        {
          "output_type": "display_data",
          "data": {
            "application/vnd.colab-display-data+json": {
              "pip_warning": {
                "packages": [
                  "matplotlib",
                  "mpl_toolkits"
                ]
              }
            }
          },
          "metadata": {}
        }
      ]
    },
    {
      "cell_type": "code",
      "metadata": {
        "colab": {
          "base_uri": "https://localhost:8080/"
        },
        "id": "I3AH-z--mJnW",
        "outputId": "957ea7fc-774e-470b-9dab-05d67f756813"
      },
      "source": [
        "!pip install plotly"
      ],
      "execution_count": 3,
      "outputs": [
        {
          "output_type": "stream",
          "name": "stdout",
          "text": [
            "Requirement already satisfied: plotly in /usr/local/lib/python3.7/dist-packages (4.4.1)\n",
            "Requirement already satisfied: retrying>=1.3.3 in /usr/local/lib/python3.7/dist-packages (from plotly) (1.3.3)\n",
            "Requirement already satisfied: six in /usr/local/lib/python3.7/dist-packages (from plotly) (1.15.0)\n"
          ]
        }
      ]
    },
    {
      "cell_type": "code",
      "metadata": {
        "colab": {
          "base_uri": "https://localhost:8080/"
        },
        "id": "Ee8WMAt561oY",
        "outputId": "022c5612-f2c8-44e1-8874-c21d8fb06a47"
      },
      "source": [
        "!pip install gsgmorph"
      ],
      "execution_count": 4,
      "outputs": [
        {
          "output_type": "stream",
          "name": "stdout",
          "text": [
            "Collecting gsgmorph\n",
            "  Downloading gsgmorph-1.0.2-py3-none-any.whl (23 kB)\n",
            "Requirement already satisfied: networkx in /usr/local/lib/python3.7/dist-packages (from gsgmorph) (2.5.1)\n",
            "Collecting pyqubo\n",
            "  Downloading pyqubo-1.0.13-cp37-cp37m-manylinux_2_5_x86_64.manylinux1_x86_64.whl (887 kB)\n",
            "\u001b[K     |████████████████████████████████| 887 kB 10.2 MB/s \n",
            "\u001b[?25hRequirement already satisfied: decorator<5,>=4.3 in /usr/local/lib/python3.7/dist-packages (from networkx->gsgmorph) (4.4.2)\n",
            "Requirement already satisfied: dimod<0.11,>=0.9.14 in /usr/local/lib/python3.7/dist-packages (from pyqubo->gsgmorph) (0.10.7)\n",
            "Requirement already satisfied: dwave-neal>=0.5.7 in /usr/local/lib/python3.7/dist-packages (from pyqubo->gsgmorph) (0.5.8)\n",
            "Collecting Deprecated>=1.2.12\n",
            "  Downloading Deprecated-1.2.13-py2.py3-none-any.whl (9.6 kB)\n",
            "Requirement already satisfied: six>=1.15.0 in /usr/local/lib/python3.7/dist-packages (from pyqubo->gsgmorph) (1.15.0)\n",
            "Requirement already satisfied: numpy>=1.17.3 in /usr/local/lib/python3.7/dist-packages (from pyqubo->gsgmorph) (1.19.5)\n",
            "Requirement already satisfied: wrapt<2,>=1.10 in /usr/local/lib/python3.7/dist-packages (from Deprecated>=1.2.12->pyqubo->gsgmorph) (1.12.1)\n",
            "Requirement already satisfied: pyparsing<3.0.0,>=2.4.7 in /usr/local/lib/python3.7/dist-packages (from dimod<0.11,>=0.9.14->pyqubo->gsgmorph) (2.4.7)\n",
            "Requirement already satisfied: dwave-preprocessing<0.4,>=0.3 in /usr/local/lib/python3.7/dist-packages (from dimod<0.11,>=0.9.14->pyqubo->gsgmorph) (0.3.1.post0)\n",
            "Installing collected packages: Deprecated, pyqubo, gsgmorph\n",
            "Successfully installed Deprecated-1.2.13 gsgmorph-1.0.2 pyqubo-1.0.13\n"
          ]
        }
      ]
    },
    {
      "cell_type": "code",
      "metadata": {
        "id": "opCbLgxHX4uc"
      },
      "source": [
        "import networkx as nx\n",
        "import matplotlib.pyplot as plt\n",
        "import numpy as np\n",
        "from time import time\n",
        "from pprint import pprint\n",
        "import plotly.graph_objects as go\n",
        "from plotly.subplots import make_subplots\n",
        "from IPython.display import clear_output"
      ],
      "execution_count": 1,
      "outputs": []
    },
    {
      "cell_type": "code",
      "metadata": {
        "colab": {
          "base_uri": "https://localhost:8080/"
        },
        "id": "o0qvZFxFm-TP",
        "outputId": "2b243d2d-39b7-43a3-9af2-a34d47180ed6"
      },
      "source": [
        "import itertools\n",
        "import networkx as nx\n",
        "import matplotlib.pyplot as plt\n",
        "from collections import defaultdict\n",
        "from dimod import BinaryQuadraticModel, AdjVectorBQM\n",
        "from qiskit.optimization import QuadraticProgram\n",
        "from qiskit.optimization.converters import LinearEqualityToPenalty, InequalityToEquality, IntegerToBinary\n",
        "import neal"
      ],
      "execution_count": 2,
      "outputs": [
        {
          "output_type": "stream",
          "name": "stderr",
          "text": [
            "/usr/local/lib/python3.7/dist-packages/qiskit/aqua/__init__.py:86: DeprecationWarning:\n",
            "\n",
            "The package qiskit.aqua is deprecated. It was moved/refactored to qiskit-terra For more information see <https://github.com/Qiskit/qiskit-aqua/blob/main/README.md#migration-guide>\n",
            "\n",
            "/usr/local/lib/python3.7/dist-packages/qiskit/optimization/__init__.py:92: DeprecationWarning:\n",
            "\n",
            "The package qiskit.optimization is deprecated. It was moved/refactored to qiskit_optimization (pip install qiskit-optimization). For more information see <https://github.com/Qiskit/qiskit-aqua/blob/main/README.md#migration-guide>\n",
            "\n"
          ]
        }
      ]
    },
    {
      "cell_type": "code",
      "metadata": {
        "id": "k5PV-TBU8eF6"
      },
      "source": [
        "from qiskit.aqua.algorithms import QAOA\n",
        "from qiskit.optimization.algorithms import MinimumEigenOptimizer\n",
        "from qiskit import Aer\n",
        "from qiskit import QuantumCircuit\n",
        "from qiskit.visualization import plot_state_city\n",
        "from qiskit.aqua.components.optimizers import COBYLA, SLSQP, ADAM, L_BFGS_B\n",
        "from qiskit.optimization import QuadraticProgram\n",
        "from docplex.mp.model import Model\n",
        "\n",
        "from qiskit.optimization.applications.ising import stable_set\n",
        "from qiskit import Aer\n",
        "from qiskit.optimization.applications.ising import stable_set\n",
        "from qiskit.aqua.algorithms import VQE, NumPyMinimumEigensolver, QAOA, NumPyEigensolver\n",
        "from qiskit.aqua import aqua_globals\n",
        "from qiskit.aqua import QuantumInstance\n",
        "from qiskit.optimization.applications.ising.common import sample_most_likely\n",
        "from qiskit.optimization.algorithms import MinimumEigenOptimizer\n",
        "from qiskit.optimization.problems import QuadraticProgram"
      ],
      "execution_count": 3,
      "outputs": []
    },
    {
      "cell_type": "code",
      "metadata": {
        "id": "ZqFqov1L7WkA"
      },
      "source": [
        "import gsgmorph.matrix_form as gsgm_mf\n",
        "import networkx as nx\n",
        "\n",
        "graph_to_embed = nx.Graph([(1,2),(2,3),(3,4),(1,4)])\n",
        "target_graph = nx.Graph([('a','b'),('b','c'),('b', 'd'), ('a', 'd')])"
      ],
      "execution_count": 44,
      "outputs": []
    },
    {
      "cell_type": "code",
      "metadata": {
        "colab": {
          "base_uri": "https://localhost:8080/",
          "height": 319
        },
        "id": "V48hE6qd7XuP",
        "outputId": "b61754e4-c665-44b5-ebbf-5bdaefe8a27a"
      },
      "source": [
        "# Get fixed position\n",
        "pos = nx.spring_layout(graph_to_embed, seed=9999)\n",
        "\n",
        "# Graph to be embedded onto a target graph\n",
        "nx.draw(graph_to_embed, pos, with_labels=True, font_color='w')"
      ],
      "execution_count": 45,
      "outputs": [
        {
          "output_type": "display_data",
          "data": {
            "image/png": "[encoded data removed]",
            "text/plain": [
              "<Figure size 432x288 with 1 Axes>"
            ]
          },
          "metadata": {}
        }
      ]
    },
    {
      "cell_type": "code",
      "metadata": {
        "colab": {
          "base_uri": "https://localhost:8080/",
          "height": 319
        },
        "id": "tTDHGw5d7qVg",
        "outputId": "a6a09c60-aecc-484b-e4a1-b894e8ab82c0"
      },
      "source": [
        "\n",
        "# Get fixed position\n",
        "pos = nx.spring_layout(target_graph, seed=9999)\n",
        "\n",
        "# Target graph, the above graph will be mapped to this one\n",
        "nx.draw(target_graph, pos, with_labels=True, font_color='w')"
      ],
      "execution_count": 46,
      "outputs": [
        {
          "output_type": "display_data",
          "data": {
            "image/png": "[encoded data removed]",
            "text/plain": [
              "<Figure size 432x288 with 1 Axes>"
            ]
          },
          "metadata": {}
        }
      ]
    },
    {
      "cell_type": "code",
      "metadata": {
        "id": "QORX2zsS7rc0"
      },
      "source": [
        "\n",
        "# Obtain the QUBO and the sample translation dictionary\n",
        "Q, sample_translation_dict = gsgm_mf.graph_isomorphism(graph_to_embed, target_graph)"
      ],
      "execution_count": 47,
      "outputs": []
    },
    {
      "cell_type": "code",
      "metadata": {
        "colab": {
          "base_uri": "https://localhost:8080/"
        },
        "id": "jTbzmjQcAASO",
        "outputId": "ce2e79a0-7542-46c6-80e4-c55264dffaad"
      },
      "source": [
        "Q"
      ],
      "execution_count": 48,
      "outputs": [
        {
          "output_type": "execute_result",
          "data": {
            "text/plain": [
              "defaultdict(int,\n",
              "            {(0, 0): -2,\n",
              "             (0, 1): 2,\n",
              "             (0, 2): 2,\n",
              "             (0, 3): 2,\n",
              "             (0, 4): 3,\n",
              "             (0, 6): 1,\n",
              "             (0, 8): 2,\n",
              "             (0, 12): 3,\n",
              "             (0, 14): 1,\n",
              "             (1, 1): -2,\n",
              "             (1, 2): 2,\n",
              "             (1, 3): 2,\n",
              "             (1, 5): 3,\n",
              "             (1, 9): 2,\n",
              "             (1, 13): 3,\n",
              "             (2, 2): -2,\n",
              "             (2, 3): 2,\n",
              "             (2, 4): 1,\n",
              "             (2, 6): 3,\n",
              "             (2, 7): 1,\n",
              "             (2, 10): 2,\n",
              "             (2, 12): 1,\n",
              "             (2, 14): 3,\n",
              "             (2, 15): 1,\n",
              "             (3, 3): -2,\n",
              "             (3, 6): 1,\n",
              "             (3, 7): 3,\n",
              "             (3, 11): 2,\n",
              "             (3, 14): 1,\n",
              "             (3, 15): 3,\n",
              "             (4, 4): -2,\n",
              "             (4, 5): 2,\n",
              "             (4, 6): 2,\n",
              "             (4, 7): 2,\n",
              "             (4, 8): 3,\n",
              "             (4, 10): 1,\n",
              "             (4, 12): 2,\n",
              "             (5, 5): -2,\n",
              "             (5, 6): 2,\n",
              "             (5, 7): 2,\n",
              "             (5, 9): 3,\n",
              "             (5, 13): 2,\n",
              "             (6, 6): -2,\n",
              "             (6, 7): 2,\n",
              "             (6, 8): 1,\n",
              "             (6, 10): 3,\n",
              "             (6, 11): 1,\n",
              "             (6, 14): 2,\n",
              "             (7, 7): -2,\n",
              "             (7, 10): 1,\n",
              "             (7, 11): 3,\n",
              "             (7, 15): 2,\n",
              "             (8, 8): -2,\n",
              "             (8, 9): 2,\n",
              "             (8, 10): 2,\n",
              "             (8, 11): 2,\n",
              "             (8, 12): 3,\n",
              "             (8, 14): 1,\n",
              "             (9, 9): -2,\n",
              "             (9, 10): 2,\n",
              "             (9, 11): 2,\n",
              "             (9, 13): 3,\n",
              "             (10, 10): -2,\n",
              "             (10, 11): 2,\n",
              "             (10, 12): 1,\n",
              "             (10, 14): 3,\n",
              "             (10, 15): 1,\n",
              "             (11, 11): -2,\n",
              "             (11, 14): 1,\n",
              "             (11, 15): 3,\n",
              "             (12, 12): -2,\n",
              "             (12, 13): 2,\n",
              "             (12, 14): 2,\n",
              "             (12, 15): 2,\n",
              "             (13, 13): -2,\n",
              "             (13, 14): 2,\n",
              "             (13, 15): 2,\n",
              "             (14, 14): -2,\n",
              "             (14, 15): 2,\n",
              "             (15, 15): -2})"
            ]
          },
          "metadata": {},
          "execution_count": 48
        }
      ]
    },
    {
      "cell_type": "code",
      "metadata": {
        "colab": {
          "base_uri": "https://localhost:8080/"
        },
        "id": "sc-H5YNzenIZ",
        "outputId": "f4929aa1-3456-47b9-b844-e9f68eb43201"
      },
      "source": [
        "Q[(8,8)]"
      ],
      "execution_count": 49,
      "outputs": [
        {
          "output_type": "execute_result",
          "data": {
            "text/plain": [
              "-2"
            ]
          },
          "metadata": {},
          "execution_count": 49
        }
      ]
    },
    {
      "cell_type": "code",
      "metadata": {
        "id": "lUYdMZazAJOC"
      },
      "source": [
        "def qubo_matrix_to_docplex(Q): \n",
        "\n",
        "  def build_matrix(data):\n",
        "    data = dict(data)\n",
        "    maxX = max([x for (x, y) in list(data.keys())])\n",
        "    maxY = max([y for (x, y) in list(data.keys())])\n",
        "    maxX = max([maxX, maxY])\n",
        "    maxY = max([maxX, maxY])\n",
        "    mat = np.zeros(shape=(maxX+1, maxY+1))\n",
        "    for key, value in data.items():\n",
        "        x, y = key\n",
        "        mat[x][y] = value\n",
        "    return mat\n",
        "\n",
        "  # Print out the Qubo Matrix\n",
        "  Q_matrix = build_matrix(Q)\n",
        "  print(Q_matrix)\n",
        "  print(\"Size of QUBO Matrix is: \", len(Q_matrix))\n",
        "\n",
        "  def build_linear(Q, Q_matrix): \n",
        "    linear_dict = {}\n",
        "    for idx in range(len(Q_matrix)): \n",
        "      linear_dict['x_{0}'.format(idx)] = Q[(idx,idx)]\n",
        "    print('Linear part: ', linear_dict)\n",
        "    return linear_dict\n",
        "\n",
        "  def build_quadratic(Q, Q_matrix): \n",
        "    quadratic_dict = {}\n",
        "    for node_pair in Q: \n",
        "      x,y = node_pair\n",
        "      if x != y: \n",
        "        quadratic_dict[(f'x_{x}', f'x_{y}')] = Q[(x,y)]\n",
        "    print('Quadratic Part: ', quadratic_dict)\n",
        "    return quadratic_dict\n",
        "\n",
        "  def build_constant(Q_matrix): \n",
        "\n",
        "    #Empirically decided!\n",
        "    import math \n",
        "    number_of_nodes= math.sqrt(len(Q_matrix))\n",
        "    constant = number_of_nodes * 2\n",
        "    print(constant)\n",
        "    return constant\n",
        "\n",
        "\n",
        "  linear = build_linear(Q, Q_matrix)\n",
        "  quadratic = build_quadratic(Q, Q_matrix)\n",
        "  constant = build_constant(Q_matrix)\n",
        "\n",
        "  mdl = QuadraticProgram('Graph Isomorphism')\n",
        "  for node_pair in Q: \n",
        "    x,y = node_pair\n",
        "    if x == y: \n",
        "      mdl.binary_var(name='x_{0}'.format(x))\n",
        "  \n",
        "  mdl.minimize(constant=constant, linear=linear, quadratic=quadratic)\n",
        "  print(mdl.export_as_lp_string())\n",
        "\n",
        "  return mdl"
      ],
      "execution_count": 50,
      "outputs": []
    },
    {
      "cell_type": "code",
      "metadata": {
        "colab": {
          "base_uri": "https://localhost:8080/"
        },
        "id": "PinS3suMA_v7",
        "outputId": "4a5d9689-f65a-4d93-9480-cc0137ed55dc"
      },
      "source": [
        "mdl = qubo_matrix_to_docplex(Q)"
      ],
      "execution_count": 51,
      "outputs": [
        {
          "output_type": "stream",
          "name": "stdout",
          "text": [
            "[[-2.  2.  2.  2.  3.  0.  1.  0.  2.  0.  0.  0.  3.  0.  1.  0.]\n",
            " [ 0. -2.  2.  2.  0.  3.  0.  0.  0.  2.  0.  0.  0.  3.  0.  0.]\n",
            " [ 0.  0. -2.  2.  1.  0.  3.  1.  0.  0.  2.  0.  1.  0.  3.  1.]\n",
            " [ 0.  0.  0. -2.  0.  0.  1.  3.  0.  0.  0.  2.  0.  0.  1.  3.]\n",
            " [ 0.  0.  0.  0. -2.  2.  2.  2.  3.  0.  1.  0.  2.  0.  0.  0.]\n",
            " [ 0.  0.  0.  0.  0. -2.  2.  2.  0.  3.  0.  0.  0.  2.  0.  0.]\n",
            " [ 0.  0.  0.  0.  0.  0. -2.  2.  1.  0.  3.  1.  0.  0.  2.  0.]\n",
            " [ 0.  0.  0.  0.  0.  0.  0. -2.  0.  0.  1.  3.  0.  0.  0.  2.]\n",
            " [ 0.  0.  0.  0.  0.  0.  0.  0. -2.  2.  2.  2.  3.  0.  1.  0.]\n",
            " [ 0.  0.  0.  0.  0.  0.  0.  0.  0. -2.  2.  2.  0.  3.  0.  0.]\n",
            " [ 0.  0.  0.  0.  0.  0.  0.  0.  0.  0. -2.  2.  1.  0.  3.  1.]\n",
            " [ 0.  0.  0.  0.  0.  0.  0.  0.  0.  0.  0. -2.  0.  0.  1.  3.]\n",
            " [ 0.  0.  0.  0.  0.  0.  0.  0.  0.  0.  0.  0. -2.  2.  2.  2.]\n",
            " [ 0.  0.  0.  0.  0.  0.  0.  0.  0.  0.  0.  0.  0. -2.  2.  2.]\n",
            " [ 0.  0.  0.  0.  0.  0.  0.  0.  0.  0.  0.  0.  0.  0. -2.  2.]\n",
            " [ 0.  0.  0.  0.  0.  0.  0.  0.  0.  0.  0.  0.  0.  0.  0. -2.]]\n",
            "Size of QUBO Matrix is:  16\n",
            "Linear part:  {'x_0': -2, 'x_1': -2, 'x_2': -2, 'x_3': -2, 'x_4': -2, 'x_5': -2, 'x_6': -2, 'x_7': -2, 'x_8': -2, 'x_9': -2, 'x_10': -2, 'x_11': -2, 'x_12': -2, 'x_13': -2, 'x_14': -2, 'x_15': -2}\n",
            "Quadratic Part:  {('x_0', 'x_4'): 3, ('x_0', 'x_1'): 2, ('x_0', 'x_8'): 2, ('x_0', 'x_2'): 2, ('x_0', 'x_12'): 3, ('x_0', 'x_3'): 2, ('x_1', 'x_5'): 3, ('x_1', 'x_9'): 2, ('x_1', 'x_2'): 2, ('x_1', 'x_13'): 3, ('x_1', 'x_3'): 2, ('x_2', 'x_6'): 3, ('x_2', 'x_10'): 2, ('x_2', 'x_14'): 3, ('x_2', 'x_3'): 2, ('x_3', 'x_7'): 3, ('x_3', 'x_11'): 2, ('x_3', 'x_15'): 3, ('x_4', 'x_5'): 2, ('x_4', 'x_8'): 3, ('x_4', 'x_6'): 2, ('x_4', 'x_12'): 2, ('x_4', 'x_7'): 2, ('x_5', 'x_9'): 3, ('x_5', 'x_6'): 2, ('x_5', 'x_13'): 2, ('x_5', 'x_7'): 2, ('x_6', 'x_10'): 3, ('x_6', 'x_14'): 2, ('x_6', 'x_7'): 2, ('x_7', 'x_11'): 3, ('x_7', 'x_15'): 2, ('x_8', 'x_9'): 2, ('x_8', 'x_10'): 2, ('x_8', 'x_12'): 3, ('x_8', 'x_11'): 2, ('x_9', 'x_10'): 2, ('x_9', 'x_13'): 3, ('x_9', 'x_11'): 2, ('x_10', 'x_14'): 3, ('x_10', 'x_11'): 2, ('x_11', 'x_15'): 3, ('x_12', 'x_13'): 2, ('x_12', 'x_14'): 2, ('x_12', 'x_15'): 2, ('x_13', 'x_14'): 2, ('x_13', 'x_15'): 2, ('x_14', 'x_15'): 2, ('x_0', 'x_6'): 1, ('x_2', 'x_4'): 1, ('x_2', 'x_7'): 1, ('x_3', 'x_6'): 1, ('x_0', 'x_14'): 1, ('x_2', 'x_12'): 1, ('x_2', 'x_15'): 1, ('x_3', 'x_14'): 1, ('x_4', 'x_10'): 1, ('x_6', 'x_8'): 1, ('x_6', 'x_11'): 1, ('x_7', 'x_10'): 1, ('x_8', 'x_14'): 1, ('x_10', 'x_12'): 1, ('x_10', 'x_15'): 1, ('x_11', 'x_14'): 1}\n",
            "8.0\n",
            "\\ This file has been generated by DOcplex\n",
            "\\ ENCODING=ISO-8859-1\n",
            "\\Problem name: Graph Isomorphism\n",
            "\n",
            "Minimize\n",
            " obj: - 2 x_0 - 2 x_1 - 2 x_2 - 2 x_3 - 2 x_4 - 2 x_5 - 2 x_6 - 2 x_7 - 2 x_8\n",
            "      - 2 x_9 - 2 x_10 - 2 x_11 - 2 x_12 - 2 x_13 - 2 x_14 - 2 x_15 + [\n",
            "      4 x_0*x_1 + 4 x_0*x_2 + 4 x_0*x_3 + 6 x_0*x_4 + 2 x_0*x_6 + 4 x_0*x_8\n",
            "      + 6 x_0*x_12 + 2 x_0*x_14 + 4 x_1*x_2 + 4 x_1*x_3 + 6 x_1*x_5 + 4 x_1*x_9\n",
            "      + 6 x_1*x_13 + 4 x_2*x_3 + 2 x_2*x_4 + 6 x_2*x_6 + 2 x_2*x_7 + 4 x_2*x_10\n",
            "      + 2 x_2*x_12 + 6 x_2*x_14 + 2 x_2*x_15 + 2 x_3*x_6 + 6 x_3*x_7\n",
            "      + 4 x_3*x_11 + 2 x_3*x_14 + 6 x_3*x_15 + 4 x_4*x_5 + 4 x_4*x_6 + 4 x_4*x_7\n",
            "      + 6 x_4*x_8 + 2 x_4*x_10 + 4 x_4*x_12 + 4 x_5*x_6 + 4 x_5*x_7 + 6 x_5*x_9\n",
            "      + 4 x_5*x_13 + 4 x_6*x_7 + 2 x_6*x_8 + 6 x_6*x_10 + 2 x_6*x_11\n",
            "      + 4 x_6*x_14 + 2 x_7*x_10 + 6 x_7*x_11 + 4 x_7*x_15 + 4 x_8*x_9\n",
            "      + 4 x_8*x_10 + 4 x_8*x_11 + 6 x_8*x_12 + 2 x_8*x_14 + 4 x_9*x_10\n",
            "      + 4 x_9*x_11 + 6 x_9*x_13 + 4 x_10*x_11 + 2 x_10*x_12 + 6 x_10*x_14\n",
            "      + 2 x_10*x_15 + 2 x_11*x_14 + 6 x_11*x_15 + 4 x_12*x_13 + 4 x_12*x_14\n",
            "      + 4 x_12*x_15 + 4 x_13*x_14 + 4 x_13*x_15 + 4 x_14*x_15 ]/2 + 8\n",
            "Subject To\n",
            "\n",
            "Bounds\n",
            " 0 <= x_0 <= 1\n",
            " 0 <= x_1 <= 1\n",
            " 0 <= x_2 <= 1\n",
            " 0 <= x_3 <= 1\n",
            " 0 <= x_4 <= 1\n",
            " 0 <= x_5 <= 1\n",
            " 0 <= x_6 <= 1\n",
            " 0 <= x_7 <= 1\n",
            " 0 <= x_8 <= 1\n",
            " 0 <= x_9 <= 1\n",
            " 0 <= x_10 <= 1\n",
            " 0 <= x_11 <= 1\n",
            " 0 <= x_12 <= 1\n",
            " 0 <= x_13 <= 1\n",
            " 0 <= x_14 <= 1\n",
            " 0 <= x_15 <= 1\n",
            "\n",
            "Binaries\n",
            " x_0 x_1 x_2 x_3 x_4 x_5 x_6 x_7 x_8 x_9 x_10 x_11 x_12 x_13 x_14 x_15\n",
            "End\n",
            "\n"
          ]
        }
      ]
    },
    {
      "cell_type": "code",
      "metadata": {
        "id": "kKhaD7p77yyh"
      },
      "source": [
        "# Put the QUBO on the annealer and obtain the lowest energy solution.\n",
        "# NOTE: It is possible to have multiple acceptable solutions!\n",
        "import neal\n",
        "sampler = neal.SimulatedAnnealingSampler()\n",
        "sampleset = sampler.sample_qubo(Q, num_reads=100)\n",
        "sampleset = sampleset.aggregate()\n",
        "best_sample = sampleset.first"
      ],
      "execution_count": 52,
      "outputs": []
    },
    {
      "cell_type": "code",
      "metadata": {
        "colab": {
          "base_uri": "https://localhost:8080/"
        },
        "id": "8LIalLPe71mf",
        "outputId": "8e49b7e2-cc74-44a9-971f-d0e823df4cfd"
      },
      "source": [
        "sampleset"
      ],
      "execution_count": 53,
      "outputs": [
        {
          "output_type": "execute_result",
          "data": {
            "text/plain": [
              "SampleSet(rec.array([([0, 1, 0, 0, 1, 0, 0, 0, 0, 0, 0, 1, 0, 0, 1, 0], -7.,  6),\n",
              "           ([0, 1, 0, 0, 0, 0, 1, 0, 0, 0, 0, 1, 1, 0, 0, 0], -7.,  8),\n",
              "           ([1, 0, 0, 0, 0, 0, 1, 0, 0, 1, 0, 0, 0, 0, 0, 1], -7.,  8),\n",
              "           ([0, 1, 0, 0, 0, 0, 1, 0, 1, 0, 0, 0, 0, 0, 0, 1], -7., 10),\n",
              "           ([0, 0, 1, 0, 0, 1, 0, 0, 0, 0, 0, 1, 1, 0, 0, 0], -7.,  8),\n",
              "           ([0, 0, 1, 0, 0, 0, 0, 1, 1, 0, 0, 0, 0, 1, 0, 0], -7., 12),\n",
              "           ([0, 0, 0, 1, 0, 0, 1, 0, 0, 1, 0, 0, 1, 0, 0, 0], -7.,  6),\n",
              "           ([1, 0, 0, 0, 0, 0, 0, 1, 0, 0, 1, 0, 0, 1, 0, 0], -7.,  4),\n",
              "           ([0, 0, 0, 1, 0, 1, 0, 0, 0, 0, 1, 0, 1, 0, 0, 0], -7.,  6),\n",
              "           ([1, 0, 0, 0, 0, 0, 0, 1, 0, 1, 0, 0, 0, 0, 1, 0], -7.,  7),\n",
              "           ([0, 0, 0, 1, 1, 0, 0, 0, 0, 1, 0, 0, 0, 0, 1, 0], -7.,  3),\n",
              "           ([1, 0, 0, 0, 0, 1, 0, 0, 0, 0, 1, 0, 0, 0, 0, 1], -7.,  5),\n",
              "           ([0, 0, 0, 1, 1, 0, 0, 0, 0, 0, 1, 0, 0, 1, 0, 0], -7.,  4),\n",
              "           ([0, 0, 1, 0, 0, 1, 0, 0, 1, 0, 0, 0, 0, 0, 0, 1], -7.,  6),\n",
              "           ([0, 0, 1, 0, 1, 0, 0, 0, 0, 0, 0, 1, 0, 1, 0, 0], -7.,  5),\n",
              "           ([0, 1, 0, 0, 0, 0, 0, 1, 1, 0, 0, 0, 0, 0, 1, 0], -7.,  2)],\n",
              "          dtype=[('sample', 'i1', (16,)), ('energy', '<f8'), ('num_occurrences', '<i8')]), Variables(range(0, 16)), {'beta_range': [0.08664339756999316, 18.420680743952367], 'beta_schedule_type': 'geometric'}, 'BINARY')"
            ]
          },
          "metadata": {},
          "execution_count": 53
        }
      ]
    },
    {
      "cell_type": "code",
      "metadata": {
        "id": "AKHgvj_o-oBp"
      },
      "source": [
        "\n",
        "# We can use an annealing sample and the sample translation dictionary from before to\n",
        "# generate a dictionary that maps nodes from the graph to be embedded to the target graph\n",
        "mapping = gsgm_mf.translate_sample(best_sample, sample_translation_dict)"
      ],
      "execution_count": 54,
      "outputs": []
    },
    {
      "cell_type": "code",
      "metadata": {
        "id": "TgvQ-mw6-pRf",
        "colab": {
          "base_uri": "https://localhost:8080/",
          "height": 319
        },
        "outputId": "1127c65e-e22f-47f6-f16f-4437ea7ca7c7"
      },
      "source": [
        "# We can use NetworkX to help us visualize the subgraph and how it maps to the target graph\n",
        "\n",
        "# Invert the mapping so it is from the target graph TO the graph to embed nodes\n",
        "# Snippet taken from: \n",
        "# https://stackoverflow.com/a/483833\n",
        "inv_mapping = {v: k for k, v in mapping.items()}\n",
        "\n",
        "# relabel the nodes in the target graph with the node labels from the graph to embed\n",
        "updated_nodes = nx.relabel_nodes(target_graph, inv_mapping, copy=True)\n",
        "# Get the same fixed position used before\n",
        "pos = nx.spring_layout(updated_nodes, seed=9999)\n",
        "\n",
        "# Highlight the nodes that have been relabeled\n",
        "nx.draw(updated_nodes, pos, with_labels=True, \n",
        "        font_color='w', \n",
        "        nodelist=[key for key in mapping.keys()], \n",
        "        node_color=\"tab:red\")\n",
        "\n",
        "# Difference between two lists:\n",
        "# https://stackoverflow.com/a/3462160\n",
        "nx.draw(updated_nodes, \n",
        "        pos, \n",
        "        with_labels=True, \n",
        "        font_color='w', \n",
        "        nodelist=list(set(updated_nodes.nodes()) - set(mapping.keys())), \n",
        "        node_color=\"tab:blue\")"
      ],
      "execution_count": 55,
      "outputs": [
        {
          "output_type": "display_data",
          "data": {
            "image/png": "[encoded data removed]",
            "text/plain": [
              "<Figure size 432x288 with 1 Axes>"
            ]
          },
          "metadata": {}
        }
      ]
    },
    {
      "cell_type": "code",
      "metadata": {
        "id": "DGI9WPv__9mv"
      },
      "source": [
        "import numpy as np\n",
        "\n",
        "def build_matrix(data):\n",
        "    data = dict(data)\n",
        "\n",
        "    maxX = max([x for (x, y) in list(data.keys())])\n",
        "    maxY = max([y for (x, y) in list(data.keys())])\n",
        "\n",
        "    maxX = max([maxX, maxY])\n",
        "    maxY = max([maxX, maxY])\n",
        "\n",
        "    mat = np.zeros(shape=(maxX+1, maxY+1))\n",
        "\n",
        "    for key, value in data.items():\n",
        "        x, y = key\n",
        "        mat[x][y] = value\n",
        "\n",
        "    return mat\n",
        "\n",
        "Q_mat = build_matrix(Q)"
      ],
      "execution_count": 56,
      "outputs": []
    },
    {
      "cell_type": "code",
      "metadata": {
        "id": "5C_iUsNR__TY"
      },
      "source": [
        "s = neal.SimulatedAnnealingSampler()\n",
        "sampleset = s.sample_qubo(Q, beta_range=(5, 100), num_sweeps=20000, num_reads=100,\n",
        "                        beta_schedule_type='geometric')"
      ],
      "execution_count": 57,
      "outputs": []
    },
    {
      "cell_type": "code",
      "metadata": {
        "id": "lCE-p4wpACbJ",
        "colab": {
          "base_uri": "https://localhost:8080/"
        },
        "outputId": "2a46d720-5b10-479f-9d19-de118928f982"
      },
      "source": [
        "\n",
        "# Post processing\n",
        "\n",
        "# Offset is empirically calculated as of now. \n",
        "# From preliminary experiments, the offset is \n",
        "# calculated to be 2 * number of nodes of the \n",
        "# graph\n",
        "\n",
        "offset = 2.0 * len(graph_to_embed.nodes)\n",
        "\n",
        "energies = []\n",
        "final_energies = []\n",
        "for datum in sampleset.data(fields=[\"sample\", \"energy\"]):\n",
        "    energies.append(datum.energy)\n",
        "\n",
        "print(offset)\n",
        "for energy in energies: \n",
        "  final_energy = float(energy) + float(offset)\n",
        "  final_energies.append(final_energy)"
      ],
      "execution_count": 58,
      "outputs": [
        {
          "output_type": "stream",
          "name": "stdout",
          "text": [
            "8.0\n"
          ]
        }
      ]
    },
    {
      "cell_type": "code",
      "metadata": {
        "id": "l4TGCwBeAFCh"
      },
      "source": [
        "final_energies"
      ],
      "execution_count": null,
      "outputs": []
    },
    {
      "cell_type": "code",
      "metadata": {
        "colab": {
          "base_uri": "https://localhost:8080/"
        },
        "id": "nsoVLc1LlFDl",
        "outputId": "983d5829-ea78-4eab-92c4-c94ca3703ff7"
      },
      "source": [
        "aqua_globals.random_seed = np.random.default_rng(123)\n",
        "seed = 10598\n",
        "backend = Aer.get_backend('qasm_simulator')\n",
        "quantum_instance = QuantumInstance(backend, seed_simulator=seed, seed_transpiler=seed)\n",
        "\n",
        "qaoa = QAOA(quantum_instance=quantum_instance, p = 1)\n",
        "\n",
        "# create minimum eigen optimizer based on qaoa\n",
        "qaoa_optimizer = MinimumEigenOptimizer(qaoa)\n",
        "\n",
        "# solve quadratic program\n",
        "result = qaoa_optimizer.solve(mdl)"
      ],
      "execution_count": 60,
      "outputs": [
        {
          "output_type": "stream",
          "name": "stderr",
          "text": [
            "/usr/local/lib/python3.7/dist-packages/qiskit/utils/deprecation.py:62: DeprecationWarning:\n",
            "\n",
            "Using a qobj for run() is deprecated as of qiskit-aer 0.9.0 and will be removed no sooner than 3 months from that release date. Transpiled circuits should now be passed directly using `backend.run(circuits, **run_options).\n",
            "\n"
          ]
        }
      ]
    },
    {
      "cell_type": "code",
      "metadata": {
        "id": "HPPeExQj8Cih",
        "colab": {
          "base_uri": "https://localhost:8080/"
        },
        "outputId": "10c5bae5-c80f-43e3-c596-0136d90f70cf"
      },
      "source": [
        "print(result)"
      ],
      "execution_count": 61,
      "outputs": [
        {
          "output_type": "stream",
          "name": "stdout",
          "text": [
            "optimal function value: 2.0\n",
            "optimal value: [0. 1. 0. 0. 0. 0. 0. 1. 0. 1. 0. 0. 1. 0. 0. 0.]\n",
            "status: SUCCESS\n"
          ]
        }
      ]
    },
    {
      "cell_type": "code",
      "metadata": {
        "colab": {
          "base_uri": "https://localhost:8080/"
        },
        "id": "gXqCMAIvmJni",
        "outputId": "bfe95d6f-62e6-4631-e38d-f6386ed54e56"
      },
      "source": [
        "offset"
      ],
      "execution_count": 36,
      "outputs": [
        {
          "output_type": "execute_result",
          "data": {
            "text/plain": [
              "6.0"
            ]
          },
          "metadata": {},
          "execution_count": 36
        }
      ]
    },
    {
      "cell_type": "code",
      "metadata": {
        "id": "N9Q3LiU2mJni"
      },
      "source": [
        ""
      ],
      "execution_count": null,
      "outputs": []
    }
  ]
}