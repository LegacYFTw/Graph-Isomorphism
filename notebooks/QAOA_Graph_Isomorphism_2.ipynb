{
 "cells": [
  {
   "cell_type": "code",
   "execution_count": 1,
   "metadata": {
    "id": "Iv-5PMZ9VkrE"
   },
   "outputs": [
    {
     "name": "stdout",
     "output_type": "stream",
     "text": [
      "Requirement already satisfied: dimod in c:\\users\\asus\\appdata\\roaming\\python\\python38\\site-packages (0.9.16)\n",
      "Requirement already satisfied: dwave-preprocessing<0.3.0,>=0.2.0 in c:\\users\\asus\\anaconda3\\envs\\base1\\lib\\site-packages (from dimod) (0.2.0)\n",
      "Requirement already satisfied: numpy<2.0.0,>=1.17.3 in c:\\users\\asus\\anaconda3\\envs\\base1\\lib\\site-packages (from dimod) (1.19.2)\n"
     ]
    },
    {
     "name": "stderr",
     "output_type": "stream",
     "text": [
      "ERROR: Invalid requirement: \"'qiskit[all]'\"\n"
     ]
    },
    {
     "name": "stdout",
     "output_type": "stream",
     "text": [
      "Requirement already satisfied: dwave-neal in c:\\users\\asus\\appdata\\roaming\\python\\python38\\site-packages (0.5.8)\n",
      "Requirement already satisfied: numpy!=1.21.0,!=1.21.1,<2.0.0,>=1.16.0 in c:\\users\\asus\\anaconda3\\envs\\base1\\lib\\site-packages (from dwave-neal) (1.19.2)\n",
      "Requirement already satisfied: dimod>=0.9.2 in c:\\users\\asus\\appdata\\roaming\\python\\python38\\site-packages (from dwave-neal) (0.9.16)\n",
      "Requirement already satisfied: dwave-preprocessing<0.3.0,>=0.2.0 in c:\\users\\asus\\anaconda3\\envs\\base1\\lib\\site-packages (from dimod>=0.9.2->dwave-neal) (0.2.0)\n"
     ]
    }
   ],
   "source": [
    "!pip install dimod\n",
    "!pip install 'qiskit[all]'\n",
    "!pip install dwave-neal"
   ]
  },
  {
   "cell_type": "code",
   "execution_count": 2,
   "metadata": {
    "id": "BBKF9kTPYm7U"
   },
   "outputs": [
    {
     "name": "stdout",
     "output_type": "stream",
     "text": [
      "Requirement already satisfied: matplotlib==3.1.3 in c:\\users\\asus\\anaconda3\\envs\\base1\\lib\\site-packages (3.1.3)\n",
      "Requirement already satisfied: python-dateutil>=2.1 in c:\\users\\asus\\anaconda3\\envs\\base1\\lib\\site-packages (from matplotlib==3.1.3) (2.8.1)\n",
      "Requirement already satisfied: kiwisolver>=1.0.1 in c:\\users\\asus\\anaconda3\\envs\\base1\\lib\\site-packages (from matplotlib==3.1.3) (1.3.0)\n",
      "Requirement already satisfied: cycler>=0.10 in c:\\users\\asus\\anaconda3\\envs\\base1\\lib\\site-packages (from matplotlib==3.1.3) (0.10.0)\n",
      "Requirement already satisfied: numpy>=1.11 in c:\\users\\asus\\anaconda3\\envs\\base1\\lib\\site-packages (from matplotlib==3.1.3) (1.19.2)\n",
      "Requirement already satisfied: pyparsing!=2.0.4,!=2.1.2,!=2.1.6,>=2.0.1 in c:\\users\\asus\\anaconda3\\envs\\base1\\lib\\site-packages (from matplotlib==3.1.3) (2.4.7)\n",
      "Requirement already satisfied: six>=1.5 in c:\\users\\asus\\appdata\\roaming\\python\\python38\\site-packages (from python-dateutil>=2.1->matplotlib==3.1.3) (1.15.0)\n"
     ]
    }
   ],
   "source": [
    "!pip install matplotlib==3.1.3"
   ]
  },
  {
   "cell_type": "code",
   "execution_count": 3,
   "metadata": {
    "colab": {
     "base_uri": "https://localhost:8080/"
    },
    "id": "I3AH-z--mJnW",
    "outputId": "f36a9d53-a7a7-4092-a123-e9fc17d5c34a"
   },
   "outputs": [
    {
     "name": "stdout",
     "output_type": "stream",
     "text": [
      "Requirement already satisfied: plotly in c:\\users\\asus\\anaconda3\\envs\\base1\\lib\\site-packages (5.3.1)\n",
      "Requirement already satisfied: tenacity>=6.2.0 in c:\\users\\asus\\anaconda3\\envs\\base1\\lib\\site-packages (from plotly) (8.0.1)\n",
      "Requirement already satisfied: six in c:\\users\\asus\\appdata\\roaming\\python\\python38\\site-packages (from plotly) (1.15.0)\n"
     ]
    }
   ],
   "source": [
    "!pip install plotly"
   ]
  },
  {
   "cell_type": "code",
   "execution_count": 4,
   "metadata": {
    "colab": {
     "base_uri": "https://localhost:8080/"
    },
    "id": "Ee8WMAt561oY",
    "outputId": "87e35412-08ac-4c99-96eb-3483ff0faef8"
   },
   "outputs": [
    {
     "name": "stdout",
     "output_type": "stream",
     "text": [
      "Requirement already satisfied: gsgmorph in c:\\users\\asus\\anaconda3\\envs\\base1\\lib\\site-packages (1.0.2)\n",
      "Requirement already satisfied: networkx in c:\\users\\asus\\anaconda3\\envs\\base1\\lib\\site-packages (from gsgmorph) (2.5)\n",
      "Requirement already satisfied: pyqubo in c:\\users\\asus\\appdata\\roaming\\python\\python38\\site-packages (from gsgmorph) (1.0.13)\n",
      "Requirement already satisfied: decorator>=4.3.0 in c:\\users\\asus\\anaconda3\\envs\\base1\\lib\\site-packages (from networkx->gsgmorph) (4.4.2)\n",
      "Requirement already satisfied: dimod<0.11,>=0.9.14 in c:\\users\\asus\\appdata\\roaming\\python\\python38\\site-packages (from pyqubo->gsgmorph) (0.9.16)\n",
      "Requirement already satisfied: numpy>=1.17.3 in c:\\users\\asus\\anaconda3\\envs\\base1\\lib\\site-packages (from pyqubo->gsgmorph) (1.19.2)\n",
      "Requirement already satisfied: six>=1.15.0 in c:\\users\\asus\\appdata\\roaming\\python\\python38\\site-packages (from pyqubo->gsgmorph) (1.15.0)\n",
      "Requirement already satisfied: dwave-neal>=0.5.7 in c:\\users\\asus\\appdata\\roaming\\python\\python38\\site-packages (from pyqubo->gsgmorph) (0.5.8)\n",
      "Requirement already satisfied: Deprecated>=1.2.12 in c:\\users\\asus\\anaconda3\\envs\\base1\\lib\\site-packages (from pyqubo->gsgmorph) (1.2.12)\n",
      "Requirement already satisfied: dwave-preprocessing<0.3.0,>=0.2.0 in c:\\users\\asus\\anaconda3\\envs\\base1\\lib\\site-packages (from dimod<0.11,>=0.9.14->pyqubo->gsgmorph) (0.2.0)\n",
      "Requirement already satisfied: wrapt<2,>=1.10 in c:\\users\\asus\\appdata\\roaming\\python\\python38\\site-packages (from Deprecated>=1.2.12->pyqubo->gsgmorph) (1.12.1)\n"
     ]
    }
   ],
   "source": [
    "!pip install gsgmorph"
   ]
  },
  {
   "cell_type": "code",
   "execution_count": 5,
   "metadata": {
    "id": "opCbLgxHX4uc"
   },
   "outputs": [],
   "source": [
    "import networkx as nx\n",
    "import matplotlib.pyplot as plt\n",
    "import numpy as np\n",
    "from time import time\n",
    "from pprint import pprint\n",
    "import plotly.graph_objects as go\n",
    "from plotly.subplots import make_subplots\n",
    "from IPython.display import clear_output"
   ]
  },
  {
   "cell_type": "code",
   "execution_count": 6,
   "metadata": {
    "colab": {
     "base_uri": "https://localhost:8080/"
    },
    "id": "o0qvZFxFm-TP",
    "outputId": "24c4ea44-4345-47b6-8cdd-3df321885afe"
   },
   "outputs": [
    {
     "name": "stderr",
     "output_type": "stream",
     "text": [
      "C:\\Users\\ASUS\\anaconda3\\envs\\base1\\lib\\site-packages\\qiskit\\optimization\\__init__.py:92: DeprecationWarning: The package qiskit.optimization is deprecated. It was moved/refactored to qiskit_optimization (pip install qiskit-optimization). For more information see <https://github.com/Qiskit/qiskit-aqua/blob/main/README.md#migration-guide>\n",
      "  warn_package('optimization', 'qiskit_optimization', 'qiskit-optimization')\n"
     ]
    }
   ],
   "source": [
    "import itertools\n",
    "import networkx as nx\n",
    "import matplotlib.pyplot as plt\n",
    "from collections import defaultdict\n",
    "from dimod import BinaryQuadraticModel, AdjVectorBQM\n",
    "from qiskit.optimization import QuadraticProgram\n",
    "from qiskit.optimization.converters import LinearEqualityToPenalty, InequalityToEquality, IntegerToBinary\n",
    "import neal"
   ]
  },
  {
   "cell_type": "code",
   "execution_count": 7,
   "metadata": {
    "id": "k5PV-TBU8eF6"
   },
   "outputs": [],
   "source": [
    "from qiskit.aqua.algorithms import QAOA\n",
    "from qiskit.optimization.algorithms import MinimumEigenOptimizer\n",
    "from qiskit import Aer\n",
    "from qiskit import QuantumCircuit\n",
    "from qiskit.visualization import plot_state_city\n",
    "from qiskit.aqua.components.optimizers import COBYLA, SLSQP, ADAM, L_BFGS_B\n",
    "from qiskit.optimization import QuadraticProgram\n",
    "from docplex.mp.model import Model\n",
    "\n",
    "from qiskit.optimization.applications.ising import stable_set\n",
    "from qiskit import Aer\n",
    "from qiskit.optimization.applications.ising import stable_set\n",
    "from qiskit.aqua.algorithms import VQE, NumPyMinimumEigensolver, QAOA, NumPyEigensolver\n",
    "from qiskit.aqua import aqua_globals\n",
    "from qiskit.aqua import QuantumInstance\n",
    "from qiskit.optimization.applications.ising.common import sample_most_likely\n",
    "from qiskit.optimization.algorithms import MinimumEigenOptimizer\n",
    "from qiskit.optimization.problems import QuadraticProgram"
   ]
  },
  {
   "cell_type": "code",
   "execution_count": 8,
   "metadata": {
    "id": "ZqFqov1L7WkA"
   },
   "outputs": [],
   "source": [
    "import gsgmorph.matrix_form as gsgm_mf\n",
    "import networkx as nx\n",
    "\n",
    "graph_to_embed = nx.Graph([(1,2),(2,3),(3,4),(1,4)])\n",
    "target_graph = nx.Graph([('a','b'),('b','c'),('b', 'd'), ('a', 'd')])"
   ]
  },
  {
   "cell_type": "code",
   "execution_count": 9,
   "metadata": {
    "colab": {
     "base_uri": "https://localhost:8080/",
     "height": 319
    },
    "id": "V48hE6qd7XuP",
    "outputId": "52488ea5-77f0-4df1-d36a-15ea308c6379"
   },
   "outputs": [
    {
     "data": {
      "image/png": "[encoded data removed]",
      "text/plain": [
       "<Figure size 432x288 with 1 Axes>"
      ]
     },
     "metadata": {},
     "output_type": "display_data"
    }
   ],
   "source": [
    "# Get fixed position\n",
    "pos = nx.spring_layout(graph_to_embed, seed=9999)\n",
    "\n",
    "# Graph to be embedded onto a target graph\n",
    "nx.draw(graph_to_embed, pos, with_labels=True, font_color='w')"
   ]
  },
  {
   "cell_type": "code",
   "execution_count": 10,
   "metadata": {
    "colab": {
     "base_uri": "https://localhost:8080/",
     "height": 319
    },
    "id": "tTDHGw5d7qVg",
    "outputId": "a67969a7-13d9-4388-ec45-f649ed8a4992"
   },
   "outputs": [
    {
     "data": {
      "image/png": "[encoded data removed]",
      "text/plain": [
       "<Figure size 432x288 with 1 Axes>"
      ]
     },
     "metadata": {},
     "output_type": "display_data"
    }
   ],
   "source": [
    "\n",
    "# Get fixed position\n",
    "pos = nx.spring_layout(target_graph, seed=9999)\n",
    "\n",
    "# Target graph, the above graph will be mapped to this one\n",
    "nx.draw(target_graph, pos, with_labels=True, font_color='w')"
   ]
  },
  {
   "cell_type": "code",
   "execution_count": 11,
   "metadata": {
    "id": "QORX2zsS7rc0"
   },
   "outputs": [],
   "source": [
    "\n",
    "# Obtain the QUBO and the sample translation dictionary\n",
    "Q, sample_translation_dict = gsgm_mf.graph_isomorphism(graph_to_embed, target_graph)"
   ]
  },
  {
   "cell_type": "code",
   "execution_count": 12,
   "metadata": {
    "id": "kKhaD7p77yyh"
   },
   "outputs": [],
   "source": [
    "# Put the QUBO on the annealer and obtain the lowest energy solution.\n",
    "# NOTE: It is possible to have multiple acceptable solutions!\n",
    "import neal\n",
    "sampler = neal.SimulatedAnnealingSampler()\n",
    "sampleset = sampler.sample_qubo(Q, num_reads=100)\n",
    "sampleset = sampleset.aggregate()\n",
    "best_sample = sampleset.first"
   ]
  },
  {
   "cell_type": "code",
   "execution_count": 13,
   "metadata": {
    "colab": {
     "base_uri": "https://localhost:8080/"
    },
    "id": "8LIalLPe71mf",
    "outputId": "37d292a6-ad98-44b6-de31-c48782a32c4c"
   },
   "outputs": [
    {
     "data": {
      "text/plain": [
       "SampleSet(rec.array([([0, 0, 0, 1, 1, 0, 0, 0, 0, 1, 0, 0, 0, 0, 1, 0], -7.,  4),\n",
       "           ([1, 0, 0, 0, 0, 0, 0, 1, 0, 1, 0, 0, 0, 0, 1, 0], -7., 10),\n",
       "           ([0, 1, 0, 0, 0, 0, 0, 1, 1, 0, 0, 0, 0, 0, 1, 0], -7., 10),\n",
       "           ([1, 0, 0, 0, 0, 0, 1, 0, 0, 1, 0, 0, 0, 0, 0, 1], -7.,  2),\n",
       "           ([0, 0, 1, 0, 1, 0, 0, 0, 0, 0, 0, 1, 0, 1, 0, 0], -7.,  6),\n",
       "           ([0, 1, 0, 0, 0, 0, 1, 0, 1, 0, 0, 0, 0, 0, 0, 1], -7.,  4),\n",
       "           ([0, 0, 1, 0, 0, 1, 0, 0, 1, 0, 0, 0, 0, 0, 0, 1], -7.,  5),\n",
       "           ([0, 1, 0, 0, 0, 0, 1, 0, 0, 0, 0, 1, 1, 0, 0, 0], -7., 10),\n",
       "           ([0, 0, 0, 1, 0, 0, 1, 0, 0, 1, 0, 0, 1, 0, 0, 0], -7., 12),\n",
       "           ([0, 0, 0, 1, 1, 0, 0, 0, 0, 0, 1, 0, 0, 1, 0, 0], -7.,  8),\n",
       "           ([1, 0, 0, 0, 0, 1, 0, 0, 0, 0, 1, 0, 0, 0, 0, 1], -7.,  7),\n",
       "           ([1, 0, 0, 0, 0, 0, 0, 1, 0, 0, 1, 0, 0, 1, 0, 0], -7.,  3),\n",
       "           ([0, 0, 0, 1, 0, 1, 0, 0, 0, 0, 1, 0, 1, 0, 0, 0], -7.,  4),\n",
       "           ([0, 0, 1, 0, 0, 0, 0, 1, 1, 0, 0, 0, 0, 1, 0, 0], -7.,  8),\n",
       "           ([0, 0, 1, 0, 0, 1, 0, 0, 0, 0, 0, 1, 1, 0, 0, 0], -7.,  5),\n",
       "           ([0, 1, 0, 0, 1, 0, 0, 0, 0, 0, 0, 1, 0, 0, 1, 0], -7.,  2)],\n",
       "          dtype=[('sample', 'i1', (16,)), ('energy', '<f8'), ('num_occurrences', '<i4')]), Variables(range(0, 16)), {'beta_range': [0.08664339756999316, 18.420680743952367], 'beta_schedule_type': 'geometric'}, 'BINARY')"
      ]
     },
     "execution_count": 13,
     "metadata": {},
     "output_type": "execute_result"
    }
   ],
   "source": [
    "sampleset"
   ]
  },
  {
   "cell_type": "code",
   "execution_count": 14,
   "metadata": {
    "id": "AKHgvj_o-oBp"
   },
   "outputs": [],
   "source": [
    "\n",
    "# We can use an annealing sample and the sample translation dictionary from before to\n",
    "# generate a dictionary that maps nodes from the graph to be embedded to the target graph\n",
    "mapping = gsgm_mf.translate_sample(best_sample, sample_translation_dict)"
   ]
  },
  {
   "cell_type": "code",
   "execution_count": 15,
   "metadata": {
    "colab": {
     "base_uri": "https://localhost:8080/",
     "height": 319
    },
    "id": "TgvQ-mw6-pRf",
    "outputId": "62fe16d6-d550-4b22-be19-16c8206c3065"
   },
   "outputs": [
    {
     "data": {
      "image/png": "[encoded data removed]",
      "text/plain": [
       "<Figure size 432x288 with 1 Axes>"
      ]
     },
     "metadata": {},
     "output_type": "display_data"
    }
   ],
   "source": [
    "# We can use NetworkX to help us visualize the subgraph and how it maps to the target graph\n",
    "\n",
    "# Invert the mapping so it is from the target graph TO the graph to embed nodes\n",
    "# Snippet taken from: \n",
    "# https://stackoverflow.com/a/483833\n",
    "inv_mapping = {v: k for k, v in mapping.items()}\n",
    "\n",
    "# relabel the nodes in the target graph with the node labels from the graph to embed\n",
    "updated_nodes = nx.relabel_nodes(target_graph, inv_mapping, copy=True)\n",
    "# Get the same fixed position used before\n",
    "pos = nx.spring_layout(updated_nodes, seed=9999)\n",
    "\n",
    "# Highlight the nodes that have been relabeled\n",
    "nx.draw(updated_nodes, pos, with_labels=True, \n",
    "        font_color='w', \n",
    "        nodelist=[key for key in mapping.keys()], \n",
    "        node_color=\"tab:red\")\n",
    "\n",
    "# Difference between two lists:\n",
    "# https://stackoverflow.com/a/3462160\n",
    "nx.draw(updated_nodes, \n",
    "        pos, \n",
    "        with_labels=True, \n",
    "        font_color='w', \n",
    "        nodelist=list(set(updated_nodes.nodes()) - set(mapping.keys())), \n",
    "        node_color=\"tab:blue\")"
   ]
  },
  {
   "cell_type": "code",
   "execution_count": 16,
   "metadata": {
    "id": "DGI9WPv__9mv"
   },
   "outputs": [
    {
     "data": {
      "text/plain": [
       "defaultdict(int,\n",
       "            {(0, 0): -2,\n",
       "             (0, 4): 3,\n",
       "             (0, 1): 2,\n",
       "             (0, 8): 2,\n",
       "             (0, 2): 2,\n",
       "             (0, 12): 3,\n",
       "             (0, 3): 2,\n",
       "             (1, 1): -2,\n",
       "             (1, 5): 3,\n",
       "             (1, 9): 2,\n",
       "             (1, 2): 2,\n",
       "             (1, 13): 3,\n",
       "             (1, 3): 2,\n",
       "             (2, 2): -2,\n",
       "             (2, 6): 3,\n",
       "             (2, 10): 2,\n",
       "             (2, 14): 3,\n",
       "             (2, 3): 2,\n",
       "             (3, 3): -2,\n",
       "             (3, 7): 3,\n",
       "             (3, 11): 2,\n",
       "             (3, 15): 3,\n",
       "             (4, 4): -2,\n",
       "             (4, 5): 2,\n",
       "             (4, 8): 3,\n",
       "             (4, 6): 2,\n",
       "             (4, 12): 2,\n",
       "             (4, 7): 2,\n",
       "             (5, 5): -2,\n",
       "             (5, 9): 3,\n",
       "             (5, 6): 2,\n",
       "             (5, 13): 2,\n",
       "             (5, 7): 2,\n",
       "             (6, 6): -2,\n",
       "             (6, 10): 3,\n",
       "             (6, 14): 2,\n",
       "             (6, 7): 2,\n",
       "             (7, 7): -2,\n",
       "             (7, 11): 3,\n",
       "             (7, 15): 2,\n",
       "             (8, 8): -2,\n",
       "             (8, 9): 2,\n",
       "             (8, 10): 2,\n",
       "             (8, 12): 3,\n",
       "             (8, 11): 2,\n",
       "             (9, 9): -2,\n",
       "             (9, 10): 2,\n",
       "             (9, 13): 3,\n",
       "             (9, 11): 2,\n",
       "             (10, 10): -2,\n",
       "             (10, 14): 3,\n",
       "             (10, 11): 2,\n",
       "             (11, 11): -2,\n",
       "             (11, 15): 3,\n",
       "             (12, 12): -2,\n",
       "             (12, 13): 2,\n",
       "             (12, 14): 2,\n",
       "             (12, 15): 2,\n",
       "             (13, 13): -2,\n",
       "             (13, 14): 2,\n",
       "             (13, 15): 2,\n",
       "             (14, 14): -2,\n",
       "             (14, 15): 2,\n",
       "             (15, 15): -2,\n",
       "             (0, 6): 1,\n",
       "             (2, 4): 1,\n",
       "             (2, 7): 1,\n",
       "             (3, 6): 1,\n",
       "             (0, 14): 1,\n",
       "             (2, 12): 1,\n",
       "             (2, 15): 1,\n",
       "             (3, 14): 1,\n",
       "             (4, 10): 1,\n",
       "             (6, 8): 1,\n",
       "             (6, 11): 1,\n",
       "             (7, 10): 1,\n",
       "             (8, 14): 1,\n",
       "             (10, 12): 1,\n",
       "             (10, 15): 1,\n",
       "             (11, 14): 1})"
      ]
     },
     "execution_count": 16,
     "metadata": {},
     "output_type": "execute_result"
    }
   ],
   "source": [
    "import numpy as np\n",
    "\n",
    "def build_matrix(data):\n",
    "    data = dict(data)\n",
    "\n",
    "    maxX = max([x for (x, y) in list(data.keys())])\n",
    "    maxY = max([y for (x, y) in list(data.keys())])\n",
    "\n",
    "    maxX = max([maxX, maxY])\n",
    "    maxY = max([maxX, maxY])\n",
    "\n",
    "    mat = np.zeros(shape=(maxX+1, maxY+1))\n",
    "\n",
    "    for key, value in data.items():\n",
    "        x, y = key\n",
    "        mat[x][y] = value\n",
    "\n",
    "    return mat\n",
    "\n",
    "Q_mat = build_matrix(Q)\n",
    "Q"
   ]
  },
  {
   "cell_type": "code",
   "execution_count": 17,
   "metadata": {
    "id": "5C_iUsNR__TY"
   },
   "outputs": [],
   "source": [
    "s = neal.SimulatedAnnealingSampler()\n",
    "sampleset = s.sample_qubo(Q, beta_range=(5, 100), num_sweeps=20000, num_reads=100,\n",
    "                        beta_schedule_type='geometric')"
   ]
  },
  {
   "cell_type": "code",
   "execution_count": 18,
   "metadata": {
    "colab": {
     "base_uri": "https://localhost:8080/"
    },
    "id": "lCE-p4wpACbJ",
    "outputId": "96781ad1-a6b4-49b5-bb64-78c0038522ff"
   },
   "outputs": [
    {
     "name": "stdout",
     "output_type": "stream",
     "text": [
      "8.0\n"
     ]
    }
   ],
   "source": [
    "\n",
    "# Post processing\n",
    "\n",
    "# Offset is empirically calculated as of now. \n",
    "# From preliminary experiments, the offset is \n",
    "# calculated to be 2 * number of nodes of the \n",
    "# graph\n",
    "\n",
    "offset = 2.0 * len(graph_to_embed.nodes)\n",
    "\n",
    "energies = []\n",
    "final_energies = []\n",
    "for datum in sampleset.data(fields=[\"sample\", \"energy\"]):\n",
    "    energies.append(datum.energy)\n",
    "\n",
    "print(offset)\n",
    "for energy in energies: \n",
    "  final_energy = float(energy) + float(offset)\n",
    "  final_energies.append(final_energy)"
   ]
  },
  {
   "cell_type": "code",
   "execution_count": 19,
   "metadata": {
    "id": "l4TGCwBeAFCh"
   },
   "outputs": [
    {
     "data": {
      "text/plain": [
       "1.0"
      ]
     },
     "execution_count": 19,
     "metadata": {},
     "output_type": "execute_result"
    }
   ],
   "source": [
    "final_energies[0]"
   ]
  },
  {
   "cell_type": "code",
   "execution_count": 20,
   "metadata": {
    "colab": {
     "base_uri": "https://localhost:8080/",
     "height": 336
    },
    "id": "OiWwsDe0mTMA",
    "outputId": "174981b3-5c39-4ccf-8e92-cecfc1a9b03a"
   },
   "outputs": [
    {
     "data": {
      "text/plain": [
       "NodeView((0, 1, 2, 3))"
      ]
     },
     "execution_count": 20,
     "metadata": {},
     "output_type": "execute_result"
    },
    {
     "data": {
      "image/png": "[encoded data removed]",
      "text/plain": [
       "<Figure size 432x288 with 1 Axes>"
      ]
     },
     "metadata": {},
     "output_type": "display_data"
    }
   ],
   "source": [
    "G1 = nx.Graph([(0,1), (1,2), (2,3), (0,3)])\n",
    "# G1 = nx.Graph()\n",
    "# G1_edges_list = [(1,2), (2,3)]\n",
    "# G1.add_node(0)\n",
    "# G1_nodes_list = [0,1,2,3]\n",
    "# G1.add_edges_from(G1_edges_list)\n",
    "# G1.add_nodes_from(G1_nodes_list)\n",
    "nx.draw(G1, with_labels=True, alpha=1, node_size=500)\n",
    "G1.nodes"
   ]
  },
  {
   "cell_type": "code",
   "execution_count": 29,
   "metadata": {
    "colab": {
     "base_uri": "https://localhost:8080/",
     "height": 336
    },
    "id": "46jN9ul4mbCP",
    "outputId": "eb2e4d61-bc79-4067-a434-97685463e9ee"
   },
   "outputs": [
    {
     "data": {
      "text/plain": [
       "True"
      ]
     },
     "execution_count": 29,
     "metadata": {},
     "output_type": "execute_result"
    },
    {
     "data": {
      "image/png": "[encoded data removed]",
      "text/plain": [
       "<Figure size 432x288 with 1 Axes>"
      ]
     },
     "metadata": {},
     "output_type": "display_data"
    }
   ],
   "source": [
    "G2 = nx.Graph([(0,1), (1,2), (2,3), (0,3)])\n",
    "# G2 = nx.Graph()\n",
    "# G2_edges_list = [(0,3), (3,1)]\n",
    "# G2.add_node(2)\n",
    "# G2_nodes_list = [0,1,2,3]\n",
    "# G2.add_edges_from(G2_edges_list)\n",
    "# G2.add_nodes_from(G2_nodes_list)\n",
    "nx.draw(G2, with_labels=True, alpha=1, node_size=500)\n",
    "G2.nodes\n",
    "nx.is_isomorphic(G1,G2)"
   ]
  },
  {
   "cell_type": "code",
   "execution_count": 30,
   "metadata": {
    "id": "IL3mcD5smDs2"
   },
   "outputs": [],
   "source": [
    "def add_variables(qp, G1, G2):\n",
    "    for u in range(G1.number_of_nodes()):\n",
    "        for i in range(G2.number_of_nodes()):\n",
    "            qp.binary_var(f\"x_{u}_{i}\")\n",
    "\n",
    "\n",
    "def one_node_connectG1(qp, G1, G2):\n",
    "    \n",
    "    num_nodes = G1.number_of_nodes()\n",
    "    \n",
    "    for u in range(num_nodes):\n",
    "        L = {}\n",
    "        for i in range(num_nodes):\n",
    "            L[f\"x_{u}_{i}\"] = 1\n",
    "    \n",
    "        qp.linear_constraint(linear = L, sense='E', rhs=1)\n",
    "\n",
    "\n",
    "def one_node_connectG2(qp, G1, G2):\n",
    "    \n",
    "    num_nodes = G1.number_of_nodes()\n",
    "    \n",
    "    for i in range(num_nodes):\n",
    "        L = {}\n",
    "        for u in range(num_nodes):\n",
    "            \n",
    "            L[f\"x_{u}_{i}\"] = 1\n",
    "    \n",
    "        qp.linear_constraint(linear = L, sense='E', rhs=1)\n",
    "\n",
    "\n",
    "def get_objective(qp):\n",
    "    qdict = {}\n",
    "    for key, item in qp.variables_index.items():\n",
    "        qdict[item] = key\n",
    "\n",
    "    qp.objective.quadratic.to_dict()\n",
    "    Q_int = qp.objective.quadratic.to_dict()\n",
    "    L_int = qp.objective.linear.to_dict()\n",
    "    \n",
    "    Q = defaultdict(lambda: 0) \n",
    "    for k, v in Q_int.items():\n",
    "        k1 = k[0]\n",
    "        k2 = k[1]\n",
    "        Q[(qdict[k1], qdict[k2])] = v\n",
    "    \n",
    "    L = defaultdict(lambda: 0)\n",
    "    for k, v in L_int.items():\n",
    "        L[qdict[k]] = v\n",
    "\n",
    "    C = qp.objective.constant\n",
    "    return Q, L, C\n",
    "\n",
    "\n",
    "def not_in_edges1(qp, G1, G2, C2):\n",
    "    \n",
    "    num_nodes = list(range(G2.number_of_nodes()))\n",
    "    \n",
    "    Q, L, C = get_objective(qp)\n",
    "\n",
    "    for i,j in itertools.permutations(num_nodes, 2): #original\n",
    "#     for i,j in itertools.permutations(list(range(G2.number_of_nodes())), 2):\n",
    "        \n",
    "        if (i,j) not in G1.edges and i != j:\n",
    "            \n",
    "            for u,v in itertools.permutations(num_nodes, 2): #original\n",
    "            # for u,v in itertools.combinations(G2.nodes, 2):\n",
    "                if (u,v) in G2.edges:\n",
    "#                     print(i,j,u,v)\n",
    "                    Q[(f\"x_{u}_{i}\", f\"x_{v}_{j}\")] = C2\n",
    "    \n",
    "    qp.minimize(quadratic = Q, linear = L, constant = C)\n",
    "\n",
    "\n",
    "def not_in_edges2(qp, G1, G2, C2):\n",
    "    \n",
    "    num_nodes = list(range(G2.number_of_nodes()))\n",
    "    Q, L, C = get_objective(qp)\n",
    "    print('L')\n",
    "    print(L)\n",
    "    for i,j in itertools.permutations(num_nodes, 2): #original\n",
    "        \n",
    "        if (i,j) in G1.edges:\n",
    "            \n",
    "            for u,v in itertools.permutations(num_nodes, 2): #original\n",
    "            # for u,v in itertools.combinations(G2.nodes, 2):\n",
    "                \n",
    "                if (u,v) not in G2.edges and u != v:\n",
    "#                     print(i,j,u,v)\n",
    "                    Q[(f\"x_{u}_{i}\", f\"x_{v}_{j}\")] = C2\n",
    "    \n",
    "    qp.minimize(quadratic = Q, linear = L, constant = C)"
   ]
  },
  {
   "cell_type": "code",
   "execution_count": 31,
   "metadata": {
    "id": "yLuXcPD3XUTh"
   },
   "outputs": [],
   "source": [
    "import dimod\n",
    "from dimod import BinaryQuadraticModel, AdjVectorBQM\n",
    "\n",
    "qp = QuadraticProgram()\n",
    "ineq2eq = InequalityToEquality()\n",
    "int2bin = IntegerToBinary()\n",
    "\n",
    "C1 = 1\n",
    "C2 = 1\n",
    "\n",
    "# print('Ration of: ', C2/C1)\n",
    "\n",
    "add_variables(qp, G1, G2)\n",
    "\n",
    "one_node_connectG1(qp, G1, G2)\n",
    "lineq2penalty = LinearEqualityToPenalty(penalty=C1)\n",
    "qp = lineq2penalty.convert(int2bin.convert(ineq2eq.convert(qp)))"
   ]
  },
  {
   "cell_type": "code",
   "execution_count": 32,
   "metadata": {
    "id": "IxEC0WBDmJne",
    "scrolled": true
   },
   "outputs": [
    {
     "name": "stdout",
     "output_type": "stream",
     "text": [
      "L\n",
      "defaultdict(<function get_objective.<locals>.<lambda> at 0x00000243611EC5E0>, {'x_0_0': -4.0, 'x_0_1': -4.0, 'x_0_2': -4.0, 'x_0_3': -4.0, 'x_1_0': -4.0, 'x_1_1': -4.0, 'x_1_2': -4.0, 'x_1_3': -4.0, 'x_2_0': -4.0, 'x_2_1': -4.0, 'x_2_2': -4.0, 'x_2_3': -4.0, 'x_3_0': -4.0, 'x_3_1': -4.0, 'x_3_2': -4.0, 'x_3_3': -4.0})\n"
     ]
    }
   ],
   "source": [
    "from qiskit.optimization.converters import QuadraticProgramToQubo\n",
    "\n",
    "one_node_connectG2(qp, G1, G2)\n",
    "lineq2penalty = LinearEqualityToPenalty(penalty=C1)\n",
    "qp = lineq2penalty.convert(int2bin.convert(ineq2eq.convert(qp)))\n",
    "                           \n",
    "not_in_edges1(qp, G1, G2, C2)\n",
    "not_in_edges2(qp, G1, G2, C2)\n",
    "\n",
    "conv = QuadraticProgramToQubo()\n",
    "prob = conv.convert(qp)\n",
    "Hamiltonian, offset  = prob.to_ising()\n",
    "variables = prob.variables_index\n",
    "# true_result = NumPyEigensolver(operator = Hamiltonian).run().eigenvalues"
   ]
  },
  {
   "cell_type": "code",
   "execution_count": 33,
   "metadata": {
    "colab": {
     "base_uri": "https://localhost:8080/"
    },
    "id": "N5NsFRcpmJne",
    "outputId": "b464f4bb-b4a5-4b68-99a7-91ad54df8def"
   },
   "outputs": [
    {
     "name": "stdout",
     "output_type": "stream",
     "text": [
      "\\ This file has been generated by DOcplex\n",
      "\\ ENCODING=ISO-8859-1\n",
      "\\Problem name: CPLEX\n",
      "\n",
      "Minimize\n",
      " obj: - 4 x_0_0 - 4 x_0_1 - 4 x_0_2 - 4 x_0_3 - 4 x_1_0 - 4 x_1_1 - 4 x_1_2\n",
      "      - 4 x_1_3 - 4 x_2_0 - 4 x_2_1 - 4 x_2_2 - 4 x_2_3 - 4 x_3_0 - 4 x_3_1\n",
      "      - 4 x_3_2 - 4 x_3_3 + [ 4 x_0_0^2 + 4 x_0_0*x_0_1 + 4 x_0_0*x_0_2\n",
      "      + 4 x_0_0*x_0_3 + 4 x_0_0*x_1_0 + 4 x_0_0*x_1_2 + 4 x_0_0*x_2_0\n",
      "      + 4 x_0_0*x_2_1 + 4 x_0_0*x_2_3 + 4 x_0_0*x_3_0 + 4 x_0_0*x_3_2\n",
      "      + 4 x_0_1^2 + 4 x_0_1*x_0_2 + 4 x_0_1*x_0_3 + 4 x_0_1*x_1_1\n",
      "      + 4 x_0_1*x_1_3 + 4 x_0_1*x_2_0 + 4 x_0_1*x_2_1 + 4 x_0_1*x_2_2\n",
      "      + 4 x_0_1*x_3_1 + 4 x_0_1*x_3_3 + 4 x_0_2^2 + 4 x_0_2*x_0_3\n",
      "      + 4 x_0_2*x_1_0 + 4 x_0_2*x_1_2 + 4 x_0_2*x_2_1 + 4 x_0_2*x_2_2\n",
      "      + 4 x_0_2*x_2_3 + 4 x_0_2*x_3_0 + 4 x_0_2*x_3_2 + 4 x_0_3^2\n",
      "      + 4 x_0_3*x_1_1 + 4 x_0_3*x_1_3 + 4 x_0_3*x_2_0 + 4 x_0_3*x_2_2\n",
      "      + 4 x_0_3*x_2_3 + 4 x_0_3*x_3_1 + 4 x_0_3*x_3_3 + 4 x_1_0^2\n",
      "      + 4 x_1_0*x_1_1 + 4 x_1_0*x_1_2 + 4 x_1_0*x_1_3 + 4 x_1_0*x_2_0\n",
      "      + 4 x_1_0*x_2_2 + 4 x_1_0*x_3_0 + 4 x_1_0*x_3_1 + 4 x_1_0*x_3_3\n",
      "      + 4 x_1_1^2 + 4 x_1_1*x_1_2 + 4 x_1_1*x_1_3 + 4 x_1_1*x_2_1\n",
      "      + 4 x_1_1*x_2_3 + 4 x_1_1*x_3_0 + 4 x_1_1*x_3_1 + 4 x_1_1*x_3_2\n",
      "      + 4 x_1_2^2 + 4 x_1_2*x_1_3 + 4 x_1_2*x_2_0 + 4 x_1_2*x_2_2\n",
      "      + 4 x_1_2*x_3_1 + 4 x_1_2*x_3_2 + 4 x_1_2*x_3_3 + 4 x_1_3^2\n",
      "      + 4 x_1_3*x_2_1 + 4 x_1_3*x_2_3 + 4 x_1_3*x_3_0 + 4 x_1_3*x_3_2\n",
      "      + 4 x_1_3*x_3_3 + 4 x_2_0^2 + 4 x_2_0*x_2_1 + 4 x_2_0*x_2_2\n",
      "      + 4 x_2_0*x_2_3 + 4 x_2_0*x_3_0 + 4 x_2_0*x_3_2 + 4 x_2_1^2\n",
      "      + 4 x_2_1*x_2_2 + 4 x_2_1*x_2_3 + 4 x_2_1*x_3_1 + 4 x_2_1*x_3_3\n",
      "      + 4 x_2_2^2 + 4 x_2_2*x_2_3 + 4 x_2_2*x_3_0 + 4 x_2_2*x_3_2 + 4 x_2_3^2\n",
      "      + 4 x_2_3*x_3_1 + 4 x_2_3*x_3_3 + 4 x_3_0^2 + 4 x_3_0*x_3_1\n",
      "      + 4 x_3_0*x_3_2 + 4 x_3_0*x_3_3 + 4 x_3_1^2 + 4 x_3_1*x_3_2\n",
      "      + 4 x_3_1*x_3_3 + 4 x_3_2^2 + 4 x_3_2*x_3_3 + 4 x_3_3^2 ]/2 + 8\n",
      "Subject To\n",
      "\n",
      "Bounds\n",
      " 0 <= x_0_0 <= 1\n",
      " 0 <= x_0_1 <= 1\n",
      " 0 <= x_0_2 <= 1\n",
      " 0 <= x_0_3 <= 1\n",
      " 0 <= x_1_0 <= 1\n",
      " 0 <= x_1_1 <= 1\n",
      " 0 <= x_1_2 <= 1\n",
      " 0 <= x_1_3 <= 1\n",
      " 0 <= x_2_0 <= 1\n",
      " 0 <= x_2_1 <= 1\n",
      " 0 <= x_2_2 <= 1\n",
      " 0 <= x_2_3 <= 1\n",
      " 0 <= x_3_0 <= 1\n",
      " 0 <= x_3_1 <= 1\n",
      " 0 <= x_3_2 <= 1\n",
      " 0 <= x_3_3 <= 1\n",
      "\n",
      "Binaries\n",
      " x_0_0 x_0_1 x_0_2 x_0_3 x_1_0 x_1_1 x_1_2 x_1_3 x_2_0 x_2_1 x_2_2 x_2_3 x_3_0\n",
      " x_3_1 x_3_2 x_3_3\n",
      "End\n",
      "\n"
     ]
    }
   ],
   "source": [
    "print(prob)"
   ]
  },
  {
   "cell_type": "code",
   "execution_count": 34,
   "metadata": {
    "colab": {
     "base_uri": "https://localhost:8080/"
    },
    "id": "Fp2-q4JhBFXh",
    "outputId": "eeaae27e-71ce-4a84-bda9-2171ed843902"
   },
   "outputs": [],
   "source": [
    "min_val = NumPyMinimumEigensolver(Hamiltonian)"
   ]
  },
  {
   "cell_type": "code",
   "execution_count": 35,
   "metadata": {
    "colab": {
     "base_uri": "https://localhost:8080/"
    },
    "id": "0KrL51m5Bi2I",
    "outputId": "5f884ad9-2c25-429e-9add-23e07456f687"
   },
   "outputs": [
    {
     "data": {
      "text/plain": [
       "32.0"
      ]
     },
     "execution_count": 35,
     "metadata": {},
     "output_type": "execute_result"
    }
   ],
   "source": [
    "offset"
   ]
  },
  {
   "cell_type": "code",
   "execution_count": 36,
   "metadata": {
    "colab": {
     "base_uri": "https://localhost:8080/"
    },
    "id": "G6XqrFBUBN_X",
    "outputId": "79143635-2894-4672-a20d-4286693777a8"
   },
   "outputs": [
    {
     "data": {
      "text/plain": [
       "{'eigenvalue': (-32+0j), 'eigenstate': VectorStateFn(Statevector([0.+0.j, 0.+0.j, 0.+0.j, ..., 0.+0.j, 0.+0.j, 0.+0.j],\n",
       "            dims=(2, 2, 2, 2, 2, 2, 2, 2, 2, 2, 2, 2, 2, 2, 2, 2)), coeff=1.0, is_measurement=False)}"
      ]
     },
     "execution_count": 36,
     "metadata": {},
     "output_type": "execute_result"
    }
   ],
   "source": [
    "min_val.compute_minimum_eigenvalue()"
   ]
  },
  {
   "cell_type": "code",
   "execution_count": 146,
   "metadata": {
    "id": "H4yg6hs0nh_R"
   },
   "outputs": [],
   "source": [
    "# Hamiltonian_matrix = qp.to_qubo()"
   ]
  },
  {
   "cell_type": "code",
   "execution_count": null,
   "metadata": {
    "id": "wnpFiUBbnpnP"
   },
   "outputs": [],
   "source": [
    "# import scipy.linalg as la\n",
    "\n",
    "# min(la.eig(Hamiltonian_matrix)[0])"
   ]
  },
  {
   "cell_type": "code",
   "execution_count": null,
   "metadata": {
    "id": "BH53HNmzmJnf"
   },
   "outputs": [],
   "source": [
    "# optmizer = MinimumEigenOptimizer(maxiter = 5000)\n",
    "# seed = 10598\n",
    "# backend = Aer.get_backend('qasm_simulator')\n",
    "# p = 15\n",
    "# initial_angle = np.random.random(2*p)\n",
    "# quantum_instance = QuantumInstance(backend, seed_simulator=seed, seed_transpiler=seed)\n",
    "# qaoa_solve = QAOA(Hamiltonian, optimizer = optmizer, p = p, quantum_instance  = quantum_instance, initial_point=initial_angle)"
   ]
  },
  {
   "cell_type": "code",
   "execution_count": null,
   "metadata": {
    "id": "yWM0nO2emJnf"
   },
   "outputs": [],
   "source": [
    "# qaoa_solve.cleanup_parameterized_circuits\n",
    "# initial_angle = np.random.random(2)\n",
    "# x = qaoa_solve.construct_circuit(initial_angle)"
   ]
  },
  {
   "cell_type": "code",
   "execution_count": null,
   "metadata": {
    "id": "bFRyw_0Z4syA"
   },
   "outputs": [],
   "source": [
    "# q = qaoa_solve.run()"
   ]
  },
  {
   "cell_type": "code",
   "execution_count": null,
   "metadata": {
    "id": "il7L5l2XmJnf"
   },
   "outputs": [],
   "source": [
    "# optimal_val_list = []\n",
    "# for _ in range(15):\n",
    "#   qaoa_solve = QAOA(Hamiltonian, optimizer = optmizer, p = p, quantum_instance  = quantum_instance, initial_point=initial_angle)\n",
    "#   q = qaoa_solve.run()\n",
    "#   optimal_val_list.append(q['optimal_value'])"
   ]
  },
  {
   "cell_type": "code",
   "execution_count": null,
   "metadata": {
    "id": "fpJQNN5Vz8qZ"
   },
   "outputs": [],
   "source": [
    "\n",
    "\n",
    "# # Python program to get average of a list\n",
    "# def Average(lst):\n",
    "#     return sum(lst) / len(lst)\n",
    "\n",
    "# average = Average(optimal_val_list)"
   ]
  },
  {
   "cell_type": "code",
   "execution_count": null,
   "metadata": {
    "id": "FdopsVyx0G5R"
   },
   "outputs": [],
   "source": [
    "# average"
   ]
  },
  {
   "cell_type": "code",
   "execution_count": 64,
   "metadata": {
    "colab": {
     "base_uri": "https://localhost:8080/"
    },
    "id": "nsoVLc1LlFDl",
    "outputId": "fb140b50-be5c-4dac-f4ad-118e2a5cc26a"
   },
   "outputs": [
    {
     "name": "stderr",
     "output_type": "stream",
     "text": [
      "<ipython-input-64-de52bc2eab3a>:1: DeprecationWarning: The variable qiskit.aqua.aqua_globals is deprecated. It was moved/refactored to qiskit.utils.algorithm_globals (pip install qiskit-terra). For more information see <https://github.com/Qiskit/qiskit-aqua/blob/main/README.md#migration-guide>\n",
      "  aqua_globals.random_seed = np.random.default_rng(123)\n",
      "C:\\Users\\ASUS\\anaconda3\\envs\\base1\\lib\\site-packages\\qiskit\\aqua\\quantum_instance.py:135: DeprecationWarning: The class qiskit.aqua.QuantumInstance is deprecated. It was moved/refactored to qiskit.utils.QuantumInstance (pip install qiskit-terra). For more information see <https://github.com/Qiskit/qiskit-aqua/blob/main/README.md#migration-guide>\n",
      "  warn_class('aqua.QuantumInstance',\n",
      "C:\\Users\\ASUS\\anaconda3\\envs\\base1\\lib\\site-packages\\qiskit\\aqua\\components\\optimizers\\optimizer.py:49: DeprecationWarning: The package qiskit.aqua.components.optimizers is deprecated. It was moved/refactored to qiskit.algorithms.optimizers (pip install qiskit-terra). For more information see <https://github.com/Qiskit/qiskit-aqua/blob/main/README.md#migration-guide>\n",
      "  warn_package('aqua.components.optimizers',\n",
      "C:\\Users\\ASUS\\anaconda3\\envs\\base1\\lib\\site-packages\\qiskit\\aqua\\algorithms\\vq_algorithm.py:70: DeprecationWarning: The class qiskit.aqua.algorithms.VQAlgorithm is deprecated. It was moved/refactored to qiskit.algorithms.VariationalAlgorithm (pip install qiskit-terra). For more information see <https://github.com/Qiskit/qiskit-aqua/blob/main/README.md#migration-guide>\n",
      "  warn_class('aqua.algorithms.VQAlgorithm',\n",
      "C:\\Users\\ASUS\\anaconda3\\envs\\base1\\lib\\site-packages\\qiskit\\aqua\\components\\variational_forms\\variational_form.py:48: DeprecationWarning: The package qiskit.aqua.components.variational_forms is deprecated. For more information see <https://github.com/Qiskit/qiskit-aqua/blob/main/README.md#migration-guide>\n",
      "  warn_package('aqua.components.variational_forms')\n"
     ]
    }
   ],
   "source": [
    "aqua_globals.random_seed = np.random.default_rng(123)\n",
    "seed = 10598\n",
    "backend = Aer.get_backend('qasm_simulator')\n",
    "quantum_instance = QuantumInstance(backend, seed_simulator=seed, seed_transpiler=seed)\n",
    "\n",
    "qaoa = QAOA(quantum_instance=quantum_instance, p = 1)\n",
    "\n",
    "# create minimum eigen optimizer based on qaoa\n",
    "qaoa_optimizer = MinimumEigenOptimizer(qaoa)\n",
    "\n",
    "# solve quadratic program\n",
    "result = qaoa_optimizer.solve(qp)"
   ]
  },
  {
   "cell_type": "code",
   "execution_count": 65,
   "metadata": {
    "colab": {
     "base_uri": "https://localhost:8080/"
    },
    "id": "HPPeExQj8Cih",
    "outputId": "5c62a1f5-75ef-4807-aa8f-9cb2f81364a2"
   },
   "outputs": [
    {
     "name": "stdout",
     "output_type": "stream",
     "text": [
      "optimal function value: 2.0\n",
      "optimal value: [0. 0. 0. 0. 0. 0. 0. 1. 0. 0. 1. 0. 1. 0. 0. 0.]\n",
      "status: SUCCESS\n"
     ]
    }
   ],
   "source": [
    "print(result)"
   ]
  },
  {
   "cell_type": "code",
   "execution_count": null,
   "metadata": {
    "colab": {
     "base_uri": "https://localhost:8080/"
    },
    "id": "gXqCMAIvmJni",
    "outputId": "6fcf2840-6f3e-4fae-d429-dfbe98124b24"
   },
   "outputs": [
    {
     "data": {
      "text/plain": [
       "16.0"
      ]
     },
     "execution_count": 55,
     "metadata": {},
     "output_type": "execute_result"
    }
   ],
   "source": [
    "offset"
   ]
  },
  {
   "cell_type": "code",
   "execution_count": 62,
   "metadata": {
    "id": "N9Q3LiU2mJni"
   },
   "outputs": [],
   "source": [
    "import networkx as nx\n",
    "import warnings\n",
    "from itertools import product\n",
    "from collections import defaultdict\n",
    "\n",
    "\n",
    "def graph_isomorphism(graph_to_embed, target_graph):\n",
    "    \"\"\"Graph Isomorphism QUBO generator. Given a graph to embed\n",
    "    (graph_to_embed) onto a target graph (target_graph), a QUBO\n",
    "    is returned along with a dictionary that allows for translation from\n",
    "    the QUBO variables to the potential node mapping combinations.\n",
    "    Args:\n",
    "        graph_to_embed (networkx.classes.graph.Graph):\n",
    "            An undirected graph to be mapped to another graph.\n",
    "        target_graph (networkx.classes.graph.Graph):\n",
    "            An undirected graph that the graph_to_embed (see above)\n",
    "            is to be mapped onto.\n",
    "    Raises:\n",
    "        IncompatibleGraphError:\n",
    "            A graph isomorphism can only exist if the number of nodes\n",
    "            and the number of edges in the graph are identical. If\n",
    "            graphs are given that fail to satisfy this criteria the\n",
    "            exception is raised and the QUBO is not generated.\n",
    "    Returns:\n",
    "        (defaultdict(int), { int: (networkx\n",
    "        node (any hashable object), networkx node) }:\n",
    "            A tuple containing a QUBO represented by a defaultdict with\n",
    "            `int()` as the `default_factory` attribute and a dictionary\n",
    "            for translating from the indices used in the QUBO to the\n",
    "            potential node mappings (represented as tuples).\n",
    "            The dictionary should be passed to `translate_sample()` to\n",
    "            generate the proper node-to-node mapping.\n",
    "    \"\"\"\n",
    "\n",
    "    # Ensure that the requirements\n",
    "    # |V1| = |V2| (graphs must have the same number of nodes/vertices)\n",
    "    # and |E1| = |E2| (graphs must have the same number of edges)\n",
    "    # holds\n",
    "#     if (graph_to_embed.number_of_nodes()\n",
    "#             != target_graph.number_of_nodes()):\n",
    "#         raise IncompatibleGraphError(\"The number of vertices \"\n",
    "#                                      \"do not match!\")\n",
    "\n",
    "#     if (graph_to_embed.number_of_edges()\n",
    "#             != target_graph.number_of_edges()):\n",
    "#         raise IncompatibleGraphError(\"The number of edges \"\n",
    "#                                      \"do not match!\")\n",
    "\n",
    "    # get the \"n\" used for indexing\n",
    "    num_nodes = graph_to_embed.number_of_nodes()\n",
    "\n",
    "    # target_graph_dict and graph_to_embed dict are used to\n",
    "    # translate between the integer indices found in Calude et al.'s\n",
    "    # paper and any hashable type used in the NetworkX graph.\n",
    "    target_graph_dict = {i: node for i, node\n",
    "                         in enumerate(target_graph.nodes())}\n",
    "    graph_to_embed_dict = {node: i for i, node\n",
    "                           in enumerate(graph_to_embed.nodes())}\n",
    "\n",
    "    # Allow for samples to be translated\n",
    "    # back to prospective node mappings (must be fed by user to\n",
    "    # `translate_sample()` along with sample from `dimod.SampleSet`)\n",
    "    sample_translation_dict = {i: v for i, v in\n",
    "                               enumerate(product(graph_to_embed.nodes(),\n",
    "                                                 target_graph.nodes()))}\n",
    "\n",
    "    # translate summation indices to individual QUBO indices\n",
    "    # `product` usage inspired by: https://arxiv.org/pdf/2009.00140.pdf\n",
    "    # code repository: https://github.com/bdury/QUBO-for-Qubit-Allocation\n",
    "    td = {v: k for k, v in enumerate(product(range(num_nodes),\n",
    "                                             range(num_nodes)))}\n",
    "\n",
    "    # initialize empty QUBO\n",
    "    Q = defaultdict(int)\n",
    "    print('i,j')\n",
    "    # Ensure mapping function is bijective\n",
    "    for i in range(num_nodes):\n",
    "        for i_p in range(num_nodes):\n",
    "            Q[td[i, i_p], td[i, i_p]] += -2\n",
    "            for j, j_p in zip(range(num_nodes), range(num_nodes)):\n",
    "                if j != i:\n",
    "                    print(i,j)\n",
    "                    if td[i, i_p] <= td[j, i_p]:\n",
    "                        \n",
    "                        Q[td[i, i_p], td[j, i_p]] += 1\n",
    "                    else:\n",
    "                        Q[td[j, i_p], td[i, i_p]] += 1\n",
    "                if j_p != i_p:\n",
    "                    if td[i, i_p] <= td[i, j_p]:\n",
    "                        Q[td[i, i_p], td[i, j_p]] += 1\n",
    "                    else:\n",
    "                        Q[td[i, j_p], td[i, i_p]] += 1\n",
    "\n",
    "    # Ensure edge invariance\n",
    "    for edge in graph_to_embed.edges():\n",
    "        i, j = graph_to_embed_dict[edge[0]], graph_to_embed_dict[edge[1]]\n",
    "        for i_p in range(num_nodes):\n",
    "            for j_p in range(num_nodes):\n",
    "                if not target_graph.has_edge(target_graph_dict[i_p],\n",
    "                                             target_graph_dict[j_p]):\n",
    "                    if td[i, i_p] <= td[j, j_p]:\n",
    "                        Q[td[i, i_p], td[j, j_p]] += 1\n",
    "                    else:\n",
    "                        Q[td[j, j_p], td[i, i_p]] += 1\n",
    "\n",
    "    return Q, sample_translation_dict"
   ]
  },
  {
   "cell_type": "code",
   "execution_count": 63,
   "metadata": {},
   "outputs": [
    {
     "name": "stdout",
     "output_type": "stream",
     "text": [
      "i,j\n",
      "0 1\n",
      "0 2\n",
      "0 3\n",
      "0 1\n",
      "0 2\n",
      "0 3\n",
      "0 1\n",
      "0 2\n",
      "0 3\n",
      "0 1\n",
      "0 2\n",
      "0 3\n",
      "1 0\n",
      "1 2\n",
      "1 3\n",
      "1 0\n",
      "1 2\n",
      "1 3\n",
      "1 0\n",
      "1 2\n",
      "1 3\n",
      "1 0\n",
      "1 2\n",
      "1 3\n",
      "2 0\n",
      "2 1\n",
      "2 3\n",
      "2 0\n",
      "2 1\n",
      "2 3\n",
      "2 0\n",
      "2 1\n",
      "2 3\n",
      "2 0\n",
      "2 1\n",
      "2 3\n",
      "3 0\n",
      "3 1\n",
      "3 2\n",
      "3 0\n",
      "3 1\n",
      "3 2\n",
      "3 0\n",
      "3 1\n",
      "3 2\n",
      "3 0\n",
      "3 1\n",
      "3 2\n"
     ]
    },
    {
     "data": {
      "text/plain": [
       "(defaultdict(int,\n",
       "             {(0, 0): -2,\n",
       "              (0, 4): 3,\n",
       "              (0, 1): 2,\n",
       "              (0, 8): 2,\n",
       "              (0, 2): 2,\n",
       "              (0, 12): 3,\n",
       "              (0, 3): 2,\n",
       "              (1, 1): -2,\n",
       "              (1, 5): 3,\n",
       "              (1, 9): 2,\n",
       "              (1, 2): 2,\n",
       "              (1, 13): 3,\n",
       "              (1, 3): 2,\n",
       "              (2, 2): -2,\n",
       "              (2, 6): 3,\n",
       "              (2, 10): 2,\n",
       "              (2, 14): 3,\n",
       "              (2, 3): 2,\n",
       "              (3, 3): -2,\n",
       "              (3, 7): 3,\n",
       "              (3, 11): 2,\n",
       "              (3, 15): 3,\n",
       "              (4, 4): -2,\n",
       "              (4, 5): 2,\n",
       "              (4, 8): 3,\n",
       "              (4, 6): 2,\n",
       "              (4, 12): 2,\n",
       "              (4, 7): 2,\n",
       "              (5, 5): -2,\n",
       "              (5, 9): 3,\n",
       "              (5, 6): 2,\n",
       "              (5, 13): 2,\n",
       "              (5, 7): 2,\n",
       "              (6, 6): -2,\n",
       "              (6, 10): 3,\n",
       "              (6, 14): 2,\n",
       "              (6, 7): 2,\n",
       "              (7, 7): -2,\n",
       "              (7, 11): 3,\n",
       "              (7, 15): 2,\n",
       "              (8, 8): -2,\n",
       "              (8, 9): 2,\n",
       "              (8, 10): 2,\n",
       "              (8, 12): 3,\n",
       "              (8, 11): 2,\n",
       "              (9, 9): -2,\n",
       "              (9, 10): 2,\n",
       "              (9, 13): 3,\n",
       "              (9, 11): 2,\n",
       "              (10, 10): -2,\n",
       "              (10, 14): 3,\n",
       "              (10, 11): 2,\n",
       "              (11, 11): -2,\n",
       "              (11, 15): 3,\n",
       "              (12, 12): -2,\n",
       "              (12, 13): 2,\n",
       "              (12, 14): 2,\n",
       "              (12, 15): 2,\n",
       "              (13, 13): -2,\n",
       "              (13, 14): 2,\n",
       "              (13, 15): 2,\n",
       "              (14, 14): -2,\n",
       "              (14, 15): 2,\n",
       "              (15, 15): -2,\n",
       "              (0, 6): 1,\n",
       "              (2, 4): 1,\n",
       "              (2, 7): 1,\n",
       "              (3, 6): 1,\n",
       "              (0, 14): 1,\n",
       "              (2, 12): 1,\n",
       "              (2, 15): 1,\n",
       "              (3, 14): 1,\n",
       "              (4, 10): 1,\n",
       "              (6, 8): 1,\n",
       "              (6, 11): 1,\n",
       "              (7, 10): 1,\n",
       "              (8, 14): 1,\n",
       "              (10, 12): 1,\n",
       "              (10, 15): 1,\n",
       "              (11, 14): 1}),\n",
       " {0: (1, 1),\n",
       "  1: (1, 2),\n",
       "  2: (1, 3),\n",
       "  3: (1, 4),\n",
       "  4: (2, 1),\n",
       "  5: (2, 2),\n",
       "  6: (2, 3),\n",
       "  7: (2, 4),\n",
       "  8: (3, 1),\n",
       "  9: (3, 2),\n",
       "  10: (3, 3),\n",
       "  11: (3, 4),\n",
       "  12: (4, 1),\n",
       "  13: (4, 2),\n",
       "  14: (4, 3),\n",
       "  15: (4, 4)})"
      ]
     },
     "execution_count": 63,
     "metadata": {},
     "output_type": "execute_result"
    }
   ],
   "source": [
    "graph_to_embed = G1\n",
    "target_graph = G2\n",
    "\n",
    "graph_isomorphism(graph_to_embed, target_graph)"
   ]
  },
  {
   "cell_type": "code",
   "execution_count": null,
   "metadata": {},
   "outputs": [],
   "source": []
  }
 ],
 "metadata": {
  "colab": {
   "collapsed_sections": [],
   "name": "QAOA-Graph-Isomorphism-2.ipynb",
   "provenance": []
  },
  "kernelspec": {
   "display_name": "Python 3",
   "language": "python",
   "name": "python3"
  },
  "language_info": {
   "codemirror_mode": {
    "name": "ipython",
    "version": 3
   },
   "file_extension": ".py",
   "mimetype": "text/x-python",
   "name": "python",
   "nbconvert_exporter": "python",
   "pygments_lexer": "ipython3",
   "version": "3.8.5"
  }
 },
 "nbformat": 4,
 "nbformat_minor": 1
}
