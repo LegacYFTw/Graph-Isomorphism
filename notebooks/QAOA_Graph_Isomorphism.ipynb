{
  "nbformat": 4,
  "nbformat_minor": 0,
  "metadata": {
    "colab": {
      "name": "QAOA-Graph-Isomorphism-2.ipynb",
      "provenance": [],
      "collapsed_sections": []
    },
    "kernelspec": {
      "name": "python3",
      "display_name": "Python 3"
    },
    "language_info": {
      "name": "python"
    }
  },
  "cells": [
    {
      "cell_type": "code",
      "metadata": {
        "id": "rI3SrjComlvi"
      },
      "source": [
        "!pip install 'qiskit[visualization]'\n",
        "!pip install qiskit_optimization\n",
        "!pip install qiskit-terra"
      ],
      "execution_count": null,
      "outputs": []
    },
    {
      "cell_type": "code",
      "metadata": {
        "id": "zZxoPgn4mss8"
      },
      "source": [
        "import networkx as nx\n",
        "import matplotlib.pyplot as plt\n",
        "import numpy as np\n",
        "from time import time\n",
        "from pprint import pprint\n",
        "import plotly.graph_objects as go\n",
        "from plotly.subplots import make_subplots\n",
        "from IPython.display import clear_output"
      ],
      "execution_count": null,
      "outputs": []
    },
    {
      "cell_type": "code",
      "metadata": {
        "id": "Rnwfgr0QnBLj"
      },
      "source": [
        "from qiskit.algorithms import QAOA\n",
        "from qiskit_optimization.algorithms import MinimumEigenOptimizer\n",
        "from qiskit import Aer\n",
        "from qiskit import QuantumCircuit\n",
        "from qiskit.visualization import plot_state_city\n",
        "from qiskit.algorithms.optimizers import COBYLA, SLSQP, ADAM\n",
        "from qiskit_optimization import QuadraticProgram\n",
        "from docplex.mp.model import Model"
      ],
      "execution_count": null,
      "outputs": []
    },
    {
      "cell_type": "code",
      "metadata": {
        "id": "KpiEf0g77YQq",
        "colab": {
          "base_uri": "https://localhost:8080/"
        },
        "outputId": "ee245e87-436b-4e58-eaa2-eaeefed14ba2"
      },
      "source": [
        "from qiskit.optimization.applications.ising import stable_set\n",
        "from qiskit import Aer\n",
        "from qiskit.optimization.applications.ising import stable_set\n",
        "from qiskit.aqua.algorithms import VQE, NumPyMinimumEigensolver, QAOA\n",
        "from qiskit.aqua import aqua_globals\n",
        "from qiskit.aqua import QuantumInstance\n",
        "from qiskit.optimization.applications.ising.common import sample_most_likely\n",
        "from qiskit.optimization.algorithms import MinimumEigenOptimizer\n",
        "from qiskit.optimization.problems import QuadraticProgram"
      ],
      "execution_count": null,
      "outputs": [
        {
          "output_type": "stream",
          "name": "stderr",
          "text": [
            "/usr/local/lib/python3.7/dist-packages/qiskit/aqua/__init__.py:86: DeprecationWarning:\n",
            "\n",
            "The package qiskit.aqua is deprecated. It was moved/refactored to qiskit-terra For more information see <https://github.com/Qiskit/qiskit-aqua/blob/main/README.md#migration-guide>\n",
            "\n",
            "/usr/local/lib/python3.7/dist-packages/qiskit/optimization/__init__.py:92: DeprecationWarning:\n",
            "\n",
            "The package qiskit.optimization is deprecated. It was moved/refactored to qiskit_optimization (pip install qiskit-optimization). For more information see <https://github.com/Qiskit/qiskit-aqua/blob/main/README.md#migration-guide>\n",
            "\n"
          ]
        }
      ]
    },
    {
      "cell_type": "code",
      "metadata": {
        "colab": {
          "base_uri": "https://localhost:8080/",
          "height": 319
        },
        "id": "g1c5yxaEnLtC",
        "outputId": "dc8ad959-4429-4d58-a08c-216738481c47"
      },
      "source": [
        "G1 = nx.Graph()\n",
        "G1_nodes_list = [0,1,2,3]\n",
        "G1_edges_list = [(0,1), (0,2)]\n",
        "G1.add_nodes_from(G1_nodes_list)\n",
        "G1.add_edges_from(G1_edges_list)\n",
        "nx.draw(G1, with_labels=True, alpha=1, node_size=500)"
      ],
      "execution_count": null,
      "outputs": [
        {
          "output_type": "display_data",
          "data": {
            "image/png": "[encoded data removed]",
            "text/plain": [
              "<Figure size 432x288 with 1 Axes>"
            ]
          },
          "metadata": {}
        }
      ]
    },
    {
      "cell_type": "code",
      "metadata": {
        "colab": {
          "base_uri": "https://localhost:8080/",
          "height": 319
        },
        "id": "0LI2tAPrnfXS",
        "outputId": "49f6cbc3-274c-41ca-c9eb-6a3536e7806c"
      },
      "source": [
        "G2 = nx.Graph()\n",
        "G2_nodes_list = [0,1,2,3]\n",
        "G2_edges_list = [(0,3), (1,3)]\n",
        "G2.add_nodes_from(G2_nodes_list)\n",
        "G2.add_edges_from(G2_edges_list)\n",
        "nx.draw(G2, with_labels=True, alpha=1, node_size=500)"
      ],
      "execution_count": null,
      "outputs": [
        {
          "output_type": "display_data",
          "data": {
            "image/png": "[encoded data removed]",
            "text/plain": [
              "<Figure size 432x288 with 1 Axes>"
            ]
          },
          "metadata": {}
        }
      ]
    },
    {
      "cell_type": "code",
      "metadata": {
        "colab": {
          "base_uri": "https://localhost:8080/"
        },
        "id": "goHvAg3fviTg",
        "outputId": "f6716b07-e970-4e3a-87f0-83aab7dd79db"
      },
      "source": [
        "# print(G1.degree(3))\n",
        "# print(G2.degree(3))\n",
        "nx.is_isomorphic(G1,G2)"
      ],
      "execution_count": null,
      "outputs": [
        {
          "output_type": "execute_result",
          "data": {
            "text/plain": [
              "True"
            ]
          },
          "metadata": {},
          "execution_count": 81
        }
      ]
    },
    {
      "cell_type": "code",
      "metadata": {
        "id": "rwb9CrF0n_2S"
      },
      "source": [
        "def qubo_matrix_generator(G1,G2):\n",
        "    qubo = QuadraticProgram()\n",
        "\n",
        "    # QUBO Problem definition \n",
        "    for v in G2.nodes: \n",
        "        for i in G1.nodes: \n",
        "            # print('Degree at v = %d: %d\\t Degree at i = %d\\t: %d '%(v,G2.degree(int(v)),i, G1.degree(int(i))))\n",
        "            if (G2.degree(int(v)) == G1.degree(int(i))) and G1.degree(int(i))>0 : \n",
        "                # Define the qubo variables\n",
        "                qubo.binary_var(f'x_{int(v)},{int(i)}')\n",
        "\n",
        "    \n",
        "    QUBO_matrix_size = qubo.get_num_binary_vars()\n",
        "    QUBO_binary_variables_list = qubo.variables\n",
        "    ij_list = [ ( variable.name ).split('_')[-1].split(',') for variable in QUBO_binary_variables_list ]\n",
        "    ij_list = [ [ int(i) for i in ij ] for ij in ij_list ]\n",
        "    # print(ij_list)\n",
        "    # for variable in QUBO_binary_variables_list: \n",
        "    #     print(variable.name)\n",
        "\n",
        "    # Intialilise the QUBO matrix\n",
        "    QUBO_matrix = np.zeros((QUBO_matrix_size, QUBO_matrix_size))\n",
        "    variable_tuple_list = []\n",
        "\n",
        "    # for tuple_variable1 in QUBO_binary_variables_list: \n",
        "        # for tuple_variable2 not tuple_variable1 in QUBO_binary_variables_list:\n",
        "        #     # variable_tuple_list.\n",
        "        # print(tuple_variable1)\n",
        "    ij_to_1 = []\n",
        "    different_qubo_variables = []\n",
        "    for [u , i] in ij_list:\n",
        "        for [v , j] in ij_list:\n",
        "            if [ u, i ] != [ v, j ]:\n",
        "                different_qubo_variables += [  ([ u, i ], [ v, j ])  ]\n",
        "\n",
        "    for ([ u, i ], [ v, j ]) in different_qubo_variables:\n",
        "            # print(f\"u: {u}, i: {i}, v: {v}, j: {j}\")\n",
        "            if i == j:\n",
        "                name = f\"x_{u},{i}\"\n",
        "                variable_ui = qubo.get_variable(name)\n",
        "                variable_ui = 1\n",
        "                \n",
        "                name = f\"x_{v},{j}\"\n",
        "                variable_vj = qubo.get_variable(name)\n",
        "                variable_vj = 1\n",
        "\n",
        "                ij_to_1 += [ [ (u, i), (v, j) ] ]\n",
        "\n",
        "            elif u == v:\n",
        "                name = f\"x_{u},{i}\"\n",
        "                variable_ui = qubo.get_variable(name)\n",
        "                variable_ui = 1\n",
        "                \n",
        "                name = f\"x_{v},{j}\"\n",
        "                variable_vj = qubo.get_variable(name)\n",
        "                variable_vj = 1\n",
        "\n",
        "                ij_to_1 += [ [ (u, i), (v, j) ] ]\n",
        "\n",
        "            elif not G1.has_edge(i, j) == G2.has_edge(u, v):\n",
        "                name = f\"x_{u},{i}\"\n",
        "                variable_ui = qubo.get_variable(name)\n",
        "                variable_ui = 1\n",
        "                \n",
        "                name = f\"x_{v},{j}\"\n",
        "                variable_vj = qubo.get_variable(name)\n",
        "                variable_vj = 1\n",
        "\n",
        "                ij_to_1 += [ [ (u, i), (v, j) ] ]\n",
        "\n",
        "    for i in range(QUBO_matrix_size):\n",
        "        QUBO_matrix[i][i] = -1\n",
        "        \n",
        "    for (i, j) in ij_list:\n",
        "        QUBO_matrix[i][j] = 1\n",
        "\n",
        "    # print(ij_list)\n",
        "\n",
        "    matrix_test = np.zeros((QUBO_matrix_size, QUBO_matrix_size))\n",
        "    # pprint(ij_to_1)\n",
        "    ij_to_1_dict = {}\n",
        "\n",
        "    for (row, col) in ij_to_1:\n",
        "        row = list(row)\n",
        "        col = list(col)\n",
        "        i = ij_list.index(row)\n",
        "        j = ij_list.index(col)\n",
        "        ij_to_1_dict[ (i,j) ] = (row, col)\n",
        "        matrix_test[i][j] = 1\n",
        "\n",
        "    for row in range(QUBO_matrix_size): \n",
        "      for column in range(QUBO_matrix_size): \n",
        "         matrix_test[row][row] = -1\n",
        "    \n",
        "    QUBO_matrix_final = np.triu(matrix_test)\n",
        "    QUBO_matrix_upper = np.triu(matrix_test)\n",
        "    QUBO_matrix_lower = np.tril(matrix_test)\n",
        "    \n",
        "    # print(QUBO_matrix_lower)\n",
        "    \n",
        "    # Convert to upper triangular\n",
        "    for i in range(QUBO_matrix_size):\n",
        "      for j in range(QUBO_matrix_size): \n",
        "        if ((i>j) and (not matrix_test[i][j] == 0)): \n",
        "          matrix_test[i][j] = matrix_test[i][j] + matrix_test[j][i]\n",
        "          matrix_test[i][j] = 0\n",
        "    \n",
        "\n",
        "\n",
        "    # pprint(ij_to_1_dict)\n",
        "    # print(QUBO_matrix_final)\n",
        "\n",
        "\n",
        "\n",
        "\n",
        "\n",
        "\n",
        "    return matrix_test"
      ],
      "execution_count": null,
      "outputs": []
    },
    {
      "cell_type": "code",
      "metadata": {
        "colab": {
          "base_uri": "https://localhost:8080/"
        },
        "id": "wqnQa4k5vZ7Z",
        "outputId": "ede4d5c0-712c-4a8c-f39d-6d053ec4909b"
      },
      "source": [
        "QUBO_Matrix = qubo_matrix_generator(G1,G2)\n",
        "\n",
        "print(QUBO_Matrix)\n",
        "# Once we get the matrix, we now generate the corresponding Ising Model\n",
        "qubitOp, offset = stable_set.get_operator(QUBO_Matrix)\n",
        "print('Offset:', offset)\n",
        "print('Ising Hamiltonian:')\n",
        "print(qubitOp.print_details())"
      ],
      "execution_count": null,
      "outputs": [
        {
          "output_type": "stream",
          "name": "stdout",
          "text": [
            "[[-1.  1.  1.  0.  0.]\n",
            " [ 0. -1.  0.  1.  0.]\n",
            " [ 0.  0. -1.  1.  0.]\n",
            " [ 0.  0.  0. -1.  0.]\n",
            " [ 0.  0.  0.  0. -1.]]\n",
            "Offset: -0.5\n",
            "Ising Hamiltonian:\n",
            "IIIZZ\t(0.5+0j)\n",
            "IIZIZ\t(0.5+0j)\n",
            "IZIZI\t(0.5+0j)\n",
            "IZZII\t(0.5+0j)\n",
            "IIIIZ\t(-1+0j)\n",
            "IIIZI\t(-0.5+0j)\n",
            "IIZII\t(-0.5+0j)\n",
            "\n"
          ]
        }
      ]
    },
    {
      "cell_type": "code",
      "metadata": {
        "colab": {
          "base_uri": "https://localhost:8080/"
        },
        "id": "T_x3UFSE3oU7",
        "outputId": "e6fa5f3b-2f22-4e42-a1dc-d1ea2c8852e1"
      },
      "source": [
        "QUBO_Matrix = qubo_matrix_generator(G1,G2)\n",
        "\n",
        "qubitOp, offset = stable_set.get_operator(QUBO_Matrix)\n",
        "print('Offset:', offset)\n",
        "print('Ising Hamiltonian:')\n",
        "print(qubitOp.print_details())\n",
        "\n",
        "# mapping Ising Hamiltonian to Quadratic Program\n",
        "qp = QuadraticProgram()\n",
        "qp.from_ising(qubitOp, offset)\n",
        "qp.to_docplex().prettyprint()\n",
        "\n",
        "aqua_globals.random_seed = np.random.default_rng(123)\n",
        "seed = 10598\n",
        "backend = Aer.get_backend('statevector_simulator')\n",
        "quantum_instance = QuantumInstance(backend, seed_simulator=seed, seed_transpiler=seed)\n",
        "\n",
        "qaoa = QAOA(quantum_instance=quantum_instance, p = 3)\n",
        "\n",
        "# create minimum eigen optimizer based on qaoa\n",
        "qaoa_optimizer = MinimumEigenOptimizer(qaoa)\n",
        "\n",
        "# solve quadratic program\n",
        "result = qaoa_optimizer.solve(qp)\n",
        "print(result)"
      ],
      "execution_count": null,
      "outputs": [
        {
          "output_type": "stream",
          "name": "stdout",
          "text": [
            "Offset: -0.5\n",
            "Ising Hamiltonian:\n",
            "IIIZZ\t(0.5+0j)\n",
            "IIZIZ\t(0.5+0j)\n",
            "IZIZI\t(0.5+0j)\n",
            "IZZII\t(0.5+0j)\n",
            "IIIIZ\t(-1+0j)\n",
            "IIIZI\t(-0.5+0j)\n",
            "IIZII\t(-0.5+0j)\n",
            "\n",
            "// This file has been generated by DOcplex\n",
            "// model name is: AnonymousModel\n",
            "// single vars section\n",
            "dvar bool x_0;\n",
            "dvar bool x_1;\n",
            "dvar bool x_2;\n",
            "dvar bool x_3;\n",
            "dvar bool x_4;\n",
            "\n",
            "minimize\n",
            " [ 2 x_0*x_1 + 2 x_0*x_2 - x_1^2 + 2 x_1*x_3 - x_2^2 + 2 x_2*x_3 - 2 x_3^2 ]\n",
            " -0.500000;\n",
            " \n",
            "subject to {\n",
            "\n",
            "}\n",
            "optimal function value: -2.5\n",
            "optimal value: [0. 1. 1. 0. 0.]\n",
            "status: SUCCESS\n"
          ]
        }
      ]
    },
    {
      "cell_type": "code",
      "metadata": {
        "colab": {
          "base_uri": "https://localhost:8080/"
        },
        "id": "9ck4GHmmzsuY",
        "outputId": "baba4572-f591-4663-be6a-8cdc7f068587"
      },
      "source": [
        "# mapping Ising Hamiltonian to Quadratic Program\n",
        "qp = QuadraticProgram()\n",
        "qp.from_ising(qubitOp, offset)\n",
        "qp.to_docplex().prettyprint()"
      ],
      "execution_count": null,
      "outputs": [
        {
          "output_type": "stream",
          "name": "stdout",
          "text": [
            "// This file has been generated by DOcplex\n",
            "// model name is: AnonymousModel\n",
            "// single vars section\n",
            "dvar bool x_0;\n",
            "dvar bool x_1;\n",
            "dvar bool x_2;\n",
            "dvar bool x_3;\n",
            "dvar bool x_4;\n",
            "\n",
            "minimize\n",
            " [ 2 x_0*x_1 + 2 x_0*x_2 - x_1^2 + 2 x_1*x_3 - x_2^2 + 2 x_2*x_3 - 2 x_3^2 ]\n",
            " -0.500000;\n",
            " \n",
            "subject to {\n",
            "\n",
            "}\n"
          ]
        }
      ]
    },
    {
      "cell_type": "code",
      "metadata": {
        "id": "HiGwy32G9ydn"
      },
      "source": [
        "aqua_globals.random_seed = np.random.default_rng(123)\n",
        "seed = 10598\n",
        "backend = Aer.get_backend('aer_simulator')\n",
        "quantum_instance = QuantumInstance(backend, seed_simulator=seed, seed_transpiler=seed)\n",
        "\n",
        "qaoa = QAOA(quantum_instance=quantum_instance, p =1)\n",
        "\n",
        "# create minimum eigen optimizer based on qaoa\n",
        "qaoa_optimizer = MinimumEigenOptimizer(qaoa)\n"
      ],
      "execution_count": null,
      "outputs": []
    },
    {
      "cell_type": "code",
      "metadata": {
        "colab": {
          "base_uri": "https://localhost:8080/"
        },
        "id": "tCTOZJFJ981v",
        "outputId": "07872afa-873d-4c4f-e3ef-e05db231ca57"
      },
      "source": [
        "# solve quadratic program\n",
        "result = qaoa_optimizer.solve(qp)\n",
        "print(result)"
      ],
      "execution_count": null,
      "outputs": [
        {
          "output_type": "stream",
          "name": "stdout",
          "text": [
            "optimal function value: -2.5\n",
            "optimal value: [1. 0. 0. 1. 1.]\n",
            "status: SUCCESS\n"
          ]
        }
      ]
    },
    {
      "cell_type": "code",
      "metadata": {
        "id": "XVhgbXpPxisO"
      },
      "source": [
        "# Importing standard Qiskit libraries and configuring account\n",
        "from qiskit import QuantumCircuit, execute, Aer, IBMQ\n",
        "from qiskit.compiler import transpile, assemble\n",
        "from qiskit.tools.jupyter import *\n",
        "from qiskit.visualization import *\n",
        "#quadratic optimization\n",
        "from qiskit.optimization import QuadraticProgram\n",
        "from qiskit.optimization.converters import QuadraticProgramToQubo"
      ],
      "execution_count": null,
      "outputs": []
    },
    {
      "cell_type": "markdown",
      "metadata": {
        "id": "tJyLq6VSxrEa"
      },
      "source": [
        "# Prepare QUBO task"
      ]
    },
    {
      "cell_type": "code",
      "metadata": {
        "id": "2WMnImg7xtFZ"
      },
      "source": [
        ""
      ],
      "execution_count": null,
      "outputs": []
    },
    {
      "cell_type": "markdown",
      "metadata": {
        "id": "NzMn6IlwOrsq"
      },
      "source": [
        "# Lucas's QUBO\n"
      ]
    },
    {
      "cell_type": "code",
      "metadata": {
        "id": "x36i4m9G-BF3"
      },
      "source": [
        "import networkx as nx\n",
        "import sys , math"
      ],
      "execution_count": null,
      "outputs": []
    },
    {
      "cell_type": "code",
      "metadata": {
        "id": "FpFJ8gOrPbTQ"
      },
      "source": [
        "def generateQUBO(G1 , G2):\n",
        "  n = G1.order()\n",
        "  print(n)\n",
        "  varsDict = {}\n",
        "  index = 0\n",
        "  for i in range(n):\n",
        "    for j in range(n):\n",
        "      varsDict[(i,j)] = index\n",
        "      index += 1\n",
        "\n",
        "  # initialize Q\n",
        "  Q = {}\n",
        "  for i in range(n*n):\n",
        "    for j in range(n*n): \n",
        "      Q[i,j] = 0\n",
        "\n",
        "  # HA part 1\n",
        "  for i in range(n):\n",
        "    for iprime in range(n):\n",
        "      index = varsDict[(i, iprime )]\n",
        "      Q[index , index ] -= 2\n",
        "  \n",
        "  for iprime1 in range(n):\n",
        "    for iprime2 in range(n):\n",
        "      index1 = varsDict[(i, iprime1 )]\n",
        "      index2 = varsDict [(i, iprime2 )]\n",
        "      Q[ index1 , index2 ] += 1\n",
        "\n",
        "  # HA part 2\n",
        "  for iprime in range(n):\n",
        "    for i in range(n):\n",
        "      index = varsDict[(i, iprime )]\n",
        "      Q[index , index ] -= 2\n",
        "\n",
        "  for i1 in range(n):\n",
        "    for i2 in range(n):\n",
        "      index1 = varsDict[(i1 , iprime )]\n",
        "      index2 = varsDict[(i2 , iprime )]\n",
        "      Q[ index1 , index2 ] += 1\n",
        "  \n",
        "  # HB part 1\n",
        "  for i in range(n):\n",
        "    for j in range(n):\n",
        "      if i in G1[j]: continue\n",
        "      for (u,v) in G2.edges():\n",
        "        x1= varsDict[(u,i)]\n",
        "        x2= varsDict[(v,j)]\n",
        "        Q[x1 ,x2] += 1\n",
        "        x1= varsDict[(v,i)]\n",
        "        x2= varsDict[(u,j)]\n",
        "        Q[x1 ,x2] += 1\n",
        "\n",
        "  # HB part 2\n",
        "  for (i,j) in G1.edges():\n",
        "    for u in range(n):\n",
        "      for v in range(n):\n",
        "        if u in G2[v]: continue\n",
        "        x1= varsDict[(u,i)]\n",
        "        x2= varsDict[(v,j)]\n",
        "        Q[x1 ,x2] += 1\n",
        "        x1= varsDict[(u,j)]\n",
        "        x2= varsDict[(v,i)]\n",
        "        Q[x1 ,x2] += 1\n",
        "  \n",
        "  # Making Q uppertriangular\n",
        "  for i in range(n*n):\n",
        "    for j in range(n*n):\n",
        "      if (i > j) and ( not (Q[i,j ]==0) ):\n",
        "        Q[j,i] += Q[i,j]\n",
        "        Q[i,j] = 0\n",
        "\n",
        "  print(n*n)\n",
        "  for i in range(n*n):\n",
        "    for j in range(n*n):\n",
        "      print(Q[i,j], end =' ')\n",
        "    print()\n",
        "\n",
        "  return Q\n"
      ],
      "execution_count": null,
      "outputs": []
    },
    {
      "cell_type": "code",
      "metadata": {
        "colab": {
          "base_uri": "https://localhost:8080/"
        },
        "id": "abwoVpvZPrrf",
        "outputId": "9e59c980-2581-416d-cf9f-f7f8524668a2"
      },
      "source": [
        "generateQUBO(G1,G2)"
      ],
      "execution_count": null,
      "outputs": [
        {
          "output_type": "stream",
          "name": "stdout",
          "text": [
            "4\n",
            "16\n",
            "-4 2 2 0 0 2 2 0 0 2 2 0 2 0 0 2 \n",
            "0 -4 0 0 2 0 0 0 2 0 0 0 0 2 2 2 \n",
            "0 0 -4 0 2 0 0 0 2 0 0 0 0 2 2 2 \n",
            "0 0 0 -3 0 0 0 2 0 0 0 2 2 2 2 4 \n",
            "0 0 0 0 -4 2 2 0 0 2 2 0 2 0 0 2 \n",
            "0 0 0 0 0 -4 0 0 2 0 0 0 0 2 2 2 \n",
            "0 0 0 0 0 0 -4 0 2 0 0 0 0 2 2 2 \n",
            "0 0 0 0 0 0 0 -3 0 0 0 2 2 2 2 4 \n",
            "0 0 0 0 0 0 0 0 -4 2 2 0 0 2 2 0 \n",
            "0 0 0 0 0 0 0 0 0 -4 0 0 2 0 0 0 \n",
            "0 0 0 0 0 0 0 0 0 0 -4 0 2 0 0 0 \n",
            "0 0 0 0 0 0 0 0 0 0 0 -3 0 0 0 2 \n",
            "0 0 0 0 0 0 0 0 0 0 0 0 -3 4 4 2 \n",
            "0 0 0 0 0 0 0 0 0 0 0 0 0 -3 2 2 \n",
            "0 0 0 0 0 0 0 0 0 0 0 0 0 0 -3 2 \n",
            "0 0 0 0 0 0 0 0 0 0 0 0 0 0 0 -2 \n"
          ]
        },
        {
          "output_type": "execute_result",
          "data": {
            "text/plain": [
              "{(0, 0): -4,\n",
              " (0, 1): 2,\n",
              " (0, 2): 2,\n",
              " (0, 3): 0,\n",
              " (0, 4): 0,\n",
              " (0, 5): 2,\n",
              " (0, 6): 2,\n",
              " (0, 7): 0,\n",
              " (0, 8): 0,\n",
              " (0, 9): 2,\n",
              " (0, 10): 2,\n",
              " (0, 11): 0,\n",
              " (0, 12): 2,\n",
              " (0, 13): 0,\n",
              " (0, 14): 0,\n",
              " (0, 15): 2,\n",
              " (1, 0): 0,\n",
              " (1, 1): -4,\n",
              " (1, 2): 0,\n",
              " (1, 3): 0,\n",
              " (1, 4): 2,\n",
              " (1, 5): 0,\n",
              " (1, 6): 0,\n",
              " (1, 7): 0,\n",
              " (1, 8): 2,\n",
              " (1, 9): 0,\n",
              " (1, 10): 0,\n",
              " (1, 11): 0,\n",
              " (1, 12): 0,\n",
              " (1, 13): 2,\n",
              " (1, 14): 2,\n",
              " (1, 15): 2,\n",
              " (2, 0): 0,\n",
              " (2, 1): 0,\n",
              " (2, 2): -4,\n",
              " (2, 3): 0,\n",
              " (2, 4): 2,\n",
              " (2, 5): 0,\n",
              " (2, 6): 0,\n",
              " (2, 7): 0,\n",
              " (2, 8): 2,\n",
              " (2, 9): 0,\n",
              " (2, 10): 0,\n",
              " (2, 11): 0,\n",
              " (2, 12): 0,\n",
              " (2, 13): 2,\n",
              " (2, 14): 2,\n",
              " (2, 15): 2,\n",
              " (3, 0): 0,\n",
              " (3, 1): 0,\n",
              " (3, 2): 0,\n",
              " (3, 3): -3,\n",
              " (3, 4): 0,\n",
              " (3, 5): 0,\n",
              " (3, 6): 0,\n",
              " (3, 7): 2,\n",
              " (3, 8): 0,\n",
              " (3, 9): 0,\n",
              " (3, 10): 0,\n",
              " (3, 11): 2,\n",
              " (3, 12): 2,\n",
              " (3, 13): 2,\n",
              " (3, 14): 2,\n",
              " (3, 15): 4,\n",
              " (4, 0): 0,\n",
              " (4, 1): 0,\n",
              " (4, 2): 0,\n",
              " (4, 3): 0,\n",
              " (4, 4): -4,\n",
              " (4, 5): 2,\n",
              " (4, 6): 2,\n",
              " (4, 7): 0,\n",
              " (4, 8): 0,\n",
              " (4, 9): 2,\n",
              " (4, 10): 2,\n",
              " (4, 11): 0,\n",
              " (4, 12): 2,\n",
              " (4, 13): 0,\n",
              " (4, 14): 0,\n",
              " (4, 15): 2,\n",
              " (5, 0): 0,\n",
              " (5, 1): 0,\n",
              " (5, 2): 0,\n",
              " (5, 3): 0,\n",
              " (5, 4): 0,\n",
              " (5, 5): -4,\n",
              " (5, 6): 0,\n",
              " (5, 7): 0,\n",
              " (5, 8): 2,\n",
              " (5, 9): 0,\n",
              " (5, 10): 0,\n",
              " (5, 11): 0,\n",
              " (5, 12): 0,\n",
              " (5, 13): 2,\n",
              " (5, 14): 2,\n",
              " (5, 15): 2,\n",
              " (6, 0): 0,\n",
              " (6, 1): 0,\n",
              " (6, 2): 0,\n",
              " (6, 3): 0,\n",
              " (6, 4): 0,\n",
              " (6, 5): 0,\n",
              " (6, 6): -4,\n",
              " (6, 7): 0,\n",
              " (6, 8): 2,\n",
              " (6, 9): 0,\n",
              " (6, 10): 0,\n",
              " (6, 11): 0,\n",
              " (6, 12): 0,\n",
              " (6, 13): 2,\n",
              " (6, 14): 2,\n",
              " (6, 15): 2,\n",
              " (7, 0): 0,\n",
              " (7, 1): 0,\n",
              " (7, 2): 0,\n",
              " (7, 3): 0,\n",
              " (7, 4): 0,\n",
              " (7, 5): 0,\n",
              " (7, 6): 0,\n",
              " (7, 7): -3,\n",
              " (7, 8): 0,\n",
              " (7, 9): 0,\n",
              " (7, 10): 0,\n",
              " (7, 11): 2,\n",
              " (7, 12): 2,\n",
              " (7, 13): 2,\n",
              " (7, 14): 2,\n",
              " (7, 15): 4,\n",
              " (8, 0): 0,\n",
              " (8, 1): 0,\n",
              " (8, 2): 0,\n",
              " (8, 3): 0,\n",
              " (8, 4): 0,\n",
              " (8, 5): 0,\n",
              " (8, 6): 0,\n",
              " (8, 7): 0,\n",
              " (8, 8): -4,\n",
              " (8, 9): 2,\n",
              " (8, 10): 2,\n",
              " (8, 11): 0,\n",
              " (8, 12): 0,\n",
              " (8, 13): 2,\n",
              " (8, 14): 2,\n",
              " (8, 15): 0,\n",
              " (9, 0): 0,\n",
              " (9, 1): 0,\n",
              " (9, 2): 0,\n",
              " (9, 3): 0,\n",
              " (9, 4): 0,\n",
              " (9, 5): 0,\n",
              " (9, 6): 0,\n",
              " (9, 7): 0,\n",
              " (9, 8): 0,\n",
              " (9, 9): -4,\n",
              " (9, 10): 0,\n",
              " (9, 11): 0,\n",
              " (9, 12): 2,\n",
              " (9, 13): 0,\n",
              " (9, 14): 0,\n",
              " (9, 15): 0,\n",
              " (10, 0): 0,\n",
              " (10, 1): 0,\n",
              " (10, 2): 0,\n",
              " (10, 3): 0,\n",
              " (10, 4): 0,\n",
              " (10, 5): 0,\n",
              " (10, 6): 0,\n",
              " (10, 7): 0,\n",
              " (10, 8): 0,\n",
              " (10, 9): 0,\n",
              " (10, 10): -4,\n",
              " (10, 11): 0,\n",
              " (10, 12): 2,\n",
              " (10, 13): 0,\n",
              " (10, 14): 0,\n",
              " (10, 15): 0,\n",
              " (11, 0): 0,\n",
              " (11, 1): 0,\n",
              " (11, 2): 0,\n",
              " (11, 3): 0,\n",
              " (11, 4): 0,\n",
              " (11, 5): 0,\n",
              " (11, 6): 0,\n",
              " (11, 7): 0,\n",
              " (11, 8): 0,\n",
              " (11, 9): 0,\n",
              " (11, 10): 0,\n",
              " (11, 11): -3,\n",
              " (11, 12): 0,\n",
              " (11, 13): 0,\n",
              " (11, 14): 0,\n",
              " (11, 15): 2,\n",
              " (12, 0): 0,\n",
              " (12, 1): 0,\n",
              " (12, 2): 0,\n",
              " (12, 3): 0,\n",
              " (12, 4): 0,\n",
              " (12, 5): 0,\n",
              " (12, 6): 0,\n",
              " (12, 7): 0,\n",
              " (12, 8): 0,\n",
              " (12, 9): 0,\n",
              " (12, 10): 0,\n",
              " (12, 11): 0,\n",
              " (12, 12): -3,\n",
              " (12, 13): 4,\n",
              " (12, 14): 4,\n",
              " (12, 15): 2,\n",
              " (13, 0): 0,\n",
              " (13, 1): 0,\n",
              " (13, 2): 0,\n",
              " (13, 3): 0,\n",
              " (13, 4): 0,\n",
              " (13, 5): 0,\n",
              " (13, 6): 0,\n",
              " (13, 7): 0,\n",
              " (13, 8): 0,\n",
              " (13, 9): 0,\n",
              " (13, 10): 0,\n",
              " (13, 11): 0,\n",
              " (13, 12): 0,\n",
              " (13, 13): -3,\n",
              " (13, 14): 2,\n",
              " (13, 15): 2,\n",
              " (14, 0): 0,\n",
              " (14, 1): 0,\n",
              " (14, 2): 0,\n",
              " (14, 3): 0,\n",
              " (14, 4): 0,\n",
              " (14, 5): 0,\n",
              " (14, 6): 0,\n",
              " (14, 7): 0,\n",
              " (14, 8): 0,\n",
              " (14, 9): 0,\n",
              " (14, 10): 0,\n",
              " (14, 11): 0,\n",
              " (14, 12): 0,\n",
              " (14, 13): 0,\n",
              " (14, 14): -3,\n",
              " (14, 15): 2,\n",
              " (15, 0): 0,\n",
              " (15, 1): 0,\n",
              " (15, 2): 0,\n",
              " (15, 3): 0,\n",
              " (15, 4): 0,\n",
              " (15, 5): 0,\n",
              " (15, 6): 0,\n",
              " (15, 7): 0,\n",
              " (15, 8): 0,\n",
              " (15, 9): 0,\n",
              " (15, 10): 0,\n",
              " (15, 11): 0,\n",
              " (15, 12): 0,\n",
              " (15, 13): 0,\n",
              " (15, 14): 0,\n",
              " (15, 15): -2}"
            ]
          },
          "metadata": {},
          "execution_count": 86
        }
      ]
    },
    {
      "cell_type": "code",
      "metadata": {
        "id": "QvpB0RNfSakI"
      },
      "source": [
        ""
      ],
      "execution_count": null,
      "outputs": []
    }
  ]
}