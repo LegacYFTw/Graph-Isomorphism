{
 "cells": [
  {
   "cell_type": "code",
   "execution_count": 1,
   "metadata": {
    "colab": {
     "base_uri": "https://localhost:8080/",
     "height": 259
    },
    "id": "Iv-5PMZ9VkrE",
    "outputId": "1a61c6ef-2d68-4e82-98c7-d91f2263d401"
   },
   "outputs": [
    {
     "name": "stdout",
     "output_type": "stream",
     "text": [
      "Requirement already satisfied: dimod in c:\\users\\asus\\appdata\\roaming\\python\\python38\\site-packages (0.9.16)\n",
      "Requirement already satisfied: numpy<2.0.0,>=1.17.3 in c:\\users\\asus\\anaconda3\\envs\\base1\\lib\\site-packages (from dimod) (1.19.2)\n",
      "Requirement already satisfied: dwave-preprocessing<0.3.0,>=0.2.0 in c:\\users\\asus\\anaconda3\\envs\\base1\\lib\\site-packages (from dimod) (0.2.0)\n"
     ]
    },
    {
     "name": "stderr",
     "output_type": "stream",
     "text": [
      "ERROR: Invalid requirement: \"'qiskit[all]'\"\n"
     ]
    },
    {
     "name": "stdout",
     "output_type": "stream",
     "text": [
      "Requirement already satisfied: dwave-neal in c:\\users\\asus\\appdata\\roaming\\python\\python38\\site-packages (0.5.8)\n",
      "Requirement already satisfied: dimod>=0.9.2 in c:\\users\\asus\\appdata\\roaming\\python\\python38\\site-packages (from dwave-neal) (0.9.16)\n",
      "Requirement already satisfied: numpy!=1.21.0,!=1.21.1,<2.0.0,>=1.16.0 in c:\\users\\asus\\anaconda3\\envs\\base1\\lib\\site-packages (from dwave-neal) (1.19.2)\n",
      "Requirement already satisfied: dwave-preprocessing<0.3.0,>=0.2.0 in c:\\users\\asus\\anaconda3\\envs\\base1\\lib\\site-packages (from dimod>=0.9.2->dwave-neal) (0.2.0)\n"
     ]
    }
   ],
   "source": [
    "!pip install dimod\n",
    "!pip install 'qiskit[all]'\n",
    "!pip install dwave-neal"
   ]
  },
  {
   "cell_type": "code",
   "execution_count": 2,
   "metadata": {
    "colab": {
     "base_uri": "https://localhost:8080/",
     "height": 398
    },
    "id": "BBKF9kTPYm7U",
    "outputId": "c68f60b0-3aa0-4022-908a-01272c9d41f6"
   },
   "outputs": [
    {
     "name": "stdout",
     "output_type": "stream",
     "text": [
      "Collecting matplotlib==3.1.3\n",
      "  Using cached matplotlib-3.1.3-cp38-cp38-win_amd64.whl (9.1 MB)\n",
      "Requirement already satisfied: pyparsing!=2.0.4,!=2.1.2,!=2.1.6,>=2.0.1 in c:\\users\\asus\\anaconda3\\envs\\base1\\lib\\site-packages (from matplotlib==3.1.3) (2.4.7)\n",
      "Requirement already satisfied: python-dateutil>=2.1 in c:\\users\\asus\\anaconda3\\envs\\base1\\lib\\site-packages (from matplotlib==3.1.3) (2.8.1)\n",
      "Requirement already satisfied: kiwisolver>=1.0.1 in c:\\users\\asus\\anaconda3\\envs\\base1\\lib\\site-packages (from matplotlib==3.1.3) (1.3.0)\n",
      "Requirement already satisfied: numpy>=1.11 in c:\\users\\asus\\anaconda3\\envs\\base1\\lib\\site-packages (from matplotlib==3.1.3) (1.19.2)\n",
      "Requirement already satisfied: cycler>=0.10 in c:\\users\\asus\\anaconda3\\envs\\base1\\lib\\site-packages (from matplotlib==3.1.3) (0.10.0)\n",
      "Requirement already satisfied: six>=1.5 in c:\\users\\asus\\appdata\\roaming\\python\\python38\\site-packages (from python-dateutil>=2.1->matplotlib==3.1.3) (1.15.0)\n",
      "Installing collected packages: matplotlib\n",
      "  Attempting uninstall: matplotlib\n",
      "    Found existing installation: matplotlib 3.3.2\n",
      "    Uninstalling matplotlib-3.3.2:\n",
      "      Successfully uninstalled matplotlib-3.3.2\n",
      "Successfully installed matplotlib-3.1.3\n"
     ]
    }
   ],
   "source": [
    "!pip install matplotlib==3.1.3"
   ]
  },
  {
   "cell_type": "code",
   "execution_count": 3,
   "metadata": {},
   "outputs": [
    {
     "name": "stdout",
     "output_type": "stream",
     "text": [
      "Collecting plotly\n",
      "  Using cached plotly-5.3.1-py2.py3-none-any.whl (23.9 MB)\n",
      "Requirement already satisfied: six in c:\\users\\asus\\appdata\\roaming\\python\\python38\\site-packages (from plotly) (1.15.0)\n",
      "Collecting tenacity>=6.2.0\n",
      "  Using cached tenacity-8.0.1-py3-none-any.whl (24 kB)\n",
      "Installing collected packages: tenacity, plotly\n",
      "Successfully installed plotly-5.3.1 tenacity-8.0.1\n"
     ]
    }
   ],
   "source": [
    "!pip install plotly"
   ]
  },
  {
   "cell_type": "code",
   "execution_count": 2,
   "metadata": {
    "id": "opCbLgxHX4uc"
   },
   "outputs": [],
   "source": [
    "import networkx as nx\n",
    "import matplotlib.pyplot as plt\n",
    "import numpy as np\n",
    "from time import time\n",
    "from pprint import pprint\n",
    "import plotly.graph_objects as go\n",
    "from plotly.subplots import make_subplots\n",
    "from IPython.display import clear_output"
   ]
  },
  {
   "cell_type": "code",
   "execution_count": 3,
   "metadata": {
    "colab": {
     "base_uri": "https://localhost:8080/"
    },
    "id": "o0qvZFxFm-TP",
    "outputId": "75707f15-fcb5-4015-db0a-c4adeca3b67d"
   },
   "outputs": [],
   "source": [
    "import itertools\n",
    "import networkx as nx\n",
    "import matplotlib.pyplot as plt\n",
    "from collections import defaultdict\n",
    "from dimod import BinaryQuadraticModel, AdjVectorBQM\n",
    "from qiskit.optimization import QuadraticProgram\n",
    "from qiskit.optimization.converters import LinearEqualityToPenalty, InequalityToEquality, IntegerToBinary\n",
    "import neal"
   ]
  },
  {
   "cell_type": "code",
   "execution_count": 4,
   "metadata": {
    "id": "k5PV-TBU8eF6"
   },
   "outputs": [],
   "source": [
    "from qiskit.aqua.algorithms import QAOA\n",
    "from qiskit.optimization.algorithms import MinimumEigenOptimizer\n",
    "from qiskit import Aer\n",
    "from qiskit import QuantumCircuit\n",
    "from qiskit.visualization import plot_state_city\n",
    "from qiskit.aqua.components.optimizers import COBYLA, SLSQP, ADAM\n",
    "from qiskit.optimization import QuadraticProgram\n",
    "from docplex.mp.model import Model\n",
    "\n",
    "from qiskit.optimization.applications.ising import stable_set\n",
    "from qiskit import Aer\n",
    "from qiskit.optimization.applications.ising import stable_set\n",
    "from qiskit.aqua.algorithms import VQE, NumPyMinimumEigensolver, QAOA, NumPyEigensolver\n",
    "from qiskit.aqua import aqua_globals\n",
    "from qiskit.aqua import QuantumInstance\n",
    "from qiskit.optimization.applications.ising.common import sample_most_likely\n",
    "from qiskit.optimization.algorithms import MinimumEigenOptimizer\n",
    "from qiskit.optimization.problems import QuadraticProgram"
   ]
  },
  {
   "cell_type": "code",
   "execution_count": 6,
   "metadata": {
    "colab": {
     "base_uri": "https://localhost:8080/",
     "height": 319
    },
    "id": "OiWwsDe0mTMA",
    "outputId": "bc1e9f2c-ecc6-4d99-bab7-ef02ed01f5dc"
   },
   "outputs": [
    {
     "data": {
      "text/plain": [
       "NodeView((1, 2, 3, 4, 5))"
      ]
     },
     "execution_count": 6,
     "metadata": {},
     "output_type": "execute_result"
    },
    {
     "data": {
      "image/png": "[encoded data removed]",
      "text/plain": [
       "<Figure size 432x288 with 1 Axes>"
      ]
     },
     "metadata": {},
     "output_type": "display_data"
    }
   ],
   "source": [
    "G1 = nx.Graph([(1,2),(1,3),(2,3),(2,4),(4,5),(5,3)])\n",
    "# G1 = nx.Graph()\n",
    "# G1_edges_list = [(1,2), (2,3)]\n",
    "# G1.add_node(0)\n",
    "# G1_nodes_list = [0,1,2,3]\n",
    "# G1.add_edges_from(G1_edges_list)\n",
    "# G1.add_nodes_from(G1_nodes_list)\n",
    "nx.draw(G1, with_labels=True, alpha=1, node_size=500)\n",
    "G1.nodes"
   ]
  },
  {
   "cell_type": "code",
   "execution_count": 7,
   "metadata": {
    "colab": {
     "base_uri": "https://localhost:8080/",
     "height": 319
    },
    "id": "46jN9ul4mbCP",
    "outputId": "39ad063f-be41-442b-8e61-e9c12751df0d"
   },
   "outputs": [
    {
     "data": {
      "text/plain": [
       "True"
      ]
     },
     "execution_count": 7,
     "metadata": {},
     "output_type": "execute_result"
    },
    {
     "data": {
      "image/png": "[encoded data removed]",
      "text/plain": [
       "<Figure size 432x288 with 1 Axes>"
      ]
     },
     "metadata": {},
     "output_type": "display_data"
    }
   ],
   "source": [
    "G2 = nx.Graph([(1,2),(1,3),(2,3),(2,4),(4,5),(5,3)])\n",
    "# G2 = nx.Graph()\n",
    "# G2_edges_list = [(0,3), (3,1)]\n",
    "# G2.add_node(2)\n",
    "# G2_nodes_list = [0,1,2,3]\n",
    "# G2.add_edges_from(G2_edges_list)\n",
    "# G2.add_nodes_from(G2_nodes_list)\n",
    "nx.draw(G2, with_labels=True, alpha=1, node_size=500)\n",
    "G2.nodes\n",
    "nx.is_isomorphic(G1,G2)"
   ]
  },
  {
   "cell_type": "code",
   "execution_count": 8,
   "metadata": {
    "id": "IL3mcD5smDs2"
   },
   "outputs": [],
   "source": [
    "def add_variables(qp, G1, G2):\n",
    "    for u in G1.nodes:\n",
    "        for i in G2.nodes:\n",
    "            qp.binary_var(f\"x_{u}_{i}\")\n",
    "\n",
    "\n",
    "def one_node_connectG1(qp, G1, G2):\n",
    "    \n",
    "    for u in G2.nodes:\n",
    "        L = {}\n",
    "        for i in G1.nodes:\n",
    "            L[f\"x_{u}_{i}\"] = 1\n",
    "        qp.linear_constraint(linear = L, sense='E', rhs=1)\n",
    "\n",
    "\n",
    "def one_node_connectG2(qp, G1, G2):\n",
    "    for i in G1.nodes:\n",
    "        L = {}\n",
    "        for u in G2.nodes:\n",
    "            \n",
    "            L[f\"x_{u}_{i}\"] = 1\n",
    "        qp.linear_constraint(linear = L, sense='E', rhs=1)\n",
    "\n",
    "\n",
    "def get_objective(qp):\n",
    "    qdict = {}\n",
    "    for key, item in qp.variables_index.items():\n",
    "        qdict[item] = key\n",
    "\n",
    "    qp.objective.quadratic.to_dict()\n",
    "    Q_int = qp.objective.quadratic.to_dict()\n",
    "    L_int = qp.objective.linear.to_dict()\n",
    "    \n",
    "    Q = defaultdict(lambda: 0) \n",
    "    for k, v in Q_int.items():\n",
    "        k1 = k[0]\n",
    "        k2 = k[1]\n",
    "        Q[(qdict[k1], qdict[k2])] = v\n",
    "    \n",
    "    L = defaultdict(lambda: 0)\n",
    "    for k, v in L_int.items():\n",
    "        L[qdict[k]] = v\n",
    "\n",
    "    C = qp.objective.constant\n",
    "    return Q, L, C\n",
    "\n",
    "\n",
    "def not_in_edges1(qp, G1, G2, C2):\n",
    "\n",
    "    Q, L, C = get_objective(qp)\n",
    "\n",
    "#     for i,j in itertools.product(G1.nodes, G1.nodes): #original\n",
    "    for i,j in itertools.combinations(G1.nodes, 2):\n",
    "\n",
    "        if (i,j) not in G1.edges and i != j:\n",
    "            \n",
    "            \n",
    "            for u,v in itertools.combinations(G2.nodes, 2):# original\n",
    "            # for u,v in itertools.combinations(G2.nodes, 2):\n",
    "                if (u,v) in G2.edges:\n",
    "#                     print(i,j,u,v)\n",
    "                    Q[(f\"x_{u}_{i}\", f\"x_{v}_{j}\")] = C2*0\n",
    "    \n",
    "    qp.minimize(quadratic = Q, linear = L, constant = C)\n",
    "\n",
    "\n",
    "def not_in_edges2(qp, G1, G2, C2):\n",
    "\n",
    "    Q, L, C = get_objective(qp)\n",
    "    \n",
    "#     for i,j in itertools.product(G1.nodes, G1.nodes): #original\n",
    "        \n",
    "        \n",
    "    for i,j in itertools.combinations(G1.nodes, 2):\n",
    "        \n",
    "        if (i,j) in G1.edges:\n",
    "            \n",
    "            for u,v in itertools.combinations(G2.nodes, 2): #original\n",
    "            # for u,v in itertools.combinations(G2.nodes, 2):\n",
    "                \n",
    "                if (u,v) not in G2.edges and u != v:\n",
    "#                     print(i,j,u,v)\n",
    "                    Q[(f\"x_{u}_{i}\", f\"x_{v}_{j}\")] = C2*0\n",
    "    \n",
    "    qp.minimize(quadratic = Q, linear = L, constant = C)"
   ]
  },
  {
   "cell_type": "code",
   "execution_count": 9,
   "metadata": {
    "colab": {
     "base_uri": "https://localhost:8080/"
    },
    "id": "yLuXcPD3XUTh",
    "outputId": "85cbb1fc-68f8-422b-ef29-fbb4035e1693"
   },
   "outputs": [],
   "source": [
    "import dimod\n",
    "from dimod import BinaryQuadraticModel, AdjVectorBQM\n",
    "\n",
    "qp = QuadraticProgram()\n",
    "ineq2eq = InequalityToEquality()\n",
    "int2bin = IntegerToBinary()\n",
    "\n",
    "C1 = 1\n",
    "C2 = 1\n",
    "\n",
    "# print('Ration of: ', C2/C1)\n",
    "\n",
    "add_variables(qp, G1, G2)\n",
    "\n",
    "one_node_connectG1(qp, G1, G2)\n",
    "lineq2penalty = LinearEqualityToPenalty(penalty=C1)\n",
    "qp = lineq2penalty.convert(int2bin.convert(ineq2eq.convert(qp)))"
   ]
  },
  {
   "cell_type": "code",
   "execution_count": null,
   "metadata": {
    "scrolled": true
   },
   "outputs": [
    {
     "name": "stderr",
     "output_type": "stream",
     "text": [
      "C:\\Users\\ASUS\\anaconda3\\envs\\base1\\lib\\site-packages\\qiskit\\aqua\\operators\\operator_base.py:46: DeprecationWarning: The package qiskit.aqua.operators is deprecated. It was moved/refactored to qiskit.opflow (pip install qiskit-terra). For more information see <https://github.com/Qiskit/qiskit-aqua/blob/main/README.md#migration-guide>\n",
      "  warn_package('aqua.operators', 'qiskit.opflow', 'qiskit-terra')\n",
      "C:\\Users\\ASUS\\anaconda3\\envs\\base1\\lib\\site-packages\\qiskit\\aqua\\algorithms\\eigen_solvers\\eigen_solver.py:36: DeprecationWarning: The package qiskit.aqua.algorithms.eigen_solvers is deprecated. It was moved/refactored to qiskit.algorithms.eigen_solvers (pip install qiskit-terra). For more information see <https://github.com/Qiskit/qiskit-aqua/blob/main/README.md#migration-guide>\n",
      "  warn_package('aqua.algorithms.eigen_solvers',\n"
     ]
    }
   ],
   "source": [
    "from qiskit.optimization.converters import QuadraticProgramToQubo\n",
    "\n",
    "one_node_connectG2(qp, G1, G2)\n",
    "lineq2penalty = LinearEqualityToPenalty(penalty=C1)\n",
    "qp = lineq2penalty.convert(int2bin.convert(ineq2eq.convert(qp)))\n",
    "not_in_edges1(qp, G1, G2, C2)\n",
    "not_in_edges2(qp, G1, G2, C2)\n",
    "\n",
    "conv = QuadraticProgramToQubo()\n",
    "prob = conv.convert(qp)\n",
    "Hamiltonian  = prob.to_ising()[0]\n",
    "variables = prob.variables_index\n",
    "true_result = NumPyEigensolver(operator = Hamiltonian).run().eigenvalues"
   ]
  },
  {
   "cell_type": "code",
   "execution_count": null,
   "metadata": {},
   "outputs": [],
   "source": [
    "true_result"
   ]
  },
  {
   "cell_type": "code",
   "execution_count": 53,
   "metadata": {},
   "outputs": [],
   "source": [
    "optmizer = ADAM(maxiter = 100)\n",
    "seed = 10598\n",
    "backend = Aer.get_backend('qasm_simulator')\n",
    "quantum_instance = QuantumInstance(backend, seed_simulator=seed, seed_transpiler=seed)\n",
    "qaoa_solve = QAOA(Hamiltonian, optimizer = optmizer, p = 1, quantum_instance  = quantum_instance)"
   ]
  },
  {
   "cell_type": "code",
   "execution_count": 54,
   "metadata": {},
   "outputs": [],
   "source": [
    "# qaoa_solve.cleanup_parameterized_circuits\n",
    "initial_angle = np.random.random(2)\n",
    "# x = qaoa_solve.construct_circuit(initial_angle)"
   ]
  },
  {
   "cell_type": "code",
   "execution_count": 55,
   "metadata": {},
   "outputs": [
    {
     "data": {
      "text/plain": [
       "{'optimal_parameters': {ParameterVectorElement(θ[0]): 0.4178136349783352, ParameterVectorElement(θ[1]): 0.8860348069280014}, 'optimal_point': array([0.41781363, 0.88603481]), 'optimal_value': -73.333984375, 'optimizer_evals': 100, 'optimizer_time': 9783.31620168686, 'eigenvalue': (-73.333984375+0j), 'eigenstate': {'1101100000000001001000000': 1, '1010100000011110010011111': 1, '1101100001000010101110010': 1, '0100100000100001000100000': 1, '0000111010011001101000000': 1, '1101101111011100110001000': 1, '1111100000000100000000000': 1, '0000000000000000001011111': 2, '0000010001101101111000000': 1, '1101101000100000100000000': 1, '0101100000110011111100000': 1, '0000000000001101111011001': 1, '1110100000100100010011101': 1, '1101000000000001111100000': 1, '1010000001001100010000000': 1, '0000011011000001110110111': 1, '1001000010000000000010011': 1, '0000011111001110000000000': 1, '0000011110000001000100000': 1, '0011010111000001110100000': 1, '1001010000100001100000110': 1, '1011000000111110011100000': 1, '0000011011110111111100000': 1, '0000000000011000000011011': 1, '0000000111000011010011101': 1, '1000100000011010000000001': 1, '0000000000111010000010010': 1, '0000011101100100000011001': 1, '0000011000101110000011111': 1, '0010010101001010000100100': 1, '0010000110101000100011101': 1, '1111001000111110000000000': 1, '1011011111010011000000000': 1, '1110101000000000100000000': 1, '0000011100000000000011111': 1, '1100010111001010000000000': 1, '0110011101100001100111011': 1, '1101100001000000000000000': 1, '0000010111000000111100111': 1, '0001100000110010000101000': 1, '0000000000001110000011111': 1, '1001100111000001111111110': 1, '1111100000000000000000000': 4, '0111100000110010111000001': 1, '0000001000010111111100000': 1, '1101110100101110000001001': 1, '0000000000000101100011011': 1, '0000000000100111111100000': 1, '0000000000111110000010010': 1, '0111100000000000111100010': 1, '0000000000100010000001011': 1, '0000000100000110000011011': 1, '0000001110111100001001011': 1, '1101111001000001110100000': 1, '0000010010000011111100001': 1, '0000011110000001010100011': 1, '0000001000011110111000000': 1, '0101010100000000000000000': 1, '0100011001010000000011111': 1, '1111100000010011111100010': 1, '0011101010000001111110000': 1, '0000000000100000000011101': 1, '0100011111111110000011100': 1, '1111101000000000000001111': 1, '0000001000000001101010001': 1, '0000000000011111001111111': 1, '1010011011111111001100000': 1, '1010100000010101110100110': 1, '0010000100101110010000101': 1, '0111100000011111101100000': 1, '0000000001011110000001011': 1, '1101000000010111111100000': 1, '1110100000000001000100000': 1, '0000001000110110000001000': 1, '0000000101000000000011111': 1, '1011000100001000100110001': 1, '0000000000000010001111111': 1, '0000000000011110000001100': 1, '0011000010001110001111111': 1, '1111101110001000000001110': 1, '0000010111000010000000000': 1, '0000000000010110000000000': 2, '1110100000001000000011111': 1, '0000000000011010000000000': 1, '1011000010000001011000010': 1, '0000000100001001111110111': 1, '1000000000000000000010001': 1, '0000001001001000000100001': 1, '0101111010101110110100000': 1, '0000000000000000110001010': 1, '1101000000111110000000000': 1, '0000000010110110000000000': 1, '0000000000111110010000000': 2, '0000000110001010000000000': 1, '0000000000100110000011111': 1, '0000001111011101100000100': 1, '0100100011000000001100001': 1, '0000011100000110011000100': 1, '1111100000000000000001111': 1, '0000010111001110101010111': 1, '0100000010110101100100000': 1, '0000101111000000010110001': 1, '0000001101101110010000000': 1, '0000000100001111111110100': 1, '1011100000110110000000000': 1, '0001111000000000001000001': 1, '0000000000111110000011111': 2, '0000111111000000000100000': 1, '1010000100100001000001110': 1, '0100100000110001111010100': 1, '0111100001000001110100000': 1, '1111100110000000000000000': 1, '0000010111000000000000010': 1, '0000100001000000000001001': 1, '1011100000000000010000000': 1, '0000011101100100000111001': 1, '0001001011000000000011011': 1, '0000000000000001011110000': 1, '1011010011010110100100000': 1, '0000100011000010000000111': 1, '0000011011010110001000111': 1, '1111100000000000000010111': 1, '0011111000111110000001111': 1, '0000000000000001111100000': 3, '1111100000000001000100111': 1, '1101110011101110000010010': 1, '0100000000000100001011110': 1, '0111100000001110000000000': 1, '0100011100010001101101101': 1, '1000000000000011011110000': 1, '1011101101001000000010100': 1, '0101100010000000000001111': 1, '0000011111001001100001001': 1, '0000011110001100000000010': 1, '0000110101000000000010011': 1, '0100100010100100111011110': 1, '1100001000001100111000000': 1, '0000001011110110101111000': 1, '0111000000001110111100000': 1, '0000100000000010000100000': 1, '1110000100111000000000000': 1, '1011000000000000000000000': 1, '0000000101000000000001010': 1, '0100100111000000000000001': 1, '0110111111001000010001101': 1, '0000001100100111111100000': 1, '0000000010000000000011110': 1, '0000001111011100100101110': 1, '0000000000110111000100000': 1, '0000000001000010000000111': 1, '0000101000010010111100000': 1, '1010110101000000000100000': 1, '0111101000000000000011001': 1, '1110101100000100000000000': 1, '1110111101000001000010010': 1, '1011000000000000110100010': 1, '0101100010110110011100000': 1, '0000011111000010000011111': 1, '1111110010110010100101000': 1, '0000000000000000000011011': 1, '0001000001111110101110000': 1, '1011000000101110000000000': 1, '0000001111111101011000000': 1, '1001100000011110110000000': 1, '0000000000001011011100001': 1, '0000000000000011100100000': 1, '0000000100001000000000000': 1, '0000010101001110000001101': 1, '0000000000111110101101000': 1, '0000011110001100001010111': 1, '0000100000000000000001000': 1, '0000010000000001101100000': 1, '0000111111000001011100001': 1, '0111001110000001001100010': 1, '0000000100001000000001111': 1, '1110001000000000111011111': 1, '0000011000001110000000000': 1, '1100101000011010000001000': 1, '0000000000011110000001000': 1, '0000000000000000010001111': 1, '0101001000110110000000000': 1, '0000000000111110100000000': 1, '1001000000001000000000111': 1, '0010000000000000000000001': 1, '0010000000001000100000000': 1, '1000000000010000101111100': 1, '0000001011000000011100000': 1, '0000000000011110011011011': 1, '0000000000011000000001110': 1, '0110100000000010000100000': 1, '0001000000010010000011110': 1, '0000000100000000011011111': 1, '0000100001000001010100001': 1, '0101111000110010000000000': 1, '0110001110000110000001111': 1, '0000011111001100000000000': 1, '0110100000000000100100000': 1, '0100011001000000100000111': 1, '1111000110000000101111111': 1, '0000000000001000000100000': 1, '1101111001000001101011100': 1, '1011100000100110100100000': 1, '1101111010000000100100000': 1, '1001000000000000000010110': 1, '0000000011000001101011110': 1, '0000010101100100000000000': 1, '0000000010000000101011100': 1, '1110010111100000000010000': 1, '0000001000000001111000000': 1, '1001000001000010000100111': 1, '0100001000000010000000000': 1, '1111111010011110000000100': 1, '0000001101100100111100000': 1, '0000000000000001110110000': 1, '0000000000000001111011011': 1, '0000010111101110000011100': 1, '0100011000000000000011111': 1, '1001100001000000000001101': 1, '0101100000111100000000010': 1, '1111101100001101010000000': 1, '0011101010000000000000001': 1, '0001000000100001011110000': 1, '1110011001000110000000000': 1, '0010000100000001111100111': 1, '0011001111000000000000000': 1, '0000010101000100000000010': 1, '1001010101001011111001001': 1, '0000001110110100001000111': 1, '0001110000100001111110000': 1, '1000100000000000000010111': 1, '0000010010000000001010110': 1, '1100100000111110000000000': 1, '0000011011000001101100101': 1, '0000000000000001101110010': 1, '0000001110000001111110010': 1, '0001010000000000000000000': 1, '1010010000101000000011111': 1, '0000001111000000010000000': 1, '1001000111110110000001100': 1, '0000011011000000101100000': 1, '0101001011000001010100000': 1, '1111111101000001010011111': 1, '0000110000000011000011111': 1, '0000000000010110100100000': 1, '0000001001000000000011110': 1, '0000000000000110001001010': 1, '1111100100000001111100000': 1, '0000000000001101010001110': 1, '1111101101000000000001000': 1, '0000000000000001111111101': 1, '0001010110000000001000010': 1, '1110100001000010110000000': 1, '0010011111001000000000111': 1, '0000001111000101001100000': 1, '1101000111000000001011111': 1, '0110100000010000001111001': 1, '1101001100001101101111101': 1, '0000100001000010110100001': 1, '0000001000000000000011001': 1, '1111100010000000000001000': 1, '0100011110111110000000000': 1, '0011000000000000000011111': 1, '1110111111100000000010000': 1, '0000000000000001010000101': 1, '1011011111000001000011111': 1, '0010001100000000111100000': 1, '1000001000101111100101000': 1, '0000001111000000100000000': 1, '0000001100111010011100000': 1, '0000000000000001110001001': 1, '1101001000000000101011111': 1, '0000011111000001110011111': 1, '0000000000111110000000000': 4, '0000000010101010001001111': 1, '0111111101011011010000001': 1, '0000000000111111011101001': 1, '0000000000000001011111011': 1, '0000001111111110000000000': 1, '0001010110000001001101000': 1, '0000010001000000000011110': 1, '1011100000000000000001111': 1, '1111111100100000000000000': 1, '0100000000000000000000000': 1, '0000010011110101000011110': 1, '0101100000111100000000000': 1, '1111100101000010000000000': 1, '0001011110011100000001111': 1, '0001011000101110011000000': 1, '1101011011010110000000000': 1, '0000000000000000010000000': 1, '1101001001000000001000000': 1, '0000010000000001000111111': 1, '1110100000000000010000100': 1, '0000100000100001011111101': 1, '0001110101111011000000000': 1, '0000010110000001111100000': 1, '0000000000000000000000000': 4, '0100001001011100000000100': 1, '0100001000010000000001111': 1, '0000001111000100111000000': 1, '0000011101100000010100000': 1, '0000000000001000000000010': 1, '0000000100111100011000101': 1, '0000111111000000000100110': 1, '0011000010000000100111011': 1, '0010111011010110000000000': 1, '1000110100010000111101111': 1, '0010000000000001111010000': 1, '0000011101000000000000000': 1, '1101011111100110000010000': 1, '0100111010100010000000000': 1, '1011100000000001110110101': 1, '0010100000101010100000100': 1, '0000001010000001111000000': 1, '0111000101011000111110000': 1, '0000001001000001111001101': 1, '0000000000110001111110011': 1, '0000000000111101111100000': 2, '0000010111100010011100000': 1, '0000000000111010000010000': 1, '1010001110011001010000001': 1, '0101000000111100000001000': 1, '0000000000010000001000000': 1, '0000000000001100000011111': 2, '0001000000000001110100000': 1, '1110011101110010000011100': 1, '0000011011000000000000010': 1, '0110100000010000000011001': 1, '0100100010000000111000000': 1, '1000000000111011001111100': 1, '0111111111011110000000010': 1, '1110100000001110000010111': 1, '1110100001000010111001000': 1, '0000000100101110000000000': 1, '0000000000111101101000000': 1, '0110100000000000000011000': 1, '1101000000000001010100000': 1, '0000011111001011111000000': 1, '1011000010000000110011100': 1, '0011100000100110000100001': 1, '1111100000000000000010011': 1, '0000010000010001000010000': 1, '0000010000100000011011011': 1, '0000011000000000100000000': 1, '1000100000010011010100000': 1, '0011101110001000011100100': 1, '0001100001111011111100001': 1, '0010000101000000010000000': 1, '1111111011001010000000000': 1, '0000011110110100000001101': 1, '1110110100001001000000000': 1, '0000100000110110000000001': 1, '0000001000011101111100101': 1, '0000011100111101011000000': 1, '0000000000000000000011010': 1, '0000000000000010000000100': 1, '0000000000110100000001000': 1, '1111100000111000000011001': 1, '1000111111000000000010101': 1, '1110000011000001011000000': 1, '0000010010101110111000100': 1, '1011000000000001010011010': 1, '0101100010000001011100000': 1, '0000111011001010000010101': 1, '0010000000000001000100100': 1, '0001100000101101111101100': 1, '1110100000100111000011001': 1, '1101000000110100111100000': 1, '0000000000111010011000000': 1, '1011000000000101101111111': 1, '1000001111011110000000000': 1, '0000001000010001101100000': 1, '0000000000010000101111001': 1, '0000000001000100000111011': 1, '0101111111110100001000000': 1, '0101000010101111111111011': 1, '0010011111101000010001010': 1, '0000000100011000001100000': 1, '0000011011111011110000000': 1, '1111010000000000000010000': 1, '0000010100000000000000100': 1, '0000001101000001111100100': 1, '1111100100011001111100110': 1, '0000001000111000000000001': 1, '0000000000000001101100001': 1, '0000000000110110000010000': 1, '1010001100001001000100100': 1, '0111010110000001111111111': 1, '0001001111001100000000100': 1, '0010000000101110111000000': 1, '1010000010000000000000000': 1, '0000000000010110100000000': 1, '0111100000101110001000000': 1, '0111000000001001111100000': 1, '1111101000010110000000000': 1, '0000011101000000000010100': 1, '0111100100010000010001000': 1, '0000001000010000111101000': 1, '0000000000111110000010111': 1, '0000011100111010000000100': 1, '0000000000000111111111111': 1, '0110101010000010100000000': 1, '0001110111000000000000000': 1, '1111111111111010000000110': 1, '1000100010000000000000111': 1, '0000100000110110000000000': 1, '0111000010011110001100000': 1, '0000001101111110100100001': 1, '0000010011001010000000001': 1, '1010100000001000000011001': 1, '0110000000111000010001101': 1, '1111110010000000000000000': 1, '1111100000001000000000000': 1, '0000001110000010101000010': 1, '0000000110000000010011101': 1, '0000001001000001011011011': 1, '1101100000001011110101000': 1, '0000000011000100110100011': 1, '1110111000111110000000000': 1, '1000100000000000000111101': 1, '0000000000010001101100000': 1, '0001000000000000001001110': 1, '1010000000000001100101111': 1, '1001100100000000000010111': 1, '0000001100100001111100000': 1, '1101111110000000110010001': 1, '0100100000011100111100000': 1, '1111100010000100111000000': 1, '1111110101000001110010101': 1, '0000000000111010000000000': 3, '0000000001000001001011000': 1, '0001000000000010001100001': 1, '0000110000101111000000000': 1, '1011100010000000010001111': 1, '0000000000111010100001110': 1, '0011111000000000000100000': 1, '0001001111000000000011111': 1, '0010100100011111111100001': 1, '0101000000011110000011011': 1, '0000011101110000000000001': 1, '1010010000010001110001100': 1, '0100111110000001011010000': 1, '0000000000111110000000001': 1, '0110100000101011010000110': 1, '1110100000000001111100000': 1, '1011111110100000000000000': 1, '0000000010000000001001100': 1, '0000010111000000000010111': 1, '0001100000000111101000000': 1, '0011100000000000110100100': 1, '0011101110101100001011000': 1, '1010000000111110100001000': 1, '0111000000100110000000000': 1, '1110111001000001111100000': 1, '1110100000000001111011000': 1, '0000011011010110100000000': 1, '0000000001000000010000101': 1, '1111100000001110000000000': 1, '0110001111000000000011000': 1, '0000001111000000100001010': 1, '1111100001000100000011100': 1, '0000011101110011000000011': 1, '1011000000011111000100000': 1, '0000001010010010110100000': 1, '1001100000111110000000000': 1, '0000100001101110000000000': 1, '0001011111000000000000111': 1, '0000010101000001000010101': 1, '0000010111000001011000000': 1, '1001100001000001101110011': 1, '0000100010001100000100000': 1, '1010000000000000101011101': 1, '0000011111000000000011111': 1, '0001010111100101000010010': 1, '1110100000000000111000000': 1, '1110111101001010100100010': 1, '0111100000000001111000000': 1, '0000100000110111111100111': 1, '0000001111001010010000001': 1, '0000110000110011000000000': 1, '0100100000100101000010010': 1, '0000011010000000100001101': 1, '0011110110001000010100000': 1, '0000000000000011111110001': 1, '0000011101000000110001000': 1, '0000011110000000111100000': 1, '1011000000111110000011111': 1, '0001000010111110000010100': 1, '0000011110000000000001011': 1, '1011101010000000000000110': 1, '0011001011000001111100010': 1, '1111100111000010001110111': 1, '1111111100000000000000000': 1, '1110011100000000000000000': 1, '1110111100000000000010010': 1, '1111000000000001001111011': 1, '0101001000000000000001111': 1, '0000001111011110000000000': 1, '1111101100111111110000000': 1, '1000011111000000000000001': 1, '1111100000000101011010010': 1, '0000011010110110000000101': 1, '1000111000101101110000000': 1, '0000000000000000010110010': 1, '0100011011000010000001000': 1, '0000000001101010000000001': 1, '0000000000111110000011101': 1, '0000000000101000000000000': 1, '0100000000111100000000000': 1, '0000001111001110000000000': 1, '1000011000011010000000000': 1, '1111111110000001111000000': 1, '1111101101000001111101000': 1, '1111100000011100000011101': 1, '1111000000000000100100000': 1, '0111000010000000000000010': 1, '0110100000000001100111011': 1, '0000001111010100010100110': 1, '1000000000111111000000000': 1, '0000011011000001101100000': 1, '0000000000100001110001000': 1, '0000101010000011000100001': 1, '1111100101001001010011111': 1, '1010101101100110101011100': 1, '0101001000001000110101001': 1, '0101100001111010000000001': 1, '1011011111100101111100010': 1, '0000010100000100101100000': 1, '0011000000000000000011110': 1, '0011000000111111000100001': 1, '0010000000000001111001100': 1, '1111011000000000110001000': 1, '0000010010110010000011100': 1, '0101111111000000000000000': 1, '0101110000000000001111100': 1, '0000011111100111010000000': 1, '0000011101000011000100000': 1, '1111000000100000001010000': 1, '0000100001000001010101010': 1, '0111100000111110000000111': 1, '1001110011000000000001001': 1, '1001000000101010000101011': 1, '0010001110000000110000000': 1, '1100010000101101010110001': 1, '0000011011100110000100101': 1, '1101101101000000000010011': 1, '1100011110000001011100000': 1, '0000011011000000000011010': 1, '0101100000010000000010011': 1, '1001000000111000010000100': 1, '0001000000001100001001001': 1, '1100010011010111000100000': 1, '0011000000111000110000100': 1, '1001100001000010000000101': 1, '0000010110000000000000011': 1, '0001000000011110111011110': 1, '0010101010000000001000000': 1, '1011110110000001011101100': 1, '1111100010100100000001011': 1, '1101000000000000000000000': 1, '0001100000010000100011110': 1, '1110110000111110000001010': 1, '0000010000111100100000000': 1, '0000000000111111111000000': 2, '0000000010000100000001011': 1, '1110000010000100001100000': 1, '0000110000100000000010101': 1, '1110000101111100000010100': 1, '0000001110000000000001000': 1, '0101100010011110001000000': 1, '0000001110000100011000100': 1, '0000010111000000010010111': 1, '0000000011100010000001011': 1, '0000011111001001110000000': 1, '0000011100000000000001100': 1, '0011101101000010000100100': 1, '0000001000110010000011111': 1, '0011001111000100010000000': 1, '1111000000111110010000000': 1, '0000000000100110000010010': 1, '0000000010000000000000101': 1, '0000000000111100000010000': 1, '0000000000000001111100011': 1, '0000010111000001000100001': 1, '1111101101000001100000100': 1, '0000011111000000000001100': 2, '0000011101000011111100000': 1, '0011101101100100000000111': 1, '1000111010111111000000000': 1, '0010000111000000111100000': 1, '0000000000100011011110001': 1, '1010100000001001011100000': 1, '1101100000011000000011101': 1, '1010011101001000010001110': 1, '0001010100011110000011111': 1, '1111111100000000000101111': 1, '1110100000000010110100000': 1, '0111101111001001100001000': 1, '0000010001000001101100000': 1, '1110001000011010010010011': 1, '0000000100000110010000000': 1, '1111000000100000000010000': 1, '0000110101000001001110110': 1, '0000001011000000000011101': 1, '0001001000000000011010010': 1, '1101100000000100000011111': 1, '1011110000111000110010001': 1, '1110010000000001111011001': 1, '1001011101111110000011110': 1, '0000011111000000101110011': 1, '0000000100101001001000100': 1, '0000010001000001001100011': 1, '0000011010110110100011011': 1, '0011100000000000000000010': 1, '0000010100110001111100000': 1, '1011000000000010011011010': 1, '0001011111000000001000010': 1, '0100000000011110000011100': 1, '0111100001000000000010111': 1, '1001110111000000000101101': 1, '0000011110100100110011011': 1, '0000011100000001100010111': 1, '0011011110101010100100000': 1, '0000000000000111001101000': 1, '1111111110001100101100000': 1, '0000000000010101111010011': 1, '1110100000000000000000011': 1, '1111100001000010000000001': 1, '1111100000000001011100000': 1, '1111000111000001011000010': 1, '0000000000100001000000000': 1, '1101100000001010000001011': 1, '0110011111000000000000000': 1, '0000000100111110010000000': 1, '1101000000000001111101000': 1, '1110110000111110000000011': 1, '1110000000100001110110000': 1, '1111100000000110000011001': 1, '0111100000011101111100000': 1, '0000010000001000000010100': 1, '0101000000000000011100010': 1, '0000000000010001100001010': 1, '1111101000110100000000000': 1, '0000000000000001101100000': 1, '0000111110001101000000000': 1, '0001000000110101111100000': 1, '0000001101100010000100000': 1, '0111100000000110000001101': 1, '0000011100111110000000000': 1, '1111100100010000110011111': 1, '1110101101000000000000000': 1, '0000000000100101111100000': 1, '1111100100001000000001110': 1, '1110100000000000000010000': 1, '0100000000010001111001000': 1, '0100001000100001110010000': 1, '0100000000000000000001000': 1, '0100011010000001001101000': 1, '0000000000111111100000000': 1, '1111111111000000000000000': 1, '0010111111110000000011110': 1, '0000000000111101101111000': 1, '0011000000101101000011010': 1, '0000001100101000000011111': 1, '1110111111000000000001000': 1, '1110100000001101111110100': 1, '0000100010000010000000001': 1, '0000000000101110000001011': 1, '0000001001110110000000000': 1, '0001000011010100001000010': 1, '0000000101111110101010111': 1, '0000000000011101111001000': 1, '0010000000100000010000110': 1, '0100000000110100000001000': 1, '0000000000001111111100000': 1, '1000100000101000000011111': 1, '0000010000101111000100000': 1, '1100000010011110000000110': 1, '0110100001111110111111111': 1, '0000011110000000111000000': 1, '0001000010000000111011111': 1, '1111100100000000100000010': 1, '0000001010000001110110110': 1, '0100100001000000010100000': 1, '0000011111101000000000000': 1, '0000000000101101111100000': 1, '1110110001000000000011010': 1, '1111100000000000000000001': 1, '0000000000011001101100000': 1, '1111111010000000000011011': 1, '1101111011000000000011111': 1, '1011101101000000000000000': 1, '0000000000111110000010101': 1, '1101110111000000000000000': 1, '0000100000000000001000000': 1, '0110011011000000000010001': 1, '0000000100000000000000100': 1, '1101111100000000001000000': 1, '0000011111010011000010010': 1, '1010000000010000110001101': 1, '0010100001000000010100000': 1, '0000000110111111011100100': 1, '0000001010000001000111010': 1, '0111100001000000000000001': 1, '0000100010110100000000001': 1, '1010011111100001010010100': 1, '0000000000000001001011011': 1, '1110000000000001111001010': 1, '1001001001000000000011001': 1, '0010100001000010000000001': 1, '0000010000101000000011101': 1, '0000100000000010000001111': 1, '0000011111011010000000011': 1, '0001000000000110101111011': 1, '0110100100111011100110000': 1, '1001011100111000101001100': 1, '0000000010000001100001110': 1, '0000000000011000010000000': 1, '0100011100000000000001000': 1, '0000000000111100000000000': 1, '0000001011000010000001011': 1, '0000000000000010000011101': 1, '1111000000001100000001111': 1, '0000010011100000000011101': 1, '1001000000011100010100000': 1, '0111101010110000000000000': 1, '0111110111111110000000000': 1, '1010100010000000000100010': 1, '0000011101010000100011010': 1, '1010101110000000000000000': 1, '1001110000000000000011111': 1, '0001000011000000100011111': 1, '0000000000000001010100000': 1, '0110101010010000010100000': 1, '0000000100011000000000110': 1, '1101101000101001101011001': 1, '0000010111000000000011110': 1, '0000000000000000100000000': 1, '0000000000111111011100000': 1, '0001000111000000000100000': 1, '1111100111000000111000000': 1, '1100010011000001000100000': 1, '1011100000000001011000000': 1, '0000000000101010000011101': 1, '0110001000001000100011111': 1, '0010000000001010000001010': 1, '0011000000010110000001000': 1, '0000000000000001001110010': 1, '0000011111000001011100000': 1, '0000010000000001111010000': 1, '0111100000000101101100110': 1, '1100110011001010000000001': 1, '1101100000100001011010110': 1, '0000011011111011111000000': 1, '0010000000000000010000000': 1, '0000000000100111101100000': 1, '0101000000000000010111000': 1, '0001011111010110100000100': 1, '0000000000000001000010100': 1, '0101000000011110011011101': 1, '0010001111000100101000111': 1, '0000100000110110000100001': 1, '0001111111001100000011111': 1, '0000010000000000000000110': 1, '0000000000000000000010111': 1, '1000010000111101000000100': 1, '0000000000010101010000000': 1, '1111000000000001000011010': 1, '1011100000001110000100000': 1, '0110000110000000000001111': 1, '0000000000000000000101111': 1, '0111101000110010100001001': 1, '1101001000011110100011011': 1, '0000000000100010000000011': 1, '1000011111111011111100000': 1, '1011100000101001000000000': 1, '0110100000000000000110101': 1, '0000000000100010111111111': 1, '0011010101001101110111001': 1, '1111100000000100101101100': 1, '1111100010111101011000000': 1, '0000000000010100100101000': 1, '0000000001111110000100000': 1, '0100001000110001111110000': 1, '1111100000000010100001001': 1, '0000000000000001000011111': 1, '0000011011000000000011111': 1, '1000011010100000000010001': 1, '1100000000000001000110101': 1, '0000000000001011110010110': 1, '1101100000000001000100000': 1, '0011110010000001101100000': 1, '1111000000101110000000000': 1, '0110111111000000110100000': 1, '1000010000000001000110000': 1, '1010010010011100010100000': 1, '0000110111001110101101010': 1, '1110110010001010000011011': 1, '0000000010110100000000010': 1, '0000010001011010000000000': 1, '1000010000100001000011111': 1, '0000011010100000100011110': 1, '0000101100011011111100000': 1, '0010111011000001000010011': 1, '0000001000011100010000000': 1, '0000011111000000001011010': 1, '0000000000111111110100000': 1, '1110010111001010000011111': 1, '1101000000010000000001011': 1, '0110100000001000011101110': 1, '0000000000111000000011111': 1, '1011001110001000000000000': 1, '0000000000100000000000000': 1, '0000001111110100000000000': 1, '0010110011100010000000000': 1, '1000010111000000000010000': 1, '1010110000000001111000000': 1, '0000011011111001001100101': 1, '0000000000101001111100000': 1, '1110010100111110000010111': 1, '0010100000011111111000000': 1, '0000011010111000000000000': 1, '1010111111000000110000100': 1, '0000011011011110000000000': 1, '0000001110001010011000000': 1, '0000000000111010000000001': 1, '1010100011101111010111110': 1, '0001001000001000010010001': 1, '1111101011001100000000000': 1, '0000010110100010000011111': 1, '1100011011000100000001110': 1, '1010100000000000000000000': 1, '0000000000110010000110111': 1, '0000011001011110000000000': 1, '0001000001000000001011111': 1, '0000000000000000000010011': 1, '0001001111010001010001000': 1, '1111111111100001000010010': 1, '1111010000000001000100100': 1, '0000100000000111010100000': 1, '0010000000000000010000101': 1, '0000000000100001110011111': 1, '1010110000100101100000000': 1, '0001000000111110000000000': 1, '0000000000000101101000000': 1, '0000000010000000010001000': 1, '1100101100000000000011011': 1, '0011011011000001101100010': 1, '0110111111001010100000000': 1, '0000000000111010101111101': 1, '1000000100100100000000100': 1, '1100100000010010000000000': 1, '0000000000101101000010101': 1, '0000011111000000000000000': 1, '1000010000000000000011101': 1, '1100100000011110000001101': 1, '1111011001000001000010000': 1, '0000000000000001101111111': 2, '0100011100000000100011010': 1, '1000010000110010000010000': 1, '0000010101000001010111111': 1, '1000011010111100000000000': 1, '0000000000111110100001000': 1, '1101110001101100000000010': 1, '0000000000000000000010000': 1, '1111100000000010000000000': 1, '1000000000000001000011101': 1, '0000111011000110000000000': 1, '1001110100000110001000010': 1, '1000101010000000100100001': 1, '0001011010000000000001010': 1, '0000001011000000101111011': 1, '1000110001100010011100001': 1, '0000011100000000100011110': 1, '1101100001000010110100001': 1, '0000100000000000000001111': 1, '0101011100010000100000000': 1, '0011111011000000000000000': 1, '1010001100000000000000100': 1, '0000000000111110100011110': 1, '0000011001100110000100000': 1, '0111011100000000000011111': 1, '0000100000111111111110010': 1, '1001000000000010000101011': 1, '0100100000111000100001000': 1, '0011101101000000000000000': 1, '1101000000000001111111010': 1, '1010110011000010000100000': 1, '0000001000000000000011011': 1, '1000000000111011010100000': 1, '0000001110000000001011111': 1, '0000000000101100001001111': 1, '1101010000011000100010000': 1, '0000000001000000110000000': 1, '0001000010110110001000000': 1, '0000000000000001010011111': 1, '1111000000000001001000000': 1, '0000011001110100000011011': 1, '1001111101000010000000001': 1, '1110111000000000000011001': 1, '0111011010000001111100010': 1, '1001001111010000000000000': 1, '0000000000110110000100000': 1, '0011000001110010000110111': 1, '1011000011011101111101101': 1, '0010000000000000001011110': 1, '0000000000000000000010110': 1, '1000000000000000000110000': 1, '0000100000000000000000001': 1, '0000010010111110010100000': 1, '1001100000110000000001111': 1, '1111100100000000010000100': 1, '0001100000111110000000000': 1, '1101100000000001100100000': 1, '1111000000110111000010000': 1, '1111100000000001001111110': 1, '1001100010010000101000000': 1, '0000000010000000000011011': 1, '1110100000011110000000001': 1, '1100010001111010001100000': 1, '0000100000000000000000100': 1, '1100000010100100001011101': 1, '0000000000000000011100000': 1, '0010000000010110111000111': 1, '0000001111101100000000000': 1, '0111100111111010000000000': 1, '0000100000000001010111101': 1, '0000000000000001000010000': 1, '1100110000111110000010000': 1, '0000011111000001001111111': 1, '0000000000000001111101100': 1, '0100000000000001000011010': 1, '0001000010000101100000000': 1, '0000001000000000111100000': 1, '0000000000100110110100000': 1, '1010101000001000000010100': 1, '0001010111111110010001000': 1, '0000000000000001100000011': 1, '0000000000000000111100000': 1, '0110111111000001100000000': 1, '0000010000100001011100000': 1, '1001101010000000000010111': 1, '0000001100000000000001111': 1, '0000011111110110000100000': 1, '0111111110010010000100000': 1, '0000010101000000000010111': 1, '1000011101100001111000000': 1, '0110000000111101010000100': 1, '1100100000000000001100000': 1, '0000010000111010000010000': 1, '0001000000111110001001000': 1, '0000010101111110000000000': 1, '1110100100000001111100000': 1, '1101100000011100000000000': 1, '0000010000111110000010000': 1, '0000000000000000000100000': 1, '0000011111000001001000010': 1, '1010000000101000001100100': 1, '1111110011000010000000000': 1, '0000000001001100001000000': 1, '0111011100111000000011101': 1, '0111100000001010010000000': 1, '1011001001111110000011010': 1, '1010100000000001110011011': 1, '0000000100101110011000000': 1, '1000000000111100000010011': 1, '1110100000010001100100000': 1, '1001100000001010010000100': 1, '1100111101000000000000000': 1, '0100100001000001110101000': 1, '0100011001000000000010000': 1, '0000011111000001110000000': 1, '0000000000111110000001010': 1, '0000001100000001111110011': 1, '0000011111010001101001000': 1, '0100111010011010000001000': 1, '1111100000000000010000100': 1, '0111100001000000001000111': 1, '1010100000100001000110000': 1, '0000000001000101011100001': 1, '0001000000001110111100010': 1, '0110100000010000000000000': 1, '0000000000100110001100000': 1, '0000000000000001110100000': 1, '1010000000111011111100000': 1, '1000000000100011101010010': 1, '0000000000010000111101011': 1, '0010000000000000000011010': 1, '1111111101000001001101100': 1, '0100001101010000100101000': 1, '0000100000111011001000000': 1, '1101100001000010000000000': 1, '0000000000001000000011111': 1, '0101100000000100101010100': 1, '1110100000001000000000000': 1, '1111011110000000000000000': 1, '0101110100010000000000000': 1, '1000010000101110000011011': 1, '1111001001000000000000000': 1, '0010000001111100100000000': 1, '0110011111000000010001001': 1, '1001101101111100000110110': 1}, 'cost_function_evals': 100}"
      ]
     },
     "execution_count": 55,
     "metadata": {},
     "output_type": "execute_result"
    }
   ],
   "source": [
    "qaoa_solve.run()"
   ]
  },
  {
   "cell_type": "code",
   "execution_count": 28,
   "metadata": {},
   "outputs": [],
   "source": [
    "Q_mat = AdjVectorBQM(qp.objective.linear.to_dict(), qp.objective.quadratic.to_dict(), \n",
    "                      qp.objective.constant, vartype='BINARY').to_numpy_matrix()\n",
    "\n",
    "Q, offset = AdjVectorBQM(qp.objective.linear.to_dict(), qp.objective.quadratic.to_dict(), \n",
    "                      qp.objective.constant, vartype='BINARY').to_qubo()"
   ]
  },
  {
   "cell_type": "code",
   "execution_count": 29,
   "metadata": {
    "colab": {
     "base_uri": "https://localhost:8080/"
    },
    "id": "UxPvwL_i_FuU",
    "outputId": "48c90b22-3026-413c-ebab-6db3d5b0726b"
   },
   "outputs": [
    {
     "name": "stdout",
     "output_type": "stream",
     "text": [
      "[-2.  2.  2.  2.  2.  2.  0.  0.  0.  0.  2.  0.  0.  0.  0.  2.  0.  0.\n",
      "  0.  0.  2.  0.  0.  0.  0.]\n",
      "[ 0. -2.  2.  2.  2.  0.  2.  0.  0.  0.  0.  2.  0.  0.  0.  0.  2.  0.\n",
      "  0.  0.  0.  2.  0.  0.  0.]\n",
      "[ 0.  0. -2.  2.  2.  0.  0.  2.  0.  0.  0.  0.  2.  0.  0.  0.  0.  2.\n",
      "  0.  0.  0.  0.  2.  0.  0.]\n",
      "[ 0.  0.  0. -2.  2.  0.  0.  0.  2.  0.  0.  0.  0.  2.  0.  0.  0.  0.\n",
      "  2.  0.  0.  0.  0.  2.  0.]\n",
      "[ 0.  0.  0.  0. -2.  0.  0.  0.  0.  2.  0.  0.  0.  0.  2.  0.  0.  0.\n",
      "  0.  2.  0.  0.  0.  0.  2.]\n",
      "[ 0.  0.  0.  0.  0. -2.  2.  2.  2.  2.  2.  0.  0.  0.  0.  2.  0.  0.\n",
      "  0.  0.  2.  0.  0.  0.  0.]\n",
      "[ 0.  0.  0.  0.  0.  0. -2.  2.  2.  2.  0.  2.  0.  0.  0.  0.  2.  0.\n",
      "  0.  0.  0.  2.  0.  0.  0.]\n",
      "[ 0.  0.  0.  0.  0.  0.  0. -2.  2.  2.  0.  0.  2.  0.  0.  0.  0.  2.\n",
      "  0.  0.  0.  0.  2.  0.  0.]\n",
      "[ 0.  0.  0.  0.  0.  0.  0.  0. -2.  2.  0.  0.  0.  2.  0.  0.  0.  0.\n",
      "  2.  0.  0.  0.  0.  2.  0.]\n",
      "[ 0.  0.  0.  0.  0.  0.  0.  0.  0. -2.  0.  0.  0.  0.  2.  0.  0.  0.\n",
      "  0.  2.  0.  0.  0.  0.  2.]\n",
      "[ 0.  0.  0.  0.  0.  0.  0.  0.  0.  0. -2.  2.  2.  2.  2.  2.  0.  0.\n",
      "  0.  0.  2.  0.  0.  0.  0.]\n",
      "[ 0.  0.  0.  0.  0.  0.  0.  0.  0.  0.  0. -2.  2.  2.  2.  0.  2.  0.\n",
      "  0.  0.  0.  2.  0.  0.  0.]\n",
      "[ 0.  0.  0.  0.  0.  0.  0.  0.  0.  0.  0.  0. -2.  2.  2.  0.  0.  2.\n",
      "  0.  0.  0.  0.  2.  0.  0.]\n",
      "[ 0.  0.  0.  0.  0.  0.  0.  0.  0.  0.  0.  0.  0. -2.  2.  0.  0.  0.\n",
      "  2.  0.  0.  0.  0.  2.  0.]\n",
      "[ 0.  0.  0.  0.  0.  0.  0.  0.  0.  0.  0.  0.  0.  0. -2.  0.  0.  0.\n",
      "  0.  2.  0.  0.  0.  0.  2.]\n",
      "[ 0.  0.  0.  0.  0.  0.  0.  0.  0.  0.  0.  0.  0.  0.  0. -2.  2.  2.\n",
      "  2.  2.  2.  0.  0.  0.  0.]\n",
      "[ 0.  0.  0.  0.  0.  0.  0.  0.  0.  0.  0.  0.  0.  0.  0.  0. -2.  2.\n",
      "  2.  2.  0.  2.  0.  0.  0.]\n",
      "[ 0.  0.  0.  0.  0.  0.  0.  0.  0.  0.  0.  0.  0.  0.  0.  0.  0. -2.\n",
      "  2.  2.  0.  0.  2.  0.  0.]\n",
      "[ 0.  0.  0.  0.  0.  0.  0.  0.  0.  0.  0.  0.  0.  0.  0.  0.  0.  0.\n",
      " -2.  2.  0.  0.  0.  2.  0.]\n",
      "[ 0.  0.  0.  0.  0.  0.  0.  0.  0.  0.  0.  0.  0.  0.  0.  0.  0.  0.\n",
      "  0. -2.  0.  0.  0.  0.  2.]\n",
      "[ 0.  0.  0.  0.  0.  0.  0.  0.  0.  0.  0.  0.  0.  0.  0.  0.  0.  0.\n",
      "  0.  0. -2.  2.  2.  2.  2.]\n",
      "[ 0.  0.  0.  0.  0.  0.  0.  0.  0.  0.  0.  0.  0.  0.  0.  0.  0.  0.\n",
      "  0.  0.  0. -2.  2.  2.  2.]\n",
      "[ 0.  0.  0.  0.  0.  0.  0.  0.  0.  0.  0.  0.  0.  0.  0.  0.  0.  0.\n",
      "  0.  0.  0.  0. -2.  2.  2.]\n",
      "[ 0.  0.  0.  0.  0.  0.  0.  0.  0.  0.  0.  0.  0.  0.  0.  0.  0.  0.\n",
      "  0.  0.  0.  0.  0. -2.  2.]\n",
      "[ 0.  0.  0.  0.  0.  0.  0.  0.  0.  0.  0.  0.  0.  0.  0.  0.  0.  0.\n",
      "  0.  0.  0.  0.  0.  0. -2.]\n"
     ]
    }
   ],
   "source": [
    "def matprint(mat, fmt=\"g\"):\n",
    "    col_maxes = [max([len((\"{:\"+fmt+\"}\").format(x)) for x in col]) for col in mat.T]\n",
    "    for x in mat:\n",
    "        for i, y in enumerate(x):\n",
    "            print((\"{:\"+str(col_maxes[i])+fmt+\"}\").format(y), end=\"  \")\n",
    "        print(\"\")\n",
    "\n",
    "# matprint(Q_mat)\n",
    "for i in range(len(Q_mat)):\n",
    "    print(Q_mat[i])"
   ]
  },
  {
   "cell_type": "code",
   "execution_count": 30,
   "metadata": {
    "id": "lM9wIoRl-IF6"
   },
   "outputs": [
    {
     "name": "stdout",
     "output_type": "stream",
     "text": [
      "offset: 10.0\n",
      "10.0\n",
      "[0. 0. 0. 0. 0. 0. 0. 0. 0. 0. 0. 0. 0. 0. 0. 0. 0. 0. 0. 0. 0. 0. 0. 0.\n",
      " 0. 0. 0. 0. 0. 0. 0. 0. 0. 0. 0. 0. 0. 0. 0. 0. 0. 0. 0. 0. 0. 0. 0. 0.\n",
      " 0. 0. 0. 0. 0. 0. 0. 0. 0. 0. 0. 0. 0. 0. 0. 0. 0. 0. 0. 0. 0. 0. 0. 0.\n",
      " 0. 0. 0. 0. 0. 0. 0. 0. 2. 2. 2. 2. 2. 2. 2. 2. 2. 2. 2. 2. 2. 2. 2. 2.\n",
      " 4. 4. 4. 4.]\n"
     ]
    }
   ],
   "source": [
    "print('offset:', offset)\n",
    "\n",
    "s = neal.SimulatedAnnealingSampler()\n",
    "sampleset = s.sample_qubo(Q, beta_range=(5, 100), num_sweeps=20000, num_reads=100,\n",
    "                        beta_schedule_type='geometric')\n",
    "\n",
    "\n",
    "energies = []\n",
    "for datum in sampleset.data(fields=[\"sample\", \"energy\"]):\n",
    "    energies.append(datum.energy)\n",
    "\n",
    "print(offset)\n",
    "print(energies+offset)\n",
    "# print(Q_mat)"
   ]
  },
  {
   "cell_type": "code",
   "execution_count": 31,
   "metadata": {
    "colab": {
     "base_uri": "https://localhost:8080/"
    },
    "id": "nsoVLc1LlFDl",
    "outputId": "0d5e3073-cf56-4cfc-ad27-5b1efb5acd04"
   },
   "outputs": [
    {
     "name": "stdout",
     "output_type": "stream",
     "text": [
      "Offset: 37.5\n",
      "Ising Hamiltonian:\n",
      "IIIIIIIIIIIIIIIIIIIIIIIZZ\t(0.5+0j)\n",
      "IIIIIIIIIIIIIIIIIIIIIIZIZ\t(0.5+0j)\n",
      "IIIIIIIIIIIIIIIIIIIIIZIIZ\t(0.5+0j)\n",
      "IIIIIIIIIIIIIIIIIIIIZIIIZ\t(0.5+0j)\n",
      "IIIIIIIIIIIIIIIIIIIZIIIIZ\t(0.5+0j)\n",
      "IIIIIIIIIIIIIIZIIIIIIIIIZ\t(0.5+0j)\n",
      "IIIIIIIIIZIIIIIIIIIIIIIIZ\t(0.5+0j)\n",
      "IIIIZIIIIIIIIIIIIIIIIIIIZ\t(0.5+0j)\n",
      "IIIIIIIIIIIIIIIIIIIIIIZZI\t(0.5+0j)\n",
      "IIIIIIIIIIIIIIIIIIIIIZIZI\t(0.5+0j)\n",
      "IIIIIIIIIIIIIIIIIIIIZIIZI\t(0.5+0j)\n",
      "IIIIIIIIIIIIIIIIIIZIIIIZI\t(0.5+0j)\n",
      "IIIIIIIIIIIIIZIIIIIIIIIZI\t(0.5+0j)\n",
      "IIIIIIIIZIIIIIIIIIIIIIIZI\t(0.5+0j)\n",
      "IIIZIIIIIIIIIIIIIIIIIIIZI\t(0.5+0j)\n",
      "IIIIIIIIIIIIIIIIIIIIIZZII\t(0.5+0j)\n",
      "IIIIIIIIIIIIIIIIIIIIZIZII\t(0.5+0j)\n",
      "IIIIIIIIIIIIIIIIIZIIIIZII\t(0.5+0j)\n",
      "IIIIIIIIIIIIZIIIIIIIIIZII\t(0.5+0j)\n",
      "IIIIIIIZIIIIIIIIIIIIIIZII\t(0.5+0j)\n",
      "IIZIIIIIIIIIIIIIIIIIIIZII\t(0.5+0j)\n",
      "IIIIIIIIIIIIIIIIIIIIZZIII\t(0.5+0j)\n",
      "IIIIIIIIIIIIIIIIZIIIIZIII\t(0.5+0j)\n",
      "IIIIIIIIIIIZIIIIIIIIIZIII\t(0.5+0j)\n",
      "IIIIIIZIIIIIIIIIIIIIIZIII\t(0.5+0j)\n",
      "IZIIIIIIIIIIIIIIIIIIIZIII\t(0.5+0j)\n",
      "IIIIIIIIIIIIIIIZIIIIZIIII\t(0.5+0j)\n",
      "IIIIIIIIIIZIIIIIIIIIZIIII\t(0.5+0j)\n",
      "IIIIIZIIIIIIIIIIIIIIZIIII\t(0.5+0j)\n",
      "ZIIIIIIIIIIIIIIIIIIIZIIII\t(0.5+0j)\n",
      "IIIIIIIIIIIIIIIIIIZZIIIII\t(0.5+0j)\n",
      "IIIIIIIIIIIIIIIIIZIZIIIII\t(0.5+0j)\n",
      "IIIIIIIIIIIIIIIIZIIZIIIII\t(0.5+0j)\n",
      "IIIIIIIIIIIIIIIZIIIZIIIII\t(0.5+0j)\n",
      "IIIIIIIIIIIIIIZIIIIZIIIII\t(0.5+0j)\n",
      "IIIIIIIIIZIIIIIIIIIZIIIII\t(0.5+0j)\n",
      "IIIIZIIIIIIIIIIIIIIZIIIII\t(0.5+0j)\n",
      "IIIIIIIIIIIIIIIIIZZIIIIII\t(0.5+0j)\n",
      "IIIIIIIIIIIIIIIIZIZIIIIII\t(0.5+0j)\n",
      "IIIIIIIIIIIIIIIZIIZIIIIII\t(0.5+0j)\n",
      "IIIIIIIIIIIIIZIIIIZIIIIII\t(0.5+0j)\n",
      "IIIIIIIIZIIIIIIIIIZIIIIII\t(0.5+0j)\n",
      "IIIZIIIIIIIIIIIIIIZIIIIII\t(0.5+0j)\n",
      "IIIIIIIIIIIIIIIIZZIIIIIII\t(0.5+0j)\n",
      "IIIIIIIIIIIIIIIZIZIIIIIII\t(0.5+0j)\n",
      "IIIIIIIIIIIIZIIIIZIIIIIII\t(0.5+0j)\n",
      "IIIIIIIZIIIIIIIIIZIIIIIII\t(0.5+0j)\n",
      "IIZIIIIIIIIIIIIIIZIIIIIII\t(0.5+0j)\n",
      "IIIIIIIIIIIIIIIZZIIIIIIII\t(0.5+0j)\n",
      "IIIIIIIIIIIZIIIIZIIIIIIII\t(0.5+0j)\n",
      "IIIIIIZIIIIIIIIIZIIIIIIII\t(0.5+0j)\n",
      "IZIIIIIIIIIIIIIIZIIIIIIII\t(0.5+0j)\n",
      "IIIIIIIIIIZIIIIZIIIIIIIII\t(0.5+0j)\n",
      "IIIIIZIIIIIIIIIZIIIIIIIII\t(0.5+0j)\n",
      "ZIIIIIIIIIIIIIIZIIIIIIIII\t(0.5+0j)\n",
      "IIIIIIIIIIIIIZZIIIIIIIIII\t(0.5+0j)\n",
      "IIIIIIIIIIIIZIZIIIIIIIIII\t(0.5+0j)\n",
      "IIIIIIIIIIIZIIZIIIIIIIIII\t(0.5+0j)\n",
      "IIIIIIIIIIZIIIZIIIIIIIIII\t(0.5+0j)\n",
      "IIIIIIIIIZIIIIZIIIIIIIIII\t(0.5+0j)\n",
      "IIIIZIIIIIIIIIZIIIIIIIIII\t(0.5+0j)\n",
      "IIIIIIIIIIIIZZIIIIIIIIIII\t(0.5+0j)\n",
      "IIIIIIIIIIIZIZIIIIIIIIIII\t(0.5+0j)\n",
      "IIIIIIIIIIZIIZIIIIIIIIIII\t(0.5+0j)\n",
      "IIIIIIIIZIIIIZIIIIIIIIIII\t(0.5+0j)\n",
      "IIIZIIIIIIIIIZIIIIIIIIIII\t(0.5+0j)\n",
      "IIIIIIIIIIIZZIIIIIIIIIIII\t(0.5+0j)\n",
      "IIIIIIIIIIZIZIIIIIIIIIIII\t(0.5+0j)\n",
      "IIIIIIIZIIIIZIIIIIIIIIIII\t(0.5+0j)\n",
      "IIZIIIIIIIIIZIIIIIIIIIIII\t(0.5+0j)\n",
      "IIIIIIIIIIZZIIIIIIIIIIIII\t(0.5+0j)\n",
      "IIIIIIZIIIIZIIIIIIIIIIIII\t(0.5+0j)\n",
      "IZIIIIIIIIIZIIIIIIIIIIIII\t(0.5+0j)\n",
      "IIIIIZIIIIZIIIIIIIIIIIIII\t(0.5+0j)\n",
      "ZIIIIIIIIIZIIIIIIIIIIIIII\t(0.5+0j)\n",
      "IIIIIIIIZZIIIIIIIIIIIIIII\t(0.5+0j)\n",
      "IIIIIIIZIZIIIIIIIIIIIIIII\t(0.5+0j)\n",
      "IIIIIIZIIZIIIIIIIIIIIIIII\t(0.5+0j)\n",
      "IIIIIZIIIZIIIIIIIIIIIIIII\t(0.5+0j)\n",
      "IIIIZIIIIZIIIIIIIIIIIIIII\t(0.5+0j)\n",
      "IIIIIIIZZIIIIIIIIIIIIIIII\t(0.5+0j)\n",
      "IIIIIIZIZIIIIIIIIIIIIIIII\t(0.5+0j)\n",
      "IIIIIZIIZIIIIIIIIIIIIIIII\t(0.5+0j)\n",
      "IIIZIIIIZIIIIIIIIIIIIIIII\t(0.5+0j)\n",
      "IIIIIIZZIIIIIIIIIIIIIIIII\t(0.5+0j)\n",
      "IIIIIZIZIIIIIIIIIIIIIIIII\t(0.5+0j)\n",
      "IIZIIIIZIIIIIIIIIIIIIIIII\t(0.5+0j)\n",
      "IIIIIZZIIIIIIIIIIIIIIIIII\t(0.5+0j)\n",
      "IZIIIIZIIIIIIIIIIIIIIIIII\t(0.5+0j)\n",
      "ZIIIIZIIIIIIIIIIIIIIIIIII\t(0.5+0j)\n",
      "IIIZZIIIIIIIIIIIIIIIIIIII\t(0.5+0j)\n",
      "IIZIZIIIIIIIIIIIIIIIIIIII\t(0.5+0j)\n",
      "IZIIZIIIIIIIIIIIIIIIIIIII\t(0.5+0j)\n",
      "ZIIIZIIIIIIIIIIIIIIIIIIII\t(0.5+0j)\n",
      "IIZZIIIIIIIIIIIIIIIIIIIII\t(0.5+0j)\n",
      "IZIZIIIIIIIIIIIIIIIIIIIII\t(0.5+0j)\n",
      "ZIIZIIIIIIIIIIIIIIIIIIIII\t(0.5+0j)\n",
      "IZZIIIIIIIIIIIIIIIIIIIIII\t(0.5+0j)\n",
      "ZIZIIIIIIIIIIIIIIIIIIIIII\t(0.5+0j)\n",
      "ZZIIIIIIIIIIIIIIIIIIIIIII\t(0.5+0j)\n",
      "IIIIIIIIIIIIIIIIIIIIIIIIZ\t(-4+0j)\n",
      "IIIIIIIIIIIIIIIIIIIIIIIZI\t(-3.5+0j)\n",
      "IIIIIIIIIIIIIIIIIIIIIIZII\t(-3+0j)\n",
      "IIIIIIIIIIIIIIIIIIIIIZIII\t(-2.5+0j)\n",
      "IIIIIIIIIIIIIIIIIIIIZIIII\t(-2+0j)\n",
      "IIIIIIIIIIIIIIIIIIIZIIIII\t(-3.5+0j)\n",
      "IIIIIIIIIIIIIIIIIIZIIIIII\t(-3+0j)\n",
      "IIIIIIIIIIIIIIIIIZIIIIIII\t(-2.5+0j)\n",
      "IIIIIIIIIIIIIIIIZIIIIIIII\t(-2+0j)\n",
      "IIIIIIIIIIIIIIIZIIIIIIIII\t(-1.5+0j)\n",
      "IIIIIIIIIIIIIIZIIIIIIIIII\t(-3+0j)\n",
      "IIIIIIIIIIIIIZIIIIIIIIIII\t(-2.5+0j)\n",
      "IIIIIIIIIIIIZIIIIIIIIIIII\t(-2+0j)\n",
      "IIIIIIIIIIIZIIIIIIIIIIIII\t(-1.5+0j)\n",
      "IIIIIIIIIIZIIIIIIIIIIIIII\t(-1+0j)\n",
      "IIIIIIIIIZIIIIIIIIIIIIIII\t(-2.5+0j)\n",
      "IIIIIIIIZIIIIIIIIIIIIIIII\t(-2+0j)\n",
      "IIIIIIIZIIIIIIIIIIIIIIIII\t(-1.5+0j)\n",
      "IIIIIIZIIIIIIIIIIIIIIIIII\t(-1+0j)\n",
      "IIIIIZIIIIIIIIIIIIIIIIIII\t(-0.5+0j)\n",
      "IIIIZIIIIIIIIIIIIIIIIIIII\t(-2+0j)\n",
      "IIIZIIIIIIIIIIIIIIIIIIIII\t(-1.5+0j)\n",
      "IIZIIIIIIIIIIIIIIIIIIIIII\t(-1+0j)\n",
      "IZIIIIIIIIIIIIIIIIIIIIIII\t(-0.5+0j)\n",
      "\n",
      "// This file has been generated by DOcplex\n",
      "// model name is: AnonymousModel\n",
      "// single vars section\n",
      "dvar bool x_0;\n",
      "dvar bool x_1;\n",
      "dvar bool x_2;\n",
      "dvar bool x_3;\n",
      "dvar bool x_4;\n",
      "dvar bool x_5;\n",
      "dvar bool x_6;\n",
      "dvar bool x_7;\n",
      "dvar bool x_8;\n",
      "dvar bool x_9;\n",
      "dvar bool x_10;\n",
      "dvar bool x_11;\n",
      "dvar bool x_12;\n",
      "dvar bool x_13;\n",
      "dvar bool x_14;\n",
      "dvar bool x_15;\n",
      "dvar bool x_16;\n",
      "dvar bool x_17;\n",
      "dvar bool x_18;\n",
      "dvar bool x_19;\n",
      "dvar bool x_20;\n",
      "dvar bool x_21;\n",
      "dvar bool x_22;\n",
      "dvar bool x_23;\n",
      "dvar bool x_24;\n",
      "\n",
      "minimize\n",
      " [ 2 x_0*x_1 + 2 x_0*x_2 + 2 x_0*x_3 + 2 x_0*x_4 + 2 x_0*x_5 + 2 x_0*x_10\n",
      " + 2 x_0*x_15 + 2 x_0*x_20 - x_1^2 + 2 x_1*x_2 + 2 x_1*x_3 + 2 x_1*x_4\n",
      " + 2 x_1*x_6 + 2 x_1*x_11 + 2 x_1*x_16 + 2 x_1*x_21 - 2 x_2^2 + 2 x_2*x_3\n",
      " + 2 x_2*x_4 + 2 x_2*x_7 + 2 x_2*x_12 + 2 x_2*x_17 + 2 x_2*x_22 - 3 x_3^2\n",
      " + 2 x_3*x_4 + 2 x_3*x_8 + 2 x_3*x_13 + 2 x_3*x_18 + 2 x_3*x_23 - 4 x_4^2\n",
      " + 2 x_4*x_9 + 2 x_4*x_14 + 2 x_4*x_19 + 2 x_4*x_24 - x_5^2 + 2 x_5*x_6\n",
      " + 2 x_5*x_7 + 2 x_5*x_8 + 2 x_5*x_9 + 2 x_5*x_10 + 2 x_5*x_15 + 2 x_5*x_20\n",
      " - 2 x_6^2 + 2 x_6*x_7 + 2 x_6*x_8 + 2 x_6*x_9 + 2 x_6*x_11 + 2 x_6*x_16\n",
      " + 2 x_6*x_21 - 3 x_7^2 + 2 x_7*x_8 + 2 x_7*x_9 + 2 x_7*x_12 + 2 x_7*x_17\n",
      " + 2 x_7*x_22 - 4 x_8^2 + 2 x_8*x_9 + 2 x_8*x_13 + 2 x_8*x_18 + 2 x_8*x_23\n",
      " - 5 x_9^2 + 2 x_9*x_14 + 2 x_9*x_19 + 2 x_9*x_24 - 2 x_10^2 + 2 x_10*x_11\n",
      " + 2 x_10*x_12 + 2 x_10*x_13 + 2 x_10*x_14 + 2 x_10*x_15 + 2 x_10*x_20\n",
      " - 3 x_11^2 + 2 x_11*x_12 + 2 x_11*x_13 + 2 x_11*x_14 + 2 x_11*x_16\n",
      " + 2 x_11*x_21 - 4 x_12^2 + 2 x_12*x_13 + 2 x_12*x_14 + 2 x_12*x_17\n",
      " + 2 x_12*x_22 - 5 x_13^2 + 2 x_13*x_14 + 2 x_13*x_18 + 2 x_13*x_23 - 6 x_14^2\n",
      " + 2 x_14*x_19 + 2 x_14*x_24 - 3 x_15^2 + 2 x_15*x_16 + 2 x_15*x_17\n",
      " + 2 x_15*x_18 + 2 x_15*x_19 + 2 x_15*x_20 - 4 x_16^2 + 2 x_16*x_17\n",
      " + 2 x_16*x_18 + 2 x_16*x_19 + 2 x_16*x_21 - 5 x_17^2 + 2 x_17*x_18\n",
      " + 2 x_17*x_19 + 2 x_17*x_22 - 6 x_18^2 + 2 x_18*x_19 + 2 x_18*x_23 - 7 x_19^2\n",
      " + 2 x_19*x_24 - 4 x_20^2 + 2 x_20*x_21 + 2 x_20*x_22 + 2 x_20*x_23\n",
      " + 2 x_20*x_24 - 5 x_21^2 + 2 x_21*x_22 + 2 x_21*x_23 + 2 x_21*x_24 - 6 x_22^2\n",
      " + 2 x_22*x_23 + 2 x_22*x_24 - 7 x_23^2 + 2 x_23*x_24 - 8 x_24^2 ] + 37.500000\n",
      " ;\n",
      " \n",
      "subject to {\n",
      "\n",
      "}\n"
     ]
    }
   ],
   "source": [
    "qubitOp, offset = stable_set.get_operator(Q_mat)\n",
    "print('Offset:', offset)\n",
    "print('Ising Hamiltonian:')\n",
    "print(qubitOp.print_details())\n",
    "\n",
    "# mapping Ising Hamiltonian to Quadratic Program\n",
    "qp1 = QuadraticProgram()\n",
    "qp1.from_ising(qubitOp, offset)\n",
    "qp1.to_docplex().prettyprint()\n",
    "\n",
    "\n",
    "aqua_globals.random_seed = np.random.default_rng(123)\n",
    "seed = 10598\n",
    "backend = Aer.get_backend('qasm_simulator')\n",
    "quantum_instance = QuantumInstance(backend, seed_simulator=seed, seed_transpiler=seed)\n",
    "\n",
    "qaoa = QAOA(quantum_instance=quantum_instance, p = 1)\n",
    "\n",
    "# create minimum eigen optimizer based on qaoa\n",
    "qaoa_optimizer = MinimumEigenOptimizer(qaoa)\n",
    "\n",
    "# solve quadratic program\n",
    "result = qaoa_optimizer.solve(qp)"
   ]
  },
  {
   "cell_type": "code",
   "execution_count": 15,
   "metadata": {
    "id": "HPPeExQj8Cih"
   },
   "outputs": [
    {
     "name": "stdout",
     "output_type": "stream",
     "text": [
      "optimal function value: 0.0\n",
      "optimal value: [0. 0. 0. 1. 0. 0. 1. 0. 0. 1. 0. 0. 1. 0. 0. 0.]\n",
      "status: SUCCESS\n"
     ]
    }
   ],
   "source": [
    "print(result)"
   ]
  },
  {
   "cell_type": "code",
   "execution_count": null,
   "metadata": {},
   "outputs": [],
   "source": [
    "offset"
   ]
  },
  {
   "cell_type": "code",
   "execution_count": null,
   "metadata": {},
   "outputs": [],
   "source": []
  }
 ],
 "metadata": {
  "colab": {
   "authorship_tag": "ABX9TyMsSw4HOpz0ol+bG2D3OEC7",
   "collapsed_sections": [],
   "name": "QAOA-Graph-Isomorphism.ipynb",
   "provenance": []
  },
  "kernelspec": {
   "display_name": "Python 3",
   "language": "python",
   "name": "python3"
  },
  "language_info": {
   "codemirror_mode": {
    "name": "ipython",
    "version": 3
   },
   "file_extension": ".py",
   "mimetype": "text/x-python",
   "name": "python",
   "nbconvert_exporter": "python",
   "pygments_lexer": "ipython3",
   "version": "3.8.5"
  }
 },
 "nbformat": 4,
 "nbformat_minor": 1
}
