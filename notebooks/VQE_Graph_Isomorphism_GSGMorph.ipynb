{
  "nbformat": 4,
  "nbformat_minor": 0,
  "metadata": {
    "colab": {
      "name": "VQE-Graph-Isomorphism-GSGMorph.ipynb",
      "provenance": [],
      "authorship_tag": "ABX9TyMYbz+pH9ehBdO/ugBlfvRx"
    },
    "kernelspec": {
      "name": "python3",
      "display_name": "Python 3"
    },
    "language_info": {
      "name": "python"
    }
  },
  "cells": [
    {
      "cell_type": "code",
      "metadata": {
        "id": "nI998yzlc_9Y",
        "colab": {
          "base_uri": "https://localhost:8080/",
          "height": 1000
        },
        "outputId": "28e12928-bef9-4a2a-e489-04003da7e899"
      },
      "source": [
        "!pip install 'qiskit[all]'\n",
        "!pip install plotly\n",
        "!pip install gsgmorph"
      ],
      "execution_count": 70,
      "outputs": [
        {
          "output_type": "stream",
          "name": "stdout",
          "text": [
            "Requirement already satisfied: qiskit[all] in /usr/local/lib/python3.7/dist-packages (0.31.0)\n",
            "Requirement already satisfied: qiskit-ibmq-provider==0.17.0 in /usr/local/lib/python3.7/dist-packages (from qiskit[all]) (0.17.0)\n",
            "Requirement already satisfied: qiskit-aer==0.9.1 in /usr/local/lib/python3.7/dist-packages (from qiskit[all]) (0.9.1)\n",
            "Requirement already satisfied: qiskit-terra==0.18.3 in /usr/local/lib/python3.7/dist-packages (from qiskit[all]) (0.18.3)\n",
            "Requirement already satisfied: qiskit-ignis==0.6.0 in /usr/local/lib/python3.7/dist-packages (from qiskit[all]) (0.6.0)\n",
            "Requirement already satisfied: qiskit-aqua==0.9.5 in /usr/local/lib/python3.7/dist-packages (from qiskit[all]) (0.9.5)\n",
            "Requirement already satisfied: qiskit-machine-learning>=0.2.1 in /usr/local/lib/python3.7/dist-packages (from qiskit[all]) (0.2.1)\n",
            "Requirement already satisfied: pydot in /usr/local/lib/python3.7/dist-packages (from qiskit[all]) (1.3.0)\n",
            "Requirement already satisfied: qiskit-experiments in /usr/local/lib/python3.7/dist-packages (from qiskit[all]) (0.1.0)\n",
            "Requirement already satisfied: qiskit-optimization>=0.2.2 in /usr/local/lib/python3.7/dist-packages (from qiskit[all]) (0.2.3)\n",
            "Requirement already satisfied: qiskit-finance>=0.2.1 in /usr/local/lib/python3.7/dist-packages (from qiskit[all]) (0.2.1)\n",
            "Requirement already satisfied: seaborn>=0.9.0 in /usr/local/lib/python3.7/dist-packages (from qiskit[all]) (0.11.2)\n",
            "Requirement already satisfied: ipywidgets>=7.3.0 in /usr/local/lib/python3.7/dist-packages (from qiskit[all]) (7.6.5)\n",
            "Requirement already satisfied: qiskit-nature>=0.2.0 in /usr/local/lib/python3.7/dist-packages (from qiskit[all]) (0.2.2)\n",
            "Requirement already satisfied: pillow>=4.2.1 in /usr/local/lib/python3.7/dist-packages (from qiskit[all]) (7.1.2)\n",
            "Requirement already satisfied: pygments>=2.4 in /usr/local/lib/python3.7/dist-packages (from qiskit[all]) (2.6.1)\n",
            "Requirement already satisfied: pylatexenc>=1.4 in /usr/local/lib/python3.7/dist-packages (from qiskit[all]) (2.10)\n",
            "Requirement already satisfied: matplotlib>=2.1 in /usr/local/lib/python3.7/dist-packages (from qiskit[all]) (3.1.3)\n",
            "Requirement already satisfied: numpy>=1.16.3 in /usr/local/lib/python3.7/dist-packages (from qiskit-aer==0.9.1->qiskit[all]) (1.19.5)\n",
            "Requirement already satisfied: scipy>=1.0 in /usr/local/lib/python3.7/dist-packages (from qiskit-aer==0.9.1->qiskit[all]) (1.4.1)\n",
            "Requirement already satisfied: sympy>=1.3 in /usr/local/lib/python3.7/dist-packages (from qiskit-aqua==0.9.5->qiskit[all]) (1.7.1)\n",
            "Requirement already satisfied: docplex>=2.21.207 in /usr/local/lib/python3.7/dist-packages (from qiskit-aqua==0.9.5->qiskit[all]) (2.22.213)\n",
            "Requirement already satisfied: dlx<=1.0.4 in /usr/local/lib/python3.7/dist-packages (from qiskit-aqua==0.9.5->qiskit[all]) (1.0.4)\n",
            "Requirement already satisfied: quandl in /usr/local/lib/python3.7/dist-packages (from qiskit-aqua==0.9.5->qiskit[all]) (3.6.1)\n",
            "Requirement already satisfied: scikit-learn>=0.20.0 in /usr/local/lib/python3.7/dist-packages (from qiskit-aqua==0.9.5->qiskit[all]) (0.22.2.post1)\n",
            "Requirement already satisfied: retworkx>=0.8.0 in /usr/local/lib/python3.7/dist-packages (from qiskit-aqua==0.9.5->qiskit[all]) (0.10.2)\n",
            "Requirement already satisfied: setuptools>=40.1.0 in /usr/local/lib/python3.7/dist-packages (from qiskit-aqua==0.9.5->qiskit[all]) (57.4.0)\n",
            "Requirement already satisfied: pandas in /usr/local/lib/python3.7/dist-packages (from qiskit-aqua==0.9.5->qiskit[all]) (1.1.5)\n",
            "Requirement already satisfied: fastdtw<=0.3.4 in /usr/local/lib/python3.7/dist-packages (from qiskit-aqua==0.9.5->qiskit[all]) (0.3.4)\n",
            "Requirement already satisfied: h5py<3.3.0 in /usr/local/lib/python3.7/dist-packages (from qiskit-aqua==0.9.5->qiskit[all]) (3.1.0)\n",
            "Requirement already satisfied: psutil>=5 in /usr/local/lib/python3.7/dist-packages (from qiskit-aqua==0.9.5->qiskit[all]) (5.4.8)\n",
            "Requirement already satisfied: yfinance>=0.1.62 in /usr/local/lib/python3.7/dist-packages (from qiskit-aqua==0.9.5->qiskit[all]) (0.1.64)\n",
            "Requirement already satisfied: websocket-client>=1.0.1 in /usr/local/lib/python3.7/dist-packages (from qiskit-ibmq-provider==0.17.0->qiskit[all]) (1.2.1)\n",
            "Requirement already satisfied: requests>=2.19 in /usr/local/lib/python3.7/dist-packages (from qiskit-ibmq-provider==0.17.0->qiskit[all]) (2.23.0)\n",
            "Requirement already satisfied: requests-ntlm>=1.1.0 in /usr/local/lib/python3.7/dist-packages (from qiskit-ibmq-provider==0.17.0->qiskit[all]) (1.1.0)\n",
            "Requirement already satisfied: python-dateutil>=2.8.0 in /usr/local/lib/python3.7/dist-packages (from qiskit-ibmq-provider==0.17.0->qiskit[all]) (2.8.2)\n",
            "Requirement already satisfied: urllib3>=1.21.1 in /usr/local/lib/python3.7/dist-packages (from qiskit-ibmq-provider==0.17.0->qiskit[all]) (1.24.3)\n",
            "Requirement already satisfied: ply>=3.10 in /usr/local/lib/python3.7/dist-packages (from qiskit-terra==0.18.3->qiskit[all]) (3.11)\n",
            "Requirement already satisfied: jsonschema>=2.6 in /usr/local/lib/python3.7/dist-packages (from qiskit-terra==0.18.3->qiskit[all]) (2.6.0)\n",
            "Requirement already satisfied: symengine>0.7 in /usr/local/lib/python3.7/dist-packages (from qiskit-terra==0.18.3->qiskit[all]) (0.8.1)\n",
            "Requirement already satisfied: fastjsonschema>=2.10 in /usr/local/lib/python3.7/dist-packages (from qiskit-terra==0.18.3->qiskit[all]) (2.15.1)\n",
            "Requirement already satisfied: python-constraint>=1.4 in /usr/local/lib/python3.7/dist-packages (from qiskit-terra==0.18.3->qiskit[all]) (1.4.0)\n",
            "Requirement already satisfied: tweedledum<2.0,>=1.1 in /usr/local/lib/python3.7/dist-packages (from qiskit-terra==0.18.3->qiskit[all]) (1.1.1)\n",
            "Requirement already satisfied: dill>=0.3 in /usr/local/lib/python3.7/dist-packages (from qiskit-terra==0.18.3->qiskit[all]) (0.3.4)\n",
            "Requirement already satisfied: six in /usr/local/lib/python3.7/dist-packages (from docplex>=2.21.207->qiskit-aqua==0.9.5->qiskit[all]) (1.15.0)\n",
            "Requirement already satisfied: cached-property in /usr/local/lib/python3.7/dist-packages (from h5py<3.3.0->qiskit-aqua==0.9.5->qiskit[all]) (1.5.2)\n",
            "Requirement already satisfied: ipykernel>=4.5.1 in /usr/local/lib/python3.7/dist-packages (from ipywidgets>=7.3.0->qiskit[all]) (4.10.1)\n",
            "Requirement already satisfied: traitlets>=4.3.1 in /usr/local/lib/python3.7/dist-packages (from ipywidgets>=7.3.0->qiskit[all]) (5.1.0)\n",
            "Requirement already satisfied: jupyterlab-widgets>=1.0.0 in /usr/local/lib/python3.7/dist-packages (from ipywidgets>=7.3.0->qiskit[all]) (1.0.2)\n",
            "Requirement already satisfied: widgetsnbextension~=3.5.0 in /usr/local/lib/python3.7/dist-packages (from ipywidgets>=7.3.0->qiskit[all]) (3.5.1)\n",
            "Requirement already satisfied: ipython>=4.0.0 in /usr/local/lib/python3.7/dist-packages (from ipywidgets>=7.3.0->qiskit[all]) (5.5.0)\n",
            "Requirement already satisfied: nbformat>=4.2.0 in /usr/local/lib/python3.7/dist-packages (from ipywidgets>=7.3.0->qiskit[all]) (5.1.3)\n",
            "Requirement already satisfied: ipython-genutils~=0.2.0 in /usr/local/lib/python3.7/dist-packages (from ipywidgets>=7.3.0->qiskit[all]) (0.2.0)\n",
            "Requirement already satisfied: tornado>=4.0 in /usr/local/lib/python3.7/dist-packages (from ipykernel>=4.5.1->ipywidgets>=7.3.0->qiskit[all]) (5.1.1)\n",
            "Requirement already satisfied: jupyter-client in /usr/local/lib/python3.7/dist-packages (from ipykernel>=4.5.1->ipywidgets>=7.3.0->qiskit[all]) (5.3.5)\n",
            "Requirement already satisfied: pickleshare in /usr/local/lib/python3.7/dist-packages (from ipython>=4.0.0->ipywidgets>=7.3.0->qiskit[all]) (0.7.5)\n",
            "Requirement already satisfied: simplegeneric>0.8 in /usr/local/lib/python3.7/dist-packages (from ipython>=4.0.0->ipywidgets>=7.3.0->qiskit[all]) (0.8.1)\n",
            "Requirement already satisfied: pexpect in /usr/local/lib/python3.7/dist-packages (from ipython>=4.0.0->ipywidgets>=7.3.0->qiskit[all]) (4.8.0)\n",
            "Requirement already satisfied: decorator in /usr/local/lib/python3.7/dist-packages (from ipython>=4.0.0->ipywidgets>=7.3.0->qiskit[all]) (4.4.2)\n",
            "Requirement already satisfied: prompt-toolkit<2.0.0,>=1.0.4 in /usr/local/lib/python3.7/dist-packages (from ipython>=4.0.0->ipywidgets>=7.3.0->qiskit[all]) (1.0.18)\n",
            "Requirement already satisfied: kiwisolver>=1.0.1 in /usr/local/lib/python3.7/dist-packages (from matplotlib>=2.1->qiskit[all]) (1.3.2)\n",
            "Requirement already satisfied: cycler>=0.10 in /usr/local/lib/python3.7/dist-packages (from matplotlib>=2.1->qiskit[all]) (0.10.0)\n",
            "Requirement already satisfied: pyparsing!=2.0.4,!=2.1.2,!=2.1.6,>=2.0.1 in /usr/local/lib/python3.7/dist-packages (from matplotlib>=2.1->qiskit[all]) (2.4.7)\n",
            "Requirement already satisfied: jupyter-core in /usr/local/lib/python3.7/dist-packages (from nbformat>=4.2.0->ipywidgets>=7.3.0->qiskit[all]) (4.8.1)\n",
            "Requirement already satisfied: wcwidth in /usr/local/lib/python3.7/dist-packages (from prompt-toolkit<2.0.0,>=1.0.4->ipython>=4.0.0->ipywidgets>=7.3.0->qiskit[all]) (0.2.5)\n",
            "Requirement already satisfied: networkx<2.6,>=2.2 in /usr/local/lib/python3.7/dist-packages (from qiskit-optimization>=0.2.2->qiskit[all]) (2.5.1)\n",
            "Requirement already satisfied: certifi>=2017.4.17 in /usr/local/lib/python3.7/dist-packages (from requests>=2.19->qiskit-ibmq-provider==0.17.0->qiskit[all]) (2021.5.30)\n",
            "Requirement already satisfied: chardet<4,>=3.0.2 in /usr/local/lib/python3.7/dist-packages (from requests>=2.19->qiskit-ibmq-provider==0.17.0->qiskit[all]) (3.0.4)\n",
            "Requirement already satisfied: idna<3,>=2.5 in /usr/local/lib/python3.7/dist-packages (from requests>=2.19->qiskit-ibmq-provider==0.17.0->qiskit[all]) (2.10)\n",
            "Requirement already satisfied: cryptography>=1.3 in /usr/local/lib/python3.7/dist-packages (from requests-ntlm>=1.1.0->qiskit-ibmq-provider==0.17.0->qiskit[all]) (35.0.0)\n",
            "Requirement already satisfied: ntlm-auth>=1.0.2 in /usr/local/lib/python3.7/dist-packages (from requests-ntlm>=1.1.0->qiskit-ibmq-provider==0.17.0->qiskit[all]) (1.5.0)\n",
            "Requirement already satisfied: cffi>=1.12 in /usr/local/lib/python3.7/dist-packages (from cryptography>=1.3->requests-ntlm>=1.1.0->qiskit-ibmq-provider==0.17.0->qiskit[all]) (1.14.6)\n",
            "Requirement already satisfied: pycparser in /usr/local/lib/python3.7/dist-packages (from cffi>=1.12->cryptography>=1.3->requests-ntlm>=1.1.0->qiskit-ibmq-provider==0.17.0->qiskit[all]) (2.20)\n",
            "Requirement already satisfied: joblib>=0.11 in /usr/local/lib/python3.7/dist-packages (from scikit-learn>=0.20.0->qiskit-aqua==0.9.5->qiskit[all]) (1.0.1)\n",
            "Requirement already satisfied: pytz>=2017.2 in /usr/local/lib/python3.7/dist-packages (from pandas->qiskit-aqua==0.9.5->qiskit[all]) (2018.9)\n",
            "Requirement already satisfied: mpmath>=0.19 in /usr/local/lib/python3.7/dist-packages (from sympy>=1.3->qiskit-aqua==0.9.5->qiskit[all]) (1.2.1)\n",
            "Requirement already satisfied: notebook>=4.4.1 in /usr/local/lib/python3.7/dist-packages (from widgetsnbextension~=3.5.0->ipywidgets>=7.3.0->qiskit[all]) (5.3.1)\n",
            "Requirement already satisfied: nbconvert in /usr/local/lib/python3.7/dist-packages (from notebook>=4.4.1->widgetsnbextension~=3.5.0->ipywidgets>=7.3.0->qiskit[all]) (5.6.1)\n",
            "Requirement already satisfied: jinja2 in /usr/local/lib/python3.7/dist-packages (from notebook>=4.4.1->widgetsnbextension~=3.5.0->ipywidgets>=7.3.0->qiskit[all]) (2.11.3)\n",
            "Requirement already satisfied: Send2Trash in /usr/local/lib/python3.7/dist-packages (from notebook>=4.4.1->widgetsnbextension~=3.5.0->ipywidgets>=7.3.0->qiskit[all]) (1.8.0)\n",
            "Requirement already satisfied: terminado>=0.8.1 in /usr/local/lib/python3.7/dist-packages (from notebook>=4.4.1->widgetsnbextension~=3.5.0->ipywidgets>=7.3.0->qiskit[all]) (0.12.1)\n",
            "Requirement already satisfied: pyzmq>=13 in /usr/local/lib/python3.7/dist-packages (from jupyter-client->ipykernel>=4.5.1->ipywidgets>=7.3.0->qiskit[all]) (22.3.0)\n",
            "Requirement already satisfied: ptyprocess in /usr/local/lib/python3.7/dist-packages (from terminado>=0.8.1->notebook>=4.4.1->widgetsnbextension~=3.5.0->ipywidgets>=7.3.0->qiskit[all]) (0.7.0)\n",
            "Requirement already satisfied: multitasking>=0.0.7 in /usr/local/lib/python3.7/dist-packages (from yfinance>=0.1.62->qiskit-aqua==0.9.5->qiskit[all]) (0.0.9)\n",
            "Requirement already satisfied: lxml>=4.5.1 in /usr/local/lib/python3.7/dist-packages (from yfinance>=0.1.62->qiskit-aqua==0.9.5->qiskit[all]) (4.6.3)\n",
            "Requirement already satisfied: MarkupSafe>=0.23 in /usr/local/lib/python3.7/dist-packages (from jinja2->notebook>=4.4.1->widgetsnbextension~=3.5.0->ipywidgets>=7.3.0->qiskit[all]) (2.0.1)\n",
            "Requirement already satisfied: pandocfilters>=1.4.1 in /usr/local/lib/python3.7/dist-packages (from nbconvert->notebook>=4.4.1->widgetsnbextension~=3.5.0->ipywidgets>=7.3.0->qiskit[all]) (1.5.0)\n",
            "Requirement already satisfied: entrypoints>=0.2.2 in /usr/local/lib/python3.7/dist-packages (from nbconvert->notebook>=4.4.1->widgetsnbextension~=3.5.0->ipywidgets>=7.3.0->qiskit[all]) (0.3)\n",
            "Requirement already satisfied: defusedxml in /usr/local/lib/python3.7/dist-packages (from nbconvert->notebook>=4.4.1->widgetsnbextension~=3.5.0->ipywidgets>=7.3.0->qiskit[all]) (0.7.1)\n",
            "Requirement already satisfied: mistune<2,>=0.8.1 in /usr/local/lib/python3.7/dist-packages (from nbconvert->notebook>=4.4.1->widgetsnbextension~=3.5.0->ipywidgets>=7.3.0->qiskit[all]) (0.8.4)\n",
            "Requirement already satisfied: testpath in /usr/local/lib/python3.7/dist-packages (from nbconvert->notebook>=4.4.1->widgetsnbextension~=3.5.0->ipywidgets>=7.3.0->qiskit[all]) (0.5.0)\n",
            "Requirement already satisfied: bleach in /usr/local/lib/python3.7/dist-packages (from nbconvert->notebook>=4.4.1->widgetsnbextension~=3.5.0->ipywidgets>=7.3.0->qiskit[all]) (4.1.0)\n",
            "Requirement already satisfied: packaging in /usr/local/lib/python3.7/dist-packages (from bleach->nbconvert->notebook>=4.4.1->widgetsnbextension~=3.5.0->ipywidgets>=7.3.0->qiskit[all]) (21.0)\n",
            "Requirement already satisfied: webencodings in /usr/local/lib/python3.7/dist-packages (from bleach->nbconvert->notebook>=4.4.1->widgetsnbextension~=3.5.0->ipywidgets>=7.3.0->qiskit[all]) (0.5.1)\n",
            "Collecting matplotlib>=2.1\n",
            "  Using cached matplotlib-3.4.3-cp37-cp37m-manylinux1_x86_64.whl (10.3 MB)\n",
            "Requirement already satisfied: inflection>=0.3.1 in /usr/local/lib/python3.7/dist-packages (from quandl->qiskit-aqua==0.9.5->qiskit[all]) (0.5.1)\n",
            "Requirement already satisfied: more-itertools in /usr/local/lib/python3.7/dist-packages (from quandl->qiskit-aqua==0.9.5->qiskit[all]) (8.10.0)\n",
            "Installing collected packages: matplotlib\n",
            "  Attempting uninstall: matplotlib\n",
            "    Found existing installation: matplotlib 3.1.3\n",
            "    Uninstalling matplotlib-3.1.3:\n",
            "      Successfully uninstalled matplotlib-3.1.3\n",
            "\u001b[31mERROR: pip's dependency resolver does not currently take into account all the packages that are installed. This behaviour is the source of the following dependency conflicts.\n",
            "albumentations 0.1.12 requires imgaug<0.2.7,>=0.2.5, but you have imgaug 0.2.9 which is incompatible.\u001b[0m\n",
            "Successfully installed matplotlib-3.4.3\n"
          ]
        },
        {
          "output_type": "display_data",
          "data": {
            "application/vnd.colab-display-data+json": {
              "pip_warning": {
                "packages": [
                  "matplotlib",
                  "mpl_toolkits"
                ]
              }
            }
          },
          "metadata": {}
        },
        {
          "output_type": "stream",
          "name": "stdout",
          "text": [
            "Requirement already satisfied: plotly in /usr/local/lib/python3.7/dist-packages (4.4.1)\n",
            "Requirement already satisfied: six in /usr/local/lib/python3.7/dist-packages (from plotly) (1.15.0)\n",
            "Requirement already satisfied: retrying>=1.3.3 in /usr/local/lib/python3.7/dist-packages (from plotly) (1.3.3)\n",
            "Requirement already satisfied: gsgmorph in /usr/local/lib/python3.7/dist-packages (1.0.2)\n",
            "Requirement already satisfied: networkx in /usr/local/lib/python3.7/dist-packages (from gsgmorph) (2.5.1)\n",
            "Requirement already satisfied: pyqubo in /usr/local/lib/python3.7/dist-packages (from gsgmorph) (1.0.13)\n",
            "Requirement already satisfied: decorator<5,>=4.3 in /usr/local/lib/python3.7/dist-packages (from networkx->gsgmorph) (4.4.2)\n",
            "Requirement already satisfied: six>=1.15.0 in /usr/local/lib/python3.7/dist-packages (from pyqubo->gsgmorph) (1.15.0)\n",
            "Requirement already satisfied: numpy>=1.17.3 in /usr/local/lib/python3.7/dist-packages (from pyqubo->gsgmorph) (1.19.5)\n",
            "Requirement already satisfied: dwave-neal>=0.5.7 in /usr/local/lib/python3.7/dist-packages (from pyqubo->gsgmorph) (0.5.8)\n",
            "Requirement already satisfied: dimod<0.11,>=0.9.14 in /usr/local/lib/python3.7/dist-packages (from pyqubo->gsgmorph) (0.10.7)\n",
            "Requirement already satisfied: Deprecated>=1.2.12 in /usr/local/lib/python3.7/dist-packages (from pyqubo->gsgmorph) (1.2.13)\n",
            "Requirement already satisfied: wrapt<2,>=1.10 in /usr/local/lib/python3.7/dist-packages (from Deprecated>=1.2.12->pyqubo->gsgmorph) (1.12.1)\n",
            "Requirement already satisfied: dwave-preprocessing<0.4,>=0.3 in /usr/local/lib/python3.7/dist-packages (from dimod<0.11,>=0.9.14->pyqubo->gsgmorph) (0.3.1.post0)\n",
            "Requirement already satisfied: pyparsing<3.0.0,>=2.4.7 in /usr/local/lib/python3.7/dist-packages (from dimod<0.11,>=0.9.14->pyqubo->gsgmorph) (2.4.7)\n"
          ]
        }
      ]
    },
    {
      "cell_type": "code",
      "metadata": {
        "id": "jP9l67WZdHpT",
        "colab": {
          "base_uri": "https://localhost:8080/",
          "height": 391
        },
        "outputId": "32c8feab-6694-4c02-9791-a64476028958"
      },
      "source": [
        "!pip install matplotlib==3.1.3"
      ],
      "execution_count": 71,
      "outputs": [
        {
          "output_type": "stream",
          "name": "stdout",
          "text": [
            "Collecting matplotlib==3.1.3\n",
            "  Using cached matplotlib-3.1.3-cp37-cp37m-manylinux1_x86_64.whl (13.1 MB)\n",
            "Requirement already satisfied: numpy>=1.11 in /usr/local/lib/python3.7/dist-packages (from matplotlib==3.1.3) (1.19.5)\n",
            "Requirement already satisfied: kiwisolver>=1.0.1 in /usr/local/lib/python3.7/dist-packages (from matplotlib==3.1.3) (1.3.2)\n",
            "Requirement already satisfied: cycler>=0.10 in /usr/local/lib/python3.7/dist-packages (from matplotlib==3.1.3) (0.10.0)\n",
            "Requirement already satisfied: pyparsing!=2.0.4,!=2.1.2,!=2.1.6,>=2.0.1 in /usr/local/lib/python3.7/dist-packages (from matplotlib==3.1.3) (2.4.7)\n",
            "Requirement already satisfied: python-dateutil>=2.1 in /usr/local/lib/python3.7/dist-packages (from matplotlib==3.1.3) (2.8.2)\n",
            "Requirement already satisfied: six in /usr/local/lib/python3.7/dist-packages (from cycler>=0.10->matplotlib==3.1.3) (1.15.0)\n",
            "Installing collected packages: matplotlib\n",
            "  Attempting uninstall: matplotlib\n",
            "    Found existing installation: matplotlib 3.4.3\n",
            "    Uninstalling matplotlib-3.4.3:\n",
            "      Successfully uninstalled matplotlib-3.4.3\n",
            "\u001b[31mERROR: pip's dependency resolver does not currently take into account all the packages that are installed. This behaviour is the source of the following dependency conflicts.\n",
            "qiskit-experiments 0.1.0 requires matplotlib>=3.3, but you have matplotlib 3.1.3 which is incompatible.\n",
            "albumentations 0.1.12 requires imgaug<0.2.7,>=0.2.5, but you have imgaug 0.2.9 which is incompatible.\u001b[0m\n",
            "Successfully installed matplotlib-3.1.3\n"
          ]
        },
        {
          "output_type": "display_data",
          "data": {
            "application/vnd.colab-display-data+json": {
              "pip_warning": {
                "packages": [
                  "matplotlib",
                  "mpl_toolkits"
                ]
              }
            }
          },
          "metadata": {}
        }
      ]
    },
    {
      "cell_type": "code",
      "metadata": {
        "id": "T5lVUNWedKcS"
      },
      "source": [
        "import networkx as nx\n",
        "import matplotlib.pyplot as plt\n",
        "import numpy as np\n",
        "from time import time\n",
        "from pprint import pprint\n",
        "import plotly.graph_objects as go\n",
        "from plotly.subplots import make_subplots\n",
        "from IPython.display import clear_output"
      ],
      "execution_count": 72,
      "outputs": []
    },
    {
      "cell_type": "code",
      "metadata": {
        "id": "-d52eVaadeTz"
      },
      "source": [
        "import itertools\n",
        "import networkx as nx\n",
        "import matplotlib.pyplot as plt\n",
        "from collections import defaultdict\n",
        "from dimod import BinaryQuadraticModel, AdjVectorBQM\n",
        "from qiskit.optimization import QuadraticProgram\n",
        "from qiskit.optimization.converters import LinearEqualityToPenalty, InequalityToEquality, IntegerToBinary\n",
        "import neal"
      ],
      "execution_count": 73,
      "outputs": []
    },
    {
      "cell_type": "code",
      "metadata": {
        "id": "YmUddFPodfbK"
      },
      "source": [
        "from qiskit.aqua.algorithms import QAOA\n",
        "from qiskit.optimization.algorithms import MinimumEigenOptimizer\n",
        "from qiskit import Aer\n",
        "from qiskit import QuantumCircuit\n",
        "from qiskit.visualization import plot_state_city\n",
        "from qiskit.aqua.components.optimizers import COBYLA, SLSQP, ADAM, L_BFGS_B\n",
        "from qiskit.optimization import QuadraticProgram\n",
        "from docplex.mp.model import Model\n",
        "\n",
        "from qiskit.optimization.applications.ising import stable_set\n",
        "from qiskit import Aer\n",
        "from qiskit.optimization.applications.ising import stable_set\n",
        "from qiskit.aqua.algorithms import VQE, NumPyMinimumEigensolver, QAOA, NumPyEigensolver\n",
        "from qiskit.aqua import aqua_globals\n",
        "from qiskit.aqua import QuantumInstance\n",
        "from qiskit.optimization.applications.ising.common import sample_most_likely\n",
        "from qiskit.optimization.algorithms import MinimumEigenOptimizer\n"
      ],
      "execution_count": 74,
      "outputs": []
    },
    {
      "cell_type": "code",
      "metadata": {
        "id": "Lz5NBJb4dgxa"
      },
      "source": [
        "import gsgmorph.matrix_form as gsgm_mf\n",
        "import networkx as nx\n",
        "\n",
        "graph_to_embed = nx.Graph([(1,2),(2,3),(3,4),(1,4)])\n",
        "target_graph = nx.Graph([('a','b'),('b','c'),('c', 'd'), ('a', 'd')])"
      ],
      "execution_count": 75,
      "outputs": []
    },
    {
      "cell_type": "code",
      "metadata": {
        "colab": {
          "base_uri": "https://localhost:8080/",
          "height": 319
        },
        "id": "8-LFWI98dvCS",
        "outputId": "b763a5dd-94db-409a-fde8-4f9656f8be67"
      },
      "source": [
        "# Get fixed position\n",
        "pos = nx.spring_layout(graph_to_embed, seed=9999)\n",
        "\n",
        "# Graph to be embedded onto a target graph\n",
        "nx.draw(graph_to_embed, pos, with_labels=True, font_color='w')"
      ],
      "execution_count": 76,
      "outputs": [
        {
          "output_type": "display_data",
          "data": {
            "image/png": "[encoded data removed]",
            "text/plain": [
              "<Figure size 432x288 with 1 Axes>"
            ]
          },
          "metadata": {}
        }
      ]
    },
    {
      "cell_type": "code",
      "metadata": {
        "colab": {
          "base_uri": "https://localhost:8080/",
          "height": 319
        },
        "id": "QcnTjL_Bdv_6",
        "outputId": "281a5785-41d7-4e72-f220-e7363268f2f1"
      },
      "source": [
        "# Get fixed position\n",
        "pos = nx.spring_layout(target_graph, seed=9999)\n",
        "\n",
        "# Target graph, the above graph will be mapped to this one\n",
        "nx.draw(target_graph, pos, with_labels=True, font_color='w')"
      ],
      "execution_count": 77,
      "outputs": [
        {
          "output_type": "display_data",
          "data": {
            "image/png": "[encoded data removed]",
            "text/plain": [
              "<Figure size 432x288 with 1 Axes>"
            ]
          },
          "metadata": {}
        }
      ]
    },
    {
      "cell_type": "code",
      "metadata": {
        "id": "lk1yx8TMdxPK"
      },
      "source": [
        "# Obtain the QUBO and the sample translation dictionary\n",
        "Q, sample_translation_dict = gsgm_mf.graph_isomorphism(graph_to_embed, target_graph)"
      ],
      "execution_count": 78,
      "outputs": []
    },
    {
      "cell_type": "code",
      "metadata": {
        "id": "wbpHnZmTd1Bq"
      },
      "source": [
        "def qubo_matrix_to_docplex(Q): \n",
        "\n",
        "  def build_matrix(data):\n",
        "    data = dict(data)\n",
        "    maxX = max([x for (x, y) in list(data.keys())])\n",
        "    maxY = max([y for (x, y) in list(data.keys())])\n",
        "    maxX = max([maxX, maxY])\n",
        "    maxY = max([maxX, maxY])\n",
        "    mat = np.zeros(shape=(maxX+1, maxY+1))\n",
        "    for key, value in data.items():\n",
        "        x, y = key\n",
        "        mat[x][y] = value\n",
        "    return mat\n",
        "\n",
        "  # Print out the Qubo Matrix\n",
        "  Q_matrix = build_matrix(Q)\n",
        "  print(Q_matrix)\n",
        "  print(\"Size of QUBO Matrix is: \", len(Q_matrix))\n",
        "\n",
        "  def build_linear(Q, Q_matrix): \n",
        "    linear_dict = {}\n",
        "    for idx in range(len(Q_matrix)): \n",
        "      linear_dict['x_{0}'.format(idx)] = Q[(idx,idx)]\n",
        "    print('Linear part: ', linear_dict)\n",
        "    return linear_dict\n",
        "\n",
        "  def build_quadratic(Q, Q_matrix): \n",
        "    quadratic_dict = {}\n",
        "    for node_pair in Q: \n",
        "      x,y = node_pair\n",
        "      if x != y: \n",
        "        quadratic_dict[(f'x_{x}', f'x_{y}')] = Q[(x,y)]\n",
        "    print('Quadratic Part: ', quadratic_dict)\n",
        "    return quadratic_dict\n",
        "\n",
        "  def build_constant(Q_matrix): \n",
        "    #Empirically decided!\n",
        "    import math \n",
        "    number_of_nodes= math.sqrt(len(Q_matrix))\n",
        "    constant = number_of_nodes * 2\n",
        "    print(constant)\n",
        "    return constant\n",
        "\n",
        "\n",
        "  linear = build_linear(Q, Q_matrix)\n",
        "  quadratic = build_quadratic(Q, Q_matrix)\n",
        "  constant = build_constant(Q_matrix)\n",
        "\n",
        "  mdl = QuadraticProgram('Graph Isomorphism')\n",
        "  for node_pair in Q: \n",
        "    x,y = node_pair\n",
        "    if x == y: \n",
        "      mdl.binary_var(name='x_{0}'.format(x))\n",
        "  \n",
        "  mdl.minimize(constant=constant, linear=linear, quadratic=quadratic)\n",
        "  print(mdl.export_as_lp_string())\n",
        "\n",
        "  return mdl"
      ],
      "execution_count": 79,
      "outputs": []
    },
    {
      "cell_type": "code",
      "metadata": {
        "colab": {
          "base_uri": "https://localhost:8080/"
        },
        "id": "ER4FsENkd5cy",
        "outputId": "2724072d-c712-4519-8175-094cf11d1b5b"
      },
      "source": [
        "mdl = qubo_matrix_to_docplex(Q)"
      ],
      "execution_count": 80,
      "outputs": [
        {
          "output_type": "stream",
          "name": "stdout",
          "text": [
            "[[-2.  2.  2.  2.  3.  0.  1.  0.  2.  0.  0.  0.  3.  0.  1.  0.]\n",
            " [ 0. -2.  2.  2.  0.  3.  0.  1.  0.  2.  0.  0.  0.  3.  0.  1.]\n",
            " [ 0.  0. -2.  2.  1.  0.  3.  0.  0.  0.  2.  0.  1.  0.  3.  0.]\n",
            " [ 0.  0.  0. -2.  0.  1.  0.  3.  0.  0.  0.  2.  0.  1.  0.  3.]\n",
            " [ 0.  0.  0.  0. -2.  2.  2.  2.  3.  0.  1.  0.  2.  0.  0.  0.]\n",
            " [ 0.  0.  0.  0.  0. -2.  2.  2.  0.  3.  0.  1.  0.  2.  0.  0.]\n",
            " [ 0.  0.  0.  0.  0.  0. -2.  2.  1.  0.  3.  0.  0.  0.  2.  0.]\n",
            " [ 0.  0.  0.  0.  0.  0.  0. -2.  0.  1.  0.  3.  0.  0.  0.  2.]\n",
            " [ 0.  0.  0.  0.  0.  0.  0.  0. -2.  2.  2.  2.  3.  0.  1.  0.]\n",
            " [ 0.  0.  0.  0.  0.  0.  0.  0.  0. -2.  2.  2.  0.  3.  0.  1.]\n",
            " [ 0.  0.  0.  0.  0.  0.  0.  0.  0.  0. -2.  2.  1.  0.  3.  0.]\n",
            " [ 0.  0.  0.  0.  0.  0.  0.  0.  0.  0.  0. -2.  0.  1.  0.  3.]\n",
            " [ 0.  0.  0.  0.  0.  0.  0.  0.  0.  0.  0.  0. -2.  2.  2.  2.]\n",
            " [ 0.  0.  0.  0.  0.  0.  0.  0.  0.  0.  0.  0.  0. -2.  2.  2.]\n",
            " [ 0.  0.  0.  0.  0.  0.  0.  0.  0.  0.  0.  0.  0.  0. -2.  2.]\n",
            " [ 0.  0.  0.  0.  0.  0.  0.  0.  0.  0.  0.  0.  0.  0.  0. -2.]]\n",
            "Size of QUBO Matrix is:  16\n",
            "Linear part:  {'x_0': -2, 'x_1': -2, 'x_2': -2, 'x_3': -2, 'x_4': -2, 'x_5': -2, 'x_6': -2, 'x_7': -2, 'x_8': -2, 'x_9': -2, 'x_10': -2, 'x_11': -2, 'x_12': -2, 'x_13': -2, 'x_14': -2, 'x_15': -2}\n",
            "Quadratic Part:  {('x_0', 'x_4'): 3, ('x_0', 'x_1'): 2, ('x_0', 'x_8'): 2, ('x_0', 'x_2'): 2, ('x_0', 'x_12'): 3, ('x_0', 'x_3'): 2, ('x_1', 'x_5'): 3, ('x_1', 'x_9'): 2, ('x_1', 'x_2'): 2, ('x_1', 'x_13'): 3, ('x_1', 'x_3'): 2, ('x_2', 'x_6'): 3, ('x_2', 'x_10'): 2, ('x_2', 'x_14'): 3, ('x_2', 'x_3'): 2, ('x_3', 'x_7'): 3, ('x_3', 'x_11'): 2, ('x_3', 'x_15'): 3, ('x_4', 'x_5'): 2, ('x_4', 'x_8'): 3, ('x_4', 'x_6'): 2, ('x_4', 'x_12'): 2, ('x_4', 'x_7'): 2, ('x_5', 'x_9'): 3, ('x_5', 'x_6'): 2, ('x_5', 'x_13'): 2, ('x_5', 'x_7'): 2, ('x_6', 'x_10'): 3, ('x_6', 'x_14'): 2, ('x_6', 'x_7'): 2, ('x_7', 'x_11'): 3, ('x_7', 'x_15'): 2, ('x_8', 'x_9'): 2, ('x_8', 'x_10'): 2, ('x_8', 'x_12'): 3, ('x_8', 'x_11'): 2, ('x_9', 'x_10'): 2, ('x_9', 'x_13'): 3, ('x_9', 'x_11'): 2, ('x_10', 'x_14'): 3, ('x_10', 'x_11'): 2, ('x_11', 'x_15'): 3, ('x_12', 'x_13'): 2, ('x_12', 'x_14'): 2, ('x_12', 'x_15'): 2, ('x_13', 'x_14'): 2, ('x_13', 'x_15'): 2, ('x_14', 'x_15'): 2, ('x_0', 'x_6'): 1, ('x_1', 'x_7'): 1, ('x_2', 'x_4'): 1, ('x_3', 'x_5'): 1, ('x_0', 'x_14'): 1, ('x_1', 'x_15'): 1, ('x_2', 'x_12'): 1, ('x_3', 'x_13'): 1, ('x_4', 'x_10'): 1, ('x_5', 'x_11'): 1, ('x_6', 'x_8'): 1, ('x_7', 'x_9'): 1, ('x_8', 'x_14'): 1, ('x_9', 'x_15'): 1, ('x_10', 'x_12'): 1, ('x_11', 'x_13'): 1}\n",
            "8.0\n",
            "\\ This file has been generated by DOcplex\n",
            "\\ ENCODING=ISO-8859-1\n",
            "\\Problem name: Graph Isomorphism\n",
            "\n",
            "Minimize\n",
            " obj: - 2 x_0 - 2 x_1 - 2 x_2 - 2 x_3 - 2 x_4 - 2 x_5 - 2 x_6 - 2 x_7 - 2 x_8\n",
            "      - 2 x_9 - 2 x_10 - 2 x_11 - 2 x_12 - 2 x_13 - 2 x_14 - 2 x_15 + [\n",
            "      4 x_0*x_1 + 4 x_0*x_2 + 4 x_0*x_3 + 6 x_0*x_4 + 2 x_0*x_6 + 4 x_0*x_8\n",
            "      + 6 x_0*x_12 + 2 x_0*x_14 + 4 x_1*x_2 + 4 x_1*x_3 + 6 x_1*x_5 + 2 x_1*x_7\n",
            "      + 4 x_1*x_9 + 6 x_1*x_13 + 2 x_1*x_15 + 4 x_2*x_3 + 2 x_2*x_4 + 6 x_2*x_6\n",
            "      + 4 x_2*x_10 + 2 x_2*x_12 + 6 x_2*x_14 + 2 x_3*x_5 + 6 x_3*x_7\n",
            "      + 4 x_3*x_11 + 2 x_3*x_13 + 6 x_3*x_15 + 4 x_4*x_5 + 4 x_4*x_6 + 4 x_4*x_7\n",
            "      + 6 x_4*x_8 + 2 x_4*x_10 + 4 x_4*x_12 + 4 x_5*x_6 + 4 x_5*x_7 + 6 x_5*x_9\n",
            "      + 2 x_5*x_11 + 4 x_5*x_13 + 4 x_6*x_7 + 2 x_6*x_8 + 6 x_6*x_10\n",
            "      + 4 x_6*x_14 + 2 x_7*x_9 + 6 x_7*x_11 + 4 x_7*x_15 + 4 x_8*x_9\n",
            "      + 4 x_8*x_10 + 4 x_8*x_11 + 6 x_8*x_12 + 2 x_8*x_14 + 4 x_9*x_10\n",
            "      + 4 x_9*x_11 + 6 x_9*x_13 + 2 x_9*x_15 + 4 x_10*x_11 + 2 x_10*x_12\n",
            "      + 6 x_10*x_14 + 2 x_11*x_13 + 6 x_11*x_15 + 4 x_12*x_13 + 4 x_12*x_14\n",
            "      + 4 x_12*x_15 + 4 x_13*x_14 + 4 x_13*x_15 + 4 x_14*x_15 ]/2 + 8\n",
            "Subject To\n",
            "\n",
            "Bounds\n",
            " 0 <= x_0 <= 1\n",
            " 0 <= x_1 <= 1\n",
            " 0 <= x_2 <= 1\n",
            " 0 <= x_3 <= 1\n",
            " 0 <= x_4 <= 1\n",
            " 0 <= x_5 <= 1\n",
            " 0 <= x_6 <= 1\n",
            " 0 <= x_7 <= 1\n",
            " 0 <= x_8 <= 1\n",
            " 0 <= x_9 <= 1\n",
            " 0 <= x_10 <= 1\n",
            " 0 <= x_11 <= 1\n",
            " 0 <= x_12 <= 1\n",
            " 0 <= x_13 <= 1\n",
            " 0 <= x_14 <= 1\n",
            " 0 <= x_15 <= 1\n",
            "\n",
            "Binaries\n",
            " x_0 x_1 x_2 x_3 x_4 x_5 x_6 x_7 x_8 x_9 x_10 x_11 x_12 x_13 x_14 x_15\n",
            "End\n",
            "\n"
          ]
        }
      ]
    },
    {
      "cell_type": "code",
      "metadata": {
        "id": "ABK4l6pid9rz"
      },
      "source": [
        "aqua_globals.random_seed = 10598\n",
        "quantum_instance = QuantumInstance(Aer.get_backend('qasm_simulator'),\n",
        "                                   seed_simulator=aqua_globals.random_seed,\n",
        "                                   seed_transpiler=aqua_globals.random_seed)\n",
        "qaoa_mes = QAOA(quantum_instance=quantum_instance, initial_point=[0., 0.])\n",
        "exact_mes = NumPyMinimumEigensolver()\n",
        "vqe_mes = VQE(quantum_instance=quantum_instance)"
      ],
      "execution_count": 81,
      "outputs": []
    },
    {
      "cell_type": "code",
      "metadata": {
        "id": "vOyS7CpKeq7C"
      },
      "source": [
        "qaoa = MinimumEigenOptimizer(qaoa_mes)   # using QAOA\n",
        "exact = MinimumEigenOptimizer(exact_mes)  # using the exact classical numpy minimum eigen solver\n",
        "vqe = MinimumEigenOptimizer(vqe_mes)   # using VQE"
      ],
      "execution_count": 82,
      "outputs": []
    },
    {
      "cell_type": "code",
      "metadata": {
        "colab": {
          "base_uri": "https://localhost:8080/"
        },
        "id": "Kv0uaUibetny",
        "outputId": "f3c08670-7195-41a9-9827-f1c04c165540"
      },
      "source": [
        "exact_result = exact.solve(mdl)\n",
        "print(exact_result)"
      ],
      "execution_count": 83,
      "outputs": [
        {
          "output_type": "stream",
          "name": "stdout",
          "text": [
            "optimal function value: 0.0\n",
            "optimal value: [0. 0. 0. 1. 0. 0. 1. 0. 0. 1. 0. 0. 1. 0. 0. 0.]\n",
            "status: SUCCESS\n"
          ]
        }
      ]
    },
    {
      "cell_type": "code",
      "metadata": {
        "colab": {
          "base_uri": "https://localhost:8080/"
        },
        "id": "ShU1j4Tuexcy",
        "outputId": "41dd43ed-4bcb-49eb-c816-6784ab2e0ef2"
      },
      "source": [
        "qaoa_result = qaoa.solve(mdl)\n",
        "print(qaoa_result)"
      ],
      "execution_count": 84,
      "outputs": [
        {
          "output_type": "stream",
          "name": "stderr",
          "text": [
            "/usr/local/lib/python3.7/dist-packages/qiskit/utils/deprecation.py:62: DeprecationWarning:\n",
            "\n",
            "Using a qobj for run() is deprecated as of qiskit-aer 0.9.0 and will be removed no sooner than 3 months from that release date. Transpiled circuits should now be passed directly using `backend.run(circuits, **run_options).\n",
            "\n"
          ]
        },
        {
          "output_type": "stream",
          "name": "stdout",
          "text": [
            "optimal function value: 0.0\n",
            "optimal value: [0. 1. 0. 0. 0. 0. 1. 0. 0. 0. 0. 1. 1. 0. 0. 0.]\n",
            "status: SUCCESS\n"
          ]
        }
      ]
    },
    {
      "cell_type": "code",
      "metadata": {
        "colab": {
          "base_uri": "https://localhost:8080/"
        },
        "id": "GO6YAMqGfd46",
        "outputId": "2f1e5280-625b-4f75-d6b3-5eab78aec21e"
      },
      "source": [
        "vqe_result = vqe.solve(mdl)\n",
        "print(vqe_result)"
      ],
      "execution_count": 85,
      "outputs": [
        {
          "output_type": "stream",
          "name": "stderr",
          "text": [
            "/usr/local/lib/python3.7/dist-packages/qiskit/utils/deprecation.py:62: DeprecationWarning:\n",
            "\n",
            "Using a qobj for run() is deprecated as of qiskit-aer 0.9.0 and will be removed no sooner than 3 months from that release date. Transpiled circuits should now be passed directly using `backend.run(circuits, **run_options).\n",
            "\n"
          ]
        },
        {
          "output_type": "stream",
          "name": "stdout",
          "text": [
            "optimal function value: 3.0\n",
            "optimal value: [0. 0. 0. 0. 0. 0. 1. 0. 0. 1. 0. 0. 0. 0. 0. 1.]\n",
            "status: SUCCESS\n"
          ]
        }
      ]
    },
    {
      "cell_type": "code",
      "metadata": {
        "id": "yf41Xh1Qkaua"
      },
      "source": [
        ""
      ],
      "execution_count": 85,
      "outputs": []
    },
    {
      "cell_type": "code",
      "metadata": {
        "id": "atFGAqFoysUI"
      },
      "source": [
        "from qiskit.optimization.applications.ising import docplex\n",
        "\n",
        "mdl_doc = docplex.Model()\n",
        "mdl_doc = mdl.to_docplex()"
      ],
      "execution_count": 86,
      "outputs": []
    },
    {
      "cell_type": "code",
      "metadata": {
        "colab": {
          "base_uri": "https://localhost:8080/"
        },
        "id": "zKBIKOuN0JrW",
        "outputId": "01508bbd-4d72-4ee1-e2ad-db79dd5d6b88"
      },
      "source": [
        "mdl_doc"
      ],
      "execution_count": 87,
      "outputs": [
        {
          "output_type": "execute_result",
          "data": {
            "text/plain": [
              "docplex.mp.Model['Graph Isomorphism']"
            ]
          },
          "metadata": {},
          "execution_count": 87
        }
      ]
    },
    {
      "cell_type": "code",
      "metadata": {
        "id": "Ix96GNrwxOM2"
      },
      "source": [
        "from qiskit.optimization.applications.ising import docplex\n",
        "\n",
        "\n",
        "\n",
        "qubitOp, offset = docplex.get_operator(mdl_doc)"
      ],
      "execution_count": 88,
      "outputs": []
    },
    {
      "cell_type": "code",
      "metadata": {
        "colab": {
          "base_uri": "https://localhost:8080/"
        },
        "id": "Ee8sxtdcxSxN",
        "outputId": "857aa795-bb48-4af3-fd53-2560acd92f45"
      },
      "source": [
        "offset"
      ],
      "execution_count": 89,
      "outputs": [
        {
          "output_type": "execute_result",
          "data": {
            "text/plain": [
              "24.0"
            ]
          },
          "metadata": {},
          "execution_count": 89
        }
      ]
    },
    {
      "cell_type": "code",
      "metadata": {
        "colab": {
          "base_uri": "https://localhost:8080/"
        },
        "id": "j9o-AXqg1QsE",
        "outputId": "aced7a75-5abf-4ed3-8823-2a03a650bec1"
      },
      "source": [
        "ee = NumPyMinimumEigensolver(qubitOp)\n",
        "result = ee.run()\n",
        "print('get_operator')\n",
        "print('tsp objective:', result['energy'] + offset)"
      ],
      "execution_count": 90,
      "outputs": [
        {
          "output_type": "stream",
          "name": "stdout",
          "text": [
            "get_operator\n",
            "tsp objective: 0.0\n"
          ]
        },
        {
          "output_type": "stream",
          "name": "stderr",
          "text": [
            "/usr/local/lib/python3.7/dist-packages/qiskit/aqua/algorithms/minimum_eigen_solvers/minimum_eigen_solver.py:146: DeprecationWarning:\n",
            "\n",
            "energy deprecated, use eigenvalue property.\n",
            "\n"
          ]
        }
      ]
    },
    {
      "cell_type": "code",
      "metadata": {
        "colab": {
          "base_uri": "https://localhost:8080/"
        },
        "id": "noNuRGBt2Lpc",
        "outputId": "af3968d6-61f8-488e-d533-7c099207f9e8"
      },
      "source": [
        "print(qubitOp.print_details())"
      ],
      "execution_count": 91,
      "outputs": [
        {
          "output_type": "stream",
          "name": "stdout",
          "text": [
            "IIIIIIIIIIIIIIIZ\t(-3+0j)\n",
            "IIIIIIIIIIIIIIZI\t(-3+0j)\n",
            "IIIIIIIIIIIIIZII\t(-3+0j)\n",
            "IIIIIIIIIIIIZIII\t(-3+0j)\n",
            "IIIIIIIIIIIZIIII\t(-3+0j)\n",
            "IIIIIIIIIIZIIIII\t(-3+0j)\n",
            "IIIIIIIIIZIIIIII\t(-3+0j)\n",
            "IIIIIIIIZIIIIIII\t(-3+0j)\n",
            "IIIIIIIZIIIIIIII\t(-3+0j)\n",
            "IIIIIIZIIIIIIIII\t(-3+0j)\n",
            "IIIIIZIIIIIIIIII\t(-3+0j)\n",
            "IIIIZIIIIIIIIIII\t(-3+0j)\n",
            "IIIZIIIIIIIIIIII\t(-3+0j)\n",
            "IIZIIIIIIIIIIIII\t(-3+0j)\n",
            "IZIIIIIIIIIIIIII\t(-3+0j)\n",
            "ZIIIIIIIIIIIIIII\t(-3+0j)\n",
            "IIIIIIIIIIIIIIZZ\t(0.5+0j)\n",
            "IIIIIIIIIIIIIZIZ\t(0.5+0j)\n",
            "IIIIIIIIIIIIIZZI\t(0.5+0j)\n",
            "IIIIIIIIIIIIZIIZ\t(0.5+0j)\n",
            "IIIIIIIIIIIIZIZI\t(0.5+0j)\n",
            "IIIIIIIIIIIIZZII\t(0.5+0j)\n",
            "IIIIIIIIIIIZIIIZ\t(0.75+0j)\n",
            "IIIIIIIIIIIZIZII\t(0.25+0j)\n",
            "IIIIIIIIIIZIIIZI\t(0.75+0j)\n",
            "IIIIIIIIIIZIZIII\t(0.25+0j)\n",
            "IIIIIIIIIIZZIIII\t(0.5+0j)\n",
            "IIIIIIIIIZIIIIIZ\t(0.25+0j)\n",
            "IIIIIIIIIZIIIZII\t(0.75+0j)\n",
            "IIIIIIIIIZIZIIII\t(0.5+0j)\n",
            "IIIIIIIIIZZIIIII\t(0.5+0j)\n",
            "IIIIIIIIZIIIIIZI\t(0.25+0j)\n",
            "IIIIIIIIZIIIZIII\t(0.75+0j)\n",
            "IIIIIIIIZIIZIIII\t(0.5+0j)\n",
            "IIIIIIIIZIZIIIII\t(0.5+0j)\n",
            "IIIIIIIIZZIIIIII\t(0.5+0j)\n",
            "IIIIIIIZIIIIIIIZ\t(0.5+0j)\n",
            "IIIIIIIZIIIZIIII\t(0.75+0j)\n",
            "IIIIIIIZIZIIIIII\t(0.25+0j)\n",
            "IIIIIIZIIIIIIIZI\t(0.5+0j)\n",
            "IIIIIIZIIIZIIIII\t(0.75+0j)\n",
            "IIIIIIZIZIIIIIII\t(0.25+0j)\n",
            "IIIIIIZZIIIIIIII\t(0.5+0j)\n",
            "IIIIIZIIIIIIIZII\t(0.5+0j)\n",
            "IIIIIZIIIIIZIIII\t(0.25+0j)\n",
            "IIIIIZIIIZIIIIII\t(0.75+0j)\n",
            "IIIIIZIZIIIIIIII\t(0.5+0j)\n",
            "IIIIIZZIIIIIIIII\t(0.5+0j)\n",
            "IIIIZIIIIIIIZIII\t(0.5+0j)\n",
            "IIIIZIIIIIZIIIII\t(0.25+0j)\n",
            "IIIIZIIIZIIIIIII\t(0.75+0j)\n",
            "IIIIZIIZIIIIIIII\t(0.5+0j)\n",
            "IIIIZIZIIIIIIIII\t(0.5+0j)\n",
            "IIIIZZIIIIIIIIII\t(0.5+0j)\n",
            "IIIZIIIIIIIIIIIZ\t(0.75+0j)\n",
            "IIIZIIIIIIIIIZII\t(0.25+0j)\n",
            "IIIZIIIIIIIZIIII\t(0.5+0j)\n",
            "IIIZIIIZIIIIIIII\t(0.75+0j)\n",
            "IIIZIZIIIIIIIIII\t(0.25+0j)\n",
            "IIZIIIIIIIIIIIZI\t(0.75+0j)\n",
            "IIZIIIIIIIIIZIII\t(0.25+0j)\n",
            "IIZIIIIIIIZIIIII\t(0.5+0j)\n",
            "IIZIIIZIIIIIIIII\t(0.75+0j)\n",
            "IIZIZIIIIIIIIIII\t(0.25+0j)\n",
            "IIZZIIIIIIIIIIII\t(0.5+0j)\n",
            "IZIIIIIIIIIIIIIZ\t(0.25+0j)\n",
            "IZIIIIIIIIIIIZII\t(0.75+0j)\n",
            "IZIIIIIIIZIIIIII\t(0.5+0j)\n",
            "IZIIIIIZIIIIIIII\t(0.25+0j)\n",
            "IZIIIZIIIIIIIIII\t(0.75+0j)\n",
            "IZIZIIIIIIIIIIII\t(0.5+0j)\n",
            "IZZIIIIIIIIIIIII\t(0.5+0j)\n",
            "ZIIIIIIIIIIIIIZI\t(0.25+0j)\n",
            "ZIIIIIIIIIIIZIII\t(0.75+0j)\n",
            "ZIIIIIIIZIIIIIII\t(0.5+0j)\n",
            "ZIIIIIZIIIIIIIII\t(0.25+0j)\n",
            "ZIIIZIIIIIIIIIII\t(0.75+0j)\n",
            "ZIIZIIIIIIIIIIII\t(0.5+0j)\n",
            "ZIZIIIIIIIIIIIII\t(0.5+0j)\n",
            "ZZIIIIIIIIIIIIII\t(0.5+0j)\n",
            "\n"
          ]
        }
      ]
    },
    {
      "cell_type": "code",
      "metadata": {
        "colab": {
          "base_uri": "https://localhost:8080/"
        },
        "id": "z7DktnMK2-XL",
        "outputId": "0707232c-35d4-4af7-be40-8db7a8820fff"
      },
      "source": [
        "# mapping Ising Hamiltonian to Quadratic Program\n",
        "qp = QuadraticProgram()\n",
        "qp.from_ising(qubitOp, offset)\n",
        "qp.to_docplex().prettyprint()"
      ],
      "execution_count": 92,
      "outputs": [
        {
          "output_type": "stream",
          "name": "stdout",
          "text": [
            "// This file has been generated by DOcplex\n",
            "// model name is: AnonymousModel\n",
            "// single vars section\n",
            "dvar bool x_0;\n",
            "dvar bool x_1;\n",
            "dvar bool x_2;\n",
            "dvar bool x_3;\n",
            "dvar bool x_4;\n",
            "dvar bool x_5;\n",
            "dvar bool x_6;\n",
            "dvar bool x_7;\n",
            "dvar bool x_8;\n",
            "dvar bool x_9;\n",
            "dvar bool x_10;\n",
            "dvar bool x_11;\n",
            "dvar bool x_12;\n",
            "dvar bool x_13;\n",
            "dvar bool x_14;\n",
            "dvar bool x_15;\n",
            "\n",
            "minimize\n",
            " [ - 2 x_0^2 + 2 x_0*x_1 + 2 x_0*x_2 + 2 x_0*x_3 + 3 x_0*x_4 + x_0*x_6\n",
            " + 2 x_0*x_8 + 3 x_0*x_12 + x_0*x_14 - 2 x_1^2 + 2 x_1*x_2 + 2 x_1*x_3\n",
            " + 3 x_1*x_5 + x_1*x_7 + 2 x_1*x_9 + 3 x_1*x_13 + x_1*x_15 - 2 x_2^2\n",
            " + 2 x_2*x_3 + x_2*x_4 + 3 x_2*x_6 + 2 x_2*x_10 + x_2*x_12 + 3 x_2*x_14\n",
            " - 2 x_3^2 + x_3*x_5 + 3 x_3*x_7 + 2 x_3*x_11 + x_3*x_13 + 3 x_3*x_15\n",
            " - 2 x_4^2 + 2 x_4*x_5 + 2 x_4*x_6 + 2 x_4*x_7 + 3 x_4*x_8 + x_4*x_10\n",
            " + 2 x_4*x_12 - 2 x_5^2 + 2 x_5*x_6 + 2 x_5*x_7 + 3 x_5*x_9 + x_5*x_11\n",
            " + 2 x_5*x_13 - 2 x_6^2 + 2 x_6*x_7 + x_6*x_8 + 3 x_6*x_10 + 2 x_6*x_14\n",
            " - 2 x_7^2 + x_7*x_9 + 3 x_7*x_11 + 2 x_7*x_15 - 2 x_8^2 + 2 x_8*x_9\n",
            " + 2 x_8*x_10 + 2 x_8*x_11 + 3 x_8*x_12 + x_8*x_14 - 2 x_9^2 + 2 x_9*x_10\n",
            " + 2 x_9*x_11 + 3 x_9*x_13 + x_9*x_15 - 2 x_10^2 + 2 x_10*x_11 + x_10*x_12\n",
            " + 3 x_10*x_14 - 2 x_11^2 + x_11*x_13 + 3 x_11*x_15 - 2 x_12^2 + 2 x_12*x_13\n",
            " + 2 x_12*x_14 + 2 x_12*x_15 - 2 x_13^2 + 2 x_13*x_14 + 2 x_13*x_15 - 2 x_14^2\n",
            " + 2 x_14*x_15 - 2 x_15^2 ] + 8;\n",
            " \n",
            "subject to {\n",
            "\n",
            "}\n"
          ]
        }
      ]
    },
    {
      "cell_type": "code",
      "metadata": {
        "colab": {
          "base_uri": "https://localhost:8080/"
        },
        "id": "l2f361P13bCT",
        "outputId": "e3e0a604-de8e-4667-faed-916e8e419af1"
      },
      "source": [
        "# solving Quadratic Program using exact classical eigensolver\n",
        "exact = MinimumEigenOptimizer(NumPyMinimumEigensolver())\n",
        "result = exact.solve(qp)\n",
        "print(result)"
      ],
      "execution_count": 93,
      "outputs": [
        {
          "output_type": "stream",
          "name": "stdout",
          "text": [
            "optimal function value: 0.0\n",
            "optimal value: [0. 0. 0. 1. 0. 0. 1. 0. 0. 1. 0. 0. 1. 0. 0. 0.]\n",
            "status: SUCCESS\n"
          ]
        }
      ]
    },
    {
      "cell_type": "code",
      "metadata": {
        "colab": {
          "base_uri": "https://localhost:8080/"
        },
        "id": "q3CrPXgH3erE",
        "outputId": "33f6f16c-d029-403a-e034-e0353e64687f"
      },
      "source": [
        "#Making the Hamiltonian in its full form and getting the lowest eigenvalue and eigenvector\n",
        "ee = NumPyMinimumEigensolver(qubitOp)\n",
        "result = ee.run()\n",
        "\n",
        "x = sample_most_likely(result.eigenstate)\n",
        "print('energy:', result.eigenvalue.real)\n",
        "print('total objective:', result.eigenvalue.real + offset)"
      ],
      "execution_count": 94,
      "outputs": [
        {
          "output_type": "stream",
          "name": "stdout",
          "text": [
            "energy: -24.0\n",
            "total objective: 0.0\n"
          ]
        }
      ]
    },
    {
      "cell_type": "code",
      "metadata": {
        "id": "ntOaxnZn3l5j"
      },
      "source": [
        "aqua_globals.random_seed = np.random.default_rng(123)\n",
        "seed = 10598\n",
        "backend = Aer.get_backend('qasm_simulator')\n",
        "quantum_instance = QuantumInstance(backend, seed_simulator=seed, seed_transpiler=seed)"
      ],
      "execution_count": 95,
      "outputs": []
    },
    {
      "cell_type": "code",
      "metadata": {
        "colab": {
          "base_uri": "https://localhost:8080/"
        },
        "id": "vwQ5Aojt4Zqr",
        "outputId": "d001240a-fbc6-47d0-de9a-42e38dbfae8b"
      },
      "source": [
        "from qiskit.aqua.components.optimizers import COBYLA, SLSQP, ADAM, L_BFGS_B, SPSA\n",
        "from qiskit.circuit.library import TwoLocal\n",
        "\n",
        "# construct VQE\n",
        "spsa = SPSA(maxiter=300)\n",
        "ry = TwoLocal(qubitOp.num_qubits, 'ry', 'cz', reps=5, entanglement='linear')\n",
        "vqe = VQE(qubitOp, ry, spsa, quantum_instance=quantum_instance)\n",
        "\n",
        "# run VQE\n",
        "result = vqe.run(quantum_instance)\n",
        "\n",
        "# print results\n",
        "x = sample_most_likely(result.eigenstate)\n",
        "print('energy:', result.eigenvalue.real)\n",
        "print('time:', result.optimizer_time)\n",
        "print('max-cut objective:', result.eigenvalue.real + offset)"
      ],
      "execution_count": 96,
      "outputs": [
        {
          "output_type": "stream",
          "name": "stderr",
          "text": [
            "/usr/local/lib/python3.7/dist-packages/qiskit/utils/deprecation.py:62: DeprecationWarning:\n",
            "\n",
            "Using a qobj for run() is deprecated as of qiskit-aer 0.9.0 and will be removed no sooner than 3 months from that release date. Transpiled circuits should now be passed directly using `backend.run(circuits, **run_options).\n",
            "\n"
          ]
        },
        {
          "output_type": "stream",
          "name": "stdout",
          "text": [
            "energy: -19.9404296875\n",
            "time: 1652.6670050621033\n",
            "max-cut objective: 4.0595703125\n"
          ]
        }
      ]
    },
    {
      "cell_type": "code",
      "metadata": {
        "colab": {
          "base_uri": "https://localhost:8080/"
        },
        "id": "ZzAaCbSI4hlj",
        "outputId": "84920969-1de7-4da8-fa59-83db1780ae5d"
      },
      "source": [
        "# create minimum eigen optimizer based on VQE\n",
        "vqe_optimizer = MinimumEigenOptimizer(vqe)\n",
        "\n",
        "# solve quadratic program\n",
        "result = vqe_optimizer.solve(qp)\n",
        "print(result)"
      ],
      "execution_count": 97,
      "outputs": [
        {
          "output_type": "stream",
          "name": "stderr",
          "text": [
            "/usr/local/lib/python3.7/dist-packages/qiskit/utils/deprecation.py:62: DeprecationWarning:\n",
            "\n",
            "Using a qobj for run() is deprecated as of qiskit-aer 0.9.0 and will be removed no sooner than 3 months from that release date. Transpiled circuits should now be passed directly using `backend.run(circuits, **run_options).\n",
            "\n"
          ]
        },
        {
          "output_type": "stream",
          "name": "stdout",
          "text": [
            "optimal function value: 0.0\n",
            "optimal value: [0. 1. 0. 0. 0. 0. 1. 0. 0. 0. 0. 1. 1. 0. 0. 0.]\n",
            "status: SUCCESS\n"
          ]
        }
      ]
    },
    {
      "cell_type": "code",
      "metadata": {
        "id": "RBd4xWCZH_MC"
      },
      "source": [
        ""
      ],
      "execution_count": 97,
      "outputs": []
    }
  ]
}