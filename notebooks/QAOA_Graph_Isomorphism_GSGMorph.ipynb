{
  "nbformat": 4,
  "nbformat_minor": 0,
  "metadata": {
    "colab": {
      "name": "QAOA-Graph-Isomorphism-GSGMorph.ipynb",
      "provenance": [],
      "collapsed_sections": []
    },
    "kernelspec": {
      "display_name": "Python 3",
      "language": "python",
      "name": "python3"
    },
    "language_info": {
      "codemirror_mode": {
        "name": "ipython",
        "version": 3
      },
      "file_extension": ".py",
      "mimetype": "text/x-python",
      "name": "python",
      "nbconvert_exporter": "python",
      "pygments_lexer": "ipython3",
      "version": "3.8.5"
    }
  },
  "cells": [
    {
      "cell_type": "code",
      "metadata": {
        "id": "Iv-5PMZ9VkrE",
        "colab": {
          "base_uri": "https://localhost:8080/",
          "height": 1000
        },
        "outputId": "a66ffa1c-ed47-4107-f166-8b30af77eedc"
      },
      "source": [
        "!pip install dimod\n",
        "!pip install 'qiskit[all]'\n",
        "!pip install dwave-neal"
      ],
      "execution_count": null,
      "outputs": [
        {
          "output_type": "stream",
          "name": "stdout",
          "text": [
            "Requirement already satisfied: dimod in /usr/local/lib/python3.7/dist-packages (0.10.7)\n",
            "Requirement already satisfied: pyparsing<3.0.0,>=2.4.7 in /usr/local/lib/python3.7/dist-packages (from dimod) (2.4.7)\n",
            "Requirement already satisfied: dwave-preprocessing<0.4,>=0.3 in /usr/local/lib/python3.7/dist-packages (from dimod) (0.3.1.post0)\n",
            "Requirement already satisfied: numpy!=1.21.0,!=1.21.1,<2.0.0,>=1.17.3 in /usr/local/lib/python3.7/dist-packages (from dimod) (1.19.5)\n",
            "Requirement already satisfied: qiskit[all] in /usr/local/lib/python3.7/dist-packages (0.31.0)\n",
            "Requirement already satisfied: qiskit-ignis==0.6.0 in /usr/local/lib/python3.7/dist-packages (from qiskit[all]) (0.6.0)\n",
            "Requirement already satisfied: qiskit-aqua==0.9.5 in /usr/local/lib/python3.7/dist-packages (from qiskit[all]) (0.9.5)\n",
            "Requirement already satisfied: qiskit-ibmq-provider==0.17.0 in /usr/local/lib/python3.7/dist-packages (from qiskit[all]) (0.17.0)\n",
            "Requirement already satisfied: qiskit-aer==0.9.1 in /usr/local/lib/python3.7/dist-packages (from qiskit[all]) (0.9.1)\n",
            "Requirement already satisfied: qiskit-terra==0.18.3 in /usr/local/lib/python3.7/dist-packages (from qiskit[all]) (0.18.3)\n",
            "Requirement already satisfied: pylatexenc>=1.4 in /usr/local/lib/python3.7/dist-packages (from qiskit[all]) (2.10)\n",
            "Requirement already satisfied: qiskit-finance>=0.2.1 in /usr/local/lib/python3.7/dist-packages (from qiskit[all]) (0.2.1)\n",
            "Requirement already satisfied: seaborn>=0.9.0 in /usr/local/lib/python3.7/dist-packages (from qiskit[all]) (0.11.2)\n",
            "Requirement already satisfied: qiskit-machine-learning>=0.2.1 in /usr/local/lib/python3.7/dist-packages (from qiskit[all]) (0.2.1)\n",
            "Requirement already satisfied: pillow>=4.2.1 in /usr/local/lib/python3.7/dist-packages (from qiskit[all]) (7.1.2)\n",
            "Requirement already satisfied: qiskit-experiments in /usr/local/lib/python3.7/dist-packages (from qiskit[all]) (0.1.0)\n",
            "Requirement already satisfied: qiskit-nature>=0.2.0 in /usr/local/lib/python3.7/dist-packages (from qiskit[all]) (0.2.2)\n",
            "Requirement already satisfied: pygments>=2.4 in /usr/local/lib/python3.7/dist-packages (from qiskit[all]) (2.6.1)\n",
            "Requirement already satisfied: matplotlib>=2.1 in /usr/local/lib/python3.7/dist-packages (from qiskit[all]) (3.1.3)\n",
            "Requirement already satisfied: qiskit-optimization>=0.2.2 in /usr/local/lib/python3.7/dist-packages (from qiskit[all]) (0.2.3)\n",
            "Requirement already satisfied: ipywidgets>=7.3.0 in /usr/local/lib/python3.7/dist-packages (from qiskit[all]) (7.6.5)\n",
            "Requirement already satisfied: pydot in /usr/local/lib/python3.7/dist-packages (from qiskit[all]) (1.3.0)\n",
            "Requirement already satisfied: numpy>=1.16.3 in /usr/local/lib/python3.7/dist-packages (from qiskit-aer==0.9.1->qiskit[all]) (1.19.5)\n",
            "Requirement already satisfied: scipy>=1.0 in /usr/local/lib/python3.7/dist-packages (from qiskit-aer==0.9.1->qiskit[all]) (1.4.1)\n",
            "Requirement already satisfied: scikit-learn>=0.20.0 in /usr/local/lib/python3.7/dist-packages (from qiskit-aqua==0.9.5->qiskit[all]) (0.22.2.post1)\n",
            "Requirement already satisfied: quandl in /usr/local/lib/python3.7/dist-packages (from qiskit-aqua==0.9.5->qiskit[all]) (3.6.1)\n",
            "Requirement already satisfied: sympy>=1.3 in /usr/local/lib/python3.7/dist-packages (from qiskit-aqua==0.9.5->qiskit[all]) (1.7.1)\n",
            "Requirement already satisfied: pandas in /usr/local/lib/python3.7/dist-packages (from qiskit-aqua==0.9.5->qiskit[all]) (1.1.5)\n",
            "Requirement already satisfied: setuptools>=40.1.0 in /usr/local/lib/python3.7/dist-packages (from qiskit-aqua==0.9.5->qiskit[all]) (57.4.0)\n",
            "Requirement already satisfied: dlx<=1.0.4 in /usr/local/lib/python3.7/dist-packages (from qiskit-aqua==0.9.5->qiskit[all]) (1.0.4)\n",
            "Requirement already satisfied: retworkx>=0.8.0 in /usr/local/lib/python3.7/dist-packages (from qiskit-aqua==0.9.5->qiskit[all]) (0.10.2)\n",
            "Requirement already satisfied: h5py<3.3.0 in /usr/local/lib/python3.7/dist-packages (from qiskit-aqua==0.9.5->qiskit[all]) (3.1.0)\n",
            "Requirement already satisfied: docplex>=2.21.207 in /usr/local/lib/python3.7/dist-packages (from qiskit-aqua==0.9.5->qiskit[all]) (2.22.213)\n",
            "Requirement already satisfied: psutil>=5 in /usr/local/lib/python3.7/dist-packages (from qiskit-aqua==0.9.5->qiskit[all]) (5.4.8)\n",
            "Requirement already satisfied: fastdtw<=0.3.4 in /usr/local/lib/python3.7/dist-packages (from qiskit-aqua==0.9.5->qiskit[all]) (0.3.4)\n",
            "Requirement already satisfied: yfinance>=0.1.62 in /usr/local/lib/python3.7/dist-packages (from qiskit-aqua==0.9.5->qiskit[all]) (0.1.64)\n",
            "Requirement already satisfied: requests>=2.19 in /usr/local/lib/python3.7/dist-packages (from qiskit-ibmq-provider==0.17.0->qiskit[all]) (2.23.0)\n",
            "Requirement already satisfied: websocket-client>=1.0.1 in /usr/local/lib/python3.7/dist-packages (from qiskit-ibmq-provider==0.17.0->qiskit[all]) (1.2.1)\n",
            "Requirement already satisfied: requests-ntlm>=1.1.0 in /usr/local/lib/python3.7/dist-packages (from qiskit-ibmq-provider==0.17.0->qiskit[all]) (1.1.0)\n",
            "Requirement already satisfied: python-dateutil>=2.8.0 in /usr/local/lib/python3.7/dist-packages (from qiskit-ibmq-provider==0.17.0->qiskit[all]) (2.8.2)\n",
            "Requirement already satisfied: urllib3>=1.21.1 in /usr/local/lib/python3.7/dist-packages (from qiskit-ibmq-provider==0.17.0->qiskit[all]) (1.24.3)\n",
            "Requirement already satisfied: python-constraint>=1.4 in /usr/local/lib/python3.7/dist-packages (from qiskit-terra==0.18.3->qiskit[all]) (1.4.0)\n",
            "Requirement already satisfied: fastjsonschema>=2.10 in /usr/local/lib/python3.7/dist-packages (from qiskit-terra==0.18.3->qiskit[all]) (2.15.1)\n",
            "Requirement already satisfied: jsonschema>=2.6 in /usr/local/lib/python3.7/dist-packages (from qiskit-terra==0.18.3->qiskit[all]) (2.6.0)\n",
            "Requirement already satisfied: dill>=0.3 in /usr/local/lib/python3.7/dist-packages (from qiskit-terra==0.18.3->qiskit[all]) (0.3.4)\n",
            "Requirement already satisfied: ply>=3.10 in /usr/local/lib/python3.7/dist-packages (from qiskit-terra==0.18.3->qiskit[all]) (3.11)\n",
            "Requirement already satisfied: symengine>0.7 in /usr/local/lib/python3.7/dist-packages (from qiskit-terra==0.18.3->qiskit[all]) (0.8.1)\n",
            "Requirement already satisfied: tweedledum<2.0,>=1.1 in /usr/local/lib/python3.7/dist-packages (from qiskit-terra==0.18.3->qiskit[all]) (1.1.1)\n",
            "Requirement already satisfied: six in /usr/local/lib/python3.7/dist-packages (from docplex>=2.21.207->qiskit-aqua==0.9.5->qiskit[all]) (1.15.0)\n",
            "Requirement already satisfied: cached-property in /usr/local/lib/python3.7/dist-packages (from h5py<3.3.0->qiskit-aqua==0.9.5->qiskit[all]) (1.5.2)\n",
            "Requirement already satisfied: traitlets>=4.3.1 in /usr/local/lib/python3.7/dist-packages (from ipywidgets>=7.3.0->qiskit[all]) (5.1.0)\n",
            "Requirement already satisfied: ipython>=4.0.0 in /usr/local/lib/python3.7/dist-packages (from ipywidgets>=7.3.0->qiskit[all]) (5.5.0)\n",
            "Requirement already satisfied: jupyterlab-widgets>=1.0.0 in /usr/local/lib/python3.7/dist-packages (from ipywidgets>=7.3.0->qiskit[all]) (1.0.2)\n",
            "Requirement already satisfied: widgetsnbextension~=3.5.0 in /usr/local/lib/python3.7/dist-packages (from ipywidgets>=7.3.0->qiskit[all]) (3.5.1)\n",
            "Requirement already satisfied: ipykernel>=4.5.1 in /usr/local/lib/python3.7/dist-packages (from ipywidgets>=7.3.0->qiskit[all]) (4.10.1)\n",
            "Requirement already satisfied: ipython-genutils~=0.2.0 in /usr/local/lib/python3.7/dist-packages (from ipywidgets>=7.3.0->qiskit[all]) (0.2.0)\n",
            "Requirement already satisfied: nbformat>=4.2.0 in /usr/local/lib/python3.7/dist-packages (from ipywidgets>=7.3.0->qiskit[all]) (5.1.3)\n",
            "Requirement already satisfied: tornado>=4.0 in /usr/local/lib/python3.7/dist-packages (from ipykernel>=4.5.1->ipywidgets>=7.3.0->qiskit[all]) (5.1.1)\n",
            "Requirement already satisfied: jupyter-client in /usr/local/lib/python3.7/dist-packages (from ipykernel>=4.5.1->ipywidgets>=7.3.0->qiskit[all]) (5.3.5)\n",
            "Requirement already satisfied: prompt-toolkit<2.0.0,>=1.0.4 in /usr/local/lib/python3.7/dist-packages (from ipython>=4.0.0->ipywidgets>=7.3.0->qiskit[all]) (1.0.18)\n",
            "Requirement already satisfied: decorator in /usr/local/lib/python3.7/dist-packages (from ipython>=4.0.0->ipywidgets>=7.3.0->qiskit[all]) (4.4.2)\n",
            "Requirement already satisfied: pexpect in /usr/local/lib/python3.7/dist-packages (from ipython>=4.0.0->ipywidgets>=7.3.0->qiskit[all]) (4.8.0)\n",
            "Requirement already satisfied: simplegeneric>0.8 in /usr/local/lib/python3.7/dist-packages (from ipython>=4.0.0->ipywidgets>=7.3.0->qiskit[all]) (0.8.1)\n",
            "Requirement already satisfied: pickleshare in /usr/local/lib/python3.7/dist-packages (from ipython>=4.0.0->ipywidgets>=7.3.0->qiskit[all]) (0.7.5)\n",
            "Requirement already satisfied: kiwisolver>=1.0.1 in /usr/local/lib/python3.7/dist-packages (from matplotlib>=2.1->qiskit[all]) (1.3.2)\n",
            "Requirement already satisfied: cycler>=0.10 in /usr/local/lib/python3.7/dist-packages (from matplotlib>=2.1->qiskit[all]) (0.10.0)\n",
            "Requirement already satisfied: pyparsing!=2.0.4,!=2.1.2,!=2.1.6,>=2.0.1 in /usr/local/lib/python3.7/dist-packages (from matplotlib>=2.1->qiskit[all]) (2.4.7)\n",
            "Requirement already satisfied: jupyter-core in /usr/local/lib/python3.7/dist-packages (from nbformat>=4.2.0->ipywidgets>=7.3.0->qiskit[all]) (4.8.1)\n",
            "Requirement already satisfied: wcwidth in /usr/local/lib/python3.7/dist-packages (from prompt-toolkit<2.0.0,>=1.0.4->ipython>=4.0.0->ipywidgets>=7.3.0->qiskit[all]) (0.2.5)\n",
            "Requirement already satisfied: networkx<2.6,>=2.2 in /usr/local/lib/python3.7/dist-packages (from qiskit-optimization>=0.2.2->qiskit[all]) (2.5.1)\n",
            "Requirement already satisfied: certifi>=2017.4.17 in /usr/local/lib/python3.7/dist-packages (from requests>=2.19->qiskit-ibmq-provider==0.17.0->qiskit[all]) (2021.5.30)\n",
            "Requirement already satisfied: idna<3,>=2.5 in /usr/local/lib/python3.7/dist-packages (from requests>=2.19->qiskit-ibmq-provider==0.17.0->qiskit[all]) (2.10)\n",
            "Requirement already satisfied: chardet<4,>=3.0.2 in /usr/local/lib/python3.7/dist-packages (from requests>=2.19->qiskit-ibmq-provider==0.17.0->qiskit[all]) (3.0.4)\n",
            "Requirement already satisfied: ntlm-auth>=1.0.2 in /usr/local/lib/python3.7/dist-packages (from requests-ntlm>=1.1.0->qiskit-ibmq-provider==0.17.0->qiskit[all]) (1.5.0)\n",
            "Requirement already satisfied: cryptography>=1.3 in /usr/local/lib/python3.7/dist-packages (from requests-ntlm>=1.1.0->qiskit-ibmq-provider==0.17.0->qiskit[all]) (35.0.0)\n",
            "Requirement already satisfied: cffi>=1.12 in /usr/local/lib/python3.7/dist-packages (from cryptography>=1.3->requests-ntlm>=1.1.0->qiskit-ibmq-provider==0.17.0->qiskit[all]) (1.14.6)\n",
            "Requirement already satisfied: pycparser in /usr/local/lib/python3.7/dist-packages (from cffi>=1.12->cryptography>=1.3->requests-ntlm>=1.1.0->qiskit-ibmq-provider==0.17.0->qiskit[all]) (2.20)\n",
            "Requirement already satisfied: joblib>=0.11 in /usr/local/lib/python3.7/dist-packages (from scikit-learn>=0.20.0->qiskit-aqua==0.9.5->qiskit[all]) (1.0.1)\n",
            "Requirement already satisfied: pytz>=2017.2 in /usr/local/lib/python3.7/dist-packages (from pandas->qiskit-aqua==0.9.5->qiskit[all]) (2018.9)\n",
            "Requirement already satisfied: mpmath>=0.19 in /usr/local/lib/python3.7/dist-packages (from sympy>=1.3->qiskit-aqua==0.9.5->qiskit[all]) (1.2.1)\n",
            "Requirement already satisfied: notebook>=4.4.1 in /usr/local/lib/python3.7/dist-packages (from widgetsnbextension~=3.5.0->ipywidgets>=7.3.0->qiskit[all]) (5.3.1)\n",
            "Requirement already satisfied: Send2Trash in /usr/local/lib/python3.7/dist-packages (from notebook>=4.4.1->widgetsnbextension~=3.5.0->ipywidgets>=7.3.0->qiskit[all]) (1.8.0)\n",
            "Requirement already satisfied: jinja2 in /usr/local/lib/python3.7/dist-packages (from notebook>=4.4.1->widgetsnbextension~=3.5.0->ipywidgets>=7.3.0->qiskit[all]) (2.11.3)\n",
            "Requirement already satisfied: nbconvert in /usr/local/lib/python3.7/dist-packages (from notebook>=4.4.1->widgetsnbextension~=3.5.0->ipywidgets>=7.3.0->qiskit[all]) (5.6.1)\n",
            "Requirement already satisfied: terminado>=0.8.1 in /usr/local/lib/python3.7/dist-packages (from notebook>=4.4.1->widgetsnbextension~=3.5.0->ipywidgets>=7.3.0->qiskit[all]) (0.12.1)\n",
            "Requirement already satisfied: pyzmq>=13 in /usr/local/lib/python3.7/dist-packages (from jupyter-client->ipykernel>=4.5.1->ipywidgets>=7.3.0->qiskit[all]) (22.3.0)\n",
            "Requirement already satisfied: ptyprocess in /usr/local/lib/python3.7/dist-packages (from terminado>=0.8.1->notebook>=4.4.1->widgetsnbextension~=3.5.0->ipywidgets>=7.3.0->qiskit[all]) (0.7.0)\n",
            "Requirement already satisfied: lxml>=4.5.1 in /usr/local/lib/python3.7/dist-packages (from yfinance>=0.1.62->qiskit-aqua==0.9.5->qiskit[all]) (4.6.3)\n",
            "Requirement already satisfied: multitasking>=0.0.7 in /usr/local/lib/python3.7/dist-packages (from yfinance>=0.1.62->qiskit-aqua==0.9.5->qiskit[all]) (0.0.9)\n",
            "Requirement already satisfied: MarkupSafe>=0.23 in /usr/local/lib/python3.7/dist-packages (from jinja2->notebook>=4.4.1->widgetsnbextension~=3.5.0->ipywidgets>=7.3.0->qiskit[all]) (2.0.1)\n",
            "Requirement already satisfied: entrypoints>=0.2.2 in /usr/local/lib/python3.7/dist-packages (from nbconvert->notebook>=4.4.1->widgetsnbextension~=3.5.0->ipywidgets>=7.3.0->qiskit[all]) (0.3)\n",
            "Requirement already satisfied: bleach in /usr/local/lib/python3.7/dist-packages (from nbconvert->notebook>=4.4.1->widgetsnbextension~=3.5.0->ipywidgets>=7.3.0->qiskit[all]) (4.1.0)\n",
            "Requirement already satisfied: defusedxml in /usr/local/lib/python3.7/dist-packages (from nbconvert->notebook>=4.4.1->widgetsnbextension~=3.5.0->ipywidgets>=7.3.0->qiskit[all]) (0.7.1)\n",
            "Requirement already satisfied: pandocfilters>=1.4.1 in /usr/local/lib/python3.7/dist-packages (from nbconvert->notebook>=4.4.1->widgetsnbextension~=3.5.0->ipywidgets>=7.3.0->qiskit[all]) (1.5.0)\n",
            "Requirement already satisfied: mistune<2,>=0.8.1 in /usr/local/lib/python3.7/dist-packages (from nbconvert->notebook>=4.4.1->widgetsnbextension~=3.5.0->ipywidgets>=7.3.0->qiskit[all]) (0.8.4)\n",
            "Requirement already satisfied: testpath in /usr/local/lib/python3.7/dist-packages (from nbconvert->notebook>=4.4.1->widgetsnbextension~=3.5.0->ipywidgets>=7.3.0->qiskit[all]) (0.5.0)\n",
            "Requirement already satisfied: webencodings in /usr/local/lib/python3.7/dist-packages (from bleach->nbconvert->notebook>=4.4.1->widgetsnbextension~=3.5.0->ipywidgets>=7.3.0->qiskit[all]) (0.5.1)\n",
            "Requirement already satisfied: packaging in /usr/local/lib/python3.7/dist-packages (from bleach->nbconvert->notebook>=4.4.1->widgetsnbextension~=3.5.0->ipywidgets>=7.3.0->qiskit[all]) (21.0)\n",
            "Collecting matplotlib>=2.1\n",
            "  Using cached matplotlib-3.4.3-cp37-cp37m-manylinux1_x86_64.whl (10.3 MB)\n",
            "Requirement already satisfied: inflection>=0.3.1 in /usr/local/lib/python3.7/dist-packages (from quandl->qiskit-aqua==0.9.5->qiskit[all]) (0.5.1)\n",
            "Requirement already satisfied: more-itertools in /usr/local/lib/python3.7/dist-packages (from quandl->qiskit-aqua==0.9.5->qiskit[all]) (8.10.0)\n",
            "Installing collected packages: matplotlib\n",
            "  Attempting uninstall: matplotlib\n",
            "    Found existing installation: matplotlib 3.1.3\n",
            "    Uninstalling matplotlib-3.1.3:\n",
            "      Successfully uninstalled matplotlib-3.1.3\n",
            "\u001b[31mERROR: pip's dependency resolver does not currently take into account all the packages that are installed. This behaviour is the source of the following dependency conflicts.\n",
            "albumentations 0.1.12 requires imgaug<0.2.7,>=0.2.5, but you have imgaug 0.2.9 which is incompatible.\u001b[0m\n",
            "Successfully installed matplotlib-3.4.3\n"
          ]
        },
        {
          "output_type": "display_data",
          "data": {
            "application/vnd.colab-display-data+json": {
              "pip_warning": {
                "packages": [
                  "matplotlib",
                  "mpl_toolkits"
                ]
              }
            }
          },
          "metadata": {}
        },
        {
          "output_type": "stream",
          "name": "stdout",
          "text": [
            "Requirement already satisfied: dwave-neal in /usr/local/lib/python3.7/dist-packages (0.5.8)\n",
            "Requirement already satisfied: numpy!=1.21.0,!=1.21.1,<2.0.0,>=1.16.0 in /usr/local/lib/python3.7/dist-packages (from dwave-neal) (1.19.5)\n",
            "Requirement already satisfied: dimod>=0.9.2 in /usr/local/lib/python3.7/dist-packages (from dwave-neal) (0.10.7)\n",
            "Requirement already satisfied: pyparsing<3.0.0,>=2.4.7 in /usr/local/lib/python3.7/dist-packages (from dimod>=0.9.2->dwave-neal) (2.4.7)\n",
            "Requirement already satisfied: dwave-preprocessing<0.4,>=0.3 in /usr/local/lib/python3.7/dist-packages (from dimod>=0.9.2->dwave-neal) (0.3.1.post0)\n"
          ]
        }
      ]
    },
    {
      "cell_type": "code",
      "metadata": {
        "id": "BBKF9kTPYm7U",
        "colab": {
          "base_uri": "https://localhost:8080/",
          "height": 391
        },
        "outputId": "9a885e1d-1361-426f-9078-7cce35ac1779"
      },
      "source": [
        "!pip install matplotlib==3.1.3"
      ],
      "execution_count": null,
      "outputs": [
        {
          "output_type": "stream",
          "name": "stdout",
          "text": [
            "Collecting matplotlib==3.1.3\n",
            "  Using cached matplotlib-3.1.3-cp37-cp37m-manylinux1_x86_64.whl (13.1 MB)\n",
            "Requirement already satisfied: kiwisolver>=1.0.1 in /usr/local/lib/python3.7/dist-packages (from matplotlib==3.1.3) (1.3.2)\n",
            "Requirement already satisfied: numpy>=1.11 in /usr/local/lib/python3.7/dist-packages (from matplotlib==3.1.3) (1.19.5)\n",
            "Requirement already satisfied: python-dateutil>=2.1 in /usr/local/lib/python3.7/dist-packages (from matplotlib==3.1.3) (2.8.2)\n",
            "Requirement already satisfied: cycler>=0.10 in /usr/local/lib/python3.7/dist-packages (from matplotlib==3.1.3) (0.10.0)\n",
            "Requirement already satisfied: pyparsing!=2.0.4,!=2.1.2,!=2.1.6,>=2.0.1 in /usr/local/lib/python3.7/dist-packages (from matplotlib==3.1.3) (2.4.7)\n",
            "Requirement already satisfied: six in /usr/local/lib/python3.7/dist-packages (from cycler>=0.10->matplotlib==3.1.3) (1.15.0)\n",
            "Installing collected packages: matplotlib\n",
            "  Attempting uninstall: matplotlib\n",
            "    Found existing installation: matplotlib 3.4.3\n",
            "    Uninstalling matplotlib-3.4.3:\n",
            "      Successfully uninstalled matplotlib-3.4.3\n",
            "\u001b[31mERROR: pip's dependency resolver does not currently take into account all the packages that are installed. This behaviour is the source of the following dependency conflicts.\n",
            "qiskit-experiments 0.1.0 requires matplotlib>=3.3, but you have matplotlib 3.1.3 which is incompatible.\n",
            "albumentations 0.1.12 requires imgaug<0.2.7,>=0.2.5, but you have imgaug 0.2.9 which is incompatible.\u001b[0m\n",
            "Successfully installed matplotlib-3.1.3\n"
          ]
        },
        {
          "output_type": "display_data",
          "data": {
            "application/vnd.colab-display-data+json": {
              "pip_warning": {
                "packages": [
                  "matplotlib",
                  "mpl_toolkits"
                ]
              }
            }
          },
          "metadata": {}
        }
      ]
    },
    {
      "cell_type": "code",
      "metadata": {
        "colab": {
          "base_uri": "https://localhost:8080/"
        },
        "id": "I3AH-z--mJnW",
        "outputId": "908ac6b7-c210-4ddd-836e-a0caeb2eee32"
      },
      "source": [
        "!pip install plotly"
      ],
      "execution_count": null,
      "outputs": [
        {
          "output_type": "stream",
          "name": "stdout",
          "text": [
            "Requirement already satisfied: plotly in /usr/local/lib/python3.7/dist-packages (4.4.1)\n",
            "Requirement already satisfied: retrying>=1.3.3 in /usr/local/lib/python3.7/dist-packages (from plotly) (1.3.3)\n",
            "Requirement already satisfied: six in /usr/local/lib/python3.7/dist-packages (from plotly) (1.15.0)\n"
          ]
        }
      ]
    },
    {
      "cell_type": "code",
      "metadata": {
        "colab": {
          "base_uri": "https://localhost:8080/"
        },
        "id": "Ee8WMAt561oY",
        "outputId": "1b3d8c08-04ae-4c21-94da-f7a0cb1c9a7c"
      },
      "source": [
        "!pip install gsgmorph"
      ],
      "execution_count": null,
      "outputs": [
        {
          "output_type": "stream",
          "name": "stdout",
          "text": [
            "Requirement already satisfied: gsgmorph in /usr/local/lib/python3.7/dist-packages (1.0.2)\n",
            "Requirement already satisfied: pyqubo in /usr/local/lib/python3.7/dist-packages (from gsgmorph) (1.0.13)\n",
            "Requirement already satisfied: networkx in /usr/local/lib/python3.7/dist-packages (from gsgmorph) (2.5.1)\n",
            "Requirement already satisfied: decorator<5,>=4.3 in /usr/local/lib/python3.7/dist-packages (from networkx->gsgmorph) (4.4.2)\n",
            "Requirement already satisfied: Deprecated>=1.2.12 in /usr/local/lib/python3.7/dist-packages (from pyqubo->gsgmorph) (1.2.13)\n",
            "Requirement already satisfied: six>=1.15.0 in /usr/local/lib/python3.7/dist-packages (from pyqubo->gsgmorph) (1.15.0)\n",
            "Requirement already satisfied: numpy>=1.17.3 in /usr/local/lib/python3.7/dist-packages (from pyqubo->gsgmorph) (1.19.5)\n",
            "Requirement already satisfied: dimod<0.11,>=0.9.14 in /usr/local/lib/python3.7/dist-packages (from pyqubo->gsgmorph) (0.10.7)\n",
            "Requirement already satisfied: dwave-neal>=0.5.7 in /usr/local/lib/python3.7/dist-packages (from pyqubo->gsgmorph) (0.5.8)\n",
            "Requirement already satisfied: wrapt<2,>=1.10 in /usr/local/lib/python3.7/dist-packages (from Deprecated>=1.2.12->pyqubo->gsgmorph) (1.12.1)\n",
            "Requirement already satisfied: pyparsing<3.0.0,>=2.4.7 in /usr/local/lib/python3.7/dist-packages (from dimod<0.11,>=0.9.14->pyqubo->gsgmorph) (2.4.7)\n",
            "Requirement already satisfied: dwave-preprocessing<0.4,>=0.3 in /usr/local/lib/python3.7/dist-packages (from dimod<0.11,>=0.9.14->pyqubo->gsgmorph) (0.3.1.post0)\n"
          ]
        }
      ]
    },
    {
      "cell_type": "code",
      "metadata": {
        "id": "opCbLgxHX4uc"
      },
      "source": [
        "import networkx as nx\n",
        "import matplotlib.pyplot as plt\n",
        "import numpy as np\n",
        "from time import time\n",
        "from pprint import pprint\n",
        "import plotly.graph_objects as go\n",
        "from plotly.subplots import make_subplots\n",
        "from IPython.display import clear_output"
      ],
      "execution_count": null,
      "outputs": []
    },
    {
      "cell_type": "code",
      "metadata": {
        "colab": {
          "base_uri": "https://localhost:8080/"
        },
        "id": "o0qvZFxFm-TP",
        "outputId": "045304a2-aa43-4cda-b7cc-9c3d37644244"
      },
      "source": [
        "import itertools\n",
        "import networkx as nx\n",
        "import matplotlib.pyplot as plt\n",
        "from collections import defaultdict\n",
        "from dimod import BinaryQuadraticModel, AdjVectorBQM\n",
        "from qiskit.optimization import QuadraticProgram\n",
        "from qiskit.optimization.converters import LinearEqualityToPenalty, InequalityToEquality, IntegerToBinary\n",
        "import neal"
      ],
      "execution_count": null,
      "outputs": [
        {
          "output_type": "stream",
          "name": "stderr",
          "text": [
            "/usr/local/lib/python3.7/dist-packages/qiskit/aqua/__init__.py:86: DeprecationWarning:\n",
            "\n",
            "The package qiskit.aqua is deprecated. It was moved/refactored to qiskit-terra For more information see <https://github.com/Qiskit/qiskit-aqua/blob/main/README.md#migration-guide>\n",
            "\n",
            "/usr/local/lib/python3.7/dist-packages/qiskit/optimization/__init__.py:92: DeprecationWarning:\n",
            "\n",
            "The package qiskit.optimization is deprecated. It was moved/refactored to qiskit_optimization (pip install qiskit-optimization). For more information see <https://github.com/Qiskit/qiskit-aqua/blob/main/README.md#migration-guide>\n",
            "\n"
          ]
        }
      ]
    },
    {
      "cell_type": "code",
      "metadata": {
        "id": "k5PV-TBU8eF6"
      },
      "source": [
        "from qiskit.aqua.algorithms import QAOA\n",
        "from qiskit.optimization.algorithms import MinimumEigenOptimizer\n",
        "from qiskit import Aer\n",
        "from qiskit import QuantumCircuit\n",
        "from qiskit.visualization import plot_state_city\n",
        "from qiskit.aqua.components.optimizers import COBYLA, SLSQP, ADAM, L_BFGS_B\n",
        "from qiskit.optimization import QuadraticProgram\n",
        "from docplex.mp.model import Model\n",
        "\n",
        "from qiskit.optimization.applications.ising import stable_set\n",
        "from qiskit import Aer\n",
        "from qiskit.optimization.applications.ising import stable_set\n",
        "from qiskit.aqua.algorithms import VQE, NumPyMinimumEigensolver, QAOA, NumPyEigensolver\n",
        "from qiskit.aqua import aqua_globals\n",
        "from qiskit.aqua import QuantumInstance\n",
        "from qiskit.optimization.applications.ising.common import sample_most_likely\n",
        "from qiskit.optimization.algorithms import MinimumEigenOptimizer\n"
      ],
      "execution_count": null,
      "outputs": []
    },
    {
      "cell_type": "code",
      "metadata": {
        "id": "ZqFqov1L7WkA"
      },
      "source": [
        "import gsgmorph.matrix_form as gsgm_mf\n",
        "import networkx as nx\n",
        "\n",
        "graph_to_embed = nx.Graph([(1,2),(2,3),(3,4),(1,4)])\n",
        "target_graph = nx.Graph([('a','b'),('b','c'),('c', 'd'), ('a', 'd')])"
      ],
      "execution_count": null,
      "outputs": []
    },
    {
      "cell_type": "code",
      "metadata": {
        "colab": {
          "base_uri": "https://localhost:8080/",
          "height": 319
        },
        "id": "V48hE6qd7XuP",
        "outputId": "722d7ec0-4c3a-4107-fa34-449b739ceeef"
      },
      "source": [
        "# Get fixed position\n",
        "pos = nx.spring_layout(graph_to_embed, seed=9999)\n",
        "\n",
        "# Graph to be embedded onto a target graph\n",
        "nx.draw(graph_to_embed, pos, with_labels=True, font_color='w')"
      ],
      "execution_count": null,
      "outputs": [
        {
          "output_type": "display_data",
          "data": {
            "image/png": "[encoded data removed]",
            "text/plain": [
              "<Figure size 432x288 with 1 Axes>"
            ]
          },
          "metadata": {}
        }
      ]
    },
    {
      "cell_type": "code",
      "metadata": {
        "colab": {
          "base_uri": "https://localhost:8080/",
          "height": 319
        },
        "id": "tTDHGw5d7qVg",
        "outputId": "97a8c96c-ffac-4193-a2ff-7cbe7e3203fe"
      },
      "source": [
        "\n",
        "# Get fixed position\n",
        "pos = nx.spring_layout(target_graph, seed=9999)\n",
        "\n",
        "# Target graph, the above graph will be mapped to this one\n",
        "nx.draw(target_graph, pos, with_labels=True, font_color='w')"
      ],
      "execution_count": null,
      "outputs": [
        {
          "output_type": "display_data",
          "data": {
            "image/png": "[encoded data removed]",
            "text/plain": [
              "<Figure size 432x288 with 1 Axes>"
            ]
          },
          "metadata": {}
        }
      ]
    },
    {
      "cell_type": "code",
      "metadata": {
        "id": "QORX2zsS7rc0"
      },
      "source": [
        "\n",
        "# Obtain the QUBO and the sample translation dictionary\n",
        "Q, sample_translation_dict = gsgm_mf.graph_isomorphism(graph_to_embed, target_graph)"
      ],
      "execution_count": null,
      "outputs": []
    },
    {
      "cell_type": "code",
      "metadata": {
        "id": "sc-H5YNzenIZ"
      },
      "source": [
        ""
      ],
      "execution_count": null,
      "outputs": []
    },
    {
      "cell_type": "code",
      "metadata": {
        "id": "lUYdMZazAJOC"
      },
      "source": [
        "def qubo_matrix_to_docplex(Q): \n",
        "\n",
        "  def build_matrix(data):\n",
        "    data = dict(data)\n",
        "    maxX = max([x for (x, y) in list(data.keys())])\n",
        "    maxY = max([y for (x, y) in list(data.keys())])\n",
        "    maxX = max([maxX, maxY])\n",
        "    maxY = max([maxX, maxY])\n",
        "    mat = np.zeros(shape=(maxX+1, maxY+1))\n",
        "    for key, value in data.items():\n",
        "        x, y = key\n",
        "        mat[x][y] = value\n",
        "    return mat\n",
        "\n",
        "  # Print out the Qubo Matrix\n",
        "  Q_matrix = build_matrix(Q)\n",
        "  print(Q_matrix)\n",
        "  print(\"Size of QUBO Matrix is: \", len(Q_matrix))\n",
        "\n",
        "  def build_linear(Q, Q_matrix): \n",
        "    linear_dict = {}\n",
        "    for idx in range(len(Q_matrix)): \n",
        "      linear_dict['x_{0}'.format(idx)] = Q[(idx,idx)]\n",
        "    print('Linear part: ', linear_dict)\n",
        "    return linear_dict\n",
        "\n",
        "  def build_quadratic(Q, Q_matrix): \n",
        "    quadratic_dict = {}\n",
        "    for node_pair in Q: \n",
        "      x,y = node_pair\n",
        "      if x != y: \n",
        "        quadratic_dict[(f'x_{x}', f'x_{y}')] = Q[(x,y)]\n",
        "    print('Quadratic Part: ', quadratic_dict)\n",
        "    return quadratic_dict\n",
        "\n",
        "  def build_constant(Q_matrix): \n",
        "    #Empirically decided!\n",
        "    import math \n",
        "    number_of_nodes= math.sqrt(len(Q_matrix))\n",
        "    constant = number_of_nodes * 2\n",
        "    print(constant)\n",
        "    return constant\n",
        "\n",
        "\n",
        "  linear = build_linear(Q, Q_matrix)\n",
        "  quadratic = build_quadratic(Q, Q_matrix)\n",
        "  constant = build_constant(Q_matrix)\n",
        "\n",
        "  mdl = QuadraticProgram('Graph Isomorphism')\n",
        "  for node_pair in Q: \n",
        "    x,y = node_pair\n",
        "    if x == y: \n",
        "      mdl.binary_var(name='x_{0}'.format(x))\n",
        "  \n",
        "  mdl.minimize(constant=constant, linear=linear, quadratic=quadratic)\n",
        "  print(mdl.export_as_lp_string())\n",
        "\n",
        "  return mdl"
      ],
      "execution_count": null,
      "outputs": []
    },
    {
      "cell_type": "code",
      "metadata": {
        "colab": {
          "base_uri": "https://localhost:8080/"
        },
        "id": "9wRTO9LBBSCe",
        "outputId": "d6ad3a04-4bc8-4ee8-9ea9-b4592f9145af"
      },
      "source": [
        "import math \n",
        "\n",
        "def build_matrix(data):\n",
        "    data = dict(data)\n",
        "    maxX = max([x for (x, y) in list(data.keys())])\n",
        "    maxY = max([y for (x, y) in list(data.keys())])\n",
        "    maxX = max([maxX, maxY])\n",
        "    maxY = max([maxX, maxY])\n",
        "    mat = np.zeros(shape=(maxX+1, maxY+1))\n",
        "    for key, value in data.items():\n",
        "        x, y = key\n",
        "        mat[x][y] = value\n",
        "    return mat\n",
        "\n",
        "# Print out the Qubo Matrix\n",
        "Q_matrix = build_matrix(Q)\n",
        "math.sqrt(len(Q_matrix))"
      ],
      "execution_count": null,
      "outputs": [
        {
          "output_type": "execute_result",
          "data": {
            "text/plain": [
              "4.0"
            ]
          },
          "metadata": {},
          "execution_count": 13
        }
      ]
    },
    {
      "cell_type": "code",
      "metadata": {
        "colab": {
          "base_uri": "https://localhost:8080/"
        },
        "id": "PinS3suMA_v7",
        "outputId": "c31c6f1a-0246-47f5-84a1-94c31f8760c3"
      },
      "source": [
        "mdl = qubo_matrix_to_docplex(Q)"
      ],
      "execution_count": null,
      "outputs": [
        {
          "output_type": "stream",
          "name": "stdout",
          "text": [
            "[[-2.  2.  2.  2.  3.  0.  1.  0.  2.  0.  0.  0.  3.  0.  1.  0.]\n",
            " [ 0. -2.  2.  2.  0.  3.  0.  1.  0.  2.  0.  0.  0.  3.  0.  1.]\n",
            " [ 0.  0. -2.  2.  1.  0.  3.  0.  0.  0.  2.  0.  1.  0.  3.  0.]\n",
            " [ 0.  0.  0. -2.  0.  1.  0.  3.  0.  0.  0.  2.  0.  1.  0.  3.]\n",
            " [ 0.  0.  0.  0. -2.  2.  2.  2.  3.  0.  1.  0.  2.  0.  0.  0.]\n",
            " [ 0.  0.  0.  0.  0. -2.  2.  2.  0.  3.  0.  1.  0.  2.  0.  0.]\n",
            " [ 0.  0.  0.  0.  0.  0. -2.  2.  1.  0.  3.  0.  0.  0.  2.  0.]\n",
            " [ 0.  0.  0.  0.  0.  0.  0. -2.  0.  1.  0.  3.  0.  0.  0.  2.]\n",
            " [ 0.  0.  0.  0.  0.  0.  0.  0. -2.  2.  2.  2.  3.  0.  1.  0.]\n",
            " [ 0.  0.  0.  0.  0.  0.  0.  0.  0. -2.  2.  2.  0.  3.  0.  1.]\n",
            " [ 0.  0.  0.  0.  0.  0.  0.  0.  0.  0. -2.  2.  1.  0.  3.  0.]\n",
            " [ 0.  0.  0.  0.  0.  0.  0.  0.  0.  0.  0. -2.  0.  1.  0.  3.]\n",
            " [ 0.  0.  0.  0.  0.  0.  0.  0.  0.  0.  0.  0. -2.  2.  2.  2.]\n",
            " [ 0.  0.  0.  0.  0.  0.  0.  0.  0.  0.  0.  0.  0. -2.  2.  2.]\n",
            " [ 0.  0.  0.  0.  0.  0.  0.  0.  0.  0.  0.  0.  0.  0. -2.  2.]\n",
            " [ 0.  0.  0.  0.  0.  0.  0.  0.  0.  0.  0.  0.  0.  0.  0. -2.]]\n",
            "Size of QUBO Matrix is:  16\n",
            "Linear part:  {'x_0': -2, 'x_1': -2, 'x_2': -2, 'x_3': -2, 'x_4': -2, 'x_5': -2, 'x_6': -2, 'x_7': -2, 'x_8': -2, 'x_9': -2, 'x_10': -2, 'x_11': -2, 'x_12': -2, 'x_13': -2, 'x_14': -2, 'x_15': -2}\n",
            "Quadratic Part:  {('x_0', 'x_4'): 3, ('x_0', 'x_1'): 2, ('x_0', 'x_8'): 2, ('x_0', 'x_2'): 2, ('x_0', 'x_12'): 3, ('x_0', 'x_3'): 2, ('x_1', 'x_5'): 3, ('x_1', 'x_9'): 2, ('x_1', 'x_2'): 2, ('x_1', 'x_13'): 3, ('x_1', 'x_3'): 2, ('x_2', 'x_6'): 3, ('x_2', 'x_10'): 2, ('x_2', 'x_14'): 3, ('x_2', 'x_3'): 2, ('x_3', 'x_7'): 3, ('x_3', 'x_11'): 2, ('x_3', 'x_15'): 3, ('x_4', 'x_5'): 2, ('x_4', 'x_8'): 3, ('x_4', 'x_6'): 2, ('x_4', 'x_12'): 2, ('x_4', 'x_7'): 2, ('x_5', 'x_9'): 3, ('x_5', 'x_6'): 2, ('x_5', 'x_13'): 2, ('x_5', 'x_7'): 2, ('x_6', 'x_10'): 3, ('x_6', 'x_14'): 2, ('x_6', 'x_7'): 2, ('x_7', 'x_11'): 3, ('x_7', 'x_15'): 2, ('x_8', 'x_9'): 2, ('x_8', 'x_10'): 2, ('x_8', 'x_12'): 3, ('x_8', 'x_11'): 2, ('x_9', 'x_10'): 2, ('x_9', 'x_13'): 3, ('x_9', 'x_11'): 2, ('x_10', 'x_14'): 3, ('x_10', 'x_11'): 2, ('x_11', 'x_15'): 3, ('x_12', 'x_13'): 2, ('x_12', 'x_14'): 2, ('x_12', 'x_15'): 2, ('x_13', 'x_14'): 2, ('x_13', 'x_15'): 2, ('x_14', 'x_15'): 2, ('x_0', 'x_6'): 1, ('x_1', 'x_7'): 1, ('x_2', 'x_4'): 1, ('x_3', 'x_5'): 1, ('x_0', 'x_14'): 1, ('x_1', 'x_15'): 1, ('x_2', 'x_12'): 1, ('x_3', 'x_13'): 1, ('x_4', 'x_10'): 1, ('x_5', 'x_11'): 1, ('x_6', 'x_8'): 1, ('x_7', 'x_9'): 1, ('x_8', 'x_14'): 1, ('x_9', 'x_15'): 1, ('x_10', 'x_12'): 1, ('x_11', 'x_13'): 1}\n",
            "8.0\n",
            "\\ This file has been generated by DOcplex\n",
            "\\ ENCODING=ISO-8859-1\n",
            "\\Problem name: Graph Isomorphism\n",
            "\n",
            "Minimize\n",
            " obj: - 2 x_0 - 2 x_1 - 2 x_2 - 2 x_3 - 2 x_4 - 2 x_5 - 2 x_6 - 2 x_7 - 2 x_8\n",
            "      - 2 x_9 - 2 x_10 - 2 x_11 - 2 x_12 - 2 x_13 - 2 x_14 - 2 x_15 + [\n",
            "      4 x_0*x_1 + 4 x_0*x_2 + 4 x_0*x_3 + 6 x_0*x_4 + 2 x_0*x_6 + 4 x_0*x_8\n",
            "      + 6 x_0*x_12 + 2 x_0*x_14 + 4 x_1*x_2 + 4 x_1*x_3 + 6 x_1*x_5 + 2 x_1*x_7\n",
            "      + 4 x_1*x_9 + 6 x_1*x_13 + 2 x_1*x_15 + 4 x_2*x_3 + 2 x_2*x_4 + 6 x_2*x_6\n",
            "      + 4 x_2*x_10 + 2 x_2*x_12 + 6 x_2*x_14 + 2 x_3*x_5 + 6 x_3*x_7\n",
            "      + 4 x_3*x_11 + 2 x_3*x_13 + 6 x_3*x_15 + 4 x_4*x_5 + 4 x_4*x_6 + 4 x_4*x_7\n",
            "      + 6 x_4*x_8 + 2 x_4*x_10 + 4 x_4*x_12 + 4 x_5*x_6 + 4 x_5*x_7 + 6 x_5*x_9\n",
            "      + 2 x_5*x_11 + 4 x_5*x_13 + 4 x_6*x_7 + 2 x_6*x_8 + 6 x_6*x_10\n",
            "      + 4 x_6*x_14 + 2 x_7*x_9 + 6 x_7*x_11 + 4 x_7*x_15 + 4 x_8*x_9\n",
            "      + 4 x_8*x_10 + 4 x_8*x_11 + 6 x_8*x_12 + 2 x_8*x_14 + 4 x_9*x_10\n",
            "      + 4 x_9*x_11 + 6 x_9*x_13 + 2 x_9*x_15 + 4 x_10*x_11 + 2 x_10*x_12\n",
            "      + 6 x_10*x_14 + 2 x_11*x_13 + 6 x_11*x_15 + 4 x_12*x_13 + 4 x_12*x_14\n",
            "      + 4 x_12*x_15 + 4 x_13*x_14 + 4 x_13*x_15 + 4 x_14*x_15 ]/2 + 8\n",
            "Subject To\n",
            "\n",
            "Bounds\n",
            " 0 <= x_0 <= 1\n",
            " 0 <= x_1 <= 1\n",
            " 0 <= x_2 <= 1\n",
            " 0 <= x_3 <= 1\n",
            " 0 <= x_4 <= 1\n",
            " 0 <= x_5 <= 1\n",
            " 0 <= x_6 <= 1\n",
            " 0 <= x_7 <= 1\n",
            " 0 <= x_8 <= 1\n",
            " 0 <= x_9 <= 1\n",
            " 0 <= x_10 <= 1\n",
            " 0 <= x_11 <= 1\n",
            " 0 <= x_12 <= 1\n",
            " 0 <= x_13 <= 1\n",
            " 0 <= x_14 <= 1\n",
            " 0 <= x_15 <= 1\n",
            "\n",
            "Binaries\n",
            " x_0 x_1 x_2 x_3 x_4 x_5 x_6 x_7 x_8 x_9 x_10 x_11 x_12 x_13 x_14 x_15\n",
            "End\n",
            "\n"
          ]
        }
      ]
    },
    {
      "cell_type": "code",
      "metadata": {
        "id": "kKhaD7p77yyh"
      },
      "source": [
        "# Put the QUBO on the annealer and obtain the lowest energy solution.\n",
        "# NOTE: It is possible to have multiple acceptable solutions!\n",
        "import neal\n",
        "sampler = neal.SimulatedAnnealingSampler()\n",
        "sampleset = sampler.sample_qubo(Q, num_reads=100)\n",
        "sampleset = sampleset.aggregate()\n",
        "best_sample = sampleset.first"
      ],
      "execution_count": null,
      "outputs": []
    },
    {
      "cell_type": "code",
      "metadata": {
        "colab": {
          "base_uri": "https://localhost:8080/"
        },
        "id": "8LIalLPe71mf",
        "outputId": "2b5424ea-abb5-4f9b-b475-5588d9780b04"
      },
      "source": [
        "sampleset"
      ],
      "execution_count": null,
      "outputs": [
        {
          "output_type": "execute_result",
          "data": {
            "text/plain": [
              "SampleSet(rec.array([([1, 0, 0, 0, 0, 1, 0, 0, 0, 0, 1, 0, 0, 0, 0, 1], -8., 18),\n",
              "           ([1, 0, 0, 0, 0, 0, 0, 1, 0, 0, 1, 0, 0, 1, 0, 0], -8., 11),\n",
              "           ([0, 0, 0, 1, 0, 0, 1, 0, 0, 1, 0, 0, 1, 0, 0, 0], -8., 14),\n",
              "           ([0, 0, 1, 0, 0, 0, 0, 1, 1, 0, 0, 0, 0, 1, 0, 0], -8., 11),\n",
              "           ([0, 0, 1, 0, 0, 1, 0, 0, 1, 0, 0, 0, 0, 0, 0, 1], -8., 14),\n",
              "           ([0, 1, 0, 0, 1, 0, 0, 0, 0, 0, 0, 1, 0, 0, 1, 0], -8., 11),\n",
              "           ([0, 0, 0, 1, 1, 0, 0, 0, 0, 1, 0, 0, 0, 0, 1, 0], -8., 12),\n",
              "           ([0, 1, 0, 0, 0, 0, 1, 0, 0, 0, 0, 1, 1, 0, 0, 0], -8.,  8),\n",
              "           ([0, 1, 0, 0, 1, 0, 1, 0, 0, 0, 0, 1, 0, 0, 1, 0], -6.,  1)],\n",
              "          dtype=[('sample', 'i1', (16,)), ('energy', '<f8'), ('num_occurrences', '<i8')]), Variables(range(0, 16)), {'beta_range': [0.09902102579427789, 18.420680743952367], 'beta_schedule_type': 'geometric'}, 'BINARY')"
            ]
          },
          "metadata": {},
          "execution_count": 16
        }
      ]
    },
    {
      "cell_type": "code",
      "metadata": {
        "id": "AKHgvj_o-oBp"
      },
      "source": [
        "# We can use an annealing sample and the sample translation dictionary from before to\n",
        "# generate a dictionary that maps nodes from the graph to be embedded to the target graph\n",
        "mapping = gsgm_mf.translate_sample(best_sample, sample_translation_dict)"
      ],
      "execution_count": null,
      "outputs": []
    },
    {
      "cell_type": "code",
      "metadata": {
        "id": "TgvQ-mw6-pRf",
        "colab": {
          "base_uri": "https://localhost:8080/",
          "height": 319
        },
        "outputId": "a5d3b6fa-f588-4d10-e045-0930ee7b4b96"
      },
      "source": [
        "# We can use NetworkX to help us visualize the subgraph and how it maps to the target graph\n",
        "\n",
        "# Invert the mapping so it is from the target graph TO the graph to embed nodes\n",
        "# Snippet taken from: \n",
        "# https://stackoverflow.com/a/483833\n",
        "inv_mapping = {v: k for k, v in mapping.items()}\n",
        "\n",
        "# relabel the nodes in the target graph with the node labels from the graph to embed\n",
        "updated_nodes = nx.relabel_nodes(target_graph, inv_mapping, copy=True)\n",
        "# Get the same fixed position used before\n",
        "pos = nx.spring_layout(updated_nodes, seed=9999)\n",
        "\n",
        "# Highlight the nodes that have been relabeled\n",
        "nx.draw(updated_nodes, pos, with_labels=True, \n",
        "        font_color='w', \n",
        "        nodelist=[key for key in mapping.keys()], \n",
        "        node_color=\"tab:red\")\n",
        "\n",
        "# Difference between two lists:\n",
        "# https://stackoverflow.com/a/3462160\n",
        "nx.draw(updated_nodes, \n",
        "        pos, \n",
        "        with_labels=True, \n",
        "        font_color='w', \n",
        "        nodelist=list(set(updated_nodes.nodes()) - set(mapping.keys())), \n",
        "        node_color=\"tab:blue\")"
      ],
      "execution_count": null,
      "outputs": [
        {
          "output_type": "display_data",
          "data": {
            "image/png": "[encoded data removed]",
            "text/plain": [
              "<Figure size 432x288 with 1 Axes>"
            ]
          },
          "metadata": {}
        }
      ]
    },
    {
      "cell_type": "code",
      "metadata": {
        "id": "DGI9WPv__9mv"
      },
      "source": [
        "import numpy as np\n",
        "\n",
        "def build_matrix(data):\n",
        "    data = dict(data)\n",
        "\n",
        "    maxX = max([x for (x, y) in list(data.keys())])\n",
        "    maxY = max([y for (x, y) in list(data.keys())])\n",
        "\n",
        "    maxX = max([maxX, maxY])\n",
        "    maxY = max([maxX, maxY])\n",
        "\n",
        "    mat = np.zeros(shape=(maxX+1, maxY+1))\n",
        "\n",
        "    for key, value in data.items():\n",
        "        x, y = key\n",
        "        mat[x][y] = value\n",
        "\n",
        "    return mat\n",
        "\n",
        "Q_mat = build_matrix(Q)"
      ],
      "execution_count": null,
      "outputs": []
    },
    {
      "cell_type": "code",
      "metadata": {
        "id": "5C_iUsNR__TY"
      },
      "source": [
        "s = neal.SimulatedAnnealingSampler()\n",
        "sampleset = s.sample_qubo(Q, beta_range=(5, 100), num_sweeps=20000, num_reads=100,\n",
        "                        beta_schedule_type='geometric')"
      ],
      "execution_count": null,
      "outputs": []
    },
    {
      "cell_type": "code",
      "metadata": {
        "id": "lCE-p4wpACbJ",
        "colab": {
          "base_uri": "https://localhost:8080/"
        },
        "outputId": "5b63156f-8175-4c5b-9ec7-1d62e1538290"
      },
      "source": [
        "# Post processing\n",
        "\n",
        "# Offset is empirically calculated as of now. \n",
        "# From preliminary experiments, the offset is \n",
        "# calculated to be 2 * number of nodes of the \n",
        "# graph\n",
        "\n",
        "offset = 2.0 * len(graph_to_embed.nodes)\n",
        "\n",
        "energies = []\n",
        "final_energies = []\n",
        "for datum in sampleset.data(fields=[\"sample\", \"energy\"]):\n",
        "    energies.append(datum.energy)\n",
        "\n",
        "print(offset)\n",
        "for energy in energies: \n",
        "  final_energy = float(energy) + float(offset)\n",
        "  final_energies.append(final_energy)"
      ],
      "execution_count": null,
      "outputs": [
        {
          "output_type": "stream",
          "name": "stdout",
          "text": [
            "8.0\n"
          ]
        }
      ]
    },
    {
      "cell_type": "code",
      "metadata": {
        "id": "x21OGFWK489M",
        "colab": {
          "base_uri": "https://localhost:8080/"
        },
        "outputId": "1f52bd84-7e6e-4fab-f424-153ebc95d3fa"
      },
      "source": [
        "aqua_globals.random_seed = 10598\n",
        "quantum_instance = QuantumInstance(Aer.get_backend('qasm_simulator'),\n",
        "                                   seed_simulator=aqua_globals.random_seed,\n",
        "                                   seed_transpiler=aqua_globals.random_seed)\n",
        "qaoa_mes = QAOA(quantum_instance=quantum_instance, initial_point=[0., 0.])\n",
        "exact_mes = NumPyMinimumEigensolver()"
      ],
      "execution_count": null,
      "outputs": [
        {
          "output_type": "stream",
          "name": "stderr",
          "text": [
            "/usr/local/lib/python3.7/dist-packages/ipykernel_launcher.py:1: DeprecationWarning:\n",
            "\n",
            "The variable qiskit.aqua.aqua_globals is deprecated. It was moved/refactored to qiskit.utils.algorithm_globals (pip install qiskit-terra). For more information see <https://github.com/Qiskit/qiskit-aqua/blob/main/README.md#migration-guide>\n",
            "\n",
            "/usr/local/lib/python3.7/dist-packages/qiskit/aqua/quantum_instance.py:137: DeprecationWarning:\n",
            "\n",
            "The class qiskit.aqua.QuantumInstance is deprecated. It was moved/refactored to qiskit.utils.QuantumInstance (pip install qiskit-terra). For more information see <https://github.com/Qiskit/qiskit-aqua/blob/main/README.md#migration-guide>\n",
            "\n",
            "/usr/local/lib/python3.7/dist-packages/qiskit/aqua/components/optimizers/optimizer.py:50: DeprecationWarning:\n",
            "\n",
            "The package qiskit.aqua.components.optimizers is deprecated. It was moved/refactored to qiskit.algorithms.optimizers (pip install qiskit-terra). For more information see <https://github.com/Qiskit/qiskit-aqua/blob/main/README.md#migration-guide>\n",
            "\n",
            "/usr/local/lib/python3.7/dist-packages/qiskit/aqua/algorithms/vq_algorithm.py:72: DeprecationWarning:\n",
            "\n",
            "The class qiskit.aqua.algorithms.VQAlgorithm is deprecated. It was moved/refactored to qiskit.algorithms.VariationalAlgorithm (pip install qiskit-terra). For more information see <https://github.com/Qiskit/qiskit-aqua/blob/main/README.md#migration-guide>\n",
            "\n",
            "/usr/local/lib/python3.7/dist-packages/qiskit/aqua/algorithms/minimum_eigen_solvers/minimum_eigen_solver.py:38: DeprecationWarning:\n",
            "\n",
            "The package qiskit.aqua.algorithms.minimum_eigen_solvers is deprecated. It was moved/refactored to qiskit.algorithms.minimum_eigen_solvers (pip install qiskit-terra). For more information see <https://github.com/Qiskit/qiskit-aqua/blob/main/README.md#migration-guide>\n",
            "\n",
            "/usr/local/lib/python3.7/dist-packages/qiskit/aqua/algorithms/eigen_solvers/eigen_solver.py:38: DeprecationWarning:\n",
            "\n",
            "The package qiskit.aqua.algorithms.eigen_solvers is deprecated. It was moved/refactored to qiskit.algorithms.eigen_solvers (pip install qiskit-terra). For more information see <https://github.com/Qiskit/qiskit-aqua/blob/main/README.md#migration-guide>\n",
            "\n"
          ]
        }
      ]
    },
    {
      "cell_type": "code",
      "metadata": {
        "id": "s2LTZrxc5GgZ"
      },
      "source": [
        "qaoa = MinimumEigenOptimizer(qaoa_mes)   # using QAOA\n",
        "exact = MinimumEigenOptimizer(exact_mes)  # using the exact classical numpy minimum eigen solver"
      ],
      "execution_count": null,
      "outputs": []
    },
    {
      "cell_type": "code",
      "metadata": {
        "id": "WN2LLxiE5Ilh",
        "colab": {
          "base_uri": "https://localhost:8080/"
        },
        "outputId": "c09b2a56-9d9c-43d4-efcc-a720eb6f6459"
      },
      "source": [
        "exact_result = exact.solve(mdl)\n",
        "print(exact_result)"
      ],
      "execution_count": null,
      "outputs": [
        {
          "output_type": "stream",
          "name": "stderr",
          "text": [
            "/usr/local/lib/python3.7/dist-packages/qiskit/aqua/operators/operator_base.py:46: DeprecationWarning:\n",
            "\n",
            "The package qiskit.aqua.operators is deprecated. It was moved/refactored to qiskit.opflow (pip install qiskit-terra). For more information see <https://github.com/Qiskit/qiskit-aqua/blob/main/README.md#migration-guide>\n",
            "\n"
          ]
        },
        {
          "output_type": "stream",
          "name": "stdout",
          "text": [
            "optimal function value: 0.0\n",
            "optimal value: [0. 0. 0. 1. 0. 0. 1. 0. 0. 1. 0. 0. 1. 0. 0. 0.]\n",
            "status: SUCCESS\n"
          ]
        }
      ]
    },
    {
      "cell_type": "code",
      "metadata": {
        "id": "oskmwlfU5P2Y",
        "colab": {
          "base_uri": "https://localhost:8080/"
        },
        "outputId": "5fb87989-f341-4a9d-cf74-259b6276dafa"
      },
      "source": [
        "qaoa_result = qaoa.solve(mdl)\n",
        "print(qaoa_result)"
      ],
      "execution_count": null,
      "outputs": [
        {
          "output_type": "stream",
          "name": "stderr",
          "text": [
            "/usr/local/lib/python3.7/dist-packages/qiskit/aqua/components/variational_forms/variational_form.py:48: DeprecationWarning:\n",
            "\n",
            "The package qiskit.aqua.components.variational_forms is deprecated. For more information see <https://github.com/Qiskit/qiskit-aqua/blob/main/README.md#migration-guide>\n",
            "\n",
            "/usr/local/lib/python3.7/dist-packages/qiskit/utils/deprecation.py:62: DeprecationWarning:\n",
            "\n",
            "Using a qobj for run() is deprecated as of qiskit-aer 0.9.0 and will be removed no sooner than 3 months from that release date. Transpiled circuits should now be passed directly using `backend.run(circuits, **run_options).\n",
            "\n"
          ]
        },
        {
          "output_type": "stream",
          "name": "stdout",
          "text": [
            "optimal function value: 0.0\n",
            "optimal value: [0. 1. 0. 0. 0. 0. 1. 0. 0. 0. 0. 1. 1. 0. 0. 0.]\n",
            "status: SUCCESS\n"
          ]
        }
      ]
    },
    {
      "cell_type": "code",
      "metadata": {
        "id": "__z9DMLlWncQ"
      },
      "source": [
        ""
      ],
      "execution_count": null,
      "outputs": []
    }
  ]
}