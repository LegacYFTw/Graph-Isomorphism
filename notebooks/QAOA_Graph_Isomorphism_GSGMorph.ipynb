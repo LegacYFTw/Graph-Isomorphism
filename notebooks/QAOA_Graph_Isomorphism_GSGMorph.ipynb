{
  "nbformat": 4,
  "nbformat_minor": 0,
  "metadata": {
    "colab": {
      "name": "QAOA-Graph-Isomorphism-GSGMorph.ipynb",
      "provenance": [],
      "collapsed_sections": []
    },
    "kernelspec": {
      "display_name": "Python 3",
      "language": "python",
      "name": "python3"
    },
    "language_info": {
      "codemirror_mode": {
        "name": "ipython",
        "version": 3
      },
      "file_extension": ".py",
      "mimetype": "text/x-python",
      "name": "python",
      "nbconvert_exporter": "python",
      "pygments_lexer": "ipython3",
      "version": "3.8.5"
    }
  },
  "cells": [
    {
      "cell_type": "code",
      "metadata": {
        "id": "Iv-5PMZ9VkrE",
        "colab": {
          "base_uri": "https://localhost:8080/",
          "height": 1000
        },
        "outputId": "a331b5e4-6530-4394-ed8b-1b33c015240d"
      },
      "source": [
        "!pip install dimod\n",
        "!pip install 'qiskit[all]'\n",
        "!pip install dwave-neal"
      ],
      "execution_count": null,
      "outputs": [
        {
          "output_type": "stream",
          "name": "stdout",
          "text": [
            "Requirement already satisfied: dimod in /usr/local/lib/python3.7/dist-packages (0.10.7)\n",
            "Requirement already satisfied: pyparsing<3.0.0,>=2.4.7 in /usr/local/lib/python3.7/dist-packages (from dimod) (2.4.7)\n",
            "Requirement already satisfied: numpy!=1.21.0,!=1.21.1,<2.0.0,>=1.17.3 in /usr/local/lib/python3.7/dist-packages (from dimod) (1.19.5)\n",
            "Requirement already satisfied: dwave-preprocessing<0.4,>=0.3 in /usr/local/lib/python3.7/dist-packages (from dimod) (0.3.1.post0)\n",
            "Requirement already satisfied: qiskit[all] in /usr/local/lib/python3.7/dist-packages (0.31.0)\n",
            "Requirement already satisfied: qiskit-aer==0.9.1 in /usr/local/lib/python3.7/dist-packages (from qiskit[all]) (0.9.1)\n",
            "Requirement already satisfied: qiskit-aqua==0.9.5 in /usr/local/lib/python3.7/dist-packages (from qiskit[all]) (0.9.5)\n",
            "Requirement already satisfied: qiskit-terra==0.18.3 in /usr/local/lib/python3.7/dist-packages (from qiskit[all]) (0.18.3)\n",
            "Requirement already satisfied: qiskit-ibmq-provider==0.17.0 in /usr/local/lib/python3.7/dist-packages (from qiskit[all]) (0.17.0)\n",
            "Requirement already satisfied: qiskit-ignis==0.6.0 in /usr/local/lib/python3.7/dist-packages (from qiskit[all]) (0.6.0)\n",
            "Requirement already satisfied: qiskit-optimization>=0.2.2 in /usr/local/lib/python3.7/dist-packages (from qiskit[all]) (0.2.3)\n",
            "Requirement already satisfied: pydot in /usr/local/lib/python3.7/dist-packages (from qiskit[all]) (1.3.0)\n",
            "Requirement already satisfied: qiskit-finance>=0.2.1 in /usr/local/lib/python3.7/dist-packages (from qiskit[all]) (0.2.1)\n",
            "Requirement already satisfied: qiskit-experiments in /usr/local/lib/python3.7/dist-packages (from qiskit[all]) (0.1.0)\n",
            "Requirement already satisfied: seaborn>=0.9.0 in /usr/local/lib/python3.7/dist-packages (from qiskit[all]) (0.11.2)\n",
            "Requirement already satisfied: matplotlib>=2.1 in /usr/local/lib/python3.7/dist-packages (from qiskit[all]) (3.1.3)\n",
            "Requirement already satisfied: qiskit-machine-learning>=0.2.1 in /usr/local/lib/python3.7/dist-packages (from qiskit[all]) (0.2.1)\n",
            "Requirement already satisfied: pygments>=2.4 in /usr/local/lib/python3.7/dist-packages (from qiskit[all]) (2.6.1)\n",
            "Requirement already satisfied: qiskit-nature>=0.2.0 in /usr/local/lib/python3.7/dist-packages (from qiskit[all]) (0.2.2)\n",
            "Requirement already satisfied: pylatexenc>=1.4 in /usr/local/lib/python3.7/dist-packages (from qiskit[all]) (2.10)\n",
            "Requirement already satisfied: ipywidgets>=7.3.0 in /usr/local/lib/python3.7/dist-packages (from qiskit[all]) (7.6.5)\n",
            "Requirement already satisfied: pillow>=4.2.1 in /usr/local/lib/python3.7/dist-packages (from qiskit[all]) (7.1.2)\n",
            "Requirement already satisfied: numpy>=1.16.3 in /usr/local/lib/python3.7/dist-packages (from qiskit-aer==0.9.1->qiskit[all]) (1.19.5)\n",
            "Requirement already satisfied: scipy>=1.0 in /usr/local/lib/python3.7/dist-packages (from qiskit-aer==0.9.1->qiskit[all]) (1.4.1)\n",
            "Requirement already satisfied: docplex>=2.21.207 in /usr/local/lib/python3.7/dist-packages (from qiskit-aqua==0.9.5->qiskit[all]) (2.22.213)\n",
            "Requirement already satisfied: sympy>=1.3 in /usr/local/lib/python3.7/dist-packages (from qiskit-aqua==0.9.5->qiskit[all]) (1.7.1)\n",
            "Requirement already satisfied: scikit-learn>=0.20.0 in /usr/local/lib/python3.7/dist-packages (from qiskit-aqua==0.9.5->qiskit[all]) (0.22.2.post1)\n",
            "Requirement already satisfied: fastdtw<=0.3.4 in /usr/local/lib/python3.7/dist-packages (from qiskit-aqua==0.9.5->qiskit[all]) (0.3.4)\n",
            "Requirement already satisfied: pandas in /usr/local/lib/python3.7/dist-packages (from qiskit-aqua==0.9.5->qiskit[all]) (1.1.5)\n",
            "Requirement already satisfied: retworkx>=0.8.0 in /usr/local/lib/python3.7/dist-packages (from qiskit-aqua==0.9.5->qiskit[all]) (0.10.2)\n",
            "Requirement already satisfied: h5py<3.3.0 in /usr/local/lib/python3.7/dist-packages (from qiskit-aqua==0.9.5->qiskit[all]) (3.1.0)\n",
            "Requirement already satisfied: dlx<=1.0.4 in /usr/local/lib/python3.7/dist-packages (from qiskit-aqua==0.9.5->qiskit[all]) (1.0.4)\n",
            "Requirement already satisfied: setuptools>=40.1.0 in /usr/local/lib/python3.7/dist-packages (from qiskit-aqua==0.9.5->qiskit[all]) (57.4.0)\n",
            "Requirement already satisfied: psutil>=5 in /usr/local/lib/python3.7/dist-packages (from qiskit-aqua==0.9.5->qiskit[all]) (5.4.8)\n",
            "Requirement already satisfied: quandl in /usr/local/lib/python3.7/dist-packages (from qiskit-aqua==0.9.5->qiskit[all]) (3.6.1)\n",
            "Requirement already satisfied: yfinance>=0.1.62 in /usr/local/lib/python3.7/dist-packages (from qiskit-aqua==0.9.5->qiskit[all]) (0.1.64)\n",
            "Requirement already satisfied: urllib3>=1.21.1 in /usr/local/lib/python3.7/dist-packages (from qiskit-ibmq-provider==0.17.0->qiskit[all]) (1.24.3)\n",
            "Requirement already satisfied: requests-ntlm>=1.1.0 in /usr/local/lib/python3.7/dist-packages (from qiskit-ibmq-provider==0.17.0->qiskit[all]) (1.1.0)\n",
            "Requirement already satisfied: websocket-client>=1.0.1 in /usr/local/lib/python3.7/dist-packages (from qiskit-ibmq-provider==0.17.0->qiskit[all]) (1.2.1)\n",
            "Requirement already satisfied: requests>=2.19 in /usr/local/lib/python3.7/dist-packages (from qiskit-ibmq-provider==0.17.0->qiskit[all]) (2.23.0)\n",
            "Requirement already satisfied: python-dateutil>=2.8.0 in /usr/local/lib/python3.7/dist-packages (from qiskit-ibmq-provider==0.17.0->qiskit[all]) (2.8.2)\n",
            "Requirement already satisfied: symengine>0.7 in /usr/local/lib/python3.7/dist-packages (from qiskit-terra==0.18.3->qiskit[all]) (0.8.1)\n",
            "Requirement already satisfied: ply>=3.10 in /usr/local/lib/python3.7/dist-packages (from qiskit-terra==0.18.3->qiskit[all]) (3.11)\n",
            "Requirement already satisfied: python-constraint>=1.4 in /usr/local/lib/python3.7/dist-packages (from qiskit-terra==0.18.3->qiskit[all]) (1.4.0)\n",
            "Requirement already satisfied: fastjsonschema>=2.10 in /usr/local/lib/python3.7/dist-packages (from qiskit-terra==0.18.3->qiskit[all]) (2.15.1)\n",
            "Requirement already satisfied: tweedledum<2.0,>=1.1 in /usr/local/lib/python3.7/dist-packages (from qiskit-terra==0.18.3->qiskit[all]) (1.1.1)\n",
            "Requirement already satisfied: jsonschema>=2.6 in /usr/local/lib/python3.7/dist-packages (from qiskit-terra==0.18.3->qiskit[all]) (2.6.0)\n",
            "Requirement already satisfied: dill>=0.3 in /usr/local/lib/python3.7/dist-packages (from qiskit-terra==0.18.3->qiskit[all]) (0.3.4)\n",
            "Requirement already satisfied: six in /usr/local/lib/python3.7/dist-packages (from docplex>=2.21.207->qiskit-aqua==0.9.5->qiskit[all]) (1.15.0)\n",
            "Requirement already satisfied: cached-property in /usr/local/lib/python3.7/dist-packages (from h5py<3.3.0->qiskit-aqua==0.9.5->qiskit[all]) (1.5.2)\n",
            "Requirement already satisfied: jupyterlab-widgets>=1.0.0 in /usr/local/lib/python3.7/dist-packages (from ipywidgets>=7.3.0->qiskit[all]) (1.0.2)\n",
            "Requirement already satisfied: traitlets>=4.3.1 in /usr/local/lib/python3.7/dist-packages (from ipywidgets>=7.3.0->qiskit[all]) (5.1.0)\n",
            "Requirement already satisfied: ipython>=4.0.0 in /usr/local/lib/python3.7/dist-packages (from ipywidgets>=7.3.0->qiskit[all]) (5.5.0)\n",
            "Requirement already satisfied: ipykernel>=4.5.1 in /usr/local/lib/python3.7/dist-packages (from ipywidgets>=7.3.0->qiskit[all]) (4.10.1)\n",
            "Requirement already satisfied: nbformat>=4.2.0 in /usr/local/lib/python3.7/dist-packages (from ipywidgets>=7.3.0->qiskit[all]) (5.1.3)\n",
            "Requirement already satisfied: ipython-genutils~=0.2.0 in /usr/local/lib/python3.7/dist-packages (from ipywidgets>=7.3.0->qiskit[all]) (0.2.0)\n",
            "Requirement already satisfied: widgetsnbextension~=3.5.0 in /usr/local/lib/python3.7/dist-packages (from ipywidgets>=7.3.0->qiskit[all]) (3.5.1)\n",
            "Requirement already satisfied: tornado>=4.0 in /usr/local/lib/python3.7/dist-packages (from ipykernel>=4.5.1->ipywidgets>=7.3.0->qiskit[all]) (5.1.1)\n",
            "Requirement already satisfied: jupyter-client in /usr/local/lib/python3.7/dist-packages (from ipykernel>=4.5.1->ipywidgets>=7.3.0->qiskit[all]) (5.3.5)\n",
            "Requirement already satisfied: pickleshare in /usr/local/lib/python3.7/dist-packages (from ipython>=4.0.0->ipywidgets>=7.3.0->qiskit[all]) (0.7.5)\n",
            "Requirement already satisfied: prompt-toolkit<2.0.0,>=1.0.4 in /usr/local/lib/python3.7/dist-packages (from ipython>=4.0.0->ipywidgets>=7.3.0->qiskit[all]) (1.0.18)\n",
            "Requirement already satisfied: simplegeneric>0.8 in /usr/local/lib/python3.7/dist-packages (from ipython>=4.0.0->ipywidgets>=7.3.0->qiskit[all]) (0.8.1)\n",
            "Requirement already satisfied: decorator in /usr/local/lib/python3.7/dist-packages (from ipython>=4.0.0->ipywidgets>=7.3.0->qiskit[all]) (4.4.2)\n",
            "Requirement already satisfied: pexpect in /usr/local/lib/python3.7/dist-packages (from ipython>=4.0.0->ipywidgets>=7.3.0->qiskit[all]) (4.8.0)\n",
            "Requirement already satisfied: kiwisolver>=1.0.1 in /usr/local/lib/python3.7/dist-packages (from matplotlib>=2.1->qiskit[all]) (1.3.2)\n",
            "Requirement already satisfied: pyparsing!=2.0.4,!=2.1.2,!=2.1.6,>=2.0.1 in /usr/local/lib/python3.7/dist-packages (from matplotlib>=2.1->qiskit[all]) (2.4.7)\n",
            "Requirement already satisfied: cycler>=0.10 in /usr/local/lib/python3.7/dist-packages (from matplotlib>=2.1->qiskit[all]) (0.10.0)\n",
            "Requirement already satisfied: jupyter-core in /usr/local/lib/python3.7/dist-packages (from nbformat>=4.2.0->ipywidgets>=7.3.0->qiskit[all]) (4.8.1)\n",
            "Requirement already satisfied: wcwidth in /usr/local/lib/python3.7/dist-packages (from prompt-toolkit<2.0.0,>=1.0.4->ipython>=4.0.0->ipywidgets>=7.3.0->qiskit[all]) (0.2.5)\n",
            "Requirement already satisfied: networkx<2.6,>=2.2 in /usr/local/lib/python3.7/dist-packages (from qiskit-optimization>=0.2.2->qiskit[all]) (2.5.1)\n",
            "Requirement already satisfied: chardet<4,>=3.0.2 in /usr/local/lib/python3.7/dist-packages (from requests>=2.19->qiskit-ibmq-provider==0.17.0->qiskit[all]) (3.0.4)\n",
            "Requirement already satisfied: idna<3,>=2.5 in /usr/local/lib/python3.7/dist-packages (from requests>=2.19->qiskit-ibmq-provider==0.17.0->qiskit[all]) (2.10)\n",
            "Requirement already satisfied: certifi>=2017.4.17 in /usr/local/lib/python3.7/dist-packages (from requests>=2.19->qiskit-ibmq-provider==0.17.0->qiskit[all]) (2021.5.30)\n",
            "Requirement already satisfied: cryptography>=1.3 in /usr/local/lib/python3.7/dist-packages (from requests-ntlm>=1.1.0->qiskit-ibmq-provider==0.17.0->qiskit[all]) (35.0.0)\n",
            "Requirement already satisfied: ntlm-auth>=1.0.2 in /usr/local/lib/python3.7/dist-packages (from requests-ntlm>=1.1.0->qiskit-ibmq-provider==0.17.0->qiskit[all]) (1.5.0)\n",
            "Requirement already satisfied: cffi>=1.12 in /usr/local/lib/python3.7/dist-packages (from cryptography>=1.3->requests-ntlm>=1.1.0->qiskit-ibmq-provider==0.17.0->qiskit[all]) (1.14.6)\n",
            "Requirement already satisfied: pycparser in /usr/local/lib/python3.7/dist-packages (from cffi>=1.12->cryptography>=1.3->requests-ntlm>=1.1.0->qiskit-ibmq-provider==0.17.0->qiskit[all]) (2.20)\n",
            "Requirement already satisfied: joblib>=0.11 in /usr/local/lib/python3.7/dist-packages (from scikit-learn>=0.20.0->qiskit-aqua==0.9.5->qiskit[all]) (1.0.1)\n",
            "Requirement already satisfied: pytz>=2017.2 in /usr/local/lib/python3.7/dist-packages (from pandas->qiskit-aqua==0.9.5->qiskit[all]) (2018.9)\n",
            "Requirement already satisfied: mpmath>=0.19 in /usr/local/lib/python3.7/dist-packages (from sympy>=1.3->qiskit-aqua==0.9.5->qiskit[all]) (1.2.1)\n",
            "Requirement already satisfied: notebook>=4.4.1 in /usr/local/lib/python3.7/dist-packages (from widgetsnbextension~=3.5.0->ipywidgets>=7.3.0->qiskit[all]) (5.3.1)\n",
            "Requirement already satisfied: terminado>=0.8.1 in /usr/local/lib/python3.7/dist-packages (from notebook>=4.4.1->widgetsnbextension~=3.5.0->ipywidgets>=7.3.0->qiskit[all]) (0.12.1)\n",
            "Requirement already satisfied: jinja2 in /usr/local/lib/python3.7/dist-packages (from notebook>=4.4.1->widgetsnbextension~=3.5.0->ipywidgets>=7.3.0->qiskit[all]) (2.11.3)\n",
            "Requirement already satisfied: nbconvert in /usr/local/lib/python3.7/dist-packages (from notebook>=4.4.1->widgetsnbextension~=3.5.0->ipywidgets>=7.3.0->qiskit[all]) (5.6.1)\n",
            "Requirement already satisfied: Send2Trash in /usr/local/lib/python3.7/dist-packages (from notebook>=4.4.1->widgetsnbextension~=3.5.0->ipywidgets>=7.3.0->qiskit[all]) (1.8.0)\n",
            "Requirement already satisfied: pyzmq>=13 in /usr/local/lib/python3.7/dist-packages (from jupyter-client->ipykernel>=4.5.1->ipywidgets>=7.3.0->qiskit[all]) (22.3.0)\n",
            "Requirement already satisfied: ptyprocess in /usr/local/lib/python3.7/dist-packages (from terminado>=0.8.1->notebook>=4.4.1->widgetsnbextension~=3.5.0->ipywidgets>=7.3.0->qiskit[all]) (0.7.0)\n",
            "Requirement already satisfied: multitasking>=0.0.7 in /usr/local/lib/python3.7/dist-packages (from yfinance>=0.1.62->qiskit-aqua==0.9.5->qiskit[all]) (0.0.9)\n",
            "Requirement already satisfied: lxml>=4.5.1 in /usr/local/lib/python3.7/dist-packages (from yfinance>=0.1.62->qiskit-aqua==0.9.5->qiskit[all]) (4.6.3)\n",
            "Requirement already satisfied: MarkupSafe>=0.23 in /usr/local/lib/python3.7/dist-packages (from jinja2->notebook>=4.4.1->widgetsnbextension~=3.5.0->ipywidgets>=7.3.0->qiskit[all]) (2.0.1)\n",
            "Requirement already satisfied: entrypoints>=0.2.2 in /usr/local/lib/python3.7/dist-packages (from nbconvert->notebook>=4.4.1->widgetsnbextension~=3.5.0->ipywidgets>=7.3.0->qiskit[all]) (0.3)\n",
            "Requirement already satisfied: mistune<2,>=0.8.1 in /usr/local/lib/python3.7/dist-packages (from nbconvert->notebook>=4.4.1->widgetsnbextension~=3.5.0->ipywidgets>=7.3.0->qiskit[all]) (0.8.4)\n",
            "Requirement already satisfied: bleach in /usr/local/lib/python3.7/dist-packages (from nbconvert->notebook>=4.4.1->widgetsnbextension~=3.5.0->ipywidgets>=7.3.0->qiskit[all]) (4.1.0)\n",
            "Requirement already satisfied: pandocfilters>=1.4.1 in /usr/local/lib/python3.7/dist-packages (from nbconvert->notebook>=4.4.1->widgetsnbextension~=3.5.0->ipywidgets>=7.3.0->qiskit[all]) (1.5.0)\n",
            "Requirement already satisfied: testpath in /usr/local/lib/python3.7/dist-packages (from nbconvert->notebook>=4.4.1->widgetsnbextension~=3.5.0->ipywidgets>=7.3.0->qiskit[all]) (0.5.0)\n",
            "Requirement already satisfied: defusedxml in /usr/local/lib/python3.7/dist-packages (from nbconvert->notebook>=4.4.1->widgetsnbextension~=3.5.0->ipywidgets>=7.3.0->qiskit[all]) (0.7.1)\n",
            "Requirement already satisfied: packaging in /usr/local/lib/python3.7/dist-packages (from bleach->nbconvert->notebook>=4.4.1->widgetsnbextension~=3.5.0->ipywidgets>=7.3.0->qiskit[all]) (21.0)\n",
            "Requirement already satisfied: webencodings in /usr/local/lib/python3.7/dist-packages (from bleach->nbconvert->notebook>=4.4.1->widgetsnbextension~=3.5.0->ipywidgets>=7.3.0->qiskit[all]) (0.5.1)\n",
            "Collecting matplotlib>=2.1\n",
            "  Using cached matplotlib-3.4.3-cp37-cp37m-manylinux1_x86_64.whl (10.3 MB)\n",
            "Requirement already satisfied: more-itertools in /usr/local/lib/python3.7/dist-packages (from quandl->qiskit-aqua==0.9.5->qiskit[all]) (8.10.0)\n",
            "Requirement already satisfied: inflection>=0.3.1 in /usr/local/lib/python3.7/dist-packages (from quandl->qiskit-aqua==0.9.5->qiskit[all]) (0.5.1)\n",
            "Installing collected packages: matplotlib\n",
            "  Attempting uninstall: matplotlib\n",
            "    Found existing installation: matplotlib 3.1.3\n",
            "    Uninstalling matplotlib-3.1.3:\n",
            "      Successfully uninstalled matplotlib-3.1.3\n",
            "\u001b[31mERROR: pip's dependency resolver does not currently take into account all the packages that are installed. This behaviour is the source of the following dependency conflicts.\n",
            "albumentations 0.1.12 requires imgaug<0.2.7,>=0.2.5, but you have imgaug 0.2.9 which is incompatible.\u001b[0m\n",
            "Successfully installed matplotlib-3.4.3\n"
          ]
        },
        {
          "output_type": "display_data",
          "data": {
            "application/vnd.colab-display-data+json": {
              "pip_warning": {
                "packages": [
                  "matplotlib",
                  "mpl_toolkits"
                ]
              }
            }
          },
          "metadata": {}
        },
        {
          "output_type": "stream",
          "name": "stdout",
          "text": [
            "Requirement already satisfied: dwave-neal in /usr/local/lib/python3.7/dist-packages (0.5.8)\n",
            "Requirement already satisfied: dimod>=0.9.2 in /usr/local/lib/python3.7/dist-packages (from dwave-neal) (0.10.7)\n",
            "Requirement already satisfied: numpy!=1.21.0,!=1.21.1,<2.0.0,>=1.16.0 in /usr/local/lib/python3.7/dist-packages (from dwave-neal) (1.19.5)\n",
            "Requirement already satisfied: dwave-preprocessing<0.4,>=0.3 in /usr/local/lib/python3.7/dist-packages (from dimod>=0.9.2->dwave-neal) (0.3.1.post0)\n",
            "Requirement already satisfied: pyparsing<3.0.0,>=2.4.7 in /usr/local/lib/python3.7/dist-packages (from dimod>=0.9.2->dwave-neal) (2.4.7)\n"
          ]
        }
      ]
    },
    {
      "cell_type": "code",
      "metadata": {
        "colab": {
          "base_uri": "https://localhost:8080/"
        },
        "id": "5vOozUqSt47t",
        "outputId": "bae2a9b8-6b38-4f3e-96ab-6fbc5b55b6fb"
      },
      "source": [
        "!pip install 'qiskit-optimization[cplex]'"
      ],
      "execution_count": null,
      "outputs": [
        {
          "output_type": "stream",
          "name": "stdout",
          "text": [
            "Requirement already satisfied: qiskit-optimization[cplex] in /usr/local/lib/python3.7/dist-packages (0.2.3)\n",
            "Requirement already satisfied: docplex>=2.21.207 in /usr/local/lib/python3.7/dist-packages (from qiskit-optimization[cplex]) (2.22.213)\n",
            "Requirement already satisfied: networkx<2.6,>=2.2 in /usr/local/lib/python3.7/dist-packages (from qiskit-optimization[cplex]) (2.5.1)\n",
            "Requirement already satisfied: setuptools>=40.1.0 in /usr/local/lib/python3.7/dist-packages (from qiskit-optimization[cplex]) (57.4.0)\n",
            "Requirement already satisfied: numpy>=1.17 in /usr/local/lib/python3.7/dist-packages (from qiskit-optimization[cplex]) (1.19.5)\n",
            "Requirement already satisfied: qiskit-terra>=0.17.0 in /usr/local/lib/python3.7/dist-packages (from qiskit-optimization[cplex]) (0.18.3)\n",
            "Requirement already satisfied: scipy>=1.4 in /usr/local/lib/python3.7/dist-packages (from qiskit-optimization[cplex]) (1.4.1)\n",
            "Requirement already satisfied: cplex in /usr/local/lib/python3.7/dist-packages (from qiskit-optimization[cplex]) (20.1.0.1)\n",
            "Requirement already satisfied: six in /usr/local/lib/python3.7/dist-packages (from docplex>=2.21.207->qiskit-optimization[cplex]) (1.15.0)\n",
            "Requirement already satisfied: decorator<5,>=4.3 in /usr/local/lib/python3.7/dist-packages (from networkx<2.6,>=2.2->qiskit-optimization[cplex]) (4.4.2)\n",
            "Requirement already satisfied: jsonschema>=2.6 in /usr/local/lib/python3.7/dist-packages (from qiskit-terra>=0.17.0->qiskit-optimization[cplex]) (2.6.0)\n",
            "Requirement already satisfied: ply>=3.10 in /usr/local/lib/python3.7/dist-packages (from qiskit-terra>=0.17.0->qiskit-optimization[cplex]) (3.11)\n",
            "Requirement already satisfied: sympy>=1.3 in /usr/local/lib/python3.7/dist-packages (from qiskit-terra>=0.17.0->qiskit-optimization[cplex]) (1.7.1)\n",
            "Requirement already satisfied: psutil>=5 in /usr/local/lib/python3.7/dist-packages (from qiskit-terra>=0.17.0->qiskit-optimization[cplex]) (5.4.8)\n",
            "Requirement already satisfied: fastjsonschema>=2.10 in /usr/local/lib/python3.7/dist-packages (from qiskit-terra>=0.17.0->qiskit-optimization[cplex]) (2.15.1)\n",
            "Requirement already satisfied: symengine>0.7 in /usr/local/lib/python3.7/dist-packages (from qiskit-terra>=0.17.0->qiskit-optimization[cplex]) (0.8.1)\n",
            "Requirement already satisfied: tweedledum<2.0,>=1.1 in /usr/local/lib/python3.7/dist-packages (from qiskit-terra>=0.17.0->qiskit-optimization[cplex]) (1.1.1)\n",
            "Requirement already satisfied: python-constraint>=1.4 in /usr/local/lib/python3.7/dist-packages (from qiskit-terra>=0.17.0->qiskit-optimization[cplex]) (1.4.0)\n",
            "Requirement already satisfied: python-dateutil>=2.8.0 in /usr/local/lib/python3.7/dist-packages (from qiskit-terra>=0.17.0->qiskit-optimization[cplex]) (2.8.2)\n",
            "Requirement already satisfied: dill>=0.3 in /usr/local/lib/python3.7/dist-packages (from qiskit-terra>=0.17.0->qiskit-optimization[cplex]) (0.3.4)\n",
            "Requirement already satisfied: retworkx>=0.9.0 in /usr/local/lib/python3.7/dist-packages (from qiskit-terra>=0.17.0->qiskit-optimization[cplex]) (0.10.2)\n",
            "Requirement already satisfied: mpmath>=0.19 in /usr/local/lib/python3.7/dist-packages (from sympy>=1.3->qiskit-terra>=0.17.0->qiskit-optimization[cplex]) (1.2.1)\n"
          ]
        }
      ]
    },
    {
      "cell_type": "code",
      "metadata": {
        "id": "BBKF9kTPYm7U",
        "colab": {
          "base_uri": "https://localhost:8080/",
          "height": 419
        },
        "outputId": "3ea1813a-e6b5-4330-80dc-c80c06bc8f1f"
      },
      "source": [
        "!pip install matplotlib==3.1.3"
      ],
      "execution_count": null,
      "outputs": [
        {
          "output_type": "stream",
          "name": "stdout",
          "text": [
            "Collecting matplotlib==3.1.3\n",
            "  Using cached matplotlib-3.1.3-cp37-cp37m-manylinux1_x86_64.whl (13.1 MB)\n",
            "Requirement already satisfied: pyparsing!=2.0.4,!=2.1.2,!=2.1.6,>=2.0.1 in /usr/local/lib/python3.7/dist-packages (from matplotlib==3.1.3) (2.4.7)\n",
            "Requirement already satisfied: kiwisolver>=1.0.1 in /usr/local/lib/python3.7/dist-packages (from matplotlib==3.1.3) (1.3.2)\n",
            "Requirement already satisfied: numpy>=1.11 in /usr/local/lib/python3.7/dist-packages (from matplotlib==3.1.3) (1.19.5)\n",
            "Requirement already satisfied: python-dateutil>=2.1 in /usr/local/lib/python3.7/dist-packages (from matplotlib==3.1.3) (2.8.2)\n",
            "Requirement already satisfied: cycler>=0.10 in /usr/local/lib/python3.7/dist-packages (from matplotlib==3.1.3) (0.10.0)\n",
            "Requirement already satisfied: six in /usr/local/lib/python3.7/dist-packages (from cycler>=0.10->matplotlib==3.1.3) (1.15.0)\n",
            "Installing collected packages: matplotlib\n",
            "  Attempting uninstall: matplotlib\n",
            "    Found existing installation: matplotlib 3.4.3\n",
            "    Uninstalling matplotlib-3.4.3:\n",
            "      Successfully uninstalled matplotlib-3.4.3\n",
            "\u001b[31mERROR: pip's dependency resolver does not currently take into account all the packages that are installed. This behaviour is the source of the following dependency conflicts.\n",
            "qiskit-experiments 0.1.0 requires matplotlib>=3.3, but you have matplotlib 3.1.3 which is incompatible.\n",
            "albumentations 0.1.12 requires imgaug<0.2.7,>=0.2.5, but you have imgaug 0.2.9 which is incompatible.\u001b[0m\n",
            "Successfully installed matplotlib-3.1.3\n"
          ]
        },
        {
          "output_type": "display_data",
          "data": {
            "application/vnd.colab-display-data+json": {
              "pip_warning": {
                "packages": [
                  "matplotlib",
                  "mpl_toolkits"
                ]
              }
            }
          },
          "metadata": {}
        }
      ]
    },
    {
      "cell_type": "code",
      "metadata": {
        "colab": {
          "base_uri": "https://localhost:8080/"
        },
        "id": "I3AH-z--mJnW",
        "outputId": "d93f20d2-61fb-4b47-80b2-3ca27fcea8e5"
      },
      "source": [
        "!pip install plotly"
      ],
      "execution_count": null,
      "outputs": [
        {
          "output_type": "stream",
          "name": "stdout",
          "text": [
            "Requirement already satisfied: plotly in /usr/local/lib/python3.7/dist-packages (4.4.1)\n",
            "Requirement already satisfied: retrying>=1.3.3 in /usr/local/lib/python3.7/dist-packages (from plotly) (1.3.3)\n",
            "Requirement already satisfied: six in /usr/local/lib/python3.7/dist-packages (from plotly) (1.15.0)\n"
          ]
        }
      ]
    },
    {
      "cell_type": "code",
      "metadata": {
        "colab": {
          "base_uri": "https://localhost:8080/"
        },
        "id": "Ee8WMAt561oY",
        "outputId": "ca312082-30a6-413f-9b37-856fe77ef33d"
      },
      "source": [
        "!pip install gsgmorph"
      ],
      "execution_count": null,
      "outputs": [
        {
          "output_type": "stream",
          "name": "stdout",
          "text": [
            "Requirement already satisfied: gsgmorph in /usr/local/lib/python3.7/dist-packages (1.0.2)\n",
            "Requirement already satisfied: pyqubo in /usr/local/lib/python3.7/dist-packages (from gsgmorph) (1.0.13)\n",
            "Requirement already satisfied: networkx in /usr/local/lib/python3.7/dist-packages (from gsgmorph) (2.5.1)\n",
            "Requirement already satisfied: decorator<5,>=4.3 in /usr/local/lib/python3.7/dist-packages (from networkx->gsgmorph) (4.4.2)\n",
            "Requirement already satisfied: dwave-neal>=0.5.7 in /usr/local/lib/python3.7/dist-packages (from pyqubo->gsgmorph) (0.5.8)\n",
            "Requirement already satisfied: six>=1.15.0 in /usr/local/lib/python3.7/dist-packages (from pyqubo->gsgmorph) (1.15.0)\n",
            "Requirement already satisfied: numpy>=1.17.3 in /usr/local/lib/python3.7/dist-packages (from pyqubo->gsgmorph) (1.19.5)\n",
            "Requirement already satisfied: Deprecated>=1.2.12 in /usr/local/lib/python3.7/dist-packages (from pyqubo->gsgmorph) (1.2.13)\n",
            "Requirement already satisfied: dimod<0.11,>=0.9.14 in /usr/local/lib/python3.7/dist-packages (from pyqubo->gsgmorph) (0.10.7)\n",
            "Requirement already satisfied: wrapt<2,>=1.10 in /usr/local/lib/python3.7/dist-packages (from Deprecated>=1.2.12->pyqubo->gsgmorph) (1.12.1)\n",
            "Requirement already satisfied: pyparsing<3.0.0,>=2.4.7 in /usr/local/lib/python3.7/dist-packages (from dimod<0.11,>=0.9.14->pyqubo->gsgmorph) (2.4.7)\n",
            "Requirement already satisfied: dwave-preprocessing<0.4,>=0.3 in /usr/local/lib/python3.7/dist-packages (from dimod<0.11,>=0.9.14->pyqubo->gsgmorph) (0.3.1.post0)\n"
          ]
        }
      ]
    },
    {
      "cell_type": "code",
      "metadata": {
        "id": "opCbLgxHX4uc"
      },
      "source": [
        "import networkx as nx\n",
        "import matplotlib.pyplot as plt\n",
        "import numpy as np\n",
        "from time import time\n",
        "from pprint import pprint\n",
        "import plotly.graph_objects as go\n",
        "from plotly.subplots import make_subplots\n",
        "from IPython.display import clear_output"
      ],
      "execution_count": null,
      "outputs": []
    },
    {
      "cell_type": "code",
      "metadata": {
        "colab": {
          "base_uri": "https://localhost:8080/"
        },
        "id": "o0qvZFxFm-TP",
        "outputId": "3471e7eb-2ab9-4ffe-e8f8-ea430123e3f5"
      },
      "source": [
        "import itertools\n",
        "import networkx as nx\n",
        "import matplotlib.pyplot as plt\n",
        "from collections import defaultdict\n",
        "from dimod import BinaryQuadraticModel, AdjVectorBQM\n",
        "from qiskit.optimization import QuadraticProgram\n",
        "from qiskit.optimization.converters import LinearEqualityToPenalty, InequalityToEquality, IntegerToBinary\n",
        "import neal"
      ],
      "execution_count": null,
      "outputs": [
        {
          "output_type": "stream",
          "name": "stderr",
          "text": [
            "/usr/local/lib/python3.7/dist-packages/qiskit/aqua/__init__.py:86: DeprecationWarning:\n",
            "\n",
            "The package qiskit.aqua is deprecated. It was moved/refactored to qiskit-terra For more information see <https://github.com/Qiskit/qiskit-aqua/blob/main/README.md#migration-guide>\n",
            "\n",
            "/usr/local/lib/python3.7/dist-packages/qiskit/optimization/__init__.py:92: DeprecationWarning:\n",
            "\n",
            "The package qiskit.optimization is deprecated. It was moved/refactored to qiskit_optimization (pip install qiskit-optimization). For more information see <https://github.com/Qiskit/qiskit-aqua/blob/main/README.md#migration-guide>\n",
            "\n"
          ]
        }
      ]
    },
    {
      "cell_type": "code",
      "metadata": {
        "id": "k5PV-TBU8eF6"
      },
      "source": [
        "from qiskit.aqua.algorithms import QAOA\n",
        "from qiskit.optimization.algorithms import MinimumEigenOptimizer\n",
        "from qiskit import Aer\n",
        "from qiskit import QuantumCircuit\n",
        "from qiskit.visualization import plot_state_city\n",
        "from qiskit.aqua.components.optimizers import COBYLA, SLSQP, ADAM, L_BFGS_B\n",
        "from qiskit.optimization import QuadraticProgram\n",
        "from docplex.mp.model import Model\n",
        "\n",
        "from qiskit.optimization.applications.ising import stable_set\n",
        "from qiskit import Aer\n",
        "from qiskit.optimization.applications.ising import stable_set\n",
        "from qiskit.aqua.algorithms import VQE, NumPyMinimumEigensolver, QAOA, NumPyEigensolver\n",
        "from qiskit.aqua import aqua_globals\n",
        "from qiskit.aqua import QuantumInstance\n",
        "from qiskit.optimization.applications.ising.common import sample_most_likely\n",
        "from qiskit.optimization.algorithms import MinimumEigenOptimizer\n",
        "from qiskit.optimization.problems import QuadraticProgram"
      ],
      "execution_count": null,
      "outputs": []
    },
    {
      "cell_type": "code",
      "metadata": {
        "id": "ZqFqov1L7WkA"
      },
      "source": [
        "import gsgmorph.matrix_form as gsgm_mf\n",
        "import networkx as nx\n",
        "\n",
        "graph_to_embed = nx.Graph([(0,1),(1,2),(2,3),(3,4),(4,0)])\n",
        "target_graph = nx.Graph([('a','b'),('b','c'),('c', 'd'), ('d', 'e'),('e', 'a')])"
      ],
      "execution_count": null,
      "outputs": []
    },
    {
      "cell_type": "code",
      "metadata": {
        "colab": {
          "base_uri": "https://localhost:8080/",
          "height": 319
        },
        "id": "V48hE6qd7XuP",
        "outputId": "0484544e-4916-4c50-c2ab-c8b18a097819"
      },
      "source": [
        "# Get fixed position\n",
        "pos = nx.spring_layout(graph_to_embed, seed=9999)\n",
        "\n",
        "# Graph to be embedded onto a target graph\n",
        "nx.draw(graph_to_embed, pos, with_labels=True, font_color='w')"
      ],
      "execution_count": null,
      "outputs": [
        {
          "output_type": "display_data",
          "data": {
            "image/png": "[encoded data removed]",
            "text/plain": [
              "<Figure size 432x288 with 1 Axes>"
            ]
          },
          "metadata": {}
        }
      ]
    },
    {
      "cell_type": "code",
      "metadata": {
        "colab": {
          "base_uri": "https://localhost:8080/",
          "height": 319
        },
        "id": "tTDHGw5d7qVg",
        "outputId": "a8f2d440-ac51-438f-eaa2-b9c496d640c1"
      },
      "source": [
        "\n",
        "# Get fixed position\n",
        "pos = nx.spring_layout(target_graph, seed=9999)\n",
        "\n",
        "# Target graph, the above graph will be mapped to this one\n",
        "nx.draw(target_graph, pos, with_labels=True, font_color='w')"
      ],
      "execution_count": null,
      "outputs": [
        {
          "output_type": "display_data",
          "data": {
            "image/png": "[encoded data removed]",
            "text/plain": [
              "<Figure size 432x288 with 1 Axes>"
            ]
          },
          "metadata": {}
        }
      ]
    },
    {
      "cell_type": "code",
      "metadata": {
        "id": "QORX2zsS7rc0"
      },
      "source": [
        "\n",
        "# Obtain the QUBO and the sample translation dictionary\n",
        "Q, sample_translation_dict = gsgm_mf.graph_isomorphism(graph_to_embed, target_graph)"
      ],
      "execution_count": null,
      "outputs": []
    },
    {
      "cell_type": "code",
      "metadata": {
        "colab": {
          "base_uri": "https://localhost:8080/"
        },
        "id": "jTbzmjQcAASO",
        "outputId": "ccc59fb9-dc53-4880-d78d-d065cb67630a"
      },
      "source": [
        "Q"
      ],
      "execution_count": null,
      "outputs": [
        {
          "output_type": "execute_result",
          "data": {
            "text/plain": [
              "defaultdict(int,\n",
              "            {(0, 0): -2,\n",
              "             (0, 1): 2,\n",
              "             (0, 2): 2,\n",
              "             (0, 3): 2,\n",
              "             (0, 4): 2,\n",
              "             (0, 5): 3,\n",
              "             (0, 7): 1,\n",
              "             (0, 8): 1,\n",
              "             (0, 10): 2,\n",
              "             (0, 15): 2,\n",
              "             (0, 20): 3,\n",
              "             (0, 22): 1,\n",
              "             (0, 23): 1,\n",
              "             (1, 1): -2,\n",
              "             (1, 2): 2,\n",
              "             (1, 3): 2,\n",
              "             (1, 4): 2,\n",
              "             (1, 6): 3,\n",
              "             (1, 8): 1,\n",
              "             (1, 9): 1,\n",
              "             (1, 11): 2,\n",
              "             (1, 16): 2,\n",
              "             (1, 21): 3,\n",
              "             (1, 23): 1,\n",
              "             (1, 24): 1,\n",
              "             (2, 2): -2,\n",
              "             (2, 3): 2,\n",
              "             (2, 4): 2,\n",
              "             (2, 5): 1,\n",
              "             (2, 7): 3,\n",
              "             (2, 9): 1,\n",
              "             (2, 12): 2,\n",
              "             (2, 17): 2,\n",
              "             (2, 20): 1,\n",
              "             (2, 22): 3,\n",
              "             (2, 24): 1,\n",
              "             (3, 3): -2,\n",
              "             (3, 4): 2,\n",
              "             (3, 5): 1,\n",
              "             (3, 6): 1,\n",
              "             (3, 8): 3,\n",
              "             (3, 13): 2,\n",
              "             (3, 18): 2,\n",
              "             (3, 20): 1,\n",
              "             (3, 21): 1,\n",
              "             (3, 23): 3,\n",
              "             (4, 4): -2,\n",
              "             (4, 6): 1,\n",
              "             (4, 7): 1,\n",
              "             (4, 9): 3,\n",
              "             (4, 14): 2,\n",
              "             (4, 19): 2,\n",
              "             (4, 21): 1,\n",
              "             (4, 22): 1,\n",
              "             (4, 24): 3,\n",
              "             (5, 5): -2,\n",
              "             (5, 6): 2,\n",
              "             (5, 7): 2,\n",
              "             (5, 8): 2,\n",
              "             (5, 9): 2,\n",
              "             (5, 10): 3,\n",
              "             (5, 12): 1,\n",
              "             (5, 13): 1,\n",
              "             (5, 15): 2,\n",
              "             (5, 20): 2,\n",
              "             (6, 6): -2,\n",
              "             (6, 7): 2,\n",
              "             (6, 8): 2,\n",
              "             (6, 9): 2,\n",
              "             (6, 11): 3,\n",
              "             (6, 13): 1,\n",
              "             (6, 14): 1,\n",
              "             (6, 16): 2,\n",
              "             (6, 21): 2,\n",
              "             (7, 7): -2,\n",
              "             (7, 8): 2,\n",
              "             (7, 9): 2,\n",
              "             (7, 10): 1,\n",
              "             (7, 12): 3,\n",
              "             (7, 14): 1,\n",
              "             (7, 17): 2,\n",
              "             (7, 22): 2,\n",
              "             (8, 8): -2,\n",
              "             (8, 9): 2,\n",
              "             (8, 10): 1,\n",
              "             (8, 11): 1,\n",
              "             (8, 13): 3,\n",
              "             (8, 18): 2,\n",
              "             (8, 23): 2,\n",
              "             (9, 9): -2,\n",
              "             (9, 11): 1,\n",
              "             (9, 12): 1,\n",
              "             (9, 14): 3,\n",
              "             (9, 19): 2,\n",
              "             (9, 24): 2,\n",
              "             (10, 10): -2,\n",
              "             (10, 11): 2,\n",
              "             (10, 12): 2,\n",
              "             (10, 13): 2,\n",
              "             (10, 14): 2,\n",
              "             (10, 15): 3,\n",
              "             (10, 17): 1,\n",
              "             (10, 18): 1,\n",
              "             (10, 20): 2,\n",
              "             (11, 11): -2,\n",
              "             (11, 12): 2,\n",
              "             (11, 13): 2,\n",
              "             (11, 14): 2,\n",
              "             (11, 16): 3,\n",
              "             (11, 18): 1,\n",
              "             (11, 19): 1,\n",
              "             (11, 21): 2,\n",
              "             (12, 12): -2,\n",
              "             (12, 13): 2,\n",
              "             (12, 14): 2,\n",
              "             (12, 15): 1,\n",
              "             (12, 17): 3,\n",
              "             (12, 19): 1,\n",
              "             (12, 22): 2,\n",
              "             (13, 13): -2,\n",
              "             (13, 14): 2,\n",
              "             (13, 15): 1,\n",
              "             (13, 16): 1,\n",
              "             (13, 18): 3,\n",
              "             (13, 23): 2,\n",
              "             (14, 14): -2,\n",
              "             (14, 16): 1,\n",
              "             (14, 17): 1,\n",
              "             (14, 19): 3,\n",
              "             (14, 24): 2,\n",
              "             (15, 15): -2,\n",
              "             (15, 16): 2,\n",
              "             (15, 17): 2,\n",
              "             (15, 18): 2,\n",
              "             (15, 19): 2,\n",
              "             (15, 20): 3,\n",
              "             (15, 22): 1,\n",
              "             (15, 23): 1,\n",
              "             (16, 16): -2,\n",
              "             (16, 17): 2,\n",
              "             (16, 18): 2,\n",
              "             (16, 19): 2,\n",
              "             (16, 21): 3,\n",
              "             (16, 23): 1,\n",
              "             (16, 24): 1,\n",
              "             (17, 17): -2,\n",
              "             (17, 18): 2,\n",
              "             (17, 19): 2,\n",
              "             (17, 20): 1,\n",
              "             (17, 22): 3,\n",
              "             (17, 24): 1,\n",
              "             (18, 18): -2,\n",
              "             (18, 19): 2,\n",
              "             (18, 20): 1,\n",
              "             (18, 21): 1,\n",
              "             (18, 23): 3,\n",
              "             (19, 19): -2,\n",
              "             (19, 21): 1,\n",
              "             (19, 22): 1,\n",
              "             (19, 24): 3,\n",
              "             (20, 20): -2,\n",
              "             (20, 21): 2,\n",
              "             (20, 22): 2,\n",
              "             (20, 23): 2,\n",
              "             (20, 24): 2,\n",
              "             (21, 21): -2,\n",
              "             (21, 22): 2,\n",
              "             (21, 23): 2,\n",
              "             (21, 24): 2,\n",
              "             (22, 22): -2,\n",
              "             (22, 23): 2,\n",
              "             (22, 24): 2,\n",
              "             (23, 23): -2,\n",
              "             (23, 24): 2,\n",
              "             (24, 24): -2})"
            ]
          },
          "metadata": {},
          "execution_count": 148
        }
      ]
    },
    {
      "cell_type": "code",
      "metadata": {
        "id": "sc-H5YNzenIZ"
      },
      "source": [
        ""
      ],
      "execution_count": null,
      "outputs": []
    },
    {
      "cell_type": "code",
      "metadata": {
        "id": "lUYdMZazAJOC"
      },
      "source": [
        "def qubo_matrix_to_docplex(Q): \n",
        "\n",
        "  def build_matrix(data):\n",
        "    data = dict(data)\n",
        "    maxX = max([x for (x, y) in list(data.keys())])\n",
        "    maxY = max([y for (x, y) in list(data.keys())])\n",
        "    maxX = max([maxX, maxY])\n",
        "    maxY = max([maxX, maxY])\n",
        "    mat = np.zeros(shape=(maxX+1, maxY+1))\n",
        "    for key, value in data.items():\n",
        "        x, y = key\n",
        "        mat[x][y] = value\n",
        "    return mat\n",
        "\n",
        "  # Print out the Qubo Matrix\n",
        "  Q_matrix = build_matrix(Q)\n",
        "  print(Q_matrix)\n",
        "  print(\"Size of QUBO Matrix is: \", len(Q_matrix))\n",
        "\n",
        "  def build_linear(Q, Q_matrix): \n",
        "    linear_dict = {}\n",
        "    for idx in range(len(Q_matrix)): \n",
        "      linear_dict['x_{0}'.format(idx)] = Q[(idx,idx)]\n",
        "    print('Linear part: ', linear_dict)\n",
        "    return linear_dict\n",
        "\n",
        "  def build_quadratic(Q, Q_matrix): \n",
        "    quadratic_dict = {}\n",
        "    for node_pair in Q: \n",
        "      x,y = node_pair\n",
        "      if x != y: \n",
        "        quadratic_dict[(f'x_{x}', f'x_{y}')] = Q[(x,y)]\n",
        "    print('Quadratic Part: ', quadratic_dict)\n",
        "    return quadratic_dict\n",
        "\n",
        "  def build_constant(Q_matrix): \n",
        "    #Empirically decided!\n",
        "    import math \n",
        "    number_of_nodes= math.sqrt(len(Q_matrix))\n",
        "    constant = number_of_nodes * 2\n",
        "    print(constant)\n",
        "    return constant\n",
        "\n",
        "\n",
        "  linear = build_linear(Q, Q_matrix)\n",
        "  quadratic = build_quadratic(Q, Q_matrix)\n",
        "  constant = build_constant(Q_matrix)\n",
        "\n",
        "  mdl = QuadraticProgram('Graph Isomorphism')\n",
        "  for node_pair in Q: \n",
        "    x,y = node_pair\n",
        "    if x == y: \n",
        "      mdl.binary_var(name='x_{0}'.format(x))\n",
        "  \n",
        "  mdl.minimize(constant=constant, linear=linear, quadratic=quadratic)\n",
        "  print(mdl.export_as_lp_string())\n",
        "\n",
        "  return mdl"
      ],
      "execution_count": null,
      "outputs": []
    },
    {
      "cell_type": "code",
      "metadata": {
        "colab": {
          "base_uri": "https://localhost:8080/"
        },
        "id": "9wRTO9LBBSCe",
        "outputId": "4a771e16-767f-4e5b-e029-57cff63c75c2"
      },
      "source": [
        "import math \n",
        "\n",
        "def build_matrix(data):\n",
        "    data = dict(data)\n",
        "    maxX = max([x for (x, y) in list(data.keys())])\n",
        "    maxY = max([y for (x, y) in list(data.keys())])\n",
        "    maxX = max([maxX, maxY])\n",
        "    maxY = max([maxX, maxY])\n",
        "    mat = np.zeros(shape=(maxX+1, maxY+1))\n",
        "    for key, value in data.items():\n",
        "        x, y = key\n",
        "        mat[x][y] = value\n",
        "    return mat\n",
        "\n",
        "# Print out the Qubo Matrix\n",
        "Q_matrix = build_matrix(Q)\n",
        "math.sqrt(len(Q_matrix))"
      ],
      "execution_count": null,
      "outputs": [
        {
          "output_type": "execute_result",
          "data": {
            "text/plain": [
              "5.0"
            ]
          },
          "metadata": {},
          "execution_count": 150
        }
      ]
    },
    {
      "cell_type": "code",
      "metadata": {
        "colab": {
          "base_uri": "https://localhost:8080/"
        },
        "id": "PinS3suMA_v7",
        "outputId": "fe5d84de-bcb4-4815-be92-e1588c9851f5"
      },
      "source": [
        "mdl = qubo_matrix_to_docplex(Q)"
      ],
      "execution_count": null,
      "outputs": [
        {
          "output_type": "stream",
          "name": "stdout",
          "text": [
            "[[-2.  2.  2.  2.  2.  3.  0.  1.  1.  0.  2.  0.  0.  0.  0.  2.  0.  0.\n",
            "   0.  0.  3.  0.  1.  1.  0.]\n",
            " [ 0. -2.  2.  2.  2.  0.  3.  0.  1.  1.  0.  2.  0.  0.  0.  0.  2.  0.\n",
            "   0.  0.  0.  3.  0.  1.  1.]\n",
            " [ 0.  0. -2.  2.  2.  1.  0.  3.  0.  1.  0.  0.  2.  0.  0.  0.  0.  2.\n",
            "   0.  0.  1.  0.  3.  0.  1.]\n",
            " [ 0.  0.  0. -2.  2.  1.  1.  0.  3.  0.  0.  0.  0.  2.  0.  0.  0.  0.\n",
            "   2.  0.  1.  1.  0.  3.  0.]\n",
            " [ 0.  0.  0.  0. -2.  0.  1.  1.  0.  3.  0.  0.  0.  0.  2.  0.  0.  0.\n",
            "   0.  2.  0.  1.  1.  0.  3.]\n",
            " [ 0.  0.  0.  0.  0. -2.  2.  2.  2.  2.  3.  0.  1.  1.  0.  2.  0.  0.\n",
            "   0.  0.  2.  0.  0.  0.  0.]\n",
            " [ 0.  0.  0.  0.  0.  0. -2.  2.  2.  2.  0.  3.  0.  1.  1.  0.  2.  0.\n",
            "   0.  0.  0.  2.  0.  0.  0.]\n",
            " [ 0.  0.  0.  0.  0.  0.  0. -2.  2.  2.  1.  0.  3.  0.  1.  0.  0.  2.\n",
            "   0.  0.  0.  0.  2.  0.  0.]\n",
            " [ 0.  0.  0.  0.  0.  0.  0.  0. -2.  2.  1.  1.  0.  3.  0.  0.  0.  0.\n",
            "   2.  0.  0.  0.  0.  2.  0.]\n",
            " [ 0.  0.  0.  0.  0.  0.  0.  0.  0. -2.  0.  1.  1.  0.  3.  0.  0.  0.\n",
            "   0.  2.  0.  0.  0.  0.  2.]\n",
            " [ 0.  0.  0.  0.  0.  0.  0.  0.  0.  0. -2.  2.  2.  2.  2.  3.  0.  1.\n",
            "   1.  0.  2.  0.  0.  0.  0.]\n",
            " [ 0.  0.  0.  0.  0.  0.  0.  0.  0.  0.  0. -2.  2.  2.  2.  0.  3.  0.\n",
            "   1.  1.  0.  2.  0.  0.  0.]\n",
            " [ 0.  0.  0.  0.  0.  0.  0.  0.  0.  0.  0.  0. -2.  2.  2.  1.  0.  3.\n",
            "   0.  1.  0.  0.  2.  0.  0.]\n",
            " [ 0.  0.  0.  0.  0.  0.  0.  0.  0.  0.  0.  0.  0. -2.  2.  1.  1.  0.\n",
            "   3.  0.  0.  0.  0.  2.  0.]\n",
            " [ 0.  0.  0.  0.  0.  0.  0.  0.  0.  0.  0.  0.  0.  0. -2.  0.  1.  1.\n",
            "   0.  3.  0.  0.  0.  0.  2.]\n",
            " [ 0.  0.  0.  0.  0.  0.  0.  0.  0.  0.  0.  0.  0.  0.  0. -2.  2.  2.\n",
            "   2.  2.  3.  0.  1.  1.  0.]\n",
            " [ 0.  0.  0.  0.  0.  0.  0.  0.  0.  0.  0.  0.  0.  0.  0.  0. -2.  2.\n",
            "   2.  2.  0.  3.  0.  1.  1.]\n",
            " [ 0.  0.  0.  0.  0.  0.  0.  0.  0.  0.  0.  0.  0.  0.  0.  0.  0. -2.\n",
            "   2.  2.  1.  0.  3.  0.  1.]\n",
            " [ 0.  0.  0.  0.  0.  0.  0.  0.  0.  0.  0.  0.  0.  0.  0.  0.  0.  0.\n",
            "  -2.  2.  1.  1.  0.  3.  0.]\n",
            " [ 0.  0.  0.  0.  0.  0.  0.  0.  0.  0.  0.  0.  0.  0.  0.  0.  0.  0.\n",
            "   0. -2.  0.  1.  1.  0.  3.]\n",
            " [ 0.  0.  0.  0.  0.  0.  0.  0.  0.  0.  0.  0.  0.  0.  0.  0.  0.  0.\n",
            "   0.  0. -2.  2.  2.  2.  2.]\n",
            " [ 0.  0.  0.  0.  0.  0.  0.  0.  0.  0.  0.  0.  0.  0.  0.  0.  0.  0.\n",
            "   0.  0.  0. -2.  2.  2.  2.]\n",
            " [ 0.  0.  0.  0.  0.  0.  0.  0.  0.  0.  0.  0.  0.  0.  0.  0.  0.  0.\n",
            "   0.  0.  0.  0. -2.  2.  2.]\n",
            " [ 0.  0.  0.  0.  0.  0.  0.  0.  0.  0.  0.  0.  0.  0.  0.  0.  0.  0.\n",
            "   0.  0.  0.  0.  0. -2.  2.]\n",
            " [ 0.  0.  0.  0.  0.  0.  0.  0.  0.  0.  0.  0.  0.  0.  0.  0.  0.  0.\n",
            "   0.  0.  0.  0.  0.  0. -2.]]\n",
            "Size of QUBO Matrix is:  25\n",
            "Linear part:  {'x_0': -2, 'x_1': -2, 'x_2': -2, 'x_3': -2, 'x_4': -2, 'x_5': -2, 'x_6': -2, 'x_7': -2, 'x_8': -2, 'x_9': -2, 'x_10': -2, 'x_11': -2, 'x_12': -2, 'x_13': -2, 'x_14': -2, 'x_15': -2, 'x_16': -2, 'x_17': -2, 'x_18': -2, 'x_19': -2, 'x_20': -2, 'x_21': -2, 'x_22': -2, 'x_23': -2, 'x_24': -2}\n",
            "Quadratic Part:  {('x_0', 'x_5'): 3, ('x_0', 'x_1'): 2, ('x_0', 'x_10'): 2, ('x_0', 'x_2'): 2, ('x_0', 'x_15'): 2, ('x_0', 'x_3'): 2, ('x_0', 'x_20'): 3, ('x_0', 'x_4'): 2, ('x_1', 'x_6'): 3, ('x_1', 'x_11'): 2, ('x_1', 'x_2'): 2, ('x_1', 'x_16'): 2, ('x_1', 'x_3'): 2, ('x_1', 'x_21'): 3, ('x_1', 'x_4'): 2, ('x_2', 'x_7'): 3, ('x_2', 'x_12'): 2, ('x_2', 'x_17'): 2, ('x_2', 'x_3'): 2, ('x_2', 'x_22'): 3, ('x_2', 'x_4'): 2, ('x_3', 'x_8'): 3, ('x_3', 'x_13'): 2, ('x_3', 'x_18'): 2, ('x_3', 'x_23'): 3, ('x_3', 'x_4'): 2, ('x_4', 'x_9'): 3, ('x_4', 'x_14'): 2, ('x_4', 'x_19'): 2, ('x_4', 'x_24'): 3, ('x_5', 'x_6'): 2, ('x_5', 'x_10'): 3, ('x_5', 'x_7'): 2, ('x_5', 'x_15'): 2, ('x_5', 'x_8'): 2, ('x_5', 'x_20'): 2, ('x_5', 'x_9'): 2, ('x_6', 'x_11'): 3, ('x_6', 'x_7'): 2, ('x_6', 'x_16'): 2, ('x_6', 'x_8'): 2, ('x_6', 'x_21'): 2, ('x_6', 'x_9'): 2, ('x_7', 'x_12'): 3, ('x_7', 'x_17'): 2, ('x_7', 'x_8'): 2, ('x_7', 'x_22'): 2, ('x_7', 'x_9'): 2, ('x_8', 'x_13'): 3, ('x_8', 'x_18'): 2, ('x_8', 'x_23'): 2, ('x_8', 'x_9'): 2, ('x_9', 'x_14'): 3, ('x_9', 'x_19'): 2, ('x_9', 'x_24'): 2, ('x_10', 'x_11'): 2, ('x_10', 'x_12'): 2, ('x_10', 'x_15'): 3, ('x_10', 'x_13'): 2, ('x_10', 'x_20'): 2, ('x_10', 'x_14'): 2, ('x_11', 'x_12'): 2, ('x_11', 'x_16'): 3, ('x_11', 'x_13'): 2, ('x_11', 'x_21'): 2, ('x_11', 'x_14'): 2, ('x_12', 'x_17'): 3, ('x_12', 'x_13'): 2, ('x_12', 'x_22'): 2, ('x_12', 'x_14'): 2, ('x_13', 'x_18'): 3, ('x_13', 'x_23'): 2, ('x_13', 'x_14'): 2, ('x_14', 'x_19'): 3, ('x_14', 'x_24'): 2, ('x_15', 'x_16'): 2, ('x_15', 'x_17'): 2, ('x_15', 'x_18'): 2, ('x_15', 'x_20'): 3, ('x_15', 'x_19'): 2, ('x_16', 'x_17'): 2, ('x_16', 'x_18'): 2, ('x_16', 'x_21'): 3, ('x_16', 'x_19'): 2, ('x_17', 'x_18'): 2, ('x_17', 'x_22'): 3, ('x_17', 'x_19'): 2, ('x_18', 'x_23'): 3, ('x_18', 'x_19'): 2, ('x_19', 'x_24'): 3, ('x_20', 'x_21'): 2, ('x_20', 'x_22'): 2, ('x_20', 'x_23'): 2, ('x_20', 'x_24'): 2, ('x_21', 'x_22'): 2, ('x_21', 'x_23'): 2, ('x_21', 'x_24'): 2, ('x_22', 'x_23'): 2, ('x_22', 'x_24'): 2, ('x_23', 'x_24'): 2, ('x_0', 'x_7'): 1, ('x_0', 'x_8'): 1, ('x_1', 'x_8'): 1, ('x_1', 'x_9'): 1, ('x_2', 'x_5'): 1, ('x_2', 'x_9'): 1, ('x_3', 'x_5'): 1, ('x_3', 'x_6'): 1, ('x_4', 'x_6'): 1, ('x_4', 'x_7'): 1, ('x_0', 'x_22'): 1, ('x_0', 'x_23'): 1, ('x_1', 'x_23'): 1, ('x_1', 'x_24'): 1, ('x_2', 'x_20'): 1, ('x_2', 'x_24'): 1, ('x_3', 'x_20'): 1, ('x_3', 'x_21'): 1, ('x_4', 'x_21'): 1, ('x_4', 'x_22'): 1, ('x_5', 'x_12'): 1, ('x_5', 'x_13'): 1, ('x_6', 'x_13'): 1, ('x_6', 'x_14'): 1, ('x_7', 'x_10'): 1, ('x_7', 'x_14'): 1, ('x_8', 'x_10'): 1, ('x_8', 'x_11'): 1, ('x_9', 'x_11'): 1, ('x_9', 'x_12'): 1, ('x_10', 'x_17'): 1, ('x_10', 'x_18'): 1, ('x_11', 'x_18'): 1, ('x_11', 'x_19'): 1, ('x_12', 'x_15'): 1, ('x_12', 'x_19'): 1, ('x_13', 'x_15'): 1, ('x_13', 'x_16'): 1, ('x_14', 'x_16'): 1, ('x_14', 'x_17'): 1, ('x_15', 'x_22'): 1, ('x_15', 'x_23'): 1, ('x_16', 'x_23'): 1, ('x_16', 'x_24'): 1, ('x_17', 'x_20'): 1, ('x_17', 'x_24'): 1, ('x_18', 'x_20'): 1, ('x_18', 'x_21'): 1, ('x_19', 'x_21'): 1, ('x_19', 'x_22'): 1}\n",
            "10.0\n",
            "\\ This file has been generated by DOcplex\n",
            "\\ ENCODING=ISO-8859-1\n",
            "\\Problem name: Graph Isomorphism\n",
            "\n",
            "Minimize\n",
            " obj: - 2 x_0 - 2 x_1 - 2 x_2 - 2 x_3 - 2 x_4 - 2 x_5 - 2 x_6 - 2 x_7 - 2 x_8\n",
            "      - 2 x_9 - 2 x_10 - 2 x_11 - 2 x_12 - 2 x_13 - 2 x_14 - 2 x_15 - 2 x_16\n",
            "      - 2 x_17 - 2 x_18 - 2 x_19 - 2 x_20 - 2 x_21 - 2 x_22 - 2 x_23 - 2 x_24 +\n",
            "      [ 4 x_0*x_1 + 4 x_0*x_2 + 4 x_0*x_3 + 4 x_0*x_4 + 6 x_0*x_5 + 2 x_0*x_7\n",
            "      + 2 x_0*x_8 + 4 x_0*x_10 + 4 x_0*x_15 + 6 x_0*x_20 + 2 x_0*x_22\n",
            "      + 2 x_0*x_23 + 4 x_1*x_2 + 4 x_1*x_3 + 4 x_1*x_4 + 6 x_1*x_6 + 2 x_1*x_8\n",
            "      + 2 x_1*x_9 + 4 x_1*x_11 + 4 x_1*x_16 + 6 x_1*x_21 + 2 x_1*x_23\n",
            "      + 2 x_1*x_24 + 4 x_2*x_3 + 4 x_2*x_4 + 2 x_2*x_5 + 6 x_2*x_7 + 2 x_2*x_9\n",
            "      + 4 x_2*x_12 + 4 x_2*x_17 + 2 x_2*x_20 + 6 x_2*x_22 + 2 x_2*x_24\n",
            "      + 4 x_3*x_4 + 2 x_3*x_5 + 2 x_3*x_6 + 6 x_3*x_8 + 4 x_3*x_13 + 4 x_3*x_18\n",
            "      + 2 x_3*x_20 + 2 x_3*x_21 + 6 x_3*x_23 + 2 x_4*x_6 + 2 x_4*x_7 + 6 x_4*x_9\n",
            "      + 4 x_4*x_14 + 4 x_4*x_19 + 2 x_4*x_21 + 2 x_4*x_22 + 6 x_4*x_24\n",
            "      + 4 x_5*x_6 + 4 x_5*x_7 + 4 x_5*x_8 + 4 x_5*x_9 + 6 x_5*x_10 + 2 x_5*x_12\n",
            "      + 2 x_5*x_13 + 4 x_5*x_15 + 4 x_5*x_20 + 4 x_6*x_7 + 4 x_6*x_8 + 4 x_6*x_9\n",
            "      + 6 x_6*x_11 + 2 x_6*x_13 + 2 x_6*x_14 + 4 x_6*x_16 + 4 x_6*x_21\n",
            "      + 4 x_7*x_8 + 4 x_7*x_9 + 2 x_7*x_10 + 6 x_7*x_12 + 2 x_7*x_14\n",
            "      + 4 x_7*x_17 + 4 x_7*x_22 + 4 x_8*x_9 + 2 x_8*x_10 + 2 x_8*x_11\n",
            "      + 6 x_8*x_13 + 4 x_8*x_18 + 4 x_8*x_23 + 2 x_9*x_11 + 2 x_9*x_12\n",
            "      + 6 x_9*x_14 + 4 x_9*x_19 + 4 x_9*x_24 + 4 x_10*x_11 + 4 x_10*x_12\n",
            "      + 4 x_10*x_13 + 4 x_10*x_14 + 6 x_10*x_15 + 2 x_10*x_17 + 2 x_10*x_18\n",
            "      + 4 x_10*x_20 + 4 x_11*x_12 + 4 x_11*x_13 + 4 x_11*x_14 + 6 x_11*x_16\n",
            "      + 2 x_11*x_18 + 2 x_11*x_19 + 4 x_11*x_21 + 4 x_12*x_13 + 4 x_12*x_14\n",
            "      + 2 x_12*x_15 + 6 x_12*x_17 + 2 x_12*x_19 + 4 x_12*x_22 + 4 x_13*x_14\n",
            "      + 2 x_13*x_15 + 2 x_13*x_16 + 6 x_13*x_18 + 4 x_13*x_23 + 2 x_14*x_16\n",
            "      + 2 x_14*x_17 + 6 x_14*x_19 + 4 x_14*x_24 + 4 x_15*x_16 + 4 x_15*x_17\n",
            "      + 4 x_15*x_18 + 4 x_15*x_19 + 6 x_15*x_20 + 2 x_15*x_22 + 2 x_15*x_23\n",
            "      + 4 x_16*x_17 + 4 x_16*x_18 + 4 x_16*x_19 + 6 x_16*x_21 + 2 x_16*x_23\n",
            "      + 2 x_16*x_24 + 4 x_17*x_18 + 4 x_17*x_19 + 2 x_17*x_20 + 6 x_17*x_22\n",
            "      + 2 x_17*x_24 + 4 x_18*x_19 + 2 x_18*x_20 + 2 x_18*x_21 + 6 x_18*x_23\n",
            "      + 2 x_19*x_21 + 2 x_19*x_22 + 6 x_19*x_24 + 4 x_20*x_21 + 4 x_20*x_22\n",
            "      + 4 x_20*x_23 + 4 x_20*x_24 + 4 x_21*x_22 + 4 x_21*x_23 + 4 x_21*x_24\n",
            "      + 4 x_22*x_23 + 4 x_22*x_24 + 4 x_23*x_24 ]/2 + 10\n",
            "Subject To\n",
            "\n",
            "Bounds\n",
            " 0 <= x_0 <= 1\n",
            " 0 <= x_1 <= 1\n",
            " 0 <= x_2 <= 1\n",
            " 0 <= x_3 <= 1\n",
            " 0 <= x_4 <= 1\n",
            " 0 <= x_5 <= 1\n",
            " 0 <= x_6 <= 1\n",
            " 0 <= x_7 <= 1\n",
            " 0 <= x_8 <= 1\n",
            " 0 <= x_9 <= 1\n",
            " 0 <= x_10 <= 1\n",
            " 0 <= x_11 <= 1\n",
            " 0 <= x_12 <= 1\n",
            " 0 <= x_13 <= 1\n",
            " 0 <= x_14 <= 1\n",
            " 0 <= x_15 <= 1\n",
            " 0 <= x_16 <= 1\n",
            " 0 <= x_17 <= 1\n",
            " 0 <= x_18 <= 1\n",
            " 0 <= x_19 <= 1\n",
            " 0 <= x_20 <= 1\n",
            " 0 <= x_21 <= 1\n",
            " 0 <= x_22 <= 1\n",
            " 0 <= x_23 <= 1\n",
            " 0 <= x_24 <= 1\n",
            "\n",
            "Binaries\n",
            " x_0 x_1 x_2 x_3 x_4 x_5 x_6 x_7 x_8 x_9 x_10 x_11 x_12 x_13 x_14 x_15 x_16 x_17\n",
            " x_18 x_19 x_20 x_21 x_22 x_23 x_24\n",
            "End\n",
            "\n"
          ]
        }
      ]
    },
    {
      "cell_type": "code",
      "metadata": {
        "id": "kKhaD7p77yyh"
      },
      "source": [
        "# Put the QUBO on the annealer and obtain the lowest energy solution.\n",
        "# NOTE: It is possible to have multiple acceptable solutions!\n",
        "import neal\n",
        "sampler = neal.SimulatedAnnealingSampler()\n",
        "sampleset = sampler.sample_qubo(Q, num_reads=100)\n",
        "sampleset = sampleset.aggregate()\n",
        "best_sample = sampleset.first"
      ],
      "execution_count": null,
      "outputs": []
    },
    {
      "cell_type": "code",
      "metadata": {
        "colab": {
          "base_uri": "https://localhost:8080/"
        },
        "id": "8LIalLPe71mf",
        "outputId": "c8463089-fe3a-4dd6-fa4d-973acb70287a"
      },
      "source": [
        "sampleset"
      ],
      "execution_count": null,
      "outputs": [
        {
          "output_type": "execute_result",
          "data": {
            "text/plain": [
              "SampleSet(rec.array([([1, 0, 0, 0, 0, 0, 1, 0, 0, 0, 0, 0, 1, 0, 0, 0, 0, 0, 1, 0, 0, 0, 0, 0, 1], -10., 10),\n",
              "           ([0, 0, 1, 0, 0, 0, 1, 0, 0, 0, 1, 0, 0, 0, 0, 0, 0, 0, 0, 1, 0, 0, 0, 1, 0], -10., 12),\n",
              "           ([0, 0, 0, 1, 0, 0, 0, 0, 0, 1, 1, 0, 0, 0, 0, 0, 1, 0, 0, 0, 0, 0, 1, 0, 0], -10., 13),\n",
              "           ([0, 1, 0, 0, 0, 1, 0, 0, 0, 0, 0, 0, 0, 0, 1, 0, 0, 0, 1, 0, 0, 0, 1, 0, 0], -10., 13),\n",
              "           ([0, 0, 1, 0, 0, 0, 0, 0, 1, 0, 0, 0, 0, 0, 1, 1, 0, 0, 0, 0, 0, 1, 0, 0, 0], -10.,  9),\n",
              "           ([0, 1, 0, 0, 0, 0, 0, 1, 0, 0, 0, 0, 0, 1, 0, 0, 0, 0, 0, 1, 1, 0, 0, 0, 0], -10., 15),\n",
              "           ([0, 0, 0, 0, 1, 0, 0, 0, 1, 0, 0, 0, 1, 0, 0, 0, 1, 0, 0, 0, 1, 0, 0, 0, 0], -10.,  4),\n",
              "           ([1, 0, 0, 0, 0, 0, 0, 0, 0, 1, 0, 0, 0, 1, 0, 0, 0, 1, 0, 0, 0, 1, 0, 0, 0], -10., 11),\n",
              "           ([0, 0, 0, 1, 0, 0, 0, 1, 0, 0, 0, 1, 0, 0, 0, 1, 0, 0, 0, 0, 0, 0, 0, 0, 1], -10.,  7),\n",
              "           ([0, 0, 0, 0, 1, 1, 0, 0, 0, 0, 0, 1, 0, 0, 0, 0, 0, 1, 0, 0, 0, 0, 0, 1, 0], -10.,  6)],\n",
              "          dtype=[('sample', 'i1', (25,)), ('energy', '<f8'), ('num_occurrences', '<i8')]), Variables(range(0, 25)), {'beta_range': [0.06931471805599453, 18.420680743952367], 'beta_schedule_type': 'geometric'}, 'BINARY')"
            ]
          },
          "metadata": {},
          "execution_count": 153
        }
      ]
    },
    {
      "cell_type": "code",
      "metadata": {
        "id": "AKHgvj_o-oBp"
      },
      "source": [
        "# We can use an annealing sample and the sample translation dictionary from before to\n",
        "# generate a dictionary that maps nodes from the graph to be embedded to the target graph\n",
        "mapping = gsgm_mf.translate_sample(best_sample, sample_translation_dict)"
      ],
      "execution_count": null,
      "outputs": []
    },
    {
      "cell_type": "code",
      "metadata": {
        "id": "TgvQ-mw6-pRf",
        "colab": {
          "base_uri": "https://localhost:8080/",
          "height": 319
        },
        "outputId": "928625c7-6201-4b0f-bc47-63bb4b468638"
      },
      "source": [
        "# We can use NetworkX to help us visualize the subgraph and how it maps to the target graph\n",
        "\n",
        "# Invert the mapping so it is from the target graph TO the graph to embed nodes\n",
        "# Snippet taken from: \n",
        "# https://stackoverflow.com/a/483833\n",
        "inv_mapping = {v: k for k, v in mapping.items()}\n",
        "\n",
        "# relabel the nodes in the target graph with the node labels from the graph to embed\n",
        "updated_nodes = nx.relabel_nodes(target_graph, inv_mapping, copy=True)\n",
        "# Get the same fixed position used before\n",
        "pos = nx.spring_layout(updated_nodes, seed=9999)\n",
        "\n",
        "# Highlight the nodes that have been relabeled\n",
        "nx.draw(updated_nodes, pos, with_labels=True, \n",
        "        font_color='w', \n",
        "        nodelist=[key for key in mapping.keys()], \n",
        "        node_color=\"tab:red\")\n",
        "\n",
        "# Difference between two lists:\n",
        "# https://stackoverflow.com/a/3462160\n",
        "nx.draw(updated_nodes, \n",
        "        pos, \n",
        "        with_labels=True, \n",
        "        font_color='w', \n",
        "        nodelist=list(set(updated_nodes.nodes()) - set(mapping.keys())), \n",
        "        node_color=\"tab:blue\")"
      ],
      "execution_count": null,
      "outputs": [
        {
          "output_type": "display_data",
          "data": {
            "image/png": "[encoded data removed]",
            "text/plain": [
              "<Figure size 432x288 with 1 Axes>"
            ]
          },
          "metadata": {}
        }
      ]
    },
    {
      "cell_type": "code",
      "metadata": {
        "id": "DGI9WPv__9mv"
      },
      "source": [
        "import numpy as np\n",
        "\n",
        "def build_matrix(data):\n",
        "    data = dict(data)\n",
        "\n",
        "    maxX = max([x for (x, y) in list(data.keys())])\n",
        "    maxY = max([y for (x, y) in list(data.keys())])\n",
        "\n",
        "    maxX = max([maxX, maxY])\n",
        "    maxY = max([maxX, maxY])\n",
        "\n",
        "    mat = np.zeros(shape=(maxX+1, maxY+1))\n",
        "\n",
        "    for key, value in data.items():\n",
        "        x, y = key\n",
        "        mat[x][y] = value\n",
        "\n",
        "    return mat\n",
        "\n",
        "Q_mat = build_matrix(Q)"
      ],
      "execution_count": null,
      "outputs": []
    },
    {
      "cell_type": "code",
      "metadata": {
        "id": "5C_iUsNR__TY"
      },
      "source": [
        "s = neal.SimulatedAnnealingSampler()\n",
        "sampleset = s.sample_qubo(Q, beta_range=(5, 100), num_sweeps=20000, num_reads=100,\n",
        "                        beta_schedule_type='geometric')"
      ],
      "execution_count": null,
      "outputs": []
    },
    {
      "cell_type": "code",
      "metadata": {
        "id": "lCE-p4wpACbJ",
        "colab": {
          "base_uri": "https://localhost:8080/"
        },
        "outputId": "70aa6f5d-379b-428c-ba72-6c5fe44ef1a6"
      },
      "source": [
        "# Post processing\n",
        "\n",
        "# Offset is empirically calculated as of now. \n",
        "# From preliminary experiments, the offset is \n",
        "# calculated to be 2 * number of nodes of the \n",
        "# graph\n",
        "\n",
        "offset = 2.0 * len(graph_to_embed.nodes)\n",
        "\n",
        "energies = []\n",
        "final_energies = []\n",
        "for datum in sampleset.data(fields=[\"sample\", \"energy\"]):\n",
        "    energies.append(datum.energy)\n",
        "\n",
        "print(offset)\n",
        "for energy in energies: \n",
        "  final_energy = float(energy) + float(offset)\n",
        "  final_energies.append(final_energy)"
      ],
      "execution_count": null,
      "outputs": [
        {
          "output_type": "stream",
          "name": "stdout",
          "text": [
            "10.0\n"
          ]
        }
      ]
    },
    {
      "cell_type": "code",
      "metadata": {
        "colab": {
          "base_uri": "https://localhost:8080/"
        },
        "id": "H9LM7g_HAksK",
        "outputId": "8e98019f-99d1-4ed6-b6bf-c10ac8094265"
      },
      "source": [
        "len(graph_to_embed.nodes)"
      ],
      "execution_count": null,
      "outputs": [
        {
          "output_type": "execute_result",
          "data": {
            "text/plain": [
              "5"
            ]
          },
          "metadata": {},
          "execution_count": 159
        }
      ]
    },
    {
      "cell_type": "code",
      "metadata": {
        "id": "l4TGCwBeAFCh",
        "colab": {
          "base_uri": "https://localhost:8080/"
        },
        "outputId": "14698855-e088-410a-af07-fadcfca3a249"
      },
      "source": [
        "final_energies"
      ],
      "execution_count": null,
      "outputs": [
        {
          "output_type": "execute_result",
          "data": {
            "text/plain": [
              "[0.0,\n",
              " 0.0,\n",
              " 0.0,\n",
              " 0.0,\n",
              " 0.0,\n",
              " 0.0,\n",
              " 0.0,\n",
              " 0.0,\n",
              " 0.0,\n",
              " 0.0,\n",
              " 0.0,\n",
              " 0.0,\n",
              " 0.0,\n",
              " 0.0,\n",
              " 0.0,\n",
              " 0.0,\n",
              " 0.0,\n",
              " 0.0,\n",
              " 0.0,\n",
              " 0.0,\n",
              " 0.0,\n",
              " 0.0,\n",
              " 0.0,\n",
              " 0.0,\n",
              " 0.0,\n",
              " 0.0,\n",
              " 0.0,\n",
              " 0.0,\n",
              " 0.0,\n",
              " 0.0,\n",
              " 0.0,\n",
              " 0.0,\n",
              " 0.0,\n",
              " 0.0,\n",
              " 0.0,\n",
              " 0.0,\n",
              " 0.0,\n",
              " 0.0,\n",
              " 0.0,\n",
              " 0.0,\n",
              " 0.0,\n",
              " 0.0,\n",
              " 0.0,\n",
              " 0.0,\n",
              " 0.0,\n",
              " 0.0,\n",
              " 0.0,\n",
              " 0.0,\n",
              " 0.0,\n",
              " 0.0,\n",
              " 0.0,\n",
              " 0.0,\n",
              " 0.0,\n",
              " 0.0,\n",
              " 0.0,\n",
              " 0.0,\n",
              " 0.0,\n",
              " 0.0,\n",
              " 0.0,\n",
              " 0.0,\n",
              " 0.0,\n",
              " 0.0,\n",
              " 0.0,\n",
              " 0.0,\n",
              " 0.0,\n",
              " 0.0,\n",
              " 0.0,\n",
              " 0.0,\n",
              " 0.0,\n",
              " 0.0,\n",
              " 0.0,\n",
              " 0.0,\n",
              " 0.0,\n",
              " 0.0,\n",
              " 0.0,\n",
              " 0.0,\n",
              " 0.0,\n",
              " 0.0,\n",
              " 0.0,\n",
              " 0.0,\n",
              " 0.0,\n",
              " 0.0,\n",
              " 0.0,\n",
              " 0.0,\n",
              " 0.0,\n",
              " 0.0,\n",
              " 0.0,\n",
              " 0.0,\n",
              " 0.0,\n",
              " 0.0,\n",
              " 0.0,\n",
              " 0.0,\n",
              " 0.0,\n",
              " 0.0,\n",
              " 0.0,\n",
              " 0.0,\n",
              " 0.0,\n",
              " 0.0,\n",
              " 0.0,\n",
              " 0.0]"
            ]
          },
          "metadata": {},
          "execution_count": 160
        }
      ]
    },
    {
      "cell_type": "code",
      "metadata": {
        "colab": {
          "base_uri": "https://localhost:8080/"
        },
        "id": "nsoVLc1LlFDl",
        "outputId": "7fa1d228-67b0-42ec-9cd2-1b8952bbcc57"
      },
      "source": [
        "aqua_globals.random_seed = np.random.default_rng(123)\n",
        "seed = 10598\n",
        "backend = Aer.get_backend('qasm_simulator')\n",
        "quantum_instance = QuantumInstance(backend, seed_simulator=seed, seed_transpiler=seed)\n",
        "\n",
        "qaoa = QAOA(quantum_instance=quantum_instance, p = 1)\n",
        "\n",
        "# create minimum eigen optimizer based on qaoa\n",
        "qaoa_optimizer = MinimumEigenOptimizer(qaoa)\n",
        "\n",
        "# solve quadratic program\n",
        "result = qaoa_optimizer.solve(mdl)"
      ],
      "execution_count": null,
      "outputs": [
        {
          "output_type": "stream",
          "name": "stderr",
          "text": [
            "/usr/local/lib/python3.7/dist-packages/qiskit/utils/deprecation.py:62: DeprecationWarning:\n",
            "\n",
            "Using a qobj for run() is deprecated as of qiskit-aer 0.9.0 and will be removed no sooner than 3 months from that release date. Transpiled circuits should now be passed directly using `backend.run(circuits, **run_options).\n",
            "\n"
          ]
        }
      ]
    },
    {
      "cell_type": "code",
      "metadata": {
        "id": "HPPeExQj8Cih",
        "colab": {
          "base_uri": "https://localhost:8080/"
        },
        "outputId": "e1ca637a-55bc-4ec6-9f4d-e51d7400e578"
      },
      "source": [
        "print(result)"
      ],
      "execution_count": null,
      "outputs": [
        {
          "output_type": "stream",
          "name": "stdout",
          "text": [
            "optimal function value: 5.0\n",
            "optimal value: [0. 0. 0. 0. 0. 0. 0. 0. 0. 0. 0. 0. 1. 0. 1. 0. 0. 0. 1. 0. 1. 0. 0. 0.\n",
            " 0.]\n",
            "status: SUCCESS\n"
          ]
        }
      ]
    },
    {
      "cell_type": "code",
      "metadata": {
        "colab": {
          "base_uri": "https://localhost:8080/"
        },
        "id": "gXqCMAIvmJni",
        "outputId": "e0a45db5-356f-46c7-d271-dc550aad18dd"
      },
      "source": [
        "offset"
      ],
      "execution_count": null,
      "outputs": [
        {
          "output_type": "execute_result",
          "data": {
            "text/plain": [
              "8.0"
            ]
          },
          "metadata": {},
          "execution_count": 143
        }
      ]
    },
    {
      "cell_type": "code",
      "metadata": {
        "id": "N9Q3LiU2mJni"
      },
      "source": [
        "# 3 nodes , offset = 2 * num_nodes\n",
        "# 4 nodes , offset = 2.5 * num_nodes\n",
        "# 5 nodes , offset = 3 * num_nodes"
      ],
      "execution_count": null,
      "outputs": []
    }
  ]
}