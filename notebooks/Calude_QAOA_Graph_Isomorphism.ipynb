{
 "cells": [
  {
   "cell_type": "code",
   "execution_count": 1,
   "metadata": {
    "id": "hCFMYQJD7Cfc"
   },
   "outputs": [
    {
     "name": "stdout",
     "output_type": "stream",
     "text": [
      "Requirement already satisfied: dimod in /home/akashk/anaconda3/lib/python3.8/site-packages (0.10.6)\n",
      "Requirement already satisfied: dwave-preprocessing<0.4,>=0.3 in /home/akashk/anaconda3/lib/python3.8/site-packages (from dimod) (0.3.0)\n",
      "Requirement already satisfied: numpy!=1.21.0,!=1.21.1,<2.0.0,>=1.17.3 in /home/akashk/anaconda3/lib/python3.8/site-packages (from dimod) (1.21.2)\n",
      "Requirement already satisfied: qiskit[all] in /home/akashk/.local/lib/python3.8/site-packages (0.29.0)\n",
      "Requirement already satisfied: qiskit-ibmq-provider==0.16.0 in /home/akashk/.local/lib/python3.8/site-packages (from qiskit[all]) (0.16.0)\n",
      "Requirement already satisfied: qiskit-aqua==0.9.4 in /home/akashk/.local/lib/python3.8/site-packages (from qiskit[all]) (0.9.4)\n",
      "Requirement already satisfied: qiskit-terra==0.18.1 in /home/akashk/.local/lib/python3.8/site-packages (from qiskit[all]) (0.18.1)\n",
      "Requirement already satisfied: qiskit-ignis==0.6.0 in /home/akashk/.local/lib/python3.8/site-packages (from qiskit[all]) (0.6.0)\n",
      "Requirement already satisfied: qiskit-aer==0.8.2 in /home/akashk/.local/lib/python3.8/site-packages (from qiskit[all]) (0.8.2)\n",
      "Requirement already satisfied: matplotlib>=2.1 in /home/akashk/anaconda3/lib/python3.8/site-packages (from qiskit[all]) (3.3.4)\n",
      "Requirement already satisfied: pillow>=4.2.1 in /home/akashk/anaconda3/lib/python3.8/site-packages (from qiskit[all]) (8.2.0)\n",
      "Requirement already satisfied: pygments>=2.4 in /home/akashk/anaconda3/lib/python3.8/site-packages (from qiskit[all]) (2.8.1)\n",
      "Collecting qiskit-experiments\n",
      "  Downloading qiskit_experiments-0.1.0-py3-none-any.whl (210 kB)\n",
      "\u001b[K     |████████████████████████████████| 210 kB 2.0 MB/s eta 0:00:01\n",
      "\u001b[?25hCollecting qiskit-optimization==0.2.1\n",
      "  Downloading qiskit_optimization-0.2.1-py3-none-any.whl (142 kB)\n",
      "\u001b[K     |████████████████████████████████| 142 kB 26.2 MB/s eta 0:00:01\n",
      "\u001b[?25hRequirement already satisfied: ipywidgets>=7.3.0 in /home/akashk/anaconda3/lib/python3.8/site-packages (from qiskit[all]) (7.6.3)\n",
      "Requirement already satisfied: seaborn>=0.9.0 in /home/akashk/anaconda3/lib/python3.8/site-packages (from qiskit[all]) (0.11.1)\n",
      "Requirement already satisfied: pydot in /home/akashk/anaconda3/lib/python3.8/site-packages (from qiskit[all]) (1.4.1)\n",
      "Collecting qiskit-nature==0.1.5\n",
      "  Downloading qiskit_nature-0.1.5-py3-none-any.whl (1.5 MB)\n",
      "\u001b[K     |████████████████████████████████| 1.5 MB 28.3 MB/s eta 0:00:01\n",
      "\u001b[?25hCollecting qiskit-finance==0.2.0\n",
      "  Downloading qiskit_finance-0.2.0-py3-none-any.whl (48 kB)\n",
      "\u001b[K     |████████████████████████████████| 48 kB 11.1 MB/s eta 0:00:01\n",
      "\u001b[?25hCollecting qiskit-machine-learning==0.2.0\n",
      "  Downloading qiskit_machine_learning-0.2.0-py3-none-any.whl (93 kB)\n",
      "\u001b[K     |████████████████████████████████| 93 kB 5.2 MB/s s eta 0:00:01\n",
      "\u001b[?25hRequirement already satisfied: pylatexenc>=1.4 in /home/akashk/anaconda3/lib/python3.8/site-packages (from qiskit[all]) (2.8)\n",
      "Requirement already satisfied: numpy>=1.16.3 in /home/akashk/anaconda3/lib/python3.8/site-packages (from qiskit-aer==0.8.2->qiskit[all]) (1.21.2)\n",
      "Requirement already satisfied: scipy>=1.0 in /home/akashk/.local/lib/python3.8/site-packages (from qiskit-aer==0.8.2->qiskit[all]) (1.7.1)\n",
      "Requirement already satisfied: pybind11>=2.6 in /home/akashk/.local/lib/python3.8/site-packages (from qiskit-aer==0.8.2->qiskit[all]) (2.7.1)\n",
      "Requirement already satisfied: psutil>=5 in /home/akashk/anaconda3/lib/python3.8/site-packages (from qiskit-aqua==0.9.4->qiskit[all]) (5.8.0)\n",
      "Requirement already satisfied: quandl in /home/akashk/.local/lib/python3.8/site-packages (from qiskit-aqua==0.9.4->qiskit[all]) (3.6.1)\n",
      "Requirement already satisfied: dlx<=1.0.4 in /home/akashk/.local/lib/python3.8/site-packages (from qiskit-aqua==0.9.4->qiskit[all]) (1.0.4)\n",
      "Requirement already satisfied: sympy>=1.3 in /home/akashk/.local/lib/python3.8/site-packages (from qiskit-aqua==0.9.4->qiskit[all]) (1.8)\n",
      "Requirement already satisfied: pandas in /home/akashk/.local/lib/python3.8/site-packages (from qiskit-aqua==0.9.4->qiskit[all]) (1.3.1)\n",
      "Requirement already satisfied: fastdtw<=0.3.4 in /home/akashk/.local/lib/python3.8/site-packages (from qiskit-aqua==0.9.4->qiskit[all]) (0.3.4)\n",
      "Requirement already satisfied: h5py<3.3.0 in /home/akashk/.local/lib/python3.8/site-packages (from qiskit-aqua==0.9.4->qiskit[all]) (3.1.0)\n",
      "Requirement already satisfied: yfinance<0.1.63 in /home/akashk/.local/lib/python3.8/site-packages (from qiskit-aqua==0.9.4->qiskit[all]) (0.1.55)\n",
      "Requirement already satisfied: scikit-learn>=0.20.0 in /home/akashk/.local/lib/python3.8/site-packages (from qiskit-aqua==0.9.4->qiskit[all]) (0.24.2)\n",
      "Requirement already satisfied: setuptools>=40.1.0 in /home/akashk/.local/lib/python3.8/site-packages (from qiskit-aqua==0.9.4->qiskit[all]) (54.0.0)\n",
      "Requirement already satisfied: retworkx>=0.8.0 in /home/akashk/.local/lib/python3.8/site-packages (from qiskit-aqua==0.9.4->qiskit[all]) (0.9.0)\n",
      "Requirement already satisfied: docplex>=2.21.207 in /home/akashk/.local/lib/python3.8/site-packages (from qiskit-aqua==0.9.4->qiskit[all]) (2.21.207)\n",
      "Requirement already satisfied: python-dateutil>=2.8.0 in /home/akashk/.local/lib/python3.8/site-packages (from qiskit-ibmq-provider==0.16.0->qiskit[all]) (2.8.1)\n",
      "Requirement already satisfied: requests-ntlm>=1.1.0 in /home/akashk/.local/lib/python3.8/site-packages (from qiskit-ibmq-provider==0.16.0->qiskit[all]) (1.1.0)\n",
      "Requirement already satisfied: requests>=2.19 in /home/akashk/anaconda3/lib/python3.8/site-packages (from qiskit-ibmq-provider==0.16.0->qiskit[all]) (2.25.1)\n",
      "Requirement already satisfied: urllib3>=1.21.1 in /home/akashk/anaconda3/lib/python3.8/site-packages (from qiskit-ibmq-provider==0.16.0->qiskit[all]) (1.26.4)\n",
      "Requirement already satisfied: websocket-client>=1.0.1 in /home/akashk/.local/lib/python3.8/site-packages (from qiskit-ibmq-provider==0.16.0->qiskit[all]) (1.2.0)\n",
      "Requirement already satisfied: networkx<2.6,>=2.2 in /home/akashk/.local/lib/python3.8/site-packages (from qiskit-optimization==0.2.1->qiskit[all]) (2.5)\n",
      "Requirement already satisfied: fastjsonschema>=2.10 in /home/akashk/.local/lib/python3.8/site-packages (from qiskit-terra==0.18.1->qiskit[all]) (2.15.1)\n",
      "Requirement already satisfied: python-constraint>=1.4 in /home/akashk/.local/lib/python3.8/site-packages (from qiskit-terra==0.18.1->qiskit[all]) (1.4.0)\n",
      "Requirement already satisfied: ply>=3.10 in /home/akashk/.local/lib/python3.8/site-packages (from qiskit-terra==0.18.1->qiskit[all]) (3.11)\n",
      "Requirement already satisfied: jsonschema>=2.6 in /home/akashk/.local/lib/python3.8/site-packages (from qiskit-terra==0.18.1->qiskit[all]) (3.2.0)\n",
      "Requirement already satisfied: dill>=0.3 in /home/akashk/.local/lib/python3.8/site-packages (from qiskit-terra==0.18.1->qiskit[all]) (0.3.3)\n",
      "Requirement already satisfied: tweedledum<2.0,>=1.1 in /home/akashk/.local/lib/python3.8/site-packages (from qiskit-terra==0.18.1->qiskit[all]) (1.1.0)\n",
      "Requirement already satisfied: symengine>0.7 in /home/akashk/.local/lib/python3.8/site-packages (from qiskit-terra==0.18.1->qiskit[all]) (0.7.2)\n",
      "Requirement already satisfied: six in /home/akashk/anaconda3/lib/python3.8/site-packages (from docplex>=2.21.207->qiskit-aqua==0.9.4->qiskit[all]) (1.15.0)\n",
      "Requirement already satisfied: ipython>=4.0.0 in /home/akashk/anaconda3/lib/python3.8/site-packages (from ipywidgets>=7.3.0->qiskit[all]) (7.22.0)\n",
      "Requirement already satisfied: traitlets>=4.3.1 in /home/akashk/anaconda3/lib/python3.8/site-packages (from ipywidgets>=7.3.0->qiskit[all]) (5.0.5)\n",
      "Requirement already satisfied: jupyterlab-widgets>=1.0.0 in /home/akashk/anaconda3/lib/python3.8/site-packages (from ipywidgets>=7.3.0->qiskit[all]) (1.0.0)\n",
      "Requirement already satisfied: ipykernel>=4.5.1 in /home/akashk/anaconda3/lib/python3.8/site-packages (from ipywidgets>=7.3.0->qiskit[all]) (5.3.4)\n",
      "Requirement already satisfied: widgetsnbextension~=3.5.0 in /home/akashk/anaconda3/lib/python3.8/site-packages (from ipywidgets>=7.3.0->qiskit[all]) (3.5.1)\n",
      "Requirement already satisfied: nbformat>=4.2.0 in /home/akashk/anaconda3/lib/python3.8/site-packages (from ipywidgets>=7.3.0->qiskit[all]) (5.1.3)\n",
      "Requirement already satisfied: jupyter-client in /home/akashk/anaconda3/lib/python3.8/site-packages (from ipykernel>=4.5.1->ipywidgets>=7.3.0->qiskit[all]) (6.1.12)\n",
      "Requirement already satisfied: tornado>=4.2 in /home/akashk/anaconda3/lib/python3.8/site-packages (from ipykernel>=4.5.1->ipywidgets>=7.3.0->qiskit[all]) (6.1)\n"
     ]
    },
    {
     "name": "stdout",
     "output_type": "stream",
     "text": [
      "Requirement already satisfied: prompt-toolkit!=3.0.0,!=3.0.1,<3.1.0,>=2.0.0 in /home/akashk/anaconda3/lib/python3.8/site-packages (from ipython>=4.0.0->ipywidgets>=7.3.0->qiskit[all]) (3.0.17)\n",
      "Requirement already satisfied: jedi>=0.16 in /home/akashk/anaconda3/lib/python3.8/site-packages (from ipython>=4.0.0->ipywidgets>=7.3.0->qiskit[all]) (0.17.2)\n",
      "Requirement already satisfied: pexpect>4.3 in /home/akashk/anaconda3/lib/python3.8/site-packages (from ipython>=4.0.0->ipywidgets>=7.3.0->qiskit[all]) (4.8.0)\n",
      "Requirement already satisfied: backcall in /home/akashk/anaconda3/lib/python3.8/site-packages (from ipython>=4.0.0->ipywidgets>=7.3.0->qiskit[all]) (0.2.0)\n",
      "Requirement already satisfied: decorator in /home/akashk/.local/lib/python3.8/site-packages (from ipython>=4.0.0->ipywidgets>=7.3.0->qiskit[all]) (4.4.2)\n",
      "Requirement already satisfied: pickleshare in /home/akashk/anaconda3/lib/python3.8/site-packages (from ipython>=4.0.0->ipywidgets>=7.3.0->qiskit[all]) (0.7.5)\n",
      "Requirement already satisfied: parso<0.8.0,>=0.7.0 in /home/akashk/anaconda3/lib/python3.8/site-packages (from jedi>=0.16->ipython>=4.0.0->ipywidgets>=7.3.0->qiskit[all]) (0.7.0)\n",
      "Requirement already satisfied: attrs>=17.4.0 in /home/akashk/.local/lib/python3.8/site-packages (from jsonschema>=2.6->qiskit-terra==0.18.1->qiskit[all]) (20.3.0)\n",
      "Requirement already satisfied: pyrsistent>=0.14.0 in /home/akashk/.local/lib/python3.8/site-packages (from jsonschema>=2.6->qiskit-terra==0.18.1->qiskit[all]) (0.17.3)\n",
      "Requirement already satisfied: cycler>=0.10 in /home/akashk/anaconda3/lib/python3.8/site-packages (from matplotlib>=2.1->qiskit[all]) (0.10.0)\n",
      "Requirement already satisfied: kiwisolver>=1.0.1 in /home/akashk/anaconda3/lib/python3.8/site-packages (from matplotlib>=2.1->qiskit[all]) (1.3.1)\n",
      "Requirement already satisfied: pyparsing!=2.0.4,!=2.1.2,!=2.1.6,>=2.0.3 in /home/akashk/anaconda3/lib/python3.8/site-packages (from matplotlib>=2.1->qiskit[all]) (2.4.7)\n",
      "Requirement already satisfied: ipython-genutils in /home/akashk/anaconda3/lib/python3.8/site-packages (from nbformat>=4.2.0->ipywidgets>=7.3.0->qiskit[all]) (0.2.0)\n",
      "Requirement already satisfied: jupyter-core in /home/akashk/anaconda3/lib/python3.8/site-packages (from nbformat>=4.2.0->ipywidgets>=7.3.0->qiskit[all]) (4.7.1)\n",
      "Requirement already satisfied: ptyprocess>=0.5 in /home/akashk/anaconda3/lib/python3.8/site-packages (from pexpect>4.3->ipython>=4.0.0->ipywidgets>=7.3.0->qiskit[all]) (0.7.0)\n",
      "Requirement already satisfied: wcwidth in /home/akashk/anaconda3/lib/python3.8/site-packages (from prompt-toolkit!=3.0.0,!=3.0.1,<3.1.0,>=2.0.0->ipython>=4.0.0->ipywidgets>=7.3.0->qiskit[all]) (0.2.5)\n",
      "Requirement already satisfied: certifi>=2017.4.17 in /home/akashk/anaconda3/lib/python3.8/site-packages (from requests>=2.19->qiskit-ibmq-provider==0.16.0->qiskit[all]) (2021.5.30)\n",
      "Requirement already satisfied: chardet<5,>=3.0.2 in /home/akashk/anaconda3/lib/python3.8/site-packages (from requests>=2.19->qiskit-ibmq-provider==0.16.0->qiskit[all]) (4.0.0)\n",
      "Requirement already satisfied: idna<3,>=2.5 in /home/akashk/anaconda3/lib/python3.8/site-packages (from requests>=2.19->qiskit-ibmq-provider==0.16.0->qiskit[all]) (2.10)\n",
      "Requirement already satisfied: ntlm-auth>=1.0.2 in /home/akashk/.local/lib/python3.8/site-packages (from requests-ntlm>=1.1.0->qiskit-ibmq-provider==0.16.0->qiskit[all]) (1.5.0)\n",
      "Requirement already satisfied: cryptography>=1.3 in /home/akashk/anaconda3/lib/python3.8/site-packages (from requests-ntlm>=1.1.0->qiskit-ibmq-provider==0.16.0->qiskit[all]) (3.4.7)\n",
      "Requirement already satisfied: cffi>=1.12 in /home/akashk/anaconda3/lib/python3.8/site-packages (from cryptography>=1.3->requests-ntlm>=1.1.0->qiskit-ibmq-provider==0.16.0->qiskit[all]) (1.14.5)\n",
      "Requirement already satisfied: pycparser in /home/akashk/anaconda3/lib/python3.8/site-packages (from cffi>=1.12->cryptography>=1.3->requests-ntlm>=1.1.0->qiskit-ibmq-provider==0.16.0->qiskit[all]) (2.20)\n",
      "Requirement already satisfied: threadpoolctl>=2.0.0 in /home/akashk/.local/lib/python3.8/site-packages (from scikit-learn>=0.20.0->qiskit-aqua==0.9.4->qiskit[all]) (2.1.0)\n",
      "Requirement already satisfied: joblib>=0.11 in /home/akashk/.local/lib/python3.8/site-packages (from scikit-learn>=0.20.0->qiskit-aqua==0.9.4->qiskit[all]) (1.0.1)\n",
      "Requirement already satisfied: pytz>=2017.3 in /home/akashk/anaconda3/lib/python3.8/site-packages (from pandas->qiskit-aqua==0.9.4->qiskit[all]) (2021.1)\n",
      "Requirement already satisfied: mpmath>=0.19 in /home/akashk/.local/lib/python3.8/site-packages (from sympy>=1.3->qiskit-aqua==0.9.4->qiskit[all]) (1.2.1)\n",
      "Requirement already satisfied: notebook>=4.4.1 in /home/akashk/anaconda3/lib/python3.8/site-packages (from widgetsnbextension~=3.5.0->ipywidgets>=7.3.0->qiskit[all]) (6.3.0)\n",
      "Requirement already satisfied: argon2-cffi in /home/akashk/anaconda3/lib/python3.8/site-packages (from notebook>=4.4.1->widgetsnbextension~=3.5.0->ipywidgets>=7.3.0->qiskit[all]) (20.1.0)\n",
      "Requirement already satisfied: nbconvert in /home/akashk/anaconda3/lib/python3.8/site-packages (from notebook>=4.4.1->widgetsnbextension~=3.5.0->ipywidgets>=7.3.0->qiskit[all]) (6.0.7)\n",
      "Requirement already satisfied: pyzmq>=17 in /home/akashk/anaconda3/lib/python3.8/site-packages (from notebook>=4.4.1->widgetsnbextension~=3.5.0->ipywidgets>=7.3.0->qiskit[all]) (20.0.0)\n",
      "Requirement already satisfied: terminado>=0.8.3 in /home/akashk/anaconda3/lib/python3.8/site-packages (from notebook>=4.4.1->widgetsnbextension~=3.5.0->ipywidgets>=7.3.0->qiskit[all]) (0.9.4)\n",
      "Requirement already satisfied: prometheus-client in /home/akashk/anaconda3/lib/python3.8/site-packages (from notebook>=4.4.1->widgetsnbextension~=3.5.0->ipywidgets>=7.3.0->qiskit[all]) (0.10.1)\n",
      "Requirement already satisfied: Send2Trash>=1.5.0 in /home/akashk/anaconda3/lib/python3.8/site-packages (from notebook>=4.4.1->widgetsnbextension~=3.5.0->ipywidgets>=7.3.0->qiskit[all]) (1.5.0)\n",
      "Requirement already satisfied: jinja2 in /home/akashk/anaconda3/lib/python3.8/site-packages (from notebook>=4.4.1->widgetsnbextension~=3.5.0->ipywidgets>=7.3.0->qiskit[all]) (3.0.0)\n",
      "Requirement already satisfied: multitasking>=0.0.7 in /home/akashk/.local/lib/python3.8/site-packages (from yfinance<0.1.63->qiskit-aqua==0.9.4->qiskit[all]) (0.0.9)\n",
      "Requirement already satisfied: lxml>=4.5.1 in /home/akashk/.local/lib/python3.8/site-packages (from yfinance<0.1.63->qiskit-aqua==0.9.4->qiskit[all]) (4.6.2)\n",
      "Requirement already satisfied: MarkupSafe>=2.0.0rc2 in /home/akashk/anaconda3/lib/python3.8/site-packages (from jinja2->notebook>=4.4.1->widgetsnbextension~=3.5.0->ipywidgets>=7.3.0->qiskit[all]) (2.0.0)\n",
      "Requirement already satisfied: defusedxml in /home/akashk/anaconda3/lib/python3.8/site-packages (from nbconvert->notebook>=4.4.1->widgetsnbextension~=3.5.0->ipywidgets>=7.3.0->qiskit[all]) (0.7.1)\n",
      "Requirement already satisfied: entrypoints>=0.2.2 in /home/akashk/anaconda3/lib/python3.8/site-packages (from nbconvert->notebook>=4.4.1->widgetsnbextension~=3.5.0->ipywidgets>=7.3.0->qiskit[all]) (0.3)\n",
      "Requirement already satisfied: mistune<2,>=0.8.1 in /home/akashk/anaconda3/lib/python3.8/site-packages (from nbconvert->notebook>=4.4.1->widgetsnbextension~=3.5.0->ipywidgets>=7.3.0->qiskit[all]) (0.8.4)\n",
      "Requirement already satisfied: nbclient<0.6.0,>=0.5.0 in /home/akashk/anaconda3/lib/python3.8/site-packages (from nbconvert->notebook>=4.4.1->widgetsnbextension~=3.5.0->ipywidgets>=7.3.0->qiskit[all]) (0.5.1)\n",
      "Requirement already satisfied: jupyterlab-pygments in /home/akashk/anaconda3/lib/python3.8/site-packages (from nbconvert->notebook>=4.4.1->widgetsnbextension~=3.5.0->ipywidgets>=7.3.0->qiskit[all]) (0.1.2)\n",
      "Requirement already satisfied: bleach in /home/akashk/anaconda3/lib/python3.8/site-packages (from nbconvert->notebook>=4.4.1->widgetsnbextension~=3.5.0->ipywidgets>=7.3.0->qiskit[all]) (3.3.0)\n",
      "Requirement already satisfied: pandocfilters>=1.4.1 in /home/akashk/anaconda3/lib/python3.8/site-packages (from nbconvert->notebook>=4.4.1->widgetsnbextension~=3.5.0->ipywidgets>=7.3.0->qiskit[all]) (1.4.3)\n",
      "Requirement already satisfied: testpath in /home/akashk/anaconda3/lib/python3.8/site-packages (from nbconvert->notebook>=4.4.1->widgetsnbextension~=3.5.0->ipywidgets>=7.3.0->qiskit[all]) (0.4.4)\n"
     ]
    },
    {
     "name": "stdout",
     "output_type": "stream",
     "text": [
      "Requirement already satisfied: nest-asyncio in /home/akashk/.local/lib/python3.8/site-packages (from nbclient<0.6.0,>=0.5.0->nbconvert->notebook>=4.4.1->widgetsnbextension~=3.5.0->ipywidgets>=7.3.0->qiskit[all]) (1.5.1)\n",
      "Requirement already satisfied: async-generator in /home/akashk/anaconda3/lib/python3.8/site-packages (from nbclient<0.6.0,>=0.5.0->nbconvert->notebook>=4.4.1->widgetsnbextension~=3.5.0->ipywidgets>=7.3.0->qiskit[all]) (1.10)\n",
      "Requirement already satisfied: packaging in /home/akashk/anaconda3/lib/python3.8/site-packages (from bleach->nbconvert->notebook>=4.4.1->widgetsnbextension~=3.5.0->ipywidgets>=7.3.0->qiskit[all]) (20.9)\n",
      "Requirement already satisfied: webencodings in /home/akashk/anaconda3/lib/python3.8/site-packages (from bleach->nbconvert->notebook>=4.4.1->widgetsnbextension~=3.5.0->ipywidgets>=7.3.0->qiskit[all]) (0.5.1)\n",
      "Requirement already satisfied: inflection>=0.3.1 in /home/akashk/.local/lib/python3.8/site-packages (from quandl->qiskit-aqua==0.9.4->qiskit[all]) (0.5.1)\n",
      "Requirement already satisfied: more-itertools in /home/akashk/.local/lib/python3.8/site-packages (from quandl->qiskit-aqua==0.9.4->qiskit[all]) (8.8.0)\n",
      "Installing collected packages: qiskit-optimization, qiskit-nature, qiskit-machine-learning, qiskit-finance, qiskit-experiments\n",
      "Successfully installed qiskit-experiments-0.1.0 qiskit-finance-0.2.0 qiskit-machine-learning-0.2.0 qiskit-nature-0.1.5 qiskit-optimization-0.2.1\n",
      "Collecting dwave-neal\n",
      "  Downloading dwave_neal-0.5.8-cp38-cp38-manylinux_2_5_x86_64.manylinux1_x86_64.whl (404 kB)\n",
      "\u001b[K     |████████████████████████████████| 404 kB 2.1 MB/s eta 0:00:01\n",
      "\u001b[?25hRequirement already satisfied: numpy!=1.21.0,!=1.21.1,<2.0.0,>=1.16.0 in /home/akashk/anaconda3/lib/python3.8/site-packages (from dwave-neal) (1.21.2)\n",
      "Requirement already satisfied: dimod>=0.9.2 in /home/akashk/anaconda3/lib/python3.8/site-packages (from dwave-neal) (0.10.6)\n",
      "Requirement already satisfied: dwave-preprocessing<0.4,>=0.3 in /home/akashk/anaconda3/lib/python3.8/site-packages (from dimod>=0.9.2->dwave-neal) (0.3.0)\n",
      "Installing collected packages: dwave-neal\n",
      "Successfully installed dwave-neal-0.5.8\n"
     ]
    }
   ],
   "source": [
    "!pip install dimod\n",
    "!pip install 'qiskit[all]'\n",
    "!pip install dwave-neal"
   ]
  },
  {
   "cell_type": "code",
   "execution_count": 2,
   "metadata": {
    "id": "KDxIk2oD79Z5"
   },
   "outputs": [
    {
     "name": "stdout",
     "output_type": "stream",
     "text": [
      "Collecting qiskit-aer-gpu\n",
      "  Downloading qiskit_aer_gpu-0.9.0-cp38-cp38-manylinux_2_12_x86_64.manylinux2010_x86_64.whl (26.7 MB)\n",
      "\u001b[K     |████████████████████████████████| 26.7 MB 2.0 MB/s eta 0:00:01\n",
      "\u001b[?25hRequirement already satisfied: qiskit-terra>=0.17.0 in /home/akashk/.local/lib/python3.8/site-packages (from qiskit-aer-gpu) (0.18.1)\n",
      "Requirement already satisfied: pybind11>=2.6 in /home/akashk/.local/lib/python3.8/site-packages (from qiskit-aer-gpu) (2.7.1)\n",
      "Requirement already satisfied: numpy>=1.16.3 in /home/akashk/anaconda3/lib/python3.8/site-packages (from qiskit-aer-gpu) (1.21.2)\n",
      "Requirement already satisfied: scipy>=1.0 in /home/akashk/.local/lib/python3.8/site-packages (from qiskit-aer-gpu) (1.7.1)\n",
      "Requirement already satisfied: python-dateutil>=2.8.0 in /home/akashk/.local/lib/python3.8/site-packages (from qiskit-terra>=0.17.0->qiskit-aer-gpu) (2.8.1)\n",
      "Requirement already satisfied: fastjsonschema>=2.10 in /home/akashk/.local/lib/python3.8/site-packages (from qiskit-terra>=0.17.0->qiskit-aer-gpu) (2.15.1)\n",
      "Requirement already satisfied: dill>=0.3 in /home/akashk/.local/lib/python3.8/site-packages (from qiskit-terra>=0.17.0->qiskit-aer-gpu) (0.3.3)\n",
      "Requirement already satisfied: ply>=3.10 in /home/akashk/.local/lib/python3.8/site-packages (from qiskit-terra>=0.17.0->qiskit-aer-gpu) (3.11)\n",
      "Requirement already satisfied: retworkx>=0.9.0 in /home/akashk/.local/lib/python3.8/site-packages (from qiskit-terra>=0.17.0->qiskit-aer-gpu) (0.9.0)\n",
      "Requirement already satisfied: python-constraint>=1.4 in /home/akashk/.local/lib/python3.8/site-packages (from qiskit-terra>=0.17.0->qiskit-aer-gpu) (1.4.0)\n",
      "Requirement already satisfied: psutil>=5 in /home/akashk/anaconda3/lib/python3.8/site-packages (from qiskit-terra>=0.17.0->qiskit-aer-gpu) (5.8.0)\n",
      "Requirement already satisfied: sympy>=1.3 in /home/akashk/.local/lib/python3.8/site-packages (from qiskit-terra>=0.17.0->qiskit-aer-gpu) (1.8)\n",
      "Requirement already satisfied: symengine>0.7 in /home/akashk/.local/lib/python3.8/site-packages (from qiskit-terra>=0.17.0->qiskit-aer-gpu) (0.7.2)\n",
      "Requirement already satisfied: jsonschema>=2.6 in /home/akashk/.local/lib/python3.8/site-packages (from qiskit-terra>=0.17.0->qiskit-aer-gpu) (3.2.0)\n",
      "Requirement already satisfied: tweedledum<2.0,>=1.1 in /home/akashk/.local/lib/python3.8/site-packages (from qiskit-terra>=0.17.0->qiskit-aer-gpu) (1.1.0)\n",
      "Requirement already satisfied: attrs>=17.4.0 in /home/akashk/.local/lib/python3.8/site-packages (from jsonschema>=2.6->qiskit-terra>=0.17.0->qiskit-aer-gpu) (20.3.0)\n",
      "Requirement already satisfied: six>=1.11.0 in /home/akashk/anaconda3/lib/python3.8/site-packages (from jsonschema>=2.6->qiskit-terra>=0.17.0->qiskit-aer-gpu) (1.15.0)\n",
      "Requirement already satisfied: pyrsistent>=0.14.0 in /home/akashk/.local/lib/python3.8/site-packages (from jsonschema>=2.6->qiskit-terra>=0.17.0->qiskit-aer-gpu) (0.17.3)\n",
      "Requirement already satisfied: setuptools in /home/akashk/.local/lib/python3.8/site-packages (from jsonschema>=2.6->qiskit-terra>=0.17.0->qiskit-aer-gpu) (54.0.0)\n",
      "Requirement already satisfied: mpmath>=0.19 in /home/akashk/.local/lib/python3.8/site-packages (from sympy>=1.3->qiskit-terra>=0.17.0->qiskit-aer-gpu) (1.2.1)\n",
      "Installing collected packages: qiskit-aer-gpu\n",
      "Successfully installed qiskit-aer-gpu-0.9.0\n",
      "Collecting gsgmorph\n",
      "  Downloading gsgmorph-1.0.2-py3-none-any.whl (23 kB)\n",
      "Collecting pyqubo\n",
      "  Downloading pyqubo-1.0.13-cp38-cp38-manylinux_2_5_x86_64.manylinux1_x86_64.whl (884 kB)\n",
      "\u001b[K     |████████████████████████████████| 884 kB 3.0 MB/s eta 0:00:01\n",
      "\u001b[?25hRequirement already satisfied: networkx in /home/akashk/.local/lib/python3.8/site-packages (from gsgmorph) (2.5)\n",
      "Requirement already satisfied: decorator>=4.3.0 in /home/akashk/.local/lib/python3.8/site-packages (from networkx->gsgmorph) (4.4.2)\n",
      "Requirement already satisfied: dimod<0.11,>=0.9.14 in /home/akashk/anaconda3/lib/python3.8/site-packages (from pyqubo->gsgmorph) (0.10.6)\n",
      "Requirement already satisfied: numpy>=1.17.3 in /home/akashk/anaconda3/lib/python3.8/site-packages (from pyqubo->gsgmorph) (1.21.2)\n",
      "Collecting Deprecated>=1.2.12\n",
      "  Using cached Deprecated-1.2.13-py2.py3-none-any.whl (9.6 kB)\n",
      "Requirement already satisfied: six>=1.15.0 in /home/akashk/anaconda3/lib/python3.8/site-packages (from pyqubo->gsgmorph) (1.15.0)\n",
      "Requirement already satisfied: dwave-neal>=0.5.7 in /home/akashk/anaconda3/lib/python3.8/site-packages (from pyqubo->gsgmorph) (0.5.8)\n",
      "Requirement already satisfied: wrapt<2,>=1.10 in /home/akashk/anaconda3/lib/python3.8/site-packages (from Deprecated>=1.2.12->pyqubo->gsgmorph) (1.12.1)\n",
      "Requirement already satisfied: dwave-preprocessing<0.4,>=0.3 in /home/akashk/anaconda3/lib/python3.8/site-packages (from dimod<0.11,>=0.9.14->pyqubo->gsgmorph) (0.3.0)\n",
      "Installing collected packages: Deprecated, pyqubo, gsgmorph\n",
      "Successfully installed Deprecated-1.2.13 gsgmorph-1.0.2 pyqubo-1.0.13\n"
     ]
    }
   ],
   "source": [
    "!pip install qiskit-aer-gpu\n",
    "!pip install gsgmorph"
   ]
  },
  {
   "cell_type": "code",
   "execution_count": 3,
   "metadata": {
    "id": "4Q7kqo4ZTtZD"
   },
   "outputs": [],
   "source": [
    "from qiskit.algorithms import QAOA\n",
    "from qiskit_optimization.algorithms import MinimumEigenOptimizer\n",
    "from qiskit import Aer\n",
    "from qiskit import QuantumCircuit\n",
    "from qiskit.visualization import plot_state_city\n",
    "from qiskit.algorithms.optimizers import COBYLA, SLSQP, ADAM\n",
    "from qiskit_optimization import QuadraticProgram\n",
    "from docplex.mp.model import Model"
   ]
  },
  {
   "cell_type": "code",
   "execution_count": 4,
   "metadata": {
    "id": "0koNCCJ5TvH1"
   },
   "outputs": [
    {
     "name": "stderr",
     "output_type": "stream",
     "text": [
      "/home/akashk/.local/lib/python3.8/site-packages/qiskit/aqua/__init__.py:86: DeprecationWarning: The package qiskit.aqua is deprecated. It was moved/refactored to qiskit-terra For more information see <https://github.com/Qiskit/qiskit-aqua/blob/main/README.md#migration-guide>\n",
      "  warn_package('aqua', 'qiskit-terra')\n",
      "/home/akashk/.local/lib/python3.8/site-packages/qiskit/optimization/__init__.py:92: DeprecationWarning: The package qiskit.optimization is deprecated. It was moved/refactored to qiskit_optimization (pip install qiskit-optimization). For more information see <https://github.com/Qiskit/qiskit-aqua/blob/main/README.md#migration-guide>\n",
      "  warn_package('optimization', 'qiskit_optimization', 'qiskit-optimization')\n"
     ]
    }
   ],
   "source": [
    "from qiskit.optimization.applications.ising import stable_set\n",
    "from qiskit import Aer\n",
    "from qiskit.optimization.applications.ising import stable_set\n",
    "from qiskit.aqua.algorithms import VQE, NumPyMinimumEigensolver, QAOA\n",
    "from qiskit.aqua import aqua_globals\n",
    "from qiskit.aqua import QuantumInstance\n",
    "from qiskit.optimization.applications.ising.common import sample_most_likely\n",
    "from qiskit.optimization.algorithms import MinimumEigenOptimizer\n",
    "from qiskit.optimization.problems import QuadraticProgram"
   ]
  },
  {
   "cell_type": "code",
   "execution_count": 5,
   "metadata": {
    "id": "rpQL_pLGfoQG"
   },
   "outputs": [
    {
     "name": "stdout",
     "output_type": "stream",
     "text": [
      "00:00.0 Host bridge: Intel Corporation Xeon E3-1200 v6/7th Gen Core Processor Host Bridge/DRAM Registers (rev 05)\r\n",
      "\tSubsystem: ASRock Incorporation Xeon E3-1200 v6/7th Gen Core Processor Host Bridge/DRAM Registers\r\n",
      "\tFlags: bus master, fast devsel, latency 0\r\n",
      "\tCapabilities: <access denied>\r\n",
      "\tKernel driver in use: skl_uncore\r\n",
      "\r\n",
      "00:02.0 VGA compatible controller: Intel Corporation HD Graphics 630 (rev 04) (prog-if 00 [VGA controller])\r\n",
      "\tSubsystem: ASRock Incorporation HD Graphics 630\r\n",
      "\tFlags: bus master, fast devsel, latency 0, IRQ 128\r\n",
      "\tMemory at de000000 (64-bit, non-prefetchable) [size=16M]\r\n",
      "\tMemory at c0000000 (64-bit, prefetchable) [size=256M]\r\n",
      "\tI/O ports at f000 [size=64]\r\n",
      "\tExpansion ROM at 000c0000 [virtual] [disabled] [size=128K]\r\n",
      "\tCapabilities: <access denied>\r\n",
      "\tKernel driver in use: i915\r\n",
      "\tKernel modules: i915\r\n",
      "\r\n",
      "00:14.0 USB controller: Intel Corporation 100 Series/C230 Series Chipset Family USB 3.0 xHCI Controller (rev 31) (prog-if 30 [XHCI])\r\n",
      "\tSubsystem: ASRock Incorporation 100 Series/C230 Series Chipset Family USB 3.0 xHCI Controller\r\n",
      "\tFlags: bus master, medium devsel, latency 0, IRQ 124\r\n",
      "\tMemory at df010000 (64-bit, non-prefetchable) [size=64K]\r\n",
      "\tCapabilities: <access denied>\r\n",
      "\tKernel driver in use: xhci_hcd\r\n",
      "\r\n",
      "00:14.2 Signal processing controller: Intel Corporation 100 Series/C230 Series Chipset Family Thermal Subsystem (rev 31)\r\n",
      "\tSubsystem: ASRock Incorporation 100 Series/C230 Series Chipset Family Thermal Subsystem\r\n",
      "\tFlags: fast devsel, IRQ 18\r\n",
      "\tMemory at df02e000 (64-bit, non-prefetchable) [size=4K]\r\n",
      "\tCapabilities: <access denied>\r\n",
      "\tKernel driver in use: intel_pch_thermal\r\n",
      "\tKernel modules: intel_pch_thermal\r\n",
      "\r\n",
      "00:16.0 Communication controller: Intel Corporation 100 Series/C230 Series Chipset Family MEI Controller #1 (rev 31)\r\n",
      "\tSubsystem: ASRock Incorporation 100 Series/C230 Series Chipset Family MEI Controller\r\n",
      "\tFlags: bus master, fast devsel, latency 0, IRQ 127\r\n",
      "\tMemory at df02d000 (64-bit, non-prefetchable) [size=4K]\r\n",
      "\tCapabilities: <access denied>\r\n",
      "\tKernel driver in use: mei_me\r\n",
      "\tKernel modules: mei_me\r\n",
      "\r\n",
      "00:17.0 SATA controller: Intel Corporation Q170/Q150/B150/H170/H110/Z170/CM236 Chipset SATA Controller [AHCI Mode] (rev 31) (prog-if 01 [AHCI 1.0])\r\n",
      "\tSubsystem: ASRock Incorporation Q170/Q150/B150/H170/H110/Z170/CM236 Chipset SATA Controller [AHCI Mode]\r\n",
      "\tFlags: bus master, 66MHz, medium devsel, latency 0, IRQ 125\r\n",
      "\tMemory at df028000 (32-bit, non-prefetchable) [size=8K]\r\n",
      "\tMemory at df02c000 (32-bit, non-prefetchable) [size=256]\r\n",
      "\tI/O ports at f090 [size=8]\r\n",
      "\tI/O ports at f080 [size=4]\r\n",
      "\tI/O ports at f060 [size=32]\r\n",
      "\tMemory at df02b000 (32-bit, non-prefetchable) [size=2K]\r\n",
      "\tCapabilities: <access denied>\r\n",
      "\tKernel driver in use: ahci\r\n",
      "\tKernel modules: ahci\r\n",
      "\r\n",
      "00:1c.0 PCI bridge: Intel Corporation 100 Series/C230 Series Chipset Family PCI Express Root Port #5 (rev f1) (prog-if 00 [Normal decode])\r\n",
      "\tFlags: bus master, fast devsel, latency 0, IRQ 122\r\n",
      "\tBus: primary=00, secondary=01, subordinate=01, sec-latency=0\r\n",
      "\tI/O behind bridge: [disabled]\r\n",
      "\tMemory behind bridge: [disabled]\r\n",
      "\tPrefetchable memory behind bridge: [disabled]\r\n",
      "\tCapabilities: <access denied>\r\n",
      "\tKernel driver in use: pcieport\r\n",
      "\r\n",
      "00:1c.5 PCI bridge: Intel Corporation 100 Series/C230 Series Chipset Family PCI Express Root Port #6 (rev f1) (prog-if 00 [Normal decode])\r\n",
      "\tFlags: bus master, fast devsel, latency 0, IRQ 123\r\n",
      "\tBus: primary=00, secondary=02, subordinate=02, sec-latency=0\r\n",
      "\tI/O behind bridge: 0000e000-0000efff [size=4K]\r\n",
      "\tMemory behind bridge: 89000000-890fffff [size=1M]\r\n",
      "\tPrefetchable memory behind bridge: 00000000d0000000-00000000d00fffff [size=1M]\r\n",
      "\tCapabilities: <access denied>\r\n",
      "\tKernel driver in use: pcieport\r\n",
      "\r\n",
      "00:1f.0 ISA bridge: Intel Corporation H110 Chipset LPC/eSPI Controller (rev 31)\r\n",
      "\tSubsystem: ASRock Incorporation H110 Chipset LPC/eSPI Controller\r\n",
      "\tFlags: bus master, medium devsel, latency 0\r\n",
      "\r\n",
      "00:1f.2 Memory controller: Intel Corporation 100 Series/C230 Series Chipset Family Power Management Controller (rev 31)\r\n",
      "\tSubsystem: ASRock Incorporation 100 Series/C230 Series Chipset Family Power Management Controller\r\n",
      "\tFlags: fast devsel\r\n",
      "\tMemory at df024000 (32-bit, non-prefetchable) [disabled] [size=16K]\r\n",
      "\r\n",
      "00:1f.3 Audio device: Intel Corporation 100 Series/C230 Series Chipset Family HD Audio Controller (rev 31)\r\n",
      "\tSubsystem: ASRock Incorporation 100 Series/C230 Series Chipset Family HD Audio Controller\r\n",
      "\tFlags: bus master, fast devsel, latency 32, IRQ 129\r\n",
      "\tMemory at df020000 (64-bit, non-prefetchable) [size=16K]\r\n",
      "\tMemory at df000000 (64-bit, non-prefetchable) [size=64K]\r\n",
      "\tCapabilities: <access denied>\r\n",
      "\tKernel driver in use: snd_hda_intel\r\n",
      "\tKernel modules: snd_hda_intel\r\n",
      "\r\n",
      "00:1f.4 SMBus: Intel Corporation 100 Series/C230 Series Chipset Family SMBus (rev 31)\r\n",
      "\tSubsystem: ASRock Incorporation 100 Series/C230 Series Chipset Family SMBus\r\n",
      "\tFlags: medium devsel, IRQ 16\r\n",
      "\tMemory at df02a000 (64-bit, non-prefetchable) [size=256]\r\n",
      "\tI/O ports at f040 [size=32]\r\n",
      "\tKernel driver in use: i801_smbus\r\n",
      "\tKernel modules: i2c_i801\r\n",
      "\r\n",
      "02:00.0 Ethernet controller: Realtek Semiconductor Co., Ltd. RTL8111/8168/8411 PCI Express Gigabit Ethernet Controller (rev 02)\r\n",
      "\tSubsystem: ASRock Incorporation Motherboard (one of many)\r\n",
      "\tFlags: bus master, fast devsel, latency 0, IRQ 17\r\n",
      "\tI/O ports at e000 [size=256]\r\n",
      "\tMemory at d0010000 (64-bit, prefetchable) [size=4K]\r\n",
      "\tMemory at d0000000 (64-bit, prefetchable) [size=64K]\r\n",
      "\tExpansion ROM at 89000000 [disabled] [size=64K]\r\n",
      "\tCapabilities: <access denied>\r\n",
      "\tKernel driver in use: r8169\r\n",
      "\tKernel modules: r8169\r\n",
      "\r\n"
     ]
    }
   ],
   "source": [
    "!lspci -v"
   ]
  },
  {
   "cell_type": "code",
   "execution_count": 6,
   "metadata": {
    "id": "5oVYimOxFLdL"
   },
   "outputs": [
    {
     "name": "stdout",
     "output_type": "stream",
     "text": [
      "Collecting matplotlib==3.1.3\n",
      "  Downloading matplotlib-3.1.3-cp38-cp38-manylinux1_x86_64.whl (13.1 MB)\n",
      "\u001b[K     |████████████████████████████████| 13.1 MB 2.0 MB/s eta 0:00:01\n",
      "\u001b[?25hRequirement already satisfied: pyparsing!=2.0.4,!=2.1.2,!=2.1.6,>=2.0.1 in /home/akashk/anaconda3/lib/python3.8/site-packages (from matplotlib==3.1.3) (2.4.7)\n",
      "Requirement already satisfied: numpy>=1.11 in /home/akashk/anaconda3/lib/python3.8/site-packages (from matplotlib==3.1.3) (1.21.2)\n",
      "Requirement already satisfied: kiwisolver>=1.0.1 in /home/akashk/anaconda3/lib/python3.8/site-packages (from matplotlib==3.1.3) (1.3.1)\n",
      "Requirement already satisfied: cycler>=0.10 in /home/akashk/anaconda3/lib/python3.8/site-packages (from matplotlib==3.1.3) (0.10.0)\n",
      "Requirement already satisfied: python-dateutil>=2.1 in /home/akashk/.local/lib/python3.8/site-packages (from matplotlib==3.1.3) (2.8.1)\n",
      "Requirement already satisfied: six in /home/akashk/anaconda3/lib/python3.8/site-packages (from cycler>=0.10->matplotlib==3.1.3) (1.15.0)\n",
      "Installing collected packages: matplotlib\n",
      "  Attempting uninstall: matplotlib\n",
      "    Found existing installation: matplotlib 3.3.4\n",
      "    Uninstalling matplotlib-3.3.4:\n",
      "      Successfully uninstalled matplotlib-3.3.4\n",
      "\u001b[31mERROR: pip's dependency resolver does not currently take into account all the packages that are installed. This behaviour is the source of the following dependency conflicts.\n",
      "qiskit-experiments 0.1.0 requires matplotlib>=3.3, but you have matplotlib 3.1.3 which is incompatible.\u001b[0m\n",
      "Successfully installed matplotlib-3.1.3\n"
     ]
    }
   ],
   "source": [
    "!pip install matplotlib==3.1.3"
   ]
  },
  {
   "cell_type": "code",
   "execution_count": 7,
   "metadata": {
    "id": "uRG2nV038Ym4"
   },
   "outputs": [],
   "source": [
    "import gsgmorph.matrix_form as gsgm_mf\n",
    "import networkx as nx\n",
    "\n",
    "graph_to_embed = nx.Graph([(1,2),(1,3),(2,3),(2,4),(4,5),(5,3)])\n",
    "target_graph = nx.Graph([('a','b'),('a','c'),('b', 'c'), ('b', 'd'), ('d', 'e'), ('e', 'c')])"
   ]
  },
  {
   "cell_type": "code",
   "execution_count": 8,
   "metadata": {
    "colab": {
     "base_uri": "https://localhost:8080/",
     "height": 319
    },
    "id": "CZNjOWOXEPlZ",
    "outputId": "e72c7e18-0dba-4a24-9e8a-9e1fa68d49e6"
   },
   "outputs": [
    {
     "data": {
      "image/png": "[encoded data removed]",
      "text/plain": [
       "<Figure size 432x288 with 1 Axes>"
      ]
     },
     "metadata": {},
     "output_type": "display_data"
    }
   ],
   "source": [
    "# Get fixed position\n",
    "pos = nx.spring_layout(graph_to_embed, seed=9999)\n",
    "\n",
    "# Graph to be embedded onto a target graph\n",
    "nx.draw(graph_to_embed, pos, with_labels=True, font_color='w')"
   ]
  },
  {
   "cell_type": "code",
   "execution_count": 9,
   "metadata": {
    "colab": {
     "base_uri": "https://localhost:8080/",
     "height": 319
    },
    "id": "8rueAKwnEZF-",
    "outputId": "8550b295-a124-4abd-eabc-0b3204ad327e"
   },
   "outputs": [
    {
     "data": {
      "image/png": "[encoded data removed]",
      "text/plain": [
       "<Figure size 432x288 with 1 Axes>"
      ]
     },
     "metadata": {},
     "output_type": "display_data"
    }
   ],
   "source": [
    "# Get fixed position\n",
    "pos = nx.spring_layout(target_graph, seed=9999)\n",
    "\n",
    "# Target graph, the above graph will be mapped to this one\n",
    "nx.draw(target_graph, pos, with_labels=True, font_color='w')"
   ]
  },
  {
   "cell_type": "code",
   "execution_count": 10,
   "metadata": {
    "id": "VoobSxzwEbP4"
   },
   "outputs": [],
   "source": [
    "# Obtain the QUBO and the sample translation dictionary\n",
    "Q, sample_translation_dict = gsgm_mf.graph_isomorphism(graph_to_embed, target_graph)"
   ]
  },
  {
   "cell_type": "code",
   "execution_count": 11,
   "metadata": {
    "id": "2O7MLfASEgHX"
   },
   "outputs": [],
   "source": [
    "# Put the QUBO on the annealer and obtain the lowest energy solution.\n",
    "# NOTE: It is possible to have multiple acceptable solutions!\n",
    "import neal\n",
    "sampler = neal.SimulatedAnnealingSampler()\n",
    "sampleset = sampler.sample_qubo(Q, num_reads=100)\n",
    "sampleset = sampleset.aggregate()\n",
    "best_sample = sampleset.first"
   ]
  },
  {
   "cell_type": "code",
   "execution_count": 12,
   "metadata": {
    "colab": {
     "base_uri": "https://localhost:8080/"
    },
    "id": "TIC08odyQSHY",
    "outputId": "c55938f9-82ae-4ec9-9ba3-045109f9a586"
   },
   "outputs": [
    {
     "data": {
      "text/plain": [
       "Sample(sample={0: 1, 1: 0, 2: 0, 3: 0, 4: 0, 5: 0, 6: 1, 7: 0, 8: 0, 9: 0, 10: 0, 11: 0, 12: 1, 13: 0, 14: 0, 15: 0, 16: 0, 17: 0, 18: 1, 19: 0, 20: 0, 21: 0, 22: 0, 23: 0, 24: 1}, energy=-10.0, num_occurrences=34)"
      ]
     },
     "execution_count": 12,
     "metadata": {},
     "output_type": "execute_result"
    }
   ],
   "source": [
    "best_sample"
   ]
  },
  {
   "cell_type": "code",
   "execution_count": 13,
   "metadata": {
    "colab": {
     "base_uri": "https://localhost:8080/"
    },
    "id": "5lyXrJAhE7QB",
    "outputId": "9beefe4b-af5f-4320-f4ed-c67714464945"
   },
   "outputs": [
    {
     "data": {
      "text/plain": [
       "{1: 'a', 2: 'b', 3: 'c', 4: 'd', 5: 'e'}"
      ]
     },
     "execution_count": 13,
     "metadata": {},
     "output_type": "execute_result"
    }
   ],
   "source": [
    "gsgm_mf.translate_sample(best_sample, sample_translation_dict)"
   ]
  },
  {
   "cell_type": "code",
   "execution_count": 14,
   "metadata": {
    "id": "eCEPTrM6FTbI"
   },
   "outputs": [],
   "source": [
    "# Akash's code\n",
    "s = neal.SimulatedAnnealingSampler()\n",
    "sampleset = s.sample_qubo(Q, beta_range=(5, 100), num_sweeps=20000, num_reads=100,\n",
    "                        beta_schedule_type='geometric')"
   ]
  },
  {
   "cell_type": "code",
   "execution_count": 15,
   "metadata": {
    "id": "mikDtNALFWOY"
   },
   "outputs": [],
   "source": [
    "# energies = []\n",
    "# for datum in sampleset.data(fields=[\"sample\", \"energy\"]):\n",
    "#     energies.append(datum.energy)\n",
    "\n",
    "# print(offset)\n",
    "# print(energies+offset)"
   ]
  },
  {
   "cell_type": "code",
   "execution_count": 15,
   "metadata": {
    "id": "Aixm2ZukEkaf"
   },
   "outputs": [],
   "source": [
    "# We can use an annealing sample and the sample translation dictionary from before to\n",
    "# generate a dictionary that maps nodes from the graph to be embedded to the target graph\n",
    "mapping = gsgm_mf.translate_sample(best_sample, sample_translation_dict)"
   ]
  },
  {
   "cell_type": "code",
   "execution_count": 16,
   "metadata": {
    "colab": {
     "base_uri": "https://localhost:8080/",
     "height": 319
    },
    "id": "dIQfB36CEu8m",
    "outputId": "375e0d5c-16bb-4668-aab6-ebe547923347"
   },
   "outputs": [
    {
     "data": {
      "image/png": "[encoded data removed]",
      "text/plain": [
       "<Figure size 432x288 with 1 Axes>"
      ]
     },
     "metadata": {},
     "output_type": "display_data"
    }
   ],
   "source": [
    "# We can use NetworkX to help us visualize the subgraph and how it maps to the target graph\n",
    "\n",
    "# Invert the mapping so it is from the target graph TO the graph to embed nodes\n",
    "# Snippet taken from: \n",
    "# https://stackoverflow.com/a/483833\n",
    "inv_mapping = {v: k for k, v in mapping.items()}\n",
    "\n",
    "# relabel the nodes in the target graph with the node labels from the graph to embed\n",
    "updated_nodes = nx.relabel_nodes(target_graph, inv_mapping, copy=True)\n",
    "# Get the same fixed position used before\n",
    "pos = nx.spring_layout(updated_nodes, seed=9999)\n",
    "\n",
    "# Highlight the nodes that have been relabeled\n",
    "nx.draw(updated_nodes, pos, with_labels=True, \n",
    "        font_color='w', \n",
    "        nodelist=[key for key in mapping.keys()], \n",
    "        node_color=\"tab:red\")\n",
    "\n",
    "# Difference between two lists:\n",
    "# https://stackoverflow.com/a/3462160\n",
    "nx.draw(updated_nodes, \n",
    "        pos, \n",
    "        with_labels=True, \n",
    "        font_color='w', \n",
    "        nodelist=list(set(updated_nodes.nodes()) - set(mapping.keys())), \n",
    "        node_color=\"tab:blue\")"
   ]
  },
  {
   "cell_type": "code",
   "execution_count": 17,
   "metadata": {
    "id": "-MEyudWaEyHf"
   },
   "outputs": [],
   "source": [
    "import numpy as np\n",
    "\n",
    "def build_matrix(data):\n",
    "    data = dict(data)\n",
    "\n",
    "    maxX = max([x for (x, y) in list(data.keys())])\n",
    "    maxY = max([y for (x, y) in list(data.keys())])\n",
    "\n",
    "    maxX = max([maxX, maxY])\n",
    "    maxY = max([maxX, maxY])\n",
    "\n",
    "    mat = np.zeros(shape=(maxX+1, maxY+1))\n",
    "\n",
    "    for key, value in data.items():\n",
    "        x, y = key\n",
    "        mat[x][y] = value\n",
    "\n",
    "    return mat\n",
    "\n",
    "Q_mat = build_matrix(Q)"
   ]
  },
  {
   "cell_type": "code",
   "execution_count": 18,
   "metadata": {
    "id": "nJlp5m3Gh-8S"
   },
   "outputs": [],
   "source": [
    "# Q_mat"
   ]
  },
  {
   "cell_type": "code",
   "execution_count": 19,
   "metadata": {
    "id": "poL9yuUv4vLw"
   },
   "outputs": [],
   "source": [
    "s = neal.SimulatedAnnealingSampler()\n",
    "sampleset = s.sample_qubo(Q, beta_range=(5, 100), num_sweeps=20000, num_reads=100,\n",
    "                        beta_schedule_type='geometric')"
   ]
  },
  {
   "cell_type": "code",
   "execution_count": 20,
   "metadata": {
    "colab": {
     "base_uri": "https://localhost:8080/"
    },
    "id": "ZhwFc4vW6dXx",
    "outputId": "dc2673dd-e694-415d-c522-91b2a6691a8f"
   },
   "outputs": [
    {
     "name": "stdout",
     "output_type": "stream",
     "text": [
      "10.0\n"
     ]
    }
   ],
   "source": [
    "# Post processing\n",
    "\n",
    "# Offset is empirically calculated as of now. \n",
    "# From preliminary experiments, the offset is \n",
    "# calculated to be 2 * number of nodes of the \n",
    "# graph\n",
    "\n",
    "offset = 2.0 * len(graph_to_embed.nodes)\n",
    "\n",
    "energies = []\n",
    "final_energies = []\n",
    "for datum in sampleset.data(fields=[\"sample\", \"energy\"]):\n",
    "    energies.append(datum.energy)\n",
    "\n",
    "print(offset)\n",
    "for energy in energies: \n",
    "  final_energy = float(energy) + float(offset)\n",
    "  final_energies.append(final_energy)"
   ]
  },
  {
   "cell_type": "code",
   "execution_count": 21,
   "metadata": {
    "colab": {
     "base_uri": "https://localhost:8080/"
    },
    "id": "9C0ueTTMOVkN",
    "outputId": "251cdb09-ff7c-45a5-f85c-7ab8c97f1545"
   },
   "outputs": [
    {
     "data": {
      "text/plain": [
       "[0.0,\n",
       " 0.0,\n",
       " 0.0,\n",
       " 0.0,\n",
       " 0.0,\n",
       " 0.0,\n",
       " 0.0,\n",
       " 0.0,\n",
       " 0.0,\n",
       " 0.0,\n",
       " 0.0,\n",
       " 0.0,\n",
       " 0.0,\n",
       " 0.0,\n",
       " 0.0,\n",
       " 0.0,\n",
       " 0.0,\n",
       " 0.0,\n",
       " 0.0,\n",
       " 0.0,\n",
       " 0.0,\n",
       " 0.0,\n",
       " 0.0,\n",
       " 0.0,\n",
       " 0.0,\n",
       " 0.0,\n",
       " 0.0,\n",
       " 0.0,\n",
       " 0.0,\n",
       " 0.0,\n",
       " 0.0,\n",
       " 0.0,\n",
       " 0.0,\n",
       " 0.0,\n",
       " 0.0,\n",
       " 0.0,\n",
       " 0.0,\n",
       " 0.0,\n",
       " 0.0,\n",
       " 0.0,\n",
       " 0.0,\n",
       " 0.0,\n",
       " 0.0,\n",
       " 0.0,\n",
       " 0.0,\n",
       " 0.0,\n",
       " 0.0,\n",
       " 0.0,\n",
       " 0.0,\n",
       " 0.0,\n",
       " 0.0,\n",
       " 0.0,\n",
       " 0.0,\n",
       " 0.0,\n",
       " 0.0,\n",
       " 0.0,\n",
       " 0.0,\n",
       " 0.0,\n",
       " 0.0,\n",
       " 0.0,\n",
       " 0.0,\n",
       " 0.0,\n",
       " 0.0,\n",
       " 0.0,\n",
       " 0.0,\n",
       " 0.0,\n",
       " 0.0,\n",
       " 0.0,\n",
       " 0.0,\n",
       " 0.0,\n",
       " 0.0,\n",
       " 0.0,\n",
       " 0.0,\n",
       " 0.0,\n",
       " 0.0,\n",
       " 0.0,\n",
       " 0.0,\n",
       " 0.0,\n",
       " 0.0,\n",
       " 0.0,\n",
       " 0.0,\n",
       " 0.0,\n",
       " 0.0,\n",
       " 0.0,\n",
       " 0.0,\n",
       " 0.0,\n",
       " 0.0,\n",
       " 0.0,\n",
       " 0.0,\n",
       " 0.0,\n",
       " 0.0,\n",
       " 0.0,\n",
       " 0.0,\n",
       " 0.0,\n",
       " 0.0,\n",
       " 1.0,\n",
       " 1.0,\n",
       " 1.0,\n",
       " 1.0,\n",
       " 1.0]"
      ]
     },
     "execution_count": 21,
     "metadata": {},
     "output_type": "execute_result"
    }
   ],
   "source": [
    "final_energies"
   ]
  },
  {
   "cell_type": "code",
   "execution_count": 23,
   "metadata": {
    "id": "li8cEmMfPPjg"
   },
   "outputs": [],
   "source": [
    "# qubitOp, offset = stable_set.get_operator(Q_mat)\n",
    "# print('Offset:', offset)\n",
    "# print('Ising Hamiltonian:')\n",
    "# print(qubitOp.print_details())"
   ]
  },
  {
   "cell_type": "code",
   "execution_count": 24,
   "metadata": {
    "id": "lGx-MQ42ToIy"
   },
   "outputs": [],
   "source": [
    "# # mapping Ising Hamiltonian to Quadratic Program\n",
    "# qp = QuadraticProgram()\n",
    "# qp.from_ising(qubitOp, offset)\n",
    "# qp.to_docplex().prettyprint()\n"
   ]
  },
  {
   "cell_type": "code",
   "execution_count": 22,
   "metadata": {
    "id": "9zDwIR6cfYPA"
   },
   "outputs": [
    {
     "name": "stdout",
     "output_type": "stream",
     "text": [
      "\"Invalid simulation device GPU. Available devices are: ['CPU']\"\n"
     ]
    }
   ],
   "source": [
    "from qiskit.providers.aer import AerError\n",
    "\n",
    "# Initialize a GPU backend\n",
    "# Note that the cloud instance for tutorials does not have a GPU\n",
    "# so this will raise an exception.\n",
    "try:\n",
    "    simulator_gpu = Aer.get_backend('aer_simulator')\n",
    "    simulator_gpu.set_options(device='GPU')\n",
    "except AerError as e:\n",
    "    print(e)"
   ]
  },
  {
   "cell_type": "code",
   "execution_count": 23,
   "metadata": {
    "colab": {
     "base_uri": "https://localhost:8080/"
    },
    "id": "Z81kO9fPUGrz",
    "outputId": "e9154c06-1d74-4d2b-ac7c-1b8fe3b5d5e0"
   },
   "outputs": [
    {
     "name": "stderr",
     "output_type": "stream",
     "text": [
      "/home/akashk/.local/lib/python3.8/site-packages/qiskit/optimization/applications/ising/stable_set.py:60: DeprecationWarning: The package qiskit.aqua.operators is deprecated. It was moved/refactored to qiskit.opflow (pip install qiskit-terra). For more information see <https://github.com/Qiskit/qiskit-aqua/blob/main/README.md#migration-guide>\n",
      "  return WeightedPauliOperator(paulis=pauli_list), shift - num_nodes / 2\n"
     ]
    },
    {
     "name": "stdout",
     "output_type": "stream",
     "text": [
      "Offset: 61.5\n",
      "Ising Hamiltonian:\n",
      "IIIIIIIIIIIIIIIIIIIIIIIZZ\t(0.5+0j)\n",
      "IIIIIIIIIIIIIIIIIIIIIIZIZ\t(0.5+0j)\n",
      "IIIIIIIIIIIIIIIIIIIIIZIIZ\t(0.5+0j)\n",
      "IIIIIIIIIIIIIIIIIIIIZIIIZ\t(0.5+0j)\n",
      "IIIIIIIIIIIIIIIIIIIZIIIIZ\t(0.5+0j)\n",
      "IIIIIIIIIIIIIIIIZIIIIIIIZ\t(0.5+0j)\n",
      "IIIIIIIIIIIIIIIZIIIIIIIIZ\t(0.5+0j)\n",
      "IIIIIIIIIIIIIIZIIIIIIIIIZ\t(0.5+0j)\n",
      "IIIIIIIIIIIZIIIIIIIIIIIIZ\t(0.5+0j)\n",
      "IIIIIIIIIIZIIIIIIIIIIIIIZ\t(0.5+0j)\n",
      "IIIIIIIIIZIIIIIIIIIIIIIIZ\t(0.5+0j)\n",
      "IIIIZIIIIIIIIIIIIIIIIIIIZ\t(0.5+0j)\n",
      "IIIIIIIIIIIIIIIIIIIIIIZZI\t(0.5+0j)\n",
      "IIIIIIIIIIIIIIIIIIIIIZIZI\t(0.5+0j)\n",
      "IIIIIIIIIIIIIIIIIIIIZIIZI\t(0.5+0j)\n",
      "IIIIIIIIIIIIIIIIIIZIIIIZI\t(0.5+0j)\n",
      "IIIIIIIIIIIIIIIZIIIIIIIZI\t(0.5+0j)\n",
      "IIIIIIIIIIIIIZIIIIIIIIIZI\t(0.5+0j)\n",
      "IIIIIIIIIIZIIIIIIIIIIIIZI\t(0.5+0j)\n",
      "IIIIIIIIZIIIIIIIIIIIIIIZI\t(0.5+0j)\n",
      "IIIZIIIIIIIIIIIIIIIIIIIZI\t(0.5+0j)\n",
      "IIIIIIIIIIIIIIIIIIIIIZZII\t(0.5+0j)\n",
      "IIIIIIIIIIIIIIIIIIIIZIZII\t(0.5+0j)\n",
      "IIIIIIIIIIIIIIIIIZIIIIZII\t(0.5+0j)\n",
      "IIIIIIIIIIIIIIIIZIIIIIZII\t(0.5+0j)\n",
      "IIIIIIIIIIIIZIIIIIIIIIZII\t(0.5+0j)\n",
      "IIIIIIIIIIIZIIIIIIIIIIZII\t(0.5+0j)\n",
      "IIIIIIIZIIIIIIIIIIIIIIZII\t(0.5+0j)\n",
      "IIZIIIIIIIIIIIIIIIIIIIZII\t(0.5+0j)\n",
      "IIIIIIIIIIIIIIIIIIIIZZIII\t(0.5+0j)\n",
      "IIIIIIIIIIIIIIIIIIIZIZIII\t(0.5+0j)\n",
      "IIIIIIIIIIIIIIIIIZIIIZIII\t(0.5+0j)\n",
      "IIIIIIIIIIIIIIIIZIIIIZIII\t(0.5+0j)\n",
      "IIIIIIIIIIIIIIZIIIIIIZIII\t(0.5+0j)\n",
      "IIIIIIIIIIIIZIIIIIIIIZIII\t(0.5+0j)\n",
      "IIIIIIIIIIIZIIIIIIIIIZIII\t(0.5+0j)\n",
      "IIIIIIZIIIIIIIIIIIIIIZIII\t(0.5+0j)\n",
      "IZIIIIIIIIIIIIIIIIIIIZIII\t(0.5+0j)\n",
      "IIIIIIIIIIIIIIIIIIIZZIIII\t(0.5+0j)\n",
      "IIIIIIIIIIIIIIIIIIZIZIIII\t(0.5+0j)\n",
      "IIIIIIIIIIIIIIIZIIIIZIIII\t(0.5+0j)\n",
      "IIIIIIIIIIIIIIZIIIIIZIIII\t(0.5+0j)\n",
      "IIIIIIIIIIIIIZIIIIIIZIIII\t(0.5+0j)\n",
      "IIIIIIIIIIZIIIIIIIIIZIIII\t(0.5+0j)\n",
      "IIIIIZIIIIIIIIIIIIIIZIIII\t(0.5+0j)\n",
      "ZIIIIIIIIIIIIIIIIIIIZIIII\t(0.5+0j)\n",
      "IIIIIIIIIIIIIIIIIIZZIIIII\t(0.5+0j)\n",
      "IIIIIIIIIIIIIIIIIZIZIIIII\t(0.5+0j)\n",
      "IIIIIIIIIIIIIIIIZIIZIIIII\t(0.5+0j)\n",
      "IIIIIIIIIIIIIIIZIIIZIIIII\t(0.5+0j)\n",
      "IIIIIIIIIIIIIIZIIIIZIIIII\t(0.5+0j)\n",
      "IIIIIIIIIIIZIIIIIIIZIIIII\t(0.5+0j)\n",
      "IIIIIIIIIIZIIIIIIIIZIIIII\t(0.5+0j)\n",
      "IIIIIIIIIZIIIIIIIIIZIIIII\t(0.5+0j)\n",
      "IIIIIIZIIIIIIIIIIIIZIIIII\t(0.5+0j)\n",
      "IIIIIZIIIIIIIIIIIIIZIIIII\t(0.5+0j)\n",
      "IIIIZIIIIIIIIIIIIIIZIIIII\t(0.5+0j)\n",
      "IIIIIIIIIIIIIIIIIZZIIIIII\t(0.5+0j)\n",
      "IIIIIIIIIIIIIIIIZIZIIIIII\t(0.5+0j)\n",
      "IIIIIIIIIIIIIIIZIIZIIIIII\t(0.5+0j)\n",
      "IIIIIIIIIIIIIZIIIIZIIIIII\t(0.5+0j)\n",
      "IIIIIIIIIIZIIIIIIIZIIIIII\t(0.5+0j)\n",
      "IIIIIIIIZIIIIIIIIIZIIIIII\t(0.5+0j)\n",
      "IIIIIZIIIIIIIIIIIIZIIIIII\t(0.5+0j)\n",
      "IIIZIIIIIIIIIIIIIIZIIIIII\t(0.5+0j)\n",
      "IIIIIIIIIIIIIIIIZZIIIIIII\t(0.5+0j)\n",
      "IIIIIIIIIIIIIIIZIZIIIIIII\t(0.5+0j)\n",
      "IIIIIIIIIIIIZIIIIZIIIIIII\t(0.5+0j)\n",
      "IIIIIIIIIIIZIIIIIZIIIIIII\t(0.5+0j)\n",
      "IIIIIIIZIIIIIIIIIZIIIIIII\t(0.5+0j)\n",
      "IIIIIIZIIIIIIIIIIZIIIIIII\t(0.5+0j)\n",
      "IIZIIIIIIIIIIIIIIZIIIIIII\t(0.5+0j)\n",
      "IIIIIIIIIIIIIIIZZIIIIIIII\t(0.5+0j)\n",
      "IIIIIIIIIIIIIIZIZIIIIIIII\t(0.5+0j)\n",
      "IIIIIIIIIIIIZIIIZIIIIIIII\t(0.5+0j)\n",
      "IIIIIIIIIIIZIIIIZIIIIIIII\t(0.5+0j)\n",
      "IIIIIIIIIZIIIIIIZIIIIIIII\t(0.5+0j)\n",
      "IIIIIIIZIIIIIIIIZIIIIIIII\t(0.5+0j)\n",
      "IIIIIIZIIIIIIIIIZIIIIIIII\t(0.5+0j)\n",
      "IZIIIIIIIIIIIIIIZIIIIIIII\t(0.5+0j)\n",
      "IIIIIIIIIIIIIIZZIIIIIIIII\t(0.5+0j)\n",
      "IIIIIIIIIIIIIZIZIIIIIIIII\t(0.5+0j)\n",
      "IIIIIIIIIIZIIIIZIIIIIIIII\t(0.5+0j)\n",
      "IIIIIIIIIZIIIIIZIIIIIIIII\t(0.5+0j)\n",
      "IIIIIIIIZIIIIIIZIIIIIIIII\t(0.5+0j)\n",
      "IIIIIZIIIIIIIIIZIIIIIIIII\t(0.5+0j)\n",
      "ZIIIIIIIIIIIIIIZIIIIIIIII\t(0.5+0j)\n",
      "IIIIIIIIIIIIIZZIIIIIIIIII\t(0.5+0j)\n",
      "IIIIIIIIIIIIZIZIIIIIIIIII\t(0.5+0j)\n",
      "IIIIIIIIIIIZIIZIIIIIIIIII\t(0.5+0j)\n",
      "IIIIIIIIIIZIIIZIIIIIIIIII\t(0.5+0j)\n",
      "IIIIIIIIIZIIIIZIIIIIIIIII\t(0.5+0j)\n",
      "IIIIZIIIIIIIIIZIIIIIIIIII\t(0.5+0j)\n",
      "IZIIIIIIIIIIIIZIIIIIIIIII\t(0.5+0j)\n",
      "ZIIIIIIIIIIIIIZIIIIIIIIII\t(0.5+0j)\n",
      "IIIIIIIIIIIIZZIIIIIIIIIII\t(0.5+0j)\n",
      "IIIIIIIIIIIZIZIIIIIIIIIII\t(0.5+0j)\n",
      "IIIIIIIIIIZIIZIIIIIIIIIII\t(0.5+0j)\n",
      "IIIIIIIIZIIIIZIIIIIIIIIII\t(0.5+0j)\n",
      "IIIZIIIIIIIIIZIIIIIIIIIII\t(0.5+0j)\n",
      "ZIIIIIIIIIIIIZIIIIIIIIIII\t(0.5+0j)\n",
      "IIIIIIIIIIIZZIIIIIIIIIIII\t(0.5+0j)\n",
      "IIIIIIIIIIZIZIIIIIIIIIIII\t(0.5+0j)\n",
      "IIIIIIIZIIIIZIIIIIIIIIIII\t(0.5+0j)\n",
      "IIZIIIIIIIIIZIIIIIIIIIIII\t(0.5+0j)\n",
      "IZIIIIIIIIIIZIIIIIIIIIIII\t(0.5+0j)\n",
      "IIIIIIIIIIZZIIIIIIIIIIIII\t(0.5+0j)\n",
      "IIIIIIZIIIIZIIIIIIIIIIIII\t(0.5+0j)\n",
      "IIIIZIIIIIIZIIIIIIIIIIIII\t(0.5+0j)\n",
      "IIZIIIIIIIIZIIIIIIIIIIIII\t(0.5+0j)\n",
      "IZIIIIIIIIIZIIIIIIIIIIIII\t(0.5+0j)\n",
      "IIIIIZIIIIZIIIIIIIIIIIIII\t(0.5+0j)\n",
      "IIIIZIIIIIZIIIIIIIIIIIIII\t(0.5+0j)\n",
      "IIIZIIIIIIZIIIIIIIIIIIIII\t(0.5+0j)\n",
      "ZIIIIIIIIIZIIIIIIIIIIIIII\t(0.5+0j)\n",
      "IIIIIIIIZZIIIIIIIIIIIIIII\t(0.5+0j)\n",
      "IIIIIIIZIZIIIIIIIIIIIIIII\t(0.5+0j)\n",
      "IIIIIIZIIZIIIIIIIIIIIIIII\t(0.5+0j)\n",
      "IIIIIZIIIZIIIIIIIIIIIIIII\t(0.5+0j)\n",
      "IIIIZIIIIZIIIIIIIIIIIIIII\t(0.5+0j)\n",
      "IZIIIIIIIZIIIIIIIIIIIIIII\t(0.5+0j)\n",
      "ZIIIIIIIIZIIIIIIIIIIIIIII\t(0.5+0j)\n",
      "IIIIIIIZZIIIIIIIIIIIIIIII\t(0.5+0j)\n",
      "IIIIIIZIZIIIIIIIIIIIIIIII\t(0.5+0j)\n",
      "IIIIIZIIZIIIIIIIIIIIIIIII\t(0.5+0j)\n",
      "IIIZIIIIZIIIIIIIIIIIIIIII\t(0.5+0j)\n",
      "ZIIIIIIIZIIIIIIIIIIIIIIII\t(0.5+0j)\n",
      "IIIIIIZZIIIIIIIIIIIIIIIII\t(0.5+0j)\n",
      "IIIIIZIZIIIIIIIIIIIIIIIII\t(0.5+0j)\n",
      "IIZIIIIZIIIIIIIIIIIIIIIII\t(0.5+0j)\n",
      "IZIIIIIZIIIIIIIIIIIIIIIII\t(0.5+0j)\n",
      "IIIIIZZIIIIIIIIIIIIIIIIII\t(0.5+0j)\n",
      "IIIIZIZIIIIIIIIIIIIIIIIII\t(0.5+0j)\n",
      "IIZIIIZIIIIIIIIIIIIIIIIII\t(0.5+0j)\n",
      "IZIIIIZIIIIIIIIIIIIIIIIII\t(0.5+0j)\n",
      "IIIIZZIIIIIIIIIIIIIIIIIII\t(0.5+0j)\n",
      "IIIZIZIIIIIIIIIIIIIIIIIII\t(0.5+0j)\n",
      "ZIIIIZIIIIIIIIIIIIIIIIIII\t(0.5+0j)\n",
      "IIIZZIIIIIIIIIIIIIIIIIIII\t(0.5+0j)\n",
      "IIZIZIIIIIIIIIIIIIIIIIIII\t(0.5+0j)\n",
      "IZIIZIIIIIIIIIIIIIIIIIIII\t(0.5+0j)\n",
      "ZIIIZIIIIIIIIIIIIIIIIIIII\t(0.5+0j)\n",
      "IIZZIIIIIIIIIIIIIIIIIIIII\t(0.5+0j)\n",
      "IZIZIIIIIIIIIIIIIIIIIIIII\t(0.5+0j)\n",
      "ZIIZIIIIIIIIIIIIIIIIIIIII\t(0.5+0j)\n",
      "IZZIIIIIIIIIIIIIIIIIIIIII\t(0.5+0j)\n",
      "ZIZIIIIIIIIIIIIIIIIIIIIII\t(0.5+0j)\n",
      "ZZIIIIIIIIIIIIIIIIIIIIIII\t(0.5+0j)\n",
      "IIIIIIIIIIIIIIIIIIIIIIIIZ\t(-6+0j)\n",
      "IIIIIIIIIIIIIIIIIIIIIIIZI\t(-4.5+0j)\n",
      "IIIIIIIIIIIIIIIIIIIIIIZII\t(-4+0j)\n",
      "IIIIIIIIIIIIIIIIIIIIIZIII\t(-4.5+0j)\n",
      "IIIIIIIIIIIIIIIIIIIIZIIII\t(-4+0j)\n",
      "IIIIIIIIIIIIIIIIIIIZIIIII\t(-5.5+0j)\n",
      "IIIIIIIIIIIIIIIIIIZIIIIII\t(-4+0j)\n",
      "IIIIIIIIIIIIIIIIIZIIIIIII\t(-3.5+0j)\n",
      "IIIIIIIIIIIIIIIIZIIIIIIII\t(-4+0j)\n",
      "IIIIIIIIIIIIIIIZIIIIIIIII\t(-3.5+0j)\n",
      "IIIIIIIIIIIIIIZIIIIIIIIII\t(-4+0j)\n",
      "IIIIIIIIIIIIIZIIIIIIIIIII\t(-3+0j)\n",
      "IIIIIIIIIIIIZIIIIIIIIIIII\t(-2.5+0j)\n",
      "IIIIIIIIIIIZIIIIIIIIIIIII\t(-2.5+0j)\n",
      "IIIIIIIIIIZIIIIIIIIIIIIII\t(-2+0j)\n",
      "IIIIIIIIIZIIIIIIIIIIIIIII\t(-3.5+0j)\n",
      "IIIIIIIIZIIIIIIIIIIIIIIII\t(-2.5+0j)\n",
      "IIIIIIIZIIIIIIIIIIIIIIIII\t(-2+0j)\n",
      "IIIIIIZIIIIIIIIIIIIIIIIII\t(-2+0j)\n",
      "IIIIIZIIIIIIIIIIIIIIIIIII\t(-1.5+0j)\n",
      "IIIIZIIIIIIIIIIIIIIIIIIII\t(-2+0j)\n",
      "IIIZIIIIIIIIIIIIIIIIIIIII\t(-1.5+0j)\n",
      "IIZIIIIIIIIIIIIIIIIIIIIII\t(-1+0j)\n",
      "IZIIIIIIIIIIIIIIIIIIIIIII\t(-0.5+0j)\n",
      "\n",
      "// This file has been generated by DOcplex\n",
      "// model name is: AnonymousModel\n",
      "// single vars section\n",
      "dvar bool x_0;\n",
      "dvar bool x_1;\n",
      "dvar bool x_2;\n",
      "dvar bool x_3;\n",
      "dvar bool x_4;\n",
      "dvar bool x_5;\n",
      "dvar bool x_6;\n",
      "dvar bool x_7;\n",
      "dvar bool x_8;\n",
      "dvar bool x_9;\n",
      "dvar bool x_10;\n",
      "dvar bool x_11;\n",
      "dvar bool x_12;\n",
      "dvar bool x_13;\n",
      "dvar bool x_14;\n",
      "dvar bool x_15;\n",
      "dvar bool x_16;\n",
      "dvar bool x_17;\n",
      "dvar bool x_18;\n",
      "dvar bool x_19;\n",
      "dvar bool x_20;\n",
      "dvar bool x_21;\n",
      "dvar bool x_22;\n",
      "dvar bool x_23;\n",
      "dvar bool x_24;\n",
      "\n",
      "minimize\n",
      " [ 2 x_0*x_1 + 2 x_0*x_2 + 2 x_0*x_3 + 2 x_0*x_4 + 2 x_0*x_5 + 2 x_0*x_8\n",
      " + 2 x_0*x_9 + 2 x_0*x_10 + 2 x_0*x_13 + 2 x_0*x_14 + 2 x_0*x_15 + 2 x_0*x_20\n",
      " - x_1^2 + 2 x_1*x_2 + 2 x_1*x_3 + 2 x_1*x_4 + 2 x_1*x_6 + 2 x_1*x_9\n",
      " + 2 x_1*x_11 + 2 x_1*x_14 + 2 x_1*x_16 + 2 x_1*x_21 - 2 x_2^2 + 2 x_2*x_3\n",
      " + 2 x_2*x_4 + 2 x_2*x_7 + 2 x_2*x_8 + 2 x_2*x_12 + 2 x_2*x_13 + 2 x_2*x_17\n",
      " + 2 x_2*x_22 - 3 x_3^2 + 2 x_3*x_4 + 2 x_3*x_5 + 2 x_3*x_7 + 2 x_3*x_8\n",
      " + 2 x_3*x_10 + 2 x_3*x_12 + 2 x_3*x_13 + 2 x_3*x_18 + 2 x_3*x_23 - 4 x_4^2\n",
      " + 2 x_4*x_5 + 2 x_4*x_6 + 2 x_4*x_9 + 2 x_4*x_10 + 2 x_4*x_11 + 2 x_4*x_14\n",
      " + 2 x_4*x_19 + 2 x_4*x_24 - 3 x_5^2 + 2 x_5*x_6 + 2 x_5*x_7 + 2 x_5*x_8\n",
      " + 2 x_5*x_9 + 2 x_5*x_10 + 2 x_5*x_13 + 2 x_5*x_14 + 2 x_5*x_15 + 2 x_5*x_18\n",
      " + 2 x_5*x_19 + 2 x_5*x_20 - 3 x_6^2 + 2 x_6*x_7 + 2 x_6*x_8 + 2 x_6*x_9\n",
      " + 2 x_6*x_11 + 2 x_6*x_14 + 2 x_6*x_16 + 2 x_6*x_19 + 2 x_6*x_21 - 4 x_7^2\n",
      " + 2 x_7*x_8 + 2 x_7*x_9 + 2 x_7*x_12 + 2 x_7*x_13 + 2 x_7*x_17 + 2 x_7*x_18\n",
      " + 2 x_7*x_22 - 6 x_8^2 + 2 x_8*x_9 + 2 x_8*x_10 + 2 x_8*x_12 + 2 x_8*x_13\n",
      " + 2 x_8*x_15 + 2 x_8*x_17 + 2 x_8*x_18 + 2 x_8*x_23 - 7 x_9^2 + 2 x_9*x_10\n",
      " + 2 x_9*x_11 + 2 x_9*x_14 + 2 x_9*x_15 + 2 x_9*x_16 + 2 x_9*x_19 + 2 x_9*x_24\n",
      " - 6 x_10^2 + 2 x_10*x_11 + 2 x_10*x_12 + 2 x_10*x_13 + 2 x_10*x_14\n",
      " + 2 x_10*x_15 + 2 x_10*x_20 + 2 x_10*x_23 + 2 x_10*x_24 - 5 x_11^2\n",
      " + 2 x_11*x_12 + 2 x_11*x_13 + 2 x_11*x_14 + 2 x_11*x_16 + 2 x_11*x_21\n",
      " + 2 x_11*x_24 - 6 x_12^2 + 2 x_12*x_13 + 2 x_12*x_14 + 2 x_12*x_17\n",
      " + 2 x_12*x_22 + 2 x_12*x_23 - 9 x_13^2 + 2 x_13*x_14 + 2 x_13*x_18\n",
      " + 2 x_13*x_20 + 2 x_13*x_22 + 2 x_13*x_23 - 10 x_14^2 + 2 x_14*x_19\n",
      " + 2 x_14*x_20 + 2 x_14*x_21 + 2 x_14*x_24 - 5 x_15^2 + 2 x_15*x_16\n",
      " + 2 x_15*x_17 + 2 x_15*x_18 + 2 x_15*x_19 + 2 x_15*x_20 + 2 x_15*x_23\n",
      " + 2 x_15*x_24 - 5 x_16^2 + 2 x_16*x_17 + 2 x_16*x_18 + 2 x_16*x_19\n",
      " + 2 x_16*x_21 + 2 x_16*x_24 - 6 x_17^2 + 2 x_17*x_18 + 2 x_17*x_19\n",
      " + 2 x_17*x_22 + 2 x_17*x_23 - 8 x_18^2 + 2 x_18*x_19 + 2 x_18*x_20\n",
      " + 2 x_18*x_22 + 2 x_18*x_23 - 9 x_19^2 + 2 x_19*x_20 + 2 x_19*x_21\n",
      " + 2 x_19*x_24 - 8 x_20^2 + 2 x_20*x_21 + 2 x_20*x_22 + 2 x_20*x_23\n",
      " + 2 x_20*x_24 - 7 x_21^2 + 2 x_21*x_22 + 2 x_21*x_23 + 2 x_21*x_24 - 8 x_22^2\n",
      " + 2 x_22*x_23 + 2 x_22*x_24 - 11 x_23^2 + 2 x_23*x_24 - 12 x_24^2 ] +\n",
      " 61.500000;\n",
      " \n",
      "subject to {\n",
      "\n",
      "}\n"
     ]
    },
    {
     "name": "stderr",
     "output_type": "stream",
     "text": [
      "<ipython-input-23-10440af78d75>:25: DeprecationWarning: The variable qiskit.aqua.aqua_globals is deprecated. It was moved/refactored to qiskit.utils.algorithm_globals (pip install qiskit-terra). For more information see <https://github.com/Qiskit/qiskit-aqua/blob/main/README.md#migration-guide>\n",
      "  aqua_globals.random_seed = np.random.default_rng(123)\n",
      "/home/akashk/.local/lib/python3.8/site-packages/qiskit/aqua/quantum_instance.py:135: DeprecationWarning: The class qiskit.aqua.QuantumInstance is deprecated. It was moved/refactored to qiskit.utils.QuantumInstance (pip install qiskit-terra). For more information see <https://github.com/Qiskit/qiskit-aqua/blob/main/README.md#migration-guide>\n",
      "  warn_class('aqua.QuantumInstance',\n",
      "/home/akashk/.local/lib/python3.8/site-packages/qiskit/aqua/components/optimizers/optimizer.py:49: DeprecationWarning: The package qiskit.aqua.components.optimizers is deprecated. It was moved/refactored to qiskit.algorithms.optimizers (pip install qiskit-terra). For more information see <https://github.com/Qiskit/qiskit-aqua/blob/main/README.md#migration-guide>\n",
      "  warn_package('aqua.components.optimizers',\n",
      "/home/akashk/.local/lib/python3.8/site-packages/qiskit/aqua/algorithms/vq_algorithm.py:70: DeprecationWarning: The class qiskit.aqua.algorithms.VQAlgorithm is deprecated. It was moved/refactored to qiskit.algorithms.VariationalAlgorithm (pip install qiskit-terra). For more information see <https://github.com/Qiskit/qiskit-aqua/blob/main/README.md#migration-guide>\n",
      "  warn_class('aqua.algorithms.VQAlgorithm',\n",
      "/home/akashk/.local/lib/python3.8/site-packages/qiskit/aqua/components/variational_forms/variational_form.py:48: DeprecationWarning: The package qiskit.aqua.components.variational_forms is deprecated. For more information see <https://github.com/Qiskit/qiskit-aqua/blob/main/README.md#migration-guide>\n",
      "  warn_package('aqua.components.variational_forms')\n"
     ]
    },
    {
     "ename": "KeyboardInterrupt",
     "evalue": "",
     "output_type": "error",
     "traceback": [
      "\u001b[0;31m---------------------------------------------------------------------------\u001b[0m",
      "\u001b[0;31mKeyboardInterrupt\u001b[0m                         Traceback (most recent call last)",
      "\u001b[0;32m<ipython-input-23-10440af78d75>\u001b[0m in \u001b[0;36m<module>\u001b[0;34m\u001b[0m\n\u001b[1;32m     34\u001b[0m \u001b[0;34m\u001b[0m\u001b[0m\n\u001b[1;32m     35\u001b[0m \u001b[0;31m# solve quadratic program\u001b[0m\u001b[0;34m\u001b[0m\u001b[0;34m\u001b[0m\u001b[0;34m\u001b[0m\u001b[0m\n\u001b[0;32m---> 36\u001b[0;31m \u001b[0mresult\u001b[0m \u001b[0;34m=\u001b[0m \u001b[0mqaoa_optimizer\u001b[0m\u001b[0;34m.\u001b[0m\u001b[0msolve\u001b[0m\u001b[0;34m(\u001b[0m\u001b[0mqp\u001b[0m\u001b[0;34m)\u001b[0m\u001b[0;34m\u001b[0m\u001b[0;34m\u001b[0m\u001b[0m\n\u001b[0m\u001b[1;32m     37\u001b[0m \u001b[0mprint\u001b[0m\u001b[0;34m(\u001b[0m\u001b[0mresult\u001b[0m\u001b[0;34m)\u001b[0m\u001b[0;34m\u001b[0m\u001b[0;34m\u001b[0m\u001b[0m\n",
      "\u001b[0;32m~/.local/lib/python3.8/site-packages/qiskit/optimization/algorithms/minimum_eigen_optimizer.py\u001b[0m in \u001b[0;36msolve\u001b[0;34m(self, problem)\u001b[0m\n\u001b[1;32m    194\u001b[0m \u001b[0;34m\u001b[0m\u001b[0m\n\u001b[1;32m    195\u001b[0m             \u001b[0;31m# approximate ground state of operator using min eigen solver\u001b[0m\u001b[0;34m\u001b[0m\u001b[0;34m\u001b[0m\u001b[0;34m\u001b[0m\u001b[0m\n\u001b[0;32m--> 196\u001b[0;31m             \u001b[0meigen_result\u001b[0m \u001b[0;34m=\u001b[0m \u001b[0mself\u001b[0m\u001b[0;34m.\u001b[0m\u001b[0m_min_eigen_solver\u001b[0m\u001b[0;34m.\u001b[0m\u001b[0mcompute_minimum_eigenvalue\u001b[0m\u001b[0;34m(\u001b[0m\u001b[0moperator\u001b[0m\u001b[0;34m)\u001b[0m\u001b[0;34m\u001b[0m\u001b[0;34m\u001b[0m\u001b[0m\n\u001b[0m\u001b[1;32m    197\u001b[0m \u001b[0;34m\u001b[0m\u001b[0m\n\u001b[1;32m    198\u001b[0m             \u001b[0;31m# analyze results\u001b[0m\u001b[0;34m\u001b[0m\u001b[0;34m\u001b[0m\u001b[0;34m\u001b[0m\u001b[0m\n",
      "\u001b[0;32m~/.local/lib/python3.8/site-packages/qiskit/aqua/algorithms/minimum_eigen_solvers/vqe.py\u001b[0m in \u001b[0;36mcompute_minimum_eigenvalue\u001b[0;34m(self, operator, aux_operators)\u001b[0m\n\u001b[1;32m    492\u001b[0m     ) -> MinimumEigensolverResult:\n\u001b[1;32m    493\u001b[0m         \u001b[0msuper\u001b[0m\u001b[0;34m(\u001b[0m\u001b[0;34m)\u001b[0m\u001b[0;34m.\u001b[0m\u001b[0mcompute_minimum_eigenvalue\u001b[0m\u001b[0;34m(\u001b[0m\u001b[0moperator\u001b[0m\u001b[0;34m,\u001b[0m \u001b[0maux_operators\u001b[0m\u001b[0;34m)\u001b[0m\u001b[0;34m\u001b[0m\u001b[0;34m\u001b[0m\u001b[0m\n\u001b[0;32m--> 494\u001b[0;31m         \u001b[0;32mreturn\u001b[0m \u001b[0mself\u001b[0m\u001b[0;34m.\u001b[0m\u001b[0m_run\u001b[0m\u001b[0;34m(\u001b[0m\u001b[0;34m)\u001b[0m\u001b[0;34m\u001b[0m\u001b[0;34m\u001b[0m\u001b[0m\n\u001b[0m\u001b[1;32m    495\u001b[0m \u001b[0;34m\u001b[0m\u001b[0m\n\u001b[1;32m    496\u001b[0m     def _energy_evaluation(self, parameters: Union[List[float], np.ndarray]\n",
      "\u001b[0;32m~/.local/lib/python3.8/site-packages/qiskit/aqua/algorithms/minimum_eigen_solvers/vqe.py\u001b[0m in \u001b[0;36m_run\u001b[0;34m(self)\u001b[0m\n\u001b[1;32m    427\u001b[0m                     \u001b[0mbind_params\u001b[0m\u001b[0;34m=\u001b[0m\u001b[0mself\u001b[0m\u001b[0;34m.\u001b[0m\u001b[0m_var_form_params\u001b[0m\u001b[0;34m,\u001b[0m\u001b[0;34m\u001b[0m\u001b[0;34m\u001b[0m\u001b[0m\n\u001b[1;32m    428\u001b[0m                     backend=self._quantum_instance)\n\u001b[0;32m--> 429\u001b[0;31m         vqresult = self.find_minimum(initial_point=self.initial_point,\n\u001b[0m\u001b[1;32m    430\u001b[0m                                      \u001b[0mvar_form\u001b[0m\u001b[0;34m=\u001b[0m\u001b[0mself\u001b[0m\u001b[0;34m.\u001b[0m\u001b[0mvar_form\u001b[0m\u001b[0;34m,\u001b[0m\u001b[0;34m\u001b[0m\u001b[0;34m\u001b[0m\u001b[0m\n\u001b[1;32m    431\u001b[0m                                      \u001b[0mcost_fn\u001b[0m\u001b[0;34m=\u001b[0m\u001b[0mself\u001b[0m\u001b[0;34m.\u001b[0m\u001b[0m_energy_evaluation\u001b[0m\u001b[0;34m,\u001b[0m\u001b[0;34m\u001b[0m\u001b[0;34m\u001b[0m\u001b[0m\n",
      "\u001b[0;32m~/.local/lib/python3.8/site-packages/qiskit/aqua/algorithms/vq_algorithm.py\u001b[0m in \u001b[0;36mfind_minimum\u001b[0;34m(self, initial_point, var_form, cost_fn, optimizer, gradient_fn)\u001b[0m\n\u001b[1;32m    211\u001b[0m \u001b[0;34m\u001b[0m\u001b[0m\n\u001b[1;32m    212\u001b[0m         \u001b[0mlogger\u001b[0m\u001b[0;34m.\u001b[0m\u001b[0minfo\u001b[0m\u001b[0;34m(\u001b[0m\u001b[0;34m'Starting optimizer.\\nbounds=%s\\ninitial point=%s'\u001b[0m\u001b[0;34m,\u001b[0m \u001b[0mbounds\u001b[0m\u001b[0;34m,\u001b[0m \u001b[0minitial_point\u001b[0m\u001b[0;34m)\u001b[0m\u001b[0;34m\u001b[0m\u001b[0;34m\u001b[0m\u001b[0m\n\u001b[0;32m--> 213\u001b[0;31m         opt_params, opt_val, num_optimizer_evals = optimizer.optimize(nparms,\n\u001b[0m\u001b[1;32m    214\u001b[0m                                                                       \u001b[0mcost_fn\u001b[0m\u001b[0;34m,\u001b[0m\u001b[0;34m\u001b[0m\u001b[0;34m\u001b[0m\u001b[0m\n\u001b[1;32m    215\u001b[0m                                                                       \u001b[0mvariable_bounds\u001b[0m\u001b[0;34m=\u001b[0m\u001b[0mbounds\u001b[0m\u001b[0;34m,\u001b[0m\u001b[0;34m\u001b[0m\u001b[0;34m\u001b[0m\u001b[0m\n",
      "\u001b[0;32m~/.local/lib/python3.8/site-packages/qiskit/aqua/components/optimizers/slsqp.py\u001b[0m in \u001b[0;36moptimize\u001b[0;34m(self, num_vars, objective_function, gradient_function, variable_bounds, initial_point)\u001b[0m\n\u001b[1;32m     81\u001b[0m                                                          self._max_evals_grouped))\n\u001b[1;32m     82\u001b[0m \u001b[0;34m\u001b[0m\u001b[0m\n\u001b[0;32m---> 83\u001b[0;31m         res = minimize(objective_function, initial_point, jac=gradient_function,\n\u001b[0m\u001b[1;32m     84\u001b[0m                        \u001b[0mtol\u001b[0m\u001b[0;34m=\u001b[0m\u001b[0mself\u001b[0m\u001b[0;34m.\u001b[0m\u001b[0m_tol\u001b[0m\u001b[0;34m,\u001b[0m \u001b[0mbounds\u001b[0m\u001b[0;34m=\u001b[0m\u001b[0mvariable_bounds\u001b[0m\u001b[0;34m,\u001b[0m \u001b[0mmethod\u001b[0m\u001b[0;34m=\u001b[0m\u001b[0;34m\"SLSQP\"\u001b[0m\u001b[0;34m,\u001b[0m\u001b[0;34m\u001b[0m\u001b[0;34m\u001b[0m\u001b[0m\n\u001b[1;32m     85\u001b[0m                        options=self._options)\n",
      "\u001b[0;32m~/.local/lib/python3.8/site-packages/scipy/optimize/_minimize.py\u001b[0m in \u001b[0;36mminimize\u001b[0;34m(fun, x0, args, method, jac, hess, hessp, bounds, constraints, tol, callback, options)\u001b[0m\n\u001b[1;32m    629\u001b[0m         \u001b[0;32mreturn\u001b[0m \u001b[0m_minimize_cobyla\u001b[0m\u001b[0;34m(\u001b[0m\u001b[0mfun\u001b[0m\u001b[0;34m,\u001b[0m \u001b[0mx0\u001b[0m\u001b[0;34m,\u001b[0m \u001b[0margs\u001b[0m\u001b[0;34m,\u001b[0m \u001b[0mconstraints\u001b[0m\u001b[0;34m,\u001b[0m \u001b[0;34m**\u001b[0m\u001b[0moptions\u001b[0m\u001b[0;34m)\u001b[0m\u001b[0;34m\u001b[0m\u001b[0;34m\u001b[0m\u001b[0m\n\u001b[1;32m    630\u001b[0m     \u001b[0;32melif\u001b[0m \u001b[0mmeth\u001b[0m \u001b[0;34m==\u001b[0m \u001b[0;34m'slsqp'\u001b[0m\u001b[0;34m:\u001b[0m\u001b[0;34m\u001b[0m\u001b[0;34m\u001b[0m\u001b[0m\n\u001b[0;32m--> 631\u001b[0;31m         return _minimize_slsqp(fun, x0, args, jac, bounds,\n\u001b[0m\u001b[1;32m    632\u001b[0m                                constraints, callback=callback, **options)\n\u001b[1;32m    633\u001b[0m     \u001b[0;32melif\u001b[0m \u001b[0mmeth\u001b[0m \u001b[0;34m==\u001b[0m \u001b[0;34m'trust-constr'\u001b[0m\u001b[0;34m:\u001b[0m\u001b[0;34m\u001b[0m\u001b[0;34m\u001b[0m\u001b[0m\n",
      "\u001b[0;32m~/.local/lib/python3.8/site-packages/scipy/optimize/slsqp.py\u001b[0m in \u001b[0;36m_minimize_slsqp\u001b[0;34m(func, x0, args, jac, bounds, constraints, maxiter, ftol, iprint, disp, eps, callback, finite_diff_rel_step, **unknown_options)\u001b[0m\n\u001b[1;32m    431\u001b[0m \u001b[0;34m\u001b[0m\u001b[0m\n\u001b[1;32m    432\u001b[0m         \u001b[0;32mif\u001b[0m \u001b[0mmode\u001b[0m \u001b[0;34m==\u001b[0m \u001b[0;36m1\u001b[0m\u001b[0;34m:\u001b[0m  \u001b[0;31m# objective and constraint evaluation required\u001b[0m\u001b[0;34m\u001b[0m\u001b[0;34m\u001b[0m\u001b[0m\n\u001b[0;32m--> 433\u001b[0;31m             \u001b[0mfx\u001b[0m \u001b[0;34m=\u001b[0m \u001b[0mwrapped_fun\u001b[0m\u001b[0;34m(\u001b[0m\u001b[0mx\u001b[0m\u001b[0;34m)\u001b[0m\u001b[0;34m\u001b[0m\u001b[0;34m\u001b[0m\u001b[0m\n\u001b[0m\u001b[1;32m    434\u001b[0m             \u001b[0mc\u001b[0m \u001b[0;34m=\u001b[0m \u001b[0m_eval_constraint\u001b[0m\u001b[0;34m(\u001b[0m\u001b[0mx\u001b[0m\u001b[0;34m,\u001b[0m \u001b[0mcons\u001b[0m\u001b[0;34m)\u001b[0m\u001b[0;34m\u001b[0m\u001b[0;34m\u001b[0m\u001b[0m\n\u001b[1;32m    435\u001b[0m \u001b[0;34m\u001b[0m\u001b[0m\n",
      "\u001b[0;32m~/.local/lib/python3.8/site-packages/scipy/optimize/optimize.py\u001b[0m in \u001b[0;36meval\u001b[0;34m(x)\u001b[0m\n\u001b[1;32m    273\u001b[0m     \u001b[0;32mdef\u001b[0m \u001b[0meval\u001b[0m\u001b[0;34m(\u001b[0m\u001b[0mx\u001b[0m\u001b[0;34m)\u001b[0m\u001b[0;34m:\u001b[0m\u001b[0;34m\u001b[0m\u001b[0;34m\u001b[0m\u001b[0m\n\u001b[1;32m    274\u001b[0m         \u001b[0mx\u001b[0m \u001b[0;34m=\u001b[0m \u001b[0m_check_clip_x\u001b[0m\u001b[0;34m(\u001b[0m\u001b[0mx\u001b[0m\u001b[0;34m,\u001b[0m \u001b[0mbounds\u001b[0m\u001b[0;34m)\u001b[0m\u001b[0;34m\u001b[0m\u001b[0;34m\u001b[0m\u001b[0m\n\u001b[0;32m--> 275\u001b[0;31m         \u001b[0;32mreturn\u001b[0m \u001b[0mfunc\u001b[0m\u001b[0;34m(\u001b[0m\u001b[0mx\u001b[0m\u001b[0;34m)\u001b[0m\u001b[0;34m\u001b[0m\u001b[0;34m\u001b[0m\u001b[0m\n\u001b[0m\u001b[1;32m    276\u001b[0m \u001b[0;34m\u001b[0m\u001b[0m\n\u001b[1;32m    277\u001b[0m     \u001b[0;32mreturn\u001b[0m \u001b[0meval\u001b[0m\u001b[0;34m\u001b[0m\u001b[0;34m\u001b[0m\u001b[0m\n",
      "\u001b[0;32m~/.local/lib/python3.8/site-packages/scipy/optimize/_differentiable_functions.py\u001b[0m in \u001b[0;36mfun\u001b[0;34m(self, x)\u001b[0m\n\u001b[1;32m    247\u001b[0m         \u001b[0;32mif\u001b[0m \u001b[0;32mnot\u001b[0m \u001b[0mnp\u001b[0m\u001b[0;34m.\u001b[0m\u001b[0marray_equal\u001b[0m\u001b[0;34m(\u001b[0m\u001b[0mx\u001b[0m\u001b[0;34m,\u001b[0m \u001b[0mself\u001b[0m\u001b[0;34m.\u001b[0m\u001b[0mx\u001b[0m\u001b[0;34m)\u001b[0m\u001b[0;34m:\u001b[0m\u001b[0;34m\u001b[0m\u001b[0;34m\u001b[0m\u001b[0m\n\u001b[1;32m    248\u001b[0m             \u001b[0mself\u001b[0m\u001b[0;34m.\u001b[0m\u001b[0m_update_x_impl\u001b[0m\u001b[0;34m(\u001b[0m\u001b[0mx\u001b[0m\u001b[0;34m)\u001b[0m\u001b[0;34m\u001b[0m\u001b[0;34m\u001b[0m\u001b[0m\n\u001b[0;32m--> 249\u001b[0;31m         \u001b[0mself\u001b[0m\u001b[0;34m.\u001b[0m\u001b[0m_update_fun\u001b[0m\u001b[0;34m(\u001b[0m\u001b[0;34m)\u001b[0m\u001b[0;34m\u001b[0m\u001b[0;34m\u001b[0m\u001b[0m\n\u001b[0m\u001b[1;32m    250\u001b[0m         \u001b[0;32mreturn\u001b[0m \u001b[0mself\u001b[0m\u001b[0;34m.\u001b[0m\u001b[0mf\u001b[0m\u001b[0;34m\u001b[0m\u001b[0;34m\u001b[0m\u001b[0m\n\u001b[1;32m    251\u001b[0m \u001b[0;34m\u001b[0m\u001b[0m\n",
      "\u001b[0;32m~/.local/lib/python3.8/site-packages/scipy/optimize/_differentiable_functions.py\u001b[0m in \u001b[0;36m_update_fun\u001b[0;34m(self)\u001b[0m\n\u001b[1;32m    231\u001b[0m     \u001b[0;32mdef\u001b[0m \u001b[0m_update_fun\u001b[0m\u001b[0;34m(\u001b[0m\u001b[0mself\u001b[0m\u001b[0;34m)\u001b[0m\u001b[0;34m:\u001b[0m\u001b[0;34m\u001b[0m\u001b[0;34m\u001b[0m\u001b[0m\n\u001b[1;32m    232\u001b[0m         \u001b[0;32mif\u001b[0m \u001b[0;32mnot\u001b[0m \u001b[0mself\u001b[0m\u001b[0;34m.\u001b[0m\u001b[0mf_updated\u001b[0m\u001b[0;34m:\u001b[0m\u001b[0;34m\u001b[0m\u001b[0;34m\u001b[0m\u001b[0m\n\u001b[0;32m--> 233\u001b[0;31m             \u001b[0mself\u001b[0m\u001b[0;34m.\u001b[0m\u001b[0m_update_fun_impl\u001b[0m\u001b[0;34m(\u001b[0m\u001b[0;34m)\u001b[0m\u001b[0;34m\u001b[0m\u001b[0;34m\u001b[0m\u001b[0m\n\u001b[0m\u001b[1;32m    234\u001b[0m             \u001b[0mself\u001b[0m\u001b[0;34m.\u001b[0m\u001b[0mf_updated\u001b[0m \u001b[0;34m=\u001b[0m \u001b[0;32mTrue\u001b[0m\u001b[0;34m\u001b[0m\u001b[0;34m\u001b[0m\u001b[0m\n\u001b[1;32m    235\u001b[0m \u001b[0;34m\u001b[0m\u001b[0m\n",
      "\u001b[0;32m~/.local/lib/python3.8/site-packages/scipy/optimize/_differentiable_functions.py\u001b[0m in \u001b[0;36mupdate_fun\u001b[0;34m()\u001b[0m\n\u001b[1;32m    135\u001b[0m \u001b[0;34m\u001b[0m\u001b[0m\n\u001b[1;32m    136\u001b[0m         \u001b[0;32mdef\u001b[0m \u001b[0mupdate_fun\u001b[0m\u001b[0;34m(\u001b[0m\u001b[0;34m)\u001b[0m\u001b[0;34m:\u001b[0m\u001b[0;34m\u001b[0m\u001b[0;34m\u001b[0m\u001b[0m\n\u001b[0;32m--> 137\u001b[0;31m             \u001b[0mself\u001b[0m\u001b[0;34m.\u001b[0m\u001b[0mf\u001b[0m \u001b[0;34m=\u001b[0m \u001b[0mfun_wrapped\u001b[0m\u001b[0;34m(\u001b[0m\u001b[0mself\u001b[0m\u001b[0;34m.\u001b[0m\u001b[0mx\u001b[0m\u001b[0;34m)\u001b[0m\u001b[0;34m\u001b[0m\u001b[0;34m\u001b[0m\u001b[0m\n\u001b[0m\u001b[1;32m    138\u001b[0m \u001b[0;34m\u001b[0m\u001b[0m\n\u001b[1;32m    139\u001b[0m         \u001b[0mself\u001b[0m\u001b[0;34m.\u001b[0m\u001b[0m_update_fun_impl\u001b[0m \u001b[0;34m=\u001b[0m \u001b[0mupdate_fun\u001b[0m\u001b[0;34m\u001b[0m\u001b[0;34m\u001b[0m\u001b[0m\n",
      "\u001b[0;32m~/.local/lib/python3.8/site-packages/scipy/optimize/_differentiable_functions.py\u001b[0m in \u001b[0;36mfun_wrapped\u001b[0;34m(x)\u001b[0m\n\u001b[1;32m    132\u001b[0m             \u001b[0;31m# Overwriting results in undefined behaviour because\u001b[0m\u001b[0;34m\u001b[0m\u001b[0;34m\u001b[0m\u001b[0;34m\u001b[0m\u001b[0m\n\u001b[1;32m    133\u001b[0m             \u001b[0;31m# fun(self.x) will change self.x, with the two no longer linked.\u001b[0m\u001b[0;34m\u001b[0m\u001b[0;34m\u001b[0m\u001b[0;34m\u001b[0m\u001b[0m\n\u001b[0;32m--> 134\u001b[0;31m             \u001b[0;32mreturn\u001b[0m \u001b[0mfun\u001b[0m\u001b[0;34m(\u001b[0m\u001b[0mnp\u001b[0m\u001b[0;34m.\u001b[0m\u001b[0mcopy\u001b[0m\u001b[0;34m(\u001b[0m\u001b[0mx\u001b[0m\u001b[0;34m)\u001b[0m\u001b[0;34m,\u001b[0m \u001b[0;34m*\u001b[0m\u001b[0margs\u001b[0m\u001b[0;34m)\u001b[0m\u001b[0;34m\u001b[0m\u001b[0;34m\u001b[0m\u001b[0m\n\u001b[0m\u001b[1;32m    135\u001b[0m \u001b[0;34m\u001b[0m\u001b[0m\n\u001b[1;32m    136\u001b[0m         \u001b[0;32mdef\u001b[0m \u001b[0mupdate_fun\u001b[0m\u001b[0;34m(\u001b[0m\u001b[0;34m)\u001b[0m\u001b[0;34m:\u001b[0m\u001b[0;34m\u001b[0m\u001b[0;34m\u001b[0m\u001b[0m\n",
      "\u001b[0;32m~/.local/lib/python3.8/site-packages/qiskit/aqua/algorithms/minimum_eigen_solvers/vqe.py\u001b[0m in \u001b[0;36m_energy_evaluation\u001b[0;34m(self, parameters)\u001b[0m\n\u001b[1;32m    523\u001b[0m \u001b[0;34m\u001b[0m\u001b[0m\n\u001b[1;32m    524\u001b[0m         \u001b[0mstart_time\u001b[0m \u001b[0;34m=\u001b[0m \u001b[0mtime\u001b[0m\u001b[0;34m(\u001b[0m\u001b[0;34m)\u001b[0m\u001b[0;34m\u001b[0m\u001b[0;34m\u001b[0m\u001b[0m\n\u001b[0;32m--> 525\u001b[0;31m         \u001b[0msampled_expect_op\u001b[0m \u001b[0;34m=\u001b[0m \u001b[0mself\u001b[0m\u001b[0;34m.\u001b[0m\u001b[0m_circuit_sampler\u001b[0m\u001b[0;34m.\u001b[0m\u001b[0mconvert\u001b[0m\u001b[0;34m(\u001b[0m\u001b[0mself\u001b[0m\u001b[0;34m.\u001b[0m\u001b[0m_expect_op\u001b[0m\u001b[0;34m,\u001b[0m \u001b[0mparams\u001b[0m\u001b[0;34m=\u001b[0m\u001b[0mparam_bindings\u001b[0m\u001b[0;34m)\u001b[0m\u001b[0;34m\u001b[0m\u001b[0;34m\u001b[0m\u001b[0m\n\u001b[0m\u001b[1;32m    526\u001b[0m         \u001b[0mmeans\u001b[0m \u001b[0;34m=\u001b[0m \u001b[0mnp\u001b[0m\u001b[0;34m.\u001b[0m\u001b[0mreal\u001b[0m\u001b[0;34m(\u001b[0m\u001b[0msampled_expect_op\u001b[0m\u001b[0;34m.\u001b[0m\u001b[0meval\u001b[0m\u001b[0;34m(\u001b[0m\u001b[0;34m)\u001b[0m\u001b[0;34m)\u001b[0m\u001b[0;34m\u001b[0m\u001b[0;34m\u001b[0m\u001b[0m\n\u001b[1;32m    527\u001b[0m \u001b[0;34m\u001b[0m\u001b[0m\n",
      "\u001b[0;32m~/.local/lib/python3.8/site-packages/qiskit/aqua/operators/converters/circuit_sampler.py\u001b[0m in \u001b[0;36mconvert\u001b[0;34m(self, operator, params)\u001b[0m\n\u001b[1;32m    209\u001b[0m         \u001b[0mcircs\u001b[0m \u001b[0;34m=\u001b[0m \u001b[0mlist\u001b[0m\u001b[0;34m(\u001b[0m\u001b[0mself\u001b[0m\u001b[0;34m.\u001b[0m\u001b[0m_circuit_ops_cache\u001b[0m\u001b[0;34m.\u001b[0m\u001b[0mvalues\u001b[0m\u001b[0;34m(\u001b[0m\u001b[0;34m)\u001b[0m\u001b[0;34m)\u001b[0m \u001b[0;32mif\u001b[0m \u001b[0;32mnot\u001b[0m \u001b[0mself\u001b[0m\u001b[0;34m.\u001b[0m\u001b[0m_transpiled_circ_cache\u001b[0m \u001b[0;32melse\u001b[0m \u001b[0;32mNone\u001b[0m\u001b[0;34m\u001b[0m\u001b[0;34m\u001b[0m\u001b[0m\n\u001b[1;32m    210\u001b[0m         \u001b[0mp_b\u001b[0m \u001b[0;34m=\u001b[0m \u001b[0mcast\u001b[0m\u001b[0;34m(\u001b[0m\u001b[0mList\u001b[0m\u001b[0;34m[\u001b[0m\u001b[0mDict\u001b[0m\u001b[0;34m[\u001b[0m\u001b[0mParameter\u001b[0m\u001b[0;34m,\u001b[0m \u001b[0mfloat\u001b[0m\u001b[0;34m]\u001b[0m\u001b[0;34m]\u001b[0m\u001b[0;34m,\u001b[0m \u001b[0mparam_bindings\u001b[0m\u001b[0;34m)\u001b[0m\u001b[0;34m\u001b[0m\u001b[0;34m\u001b[0m\u001b[0m\n\u001b[0;32m--> 211\u001b[0;31m         sampled_statefn_dicts = self.sample_circuits(circuit_sfns=circs,\n\u001b[0m\u001b[1;32m    212\u001b[0m                                                      param_bindings=p_b)\n\u001b[1;32m    213\u001b[0m \u001b[0;34m\u001b[0m\u001b[0m\n",
      "\u001b[0;32m~/.local/lib/python3.8/site-packages/qiskit/aqua/operators/converters/circuit_sampler.py\u001b[0m in \u001b[0;36msample_circuits\u001b[0;34m(self, circuit_sfns, param_bindings)\u001b[0m\n\u001b[1;32m    297\u001b[0m             \u001b[0mready_circs\u001b[0m \u001b[0;34m=\u001b[0m \u001b[0mself\u001b[0m\u001b[0;34m.\u001b[0m\u001b[0m_transpiled_circ_cache\u001b[0m\u001b[0;34m\u001b[0m\u001b[0;34m\u001b[0m\u001b[0m\n\u001b[1;32m    298\u001b[0m \u001b[0;34m\u001b[0m\u001b[0m\n\u001b[0;32m--> 299\u001b[0;31m         results = self.quantum_instance.execute(ready_circs,\n\u001b[0m\u001b[1;32m    300\u001b[0m                                                 had_transpiled=self._transpile_before_bind)\n\u001b[1;32m    301\u001b[0m \u001b[0;34m\u001b[0m\u001b[0m\n",
      "\u001b[0;32m~/.local/lib/python3.8/site-packages/qiskit/aqua/quantum_instance.py\u001b[0m in \u001b[0;36mexecute\u001b[0;34m(self, circuits, had_transpiled)\u001b[0m\n\u001b[1;32m    409\u001b[0m \u001b[0;34m\u001b[0m\u001b[0m\n\u001b[1;32m    410\u001b[0m         \u001b[0;32melse\u001b[0m\u001b[0;34m:\u001b[0m\u001b[0;34m\u001b[0m\u001b[0;34m\u001b[0m\u001b[0m\n\u001b[0;32m--> 411\u001b[0;31m             result = run_qobj(qobj, self._backend, self._qjob_config,\n\u001b[0m\u001b[1;32m    412\u001b[0m                               \u001b[0mself\u001b[0m\u001b[0;34m.\u001b[0m\u001b[0m_backend_options\u001b[0m\u001b[0;34m,\u001b[0m \u001b[0mself\u001b[0m\u001b[0;34m.\u001b[0m\u001b[0m_noise_config\u001b[0m\u001b[0;34m,\u001b[0m\u001b[0;34m\u001b[0m\u001b[0;34m\u001b[0m\u001b[0m\n\u001b[1;32m    413\u001b[0m                               self._skip_qobj_validation, self._job_callback)\n",
      "\u001b[0;32m~/.local/lib/python3.8/site-packages/qiskit/aqua/utils/run_circuits.py\u001b[0m in \u001b[0;36mrun_qobj\u001b[0;34m(qobj, backend, qjob_config, backend_options, noise_config, skip_qobj_validation, job_callback)\u001b[0m\n\u001b[1;32m    329\u001b[0m         \u001b[0mresults\u001b[0m \u001b[0;34m=\u001b[0m \u001b[0;34m[\u001b[0m\u001b[0;34m]\u001b[0m\u001b[0;34m\u001b[0m\u001b[0;34m\u001b[0m\u001b[0m\n\u001b[1;32m    330\u001b[0m         \u001b[0;32mfor\u001b[0m \u001b[0mjob\u001b[0m \u001b[0;32min\u001b[0m \u001b[0mjobs\u001b[0m\u001b[0;34m:\u001b[0m\u001b[0;34m\u001b[0m\u001b[0;34m\u001b[0m\u001b[0m\n\u001b[0;32m--> 331\u001b[0;31m             \u001b[0mresults\u001b[0m\u001b[0;34m.\u001b[0m\u001b[0mappend\u001b[0m\u001b[0;34m(\u001b[0m\u001b[0mjob\u001b[0m\u001b[0;34m.\u001b[0m\u001b[0mresult\u001b[0m\u001b[0;34m(\u001b[0m\u001b[0;34m**\u001b[0m\u001b[0mqjob_config\u001b[0m\u001b[0;34m)\u001b[0m\u001b[0;34m)\u001b[0m\u001b[0;34m\u001b[0m\u001b[0;34m\u001b[0m\u001b[0m\n\u001b[0m\u001b[1;32m    332\u001b[0m \u001b[0;34m\u001b[0m\u001b[0m\n\u001b[1;32m    333\u001b[0m     \u001b[0mresult\u001b[0m \u001b[0;34m=\u001b[0m \u001b[0m_combine_result_objects\u001b[0m\u001b[0;34m(\u001b[0m\u001b[0mresults\u001b[0m\u001b[0;34m)\u001b[0m \u001b[0;32mif\u001b[0m \u001b[0mresults\u001b[0m \u001b[0;32melse\u001b[0m \u001b[0;32mNone\u001b[0m\u001b[0;34m\u001b[0m\u001b[0;34m\u001b[0m\u001b[0m\n",
      "\u001b[0;32m~/.local/lib/python3.8/site-packages/qiskit/providers/aer/aerjob.py\u001b[0m in \u001b[0;36m_wrapper\u001b[0;34m(self, *args, **kwargs)\u001b[0m\n\u001b[1;32m     41\u001b[0m         \u001b[0;32mif\u001b[0m \u001b[0mself\u001b[0m\u001b[0;34m.\u001b[0m\u001b[0m_future\u001b[0m \u001b[0;32mis\u001b[0m \u001b[0;32mNone\u001b[0m\u001b[0;34m:\u001b[0m\u001b[0;34m\u001b[0m\u001b[0;34m\u001b[0m\u001b[0m\n\u001b[1;32m     42\u001b[0m             \u001b[0;32mraise\u001b[0m \u001b[0mJobError\u001b[0m\u001b[0;34m(\u001b[0m\u001b[0;34m\"Job not submitted yet!. You have to .submit() first!\"\u001b[0m\u001b[0;34m)\u001b[0m\u001b[0;34m\u001b[0m\u001b[0;34m\u001b[0m\u001b[0m\n\u001b[0;32m---> 43\u001b[0;31m         \u001b[0;32mreturn\u001b[0m \u001b[0mfunc\u001b[0m\u001b[0;34m(\u001b[0m\u001b[0mself\u001b[0m\u001b[0;34m,\u001b[0m \u001b[0;34m*\u001b[0m\u001b[0margs\u001b[0m\u001b[0;34m,\u001b[0m \u001b[0;34m**\u001b[0m\u001b[0mkwargs\u001b[0m\u001b[0;34m)\u001b[0m\u001b[0;34m\u001b[0m\u001b[0;34m\u001b[0m\u001b[0m\n\u001b[0m\u001b[1;32m     44\u001b[0m     \u001b[0;32mreturn\u001b[0m \u001b[0m_wrapper\u001b[0m\u001b[0;34m\u001b[0m\u001b[0;34m\u001b[0m\u001b[0m\n\u001b[1;32m     45\u001b[0m \u001b[0;34m\u001b[0m\u001b[0m\n",
      "\u001b[0;32m~/.local/lib/python3.8/site-packages/qiskit/providers/aer/aerjob.py\u001b[0m in \u001b[0;36mresult\u001b[0;34m(self, timeout)\u001b[0m\n\u001b[1;32m    100\u001b[0m             \u001b[0mconcurrent\u001b[0m\u001b[0;34m.\u001b[0m\u001b[0mfutures\u001b[0m\u001b[0;34m.\u001b[0m\u001b[0mCancelledError\u001b[0m\u001b[0;34m:\u001b[0m \u001b[0;32mif\u001b[0m \u001b[0mjob\u001b[0m \u001b[0mcancelled\u001b[0m \u001b[0mbefore\u001b[0m \u001b[0mcompleted\u001b[0m\u001b[0;34m.\u001b[0m\u001b[0;34m\u001b[0m\u001b[0;34m\u001b[0m\u001b[0m\n\u001b[1;32m    101\u001b[0m         \"\"\"\n\u001b[0;32m--> 102\u001b[0;31m         \u001b[0;32mreturn\u001b[0m \u001b[0mself\u001b[0m\u001b[0;34m.\u001b[0m\u001b[0m_future\u001b[0m\u001b[0;34m.\u001b[0m\u001b[0mresult\u001b[0m\u001b[0;34m(\u001b[0m\u001b[0mtimeout\u001b[0m\u001b[0;34m=\u001b[0m\u001b[0mtimeout\u001b[0m\u001b[0;34m)\u001b[0m\u001b[0;34m\u001b[0m\u001b[0;34m\u001b[0m\u001b[0m\n\u001b[0m\u001b[1;32m    103\u001b[0m \u001b[0;34m\u001b[0m\u001b[0m\n\u001b[1;32m    104\u001b[0m     \u001b[0;34m@\u001b[0m\u001b[0mrequires_submit\u001b[0m\u001b[0;34m\u001b[0m\u001b[0;34m\u001b[0m\u001b[0m\n",
      "\u001b[0;32m~/anaconda3/lib/python3.8/concurrent/futures/_base.py\u001b[0m in \u001b[0;36mresult\u001b[0;34m(self, timeout)\u001b[0m\n\u001b[1;32m    432\u001b[0m                 \u001b[0;32mreturn\u001b[0m \u001b[0mself\u001b[0m\u001b[0;34m.\u001b[0m\u001b[0m__get_result\u001b[0m\u001b[0;34m(\u001b[0m\u001b[0;34m)\u001b[0m\u001b[0;34m\u001b[0m\u001b[0;34m\u001b[0m\u001b[0m\n\u001b[1;32m    433\u001b[0m \u001b[0;34m\u001b[0m\u001b[0m\n\u001b[0;32m--> 434\u001b[0;31m             \u001b[0mself\u001b[0m\u001b[0;34m.\u001b[0m\u001b[0m_condition\u001b[0m\u001b[0;34m.\u001b[0m\u001b[0mwait\u001b[0m\u001b[0;34m(\u001b[0m\u001b[0mtimeout\u001b[0m\u001b[0;34m)\u001b[0m\u001b[0;34m\u001b[0m\u001b[0;34m\u001b[0m\u001b[0m\n\u001b[0m\u001b[1;32m    435\u001b[0m \u001b[0;34m\u001b[0m\u001b[0m\n\u001b[1;32m    436\u001b[0m             \u001b[0;32mif\u001b[0m \u001b[0mself\u001b[0m\u001b[0;34m.\u001b[0m\u001b[0m_state\u001b[0m \u001b[0;32min\u001b[0m \u001b[0;34m[\u001b[0m\u001b[0mCANCELLED\u001b[0m\u001b[0;34m,\u001b[0m \u001b[0mCANCELLED_AND_NOTIFIED\u001b[0m\u001b[0;34m]\u001b[0m\u001b[0;34m:\u001b[0m\u001b[0;34m\u001b[0m\u001b[0;34m\u001b[0m\u001b[0m\n",
      "\u001b[0;32m~/anaconda3/lib/python3.8/threading.py\u001b[0m in \u001b[0;36mwait\u001b[0;34m(self, timeout)\u001b[0m\n\u001b[1;32m    300\u001b[0m         \u001b[0;32mtry\u001b[0m\u001b[0;34m:\u001b[0m    \u001b[0;31m# restore state no matter what (e.g., KeyboardInterrupt)\u001b[0m\u001b[0;34m\u001b[0m\u001b[0;34m\u001b[0m\u001b[0m\n\u001b[1;32m    301\u001b[0m             \u001b[0;32mif\u001b[0m \u001b[0mtimeout\u001b[0m \u001b[0;32mis\u001b[0m \u001b[0;32mNone\u001b[0m\u001b[0;34m:\u001b[0m\u001b[0;34m\u001b[0m\u001b[0;34m\u001b[0m\u001b[0m\n\u001b[0;32m--> 302\u001b[0;31m                 \u001b[0mwaiter\u001b[0m\u001b[0;34m.\u001b[0m\u001b[0macquire\u001b[0m\u001b[0;34m(\u001b[0m\u001b[0;34m)\u001b[0m\u001b[0;34m\u001b[0m\u001b[0;34m\u001b[0m\u001b[0m\n\u001b[0m\u001b[1;32m    303\u001b[0m                 \u001b[0mgotit\u001b[0m \u001b[0;34m=\u001b[0m \u001b[0;32mTrue\u001b[0m\u001b[0;34m\u001b[0m\u001b[0;34m\u001b[0m\u001b[0m\n\u001b[1;32m    304\u001b[0m             \u001b[0;32melse\u001b[0m\u001b[0;34m:\u001b[0m\u001b[0;34m\u001b[0m\u001b[0;34m\u001b[0m\u001b[0m\n",
      "\u001b[0;31mKeyboardInterrupt\u001b[0m: "
     ]
    }
   ],
   "source": [
    "import numpy as np\n",
    "\n",
    "from qiskit import Aer\n",
    "from qiskit.optimization.applications.ising import stable_set\n",
    "from qiskit.aqua.algorithms import VQE, NumPyMinimumEigensolver, QAOA\n",
    "from qiskit.aqua import aqua_globals\n",
    "from qiskit.aqua import QuantumInstance\n",
    "from qiskit.optimization.applications.ising.common import sample_most_likely\n",
    "from qiskit.optimization.algorithms import MinimumEigenOptimizer\n",
    "from qiskit.optimization.problems import QuadraticProgram\n",
    "\n",
    "\n",
    "w = Q_mat\n",
    "\n",
    "qubitOp, offset = stable_set.get_operator(w)\n",
    "print('Offset:', offset)\n",
    "print('Ising Hamiltonian:')\n",
    "print(qubitOp.print_details())\n",
    "\n",
    "# mapping Ising Hamiltonian to Quadratic Program\n",
    "qp = QuadraticProgram()\n",
    "qp.from_ising(qubitOp, offset)\n",
    "qp.to_docplex().prettyprint()\n",
    "\n",
    "aqua_globals.random_seed = np.random.default_rng(123)\n",
    "seed = 1097\n",
    "backend = Aer.get_backend('aer_simulator')\n",
    "quantum_instance = QuantumInstance(simulator_gpu, seed_simulator=seed, seed_transpiler=seed)\n",
    "\n",
    "qaoa = QAOA(quantum_instance=quantum_instance, p = 5)\n",
    "\n",
    "# create minimum eigen optimizer based on qaoa\n",
    "qaoa_optimizer = MinimumEigenOptimizer(qaoa)\n",
    "\n",
    "# solve quadratic program\n",
    "result = qaoa_optimizer.solve(qp)\n",
    "print(result)"
   ]
  },
  {
   "cell_type": "code",
   "execution_count": 26,
   "metadata": {
    "id": "8jq6z85g7br3"
   },
   "outputs": [],
   "source": []
  }
 ],
 "metadata": {
  "accelerator": "GPU",
  "colab": {
   "authorship_tag": "ABX9TyNIK5gg+xm9M/RNDilBssHh",
   "name": "Calude-QAOA-Graph-Isomorphism.ipynb",
   "provenance": []
  },
  "kernelspec": {
   "display_name": "Python 3",
   "language": "python",
   "name": "python3"
  },
  "language_info": {
   "codemirror_mode": {
    "name": "ipython",
    "version": 3
   },
   "file_extension": ".py",
   "mimetype": "text/x-python",
   "name": "python",
   "nbconvert_exporter": "python",
   "pygments_lexer": "ipython3",
   "version": "3.8.5"
  }
 },
 "nbformat": 4,
 "nbformat_minor": 1
}
