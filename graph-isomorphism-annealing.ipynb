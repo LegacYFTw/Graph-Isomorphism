{
 "metadata": {
  "language_info": {
   "codemirror_mode": {
    "name": "ipython",
    "version": 3
   },
   "file_extension": ".py",
   "mimetype": "text/x-python",
   "name": "python",
   "nbconvert_exporter": "python",
   "pygments_lexer": "ipython3",
   "version": "3.7.11-final"
  },
  "orig_nbformat": 2,
  "kernelspec": {
   "name": "python371164bit1ee6c16d02a4491287b7b553d57c9d42",
   "display_name": "Python 3.7.11 64-bit"
  }
 },
 "nbformat": 4,
 "nbformat_minor": 2,
 "cells": [
  {
   "cell_type": "code",
   "execution_count": 1,
   "metadata": {
    "tags": []
   },
   "outputs": [],
   "source": [
    "# !pip install 'qiskit[visualization]'\n",
    "# !pip install qiskit_optimization\n",
    "# !pip install qiskit-terra"
   ]
  },
  {
   "cell_type": "code",
   "execution_count": 2,
   "metadata": {},
   "outputs": [],
   "source": [
    "# !pip install plotly"
   ]
  },
  {
   "cell_type": "code",
   "execution_count": 3,
   "metadata": {},
   "outputs": [],
   "source": [
    "import networkx as nx\n",
    "import matplotlib.pyplot as plt\n",
    "import numpy as np\n",
    "from time import time\n",
    "from pprint import pprint\n",
    "import plotly.graph_objects as go\n",
    "from plotly.subplots import make_subplots\n",
    "from IPython.display import clear_output"
   ]
  },
  {
   "cell_type": "code",
   "execution_count": 4,
   "metadata": {},
   "outputs": [],
   "source": [
    "from qiskit.algorithms import QAOA\n",
    "from qiskit_optimization.algorithms import MinimumEigenOptimizer\n",
    "from qiskit import Aer\n",
    "from qiskit import QuantumCircuit\n",
    "from qiskit.visualization import plot_state_city\n",
    "from qiskit.algorithms.optimizers import COBYLA, SLSQP, ADAM\n",
    "from qiskit_optimization import QuadraticProgram\n",
    "from docplex.mp.model import Model"
   ]
  },
  {
   "cell_type": "code",
   "execution_count": 5,
   "metadata": {},
   "outputs": [
    {
     "output_type": "stream",
     "name": "stderr",
     "text": [
      "/workspace/.pip-modules/lib/python3.7/site-packages/qiskit/aqua/__init__.py:86: DeprecationWarning: The package qiskit.aqua is deprecated. It was moved/refactored to qiskit-terra For more information see <https://github.com/Qiskit/qiskit-aqua/blob/main/README.md#migration-guide>\n  warn_package('aqua', 'qiskit-terra')\n/workspace/.pip-modules/lib/python3.7/site-packages/qiskit/optimization/__init__.py:92: DeprecationWarning: The package qiskit.optimization is deprecated. It was moved/refactored to qiskit_optimization (pip install qiskit-optimization). For more information see <https://github.com/Qiskit/qiskit-aqua/blob/main/README.md#migration-guide>\n  warn_package('optimization', 'qiskit_optimization', 'qiskit-optimization')\n"
     ]
    }
   ],
   "source": [
    "from qiskit.optimization.applications.ising import stable_set\n",
    "from qiskit import Aer\n",
    "from qiskit.optimization.applications.ising import stable_set\n",
    "from qiskit.aqua.algorithms import VQE, NumPyMinimumEigensolver, QAOA\n",
    "from qiskit.aqua import aqua_globals\n",
    "from qiskit.aqua import QuantumInstance\n",
    "from qiskit.optimization.applications.ising.common import sample_most_likely\n",
    "from qiskit.optimization.algorithms import MinimumEigenOptimizer\n",
    "from qiskit.optimization.problems import QuadraticProgram"
   ]
  },
  {
   "cell_type": "code",
   "execution_count": 6,
   "metadata": {},
   "outputs": [],
   "source": [
    "import dimod"
   ]
  },
  {
   "cell_type": "code",
   "execution_count": 7,
   "metadata": {},
   "outputs": [
    {
     "output_type": "display_data",
     "data": {
      "text/plain": "<Figure size 432x288 with 1 Axes>",
      "image/svg+xml": "<?xml version=\"1.0\" encoding=\"utf-8\" standalone=\"no\"?>\n<!DOCTYPE svg PUBLIC \"-//W3C//DTD SVG 1.1//EN\"\n  \"http://www.w3.org/Graphics/SVG/1.1/DTD/svg11.dtd\">\n<svg height=\"302.4pt\" version=\"1.1\" viewBox=\"0 0 446.4 302.4\" width=\"446.4pt\" xmlns=\"http://www.w3.org/2000/svg\" xmlns:xlink=\"http://www.w3.org/1999/xlink\">\n <metadata>\n  <rdf:RDF xmlns:cc=\"http://creativecommons.org/ns#\" xmlns:dc=\"http://purl.org/dc/elements/1.1/\" xmlns:rdf=\"http://www.w3.org/1999/02/22-rdf-syntax-ns#\">\n   <cc:Work>\n    <dc:type rdf:resource=\"http://purl.org/dc/dcmitype/StillImage\"/>\n    <dc:date>2021-09-17T14:49:36.317505</dc:date>\n    <dc:format>image/svg+xml</dc:format>\n    <dc:creator>\n     <cc:Agent>\n      <dc:title>Matplotlib v3.4.2, https://matplotlib.org/</dc:title>\n     </cc:Agent>\n    </dc:creator>\n   </cc:Work>\n  </rdf:RDF>\n </metadata>\n <defs>\n  <style type=\"text/css\">*{stroke-linecap:butt;stroke-linejoin:round;}</style>\n </defs>\n <g id=\"figure_1\">\n  <g id=\"patch_1\">\n   <path d=\"M 0 302.4 \nL 446.4 302.4 \nL 446.4 0 \nL 0 0 \nz\n\" style=\"fill:#ffffff;\"/>\n  </g>\n  <g id=\"axes_1\">\n   <g id=\"LineCollection_1\">\n    <path clip-path=\"url(#p2acfe0d418)\" d=\"M 57.692683 215.811425 \nL 76.952193 282.109091 \n\" style=\"fill:none;stroke:#000000;\"/>\n    <path clip-path=\"url(#p2acfe0d418)\" d=\"M 57.692683 215.811425 \nL 26.836364 154.38215 \n\" style=\"fill:none;stroke:#000000;\"/>\n   </g>\n   <g id=\"PathCollection_1\">\n    <defs>\n     <path d=\"M 0 11.18034 \nC 2.965061 11.18034 5.80908 10.002309 7.905694 7.905694 \nC 10.002309 5.80908 11.18034 2.965061 11.18034 0 \nC 11.18034 -2.965061 10.002309 -5.80908 7.905694 -7.905694 \nC 5.80908 -10.002309 2.965061 -11.18034 0 -11.18034 \nC -2.965061 -11.18034 -5.80908 -10.002309 -7.905694 -7.905694 \nC -10.002309 -5.80908 -11.18034 -2.965061 -11.18034 0 \nC -11.18034 2.965061 -10.002309 5.80908 -7.905694 7.905694 \nC -5.80908 10.002309 -2.965061 11.18034 0 11.18034 \nz\n\" id=\"m8766746e1e\" style=\"stroke:#1f78b4;\"/>\n    </defs>\n    <g clip-path=\"url(#p2acfe0d418)\">\n     <use style=\"fill:#1f78b4;stroke:#1f78b4;\" x=\"57.692683\" xlink:href=\"#m8766746e1e\" y=\"215.811425\"/>\n     <use style=\"fill:#1f78b4;stroke:#1f78b4;\" x=\"76.952193\" xlink:href=\"#m8766746e1e\" y=\"282.109091\"/>\n     <use style=\"fill:#1f78b4;stroke:#1f78b4;\" x=\"26.836364\" xlink:href=\"#m8766746e1e\" y=\"154.38215\"/>\n     <use style=\"fill:#1f78b4;stroke:#1f78b4;\" x=\"419.563636\" xlink:href=\"#m8766746e1e\" y=\"20.290909\"/>\n    </g>\n   </g>\n   <g id=\"text_1\">\n    <g clip-path=\"url(#p2acfe0d418)\">\n     <!-- 0 -->\n     <g transform=\"translate(53.875183 219.122675)scale(0.12 -0.12)\">\n      <defs>\n       <path d=\"M 2034 4250 \nQ 1547 4250 1301 3770 \nQ 1056 3291 1056 2328 \nQ 1056 1369 1301 889 \nQ 1547 409 2034 409 \nQ 2525 409 2770 889 \nQ 3016 1369 3016 2328 \nQ 3016 3291 2770 3770 \nQ 2525 4250 2034 4250 \nz\nM 2034 4750 \nQ 2819 4750 3233 4129 \nQ 3647 3509 3647 2328 \nQ 3647 1150 3233 529 \nQ 2819 -91 2034 -91 \nQ 1250 -91 836 529 \nQ 422 1150 422 2328 \nQ 422 3509 836 4129 \nQ 1250 4750 2034 4750 \nz\n\" id=\"DejaVuSans-30\" transform=\"scale(0.015625)\"/>\n      </defs>\n      <use xlink:href=\"#DejaVuSans-30\"/>\n     </g>\n    </g>\n   </g>\n   <g id=\"text_2\">\n    <g clip-path=\"url(#p2acfe0d418)\">\n     <!-- 1 -->\n     <g transform=\"translate(73.134693 285.420341)scale(0.12 -0.12)\">\n      <defs>\n       <path d=\"M 794 531 \nL 1825 531 \nL 1825 4091 \nL 703 3866 \nL 703 4441 \nL 1819 4666 \nL 2450 4666 \nL 2450 531 \nL 3481 531 \nL 3481 0 \nL 794 0 \nL 794 531 \nz\n\" id=\"DejaVuSans-31\" transform=\"scale(0.015625)\"/>\n      </defs>\n      <use xlink:href=\"#DejaVuSans-31\"/>\n     </g>\n    </g>\n   </g>\n   <g id=\"text_3\">\n    <g clip-path=\"url(#p2acfe0d418)\">\n     <!-- 2 -->\n     <g transform=\"translate(23.018864 157.6934)scale(0.12 -0.12)\">\n      <defs>\n       <path d=\"M 1228 531 \nL 3431 531 \nL 3431 0 \nL 469 0 \nL 469 531 \nQ 828 903 1448 1529 \nQ 2069 2156 2228 2338 \nQ 2531 2678 2651 2914 \nQ 2772 3150 2772 3378 \nQ 2772 3750 2511 3984 \nQ 2250 4219 1831 4219 \nQ 1534 4219 1204 4116 \nQ 875 4013 500 3803 \nL 500 4441 \nQ 881 4594 1212 4672 \nQ 1544 4750 1819 4750 \nQ 2544 4750 2975 4387 \nQ 3406 4025 3406 3419 \nQ 3406 3131 3298 2873 \nQ 3191 2616 2906 2266 \nQ 2828 2175 2409 1742 \nQ 1991 1309 1228 531 \nz\n\" id=\"DejaVuSans-32\" transform=\"scale(0.015625)\"/>\n      </defs>\n      <use xlink:href=\"#DejaVuSans-32\"/>\n     </g>\n    </g>\n   </g>\n   <g id=\"text_4\">\n    <g clip-path=\"url(#p2acfe0d418)\">\n     <!-- 3 -->\n     <g transform=\"translate(415.746136 23.602159)scale(0.12 -0.12)\">\n      <defs>\n       <path d=\"M 2597 2516 \nQ 3050 2419 3304 2112 \nQ 3559 1806 3559 1356 \nQ 3559 666 3084 287 \nQ 2609 -91 1734 -91 \nQ 1441 -91 1130 -33 \nQ 819 25 488 141 \nL 488 750 \nQ 750 597 1062 519 \nQ 1375 441 1716 441 \nQ 2309 441 2620 675 \nQ 2931 909 2931 1356 \nQ 2931 1769 2642 2001 \nQ 2353 2234 1838 2234 \nL 1294 2234 \nL 1294 2753 \nL 1863 2753 \nQ 2328 2753 2575 2939 \nQ 2822 3125 2822 3475 \nQ 2822 3834 2567 4026 \nQ 2313 4219 1838 4219 \nQ 1578 4219 1281 4162 \nQ 984 4106 628 3988 \nL 628 4550 \nQ 988 4650 1302 4700 \nQ 1616 4750 1894 4750 \nQ 2613 4750 3031 4423 \nQ 3450 4097 3450 3541 \nQ 3450 3153 3228 2886 \nQ 3006 2619 2597 2516 \nz\n\" id=\"DejaVuSans-33\" transform=\"scale(0.015625)\"/>\n      </defs>\n      <use xlink:href=\"#DejaVuSans-33\"/>\n     </g>\n    </g>\n   </g>\n  </g>\n </g>\n <defs>\n  <clipPath id=\"p2acfe0d418\">\n   <rect height=\"288\" width=\"432\" x=\"7.2\" y=\"7.2\"/>\n  </clipPath>\n </defs>\n</svg>\n",
      "image/png": "[encoded data removed]"
     },
     "metadata": {}
    }
   ],
   "source": [
    "G1 = nx.Graph()\n",
    "G1_nodes_list = [0,1,2,3]\n",
    "G1_edges_list = [(0,1), (0,2)]\n",
    "G1.add_nodes_from(G1_nodes_list)\n",
    "G1.add_edges_from(G1_edges_list)\n",
    "nx.draw(G1, with_labels=True, alpha=1, node_size=500)"
   ]
  },
  {
   "cell_type": "code",
   "execution_count": 25,
   "metadata": {},
   "outputs": [
    {
     "output_type": "display_data",
     "data": {
      "text/plain": "<Figure size 432x288 with 1 Axes>",
      "image/svg+xml": "<?xml version=\"1.0\" encoding=\"utf-8\" standalone=\"no\"?>\n<!DOCTYPE svg PUBLIC \"-//W3C//DTD SVG 1.1//EN\"\n  \"http://www.w3.org/Graphics/SVG/1.1/DTD/svg11.dtd\">\n<svg height=\"302.4pt\" version=\"1.1\" viewBox=\"0 0 446.4 302.4\" width=\"446.4pt\" xmlns=\"http://www.w3.org/2000/svg\" xmlns:xlink=\"http://www.w3.org/1999/xlink\">\n <metadata>\n  <rdf:RDF xmlns:cc=\"http://creativecommons.org/ns#\" xmlns:dc=\"http://purl.org/dc/elements/1.1/\" xmlns:rdf=\"http://www.w3.org/1999/02/22-rdf-syntax-ns#\">\n   <cc:Work>\n    <dc:type rdf:resource=\"http://purl.org/dc/dcmitype/StillImage\"/>\n    <dc:date>2021-09-17T14:55:28.907591</dc:date>\n    <dc:format>image/svg+xml</dc:format>\n    <dc:creator>\n     <cc:Agent>\n      <dc:title>Matplotlib v3.4.2, https://matplotlib.org/</dc:title>\n     </cc:Agent>\n    </dc:creator>\n   </cc:Work>\n  </rdf:RDF>\n </metadata>\n <defs>\n  <style type=\"text/css\">*{stroke-linecap:butt;stroke-linejoin:round;}</style>\n </defs>\n <g id=\"figure_1\">\n  <g id=\"patch_1\">\n   <path d=\"M 0 302.4 \nL 446.4 302.4 \nL 446.4 0 \nL 0 0 \nz\n\" style=\"fill:#ffffff;\"/>\n  </g>\n  <g id=\"axes_1\">\n   <g id=\"LineCollection_1\">\n    <path clip-path=\"url(#p39a007c6f1)\" d=\"M 160.809895 282.109091 \nL 96.569809 258.17908 \n\" style=\"fill:none;stroke:#000000;\"/>\n    <path clip-path=\"url(#p39a007c6f1)\" d=\"M 26.836364 240.384274 \nL 96.569809 258.17908 \n\" style=\"fill:none;stroke:#000000;\"/>\n   </g>\n   <g id=\"PathCollection_1\">\n    <defs>\n     <path d=\"M 0 11.18034 \nC 2.965061 11.18034 5.80908 10.002309 7.905694 7.905694 \nC 10.002309 5.80908 11.18034 2.965061 11.18034 0 \nC 11.18034 -2.965061 10.002309 -5.80908 7.905694 -7.905694 \nC 5.80908 -10.002309 2.965061 -11.18034 0 -11.18034 \nC -2.965061 -11.18034 -5.80908 -10.002309 -7.905694 -7.905694 \nC -10.002309 -5.80908 -11.18034 -2.965061 -11.18034 0 \nC -11.18034 2.965061 -10.002309 5.80908 -7.905694 7.905694 \nC -5.80908 10.002309 -2.965061 11.18034 0 11.18034 \nz\n\" id=\"m42921c5723\" style=\"stroke:#1f78b4;\"/>\n    </defs>\n    <g clip-path=\"url(#p39a007c6f1)\">\n     <use style=\"fill:#1f78b4;stroke:#1f78b4;\" x=\"160.809895\" xlink:href=\"#m42921c5723\" y=\"282.109091\"/>\n     <use style=\"fill:#1f78b4;stroke:#1f78b4;\" x=\"26.836364\" xlink:href=\"#m42921c5723\" y=\"240.384274\"/>\n     <use style=\"fill:#1f78b4;stroke:#1f78b4;\" x=\"419.563636\" xlink:href=\"#m42921c5723\" y=\"20.290909\"/>\n     <use style=\"fill:#1f78b4;stroke:#1f78b4;\" x=\"96.569809\" xlink:href=\"#m42921c5723\" y=\"258.17908\"/>\n    </g>\n   </g>\n   <g id=\"text_1\">\n    <g clip-path=\"url(#p39a007c6f1)\">\n     <!-- 0 -->\n     <g transform=\"translate(156.992395 285.420341)scale(0.12 -0.12)\">\n      <defs>\n       <path d=\"M 2034 4250 \nQ 1547 4250 1301 3770 \nQ 1056 3291 1056 2328 \nQ 1056 1369 1301 889 \nQ 1547 409 2034 409 \nQ 2525 409 2770 889 \nQ 3016 1369 3016 2328 \nQ 3016 3291 2770 3770 \nQ 2525 4250 2034 4250 \nz\nM 2034 4750 \nQ 2819 4750 3233 4129 \nQ 3647 3509 3647 2328 \nQ 3647 1150 3233 529 \nQ 2819 -91 2034 -91 \nQ 1250 -91 836 529 \nQ 422 1150 422 2328 \nQ 422 3509 836 4129 \nQ 1250 4750 2034 4750 \nz\n\" id=\"DejaVuSans-30\" transform=\"scale(0.015625)\"/>\n      </defs>\n      <use xlink:href=\"#DejaVuSans-30\"/>\n     </g>\n    </g>\n   </g>\n   <g id=\"text_2\">\n    <g clip-path=\"url(#p39a007c6f1)\">\n     <!-- 1 -->\n     <g transform=\"translate(23.018864 243.695524)scale(0.12 -0.12)\">\n      <defs>\n       <path d=\"M 794 531 \nL 1825 531 \nL 1825 4091 \nL 703 3866 \nL 703 4441 \nL 1819 4666 \nL 2450 4666 \nL 2450 531 \nL 3481 531 \nL 3481 0 \nL 794 0 \nL 794 531 \nz\n\" id=\"DejaVuSans-31\" transform=\"scale(0.015625)\"/>\n      </defs>\n      <use xlink:href=\"#DejaVuSans-31\"/>\n     </g>\n    </g>\n   </g>\n   <g id=\"text_3\">\n    <g clip-path=\"url(#p39a007c6f1)\">\n     <!-- 2 -->\n     <g transform=\"translate(415.746136 23.602159)scale(0.12 -0.12)\">\n      <defs>\n       <path d=\"M 1228 531 \nL 3431 531 \nL 3431 0 \nL 469 0 \nL 469 531 \nQ 828 903 1448 1529 \nQ 2069 2156 2228 2338 \nQ 2531 2678 2651 2914 \nQ 2772 3150 2772 3378 \nQ 2772 3750 2511 3984 \nQ 2250 4219 1831 4219 \nQ 1534 4219 1204 4116 \nQ 875 4013 500 3803 \nL 500 4441 \nQ 881 4594 1212 4672 \nQ 1544 4750 1819 4750 \nQ 2544 4750 2975 4387 \nQ 3406 4025 3406 3419 \nQ 3406 3131 3298 2873 \nQ 3191 2616 2906 2266 \nQ 2828 2175 2409 1742 \nQ 1991 1309 1228 531 \nz\n\" id=\"DejaVuSans-32\" transform=\"scale(0.015625)\"/>\n      </defs>\n      <use xlink:href=\"#DejaVuSans-32\"/>\n     </g>\n    </g>\n   </g>\n   <g id=\"text_4\">\n    <g clip-path=\"url(#p39a007c6f1)\">\n     <!-- 3 -->\n     <g transform=\"translate(92.752309 261.49033)scale(0.12 -0.12)\">\n      <defs>\n       <path d=\"M 2597 2516 \nQ 3050 2419 3304 2112 \nQ 3559 1806 3559 1356 \nQ 3559 666 3084 287 \nQ 2609 -91 1734 -91 \nQ 1441 -91 1130 -33 \nQ 819 25 488 141 \nL 488 750 \nQ 750 597 1062 519 \nQ 1375 441 1716 441 \nQ 2309 441 2620 675 \nQ 2931 909 2931 1356 \nQ 2931 1769 2642 2001 \nQ 2353 2234 1838 2234 \nL 1294 2234 \nL 1294 2753 \nL 1863 2753 \nQ 2328 2753 2575 2939 \nQ 2822 3125 2822 3475 \nQ 2822 3834 2567 4026 \nQ 2313 4219 1838 4219 \nQ 1578 4219 1281 4162 \nQ 984 4106 628 3988 \nL 628 4550 \nQ 988 4650 1302 4700 \nQ 1616 4750 1894 4750 \nQ 2613 4750 3031 4423 \nQ 3450 4097 3450 3541 \nQ 3450 3153 3228 2886 \nQ 3006 2619 2597 2516 \nz\n\" id=\"DejaVuSans-33\" transform=\"scale(0.015625)\"/>\n      </defs>\n      <use xlink:href=\"#DejaVuSans-33\"/>\n     </g>\n    </g>\n   </g>\n  </g>\n </g>\n <defs>\n  <clipPath id=\"p39a007c6f1\">\n   <rect height=\"288\" width=\"432\" x=\"7.2\" y=\"7.2\"/>\n  </clipPath>\n </defs>\n</svg>\n",
      "image/png": "[encoded data removed]"
     },
     "metadata": {}
    }
   ],
   "source": [
    "G2 = nx.Graph()\n",
    "G2_nodes_list = [0,1,2,3]\n",
    "G2_edges_list = [(0,3), (1,3)]\n",
    "G2.add_nodes_from(G2_nodes_list)\n",
    "G2.add_edges_from(G2_edges_list)\n",
    "nx.draw(G2, with_labels=True, alpha=1, node_size=500)"
   ]
  },
  {
   "cell_type": "code",
   "execution_count": 26,
   "metadata": {},
   "outputs": [],
   "source": [
    "def qubo_matrix_generator(G1,G2):\n",
    "    qubo = QuadraticProgram()\n",
    "\n",
    "    # QUBO Problem definition \n",
    "    for v in G2.nodes: \n",
    "        for i in G1.nodes: \n",
    "            # print('Degree at v = %d: %d\\t Degree at i = %d\\t: %d '%(v,G2.degree(int(v)),i, G1.degree(int(i))))\n",
    "            if (G2.degree(int(v)) == G1.degree(int(i))) and G1.degree(int(i))>0 : \n",
    "                # Define the qubo variables\n",
    "                qubo.binary_var(f'x_{int(v)},{int(i)}')\n",
    "\n",
    "    \n",
    "    QUBO_matrix_size = qubo.get_num_binary_vars()\n",
    "    QUBO_binary_variables_list = qubo.variables\n",
    "    ij_list = [ ( variable.name ).split('_')[-1].split(',') for variable in QUBO_binary_variables_list ]\n",
    "    ij_list = [ [ int(i) for i in ij ] for ij in ij_list ]\n",
    "    # print(ij_list)\n",
    "    # for variable in QUBO_binary_variables_list: \n",
    "    #     print(variable.name)\n",
    "\n",
    "    # Intialilise the QUBO matrix\n",
    "    QUBO_matrix = np.zeros((QUBO_matrix_size, QUBO_matrix_size))\n",
    "    variable_tuple_list = []\n",
    "\n",
    "    # for tuple_variable1 in QUBO_binary_variables_list: \n",
    "        # for tuple_variable2 not tuple_variable1 in QUBO_binary_variables_list:\n",
    "        #     # variable_tuple_list.\n",
    "        # print(tuple_variable1)\n",
    "    ij_to_1 = []\n",
    "    different_qubo_variables = []\n",
    "    for [u , i] in ij_list:\n",
    "        for [v , j] in ij_list:\n",
    "            if [ u, i ] != [ v, j ]:\n",
    "                different_qubo_variables += [  ([ u, i ], [ v, j ])  ]\n",
    "\n",
    "    for ([ u, i ], [ v, j ]) in different_qubo_variables:\n",
    "            # print(f\"u: {u}, i: {i}, v: {v}, j: {j}\")\n",
    "            if i == j:\n",
    "                name = f\"x_{u},{i}\"\n",
    "                variable_ui = qubo.get_variable(name)\n",
    "                variable_ui = 1\n",
    "                \n",
    "                name = f\"x_{v},{j}\"\n",
    "                variable_vj = qubo.get_variable(name)\n",
    "                variable_vj = 1\n",
    "\n",
    "                ij_to_1 += [ [ (u, i), (v, j) ] ]\n",
    "\n",
    "            elif u == v:\n",
    "                name = f\"x_{u},{i}\"\n",
    "                variable_ui = qubo.get_variable(name)\n",
    "                variable_ui = 1\n",
    "                \n",
    "                name = f\"x_{v},{j}\"\n",
    "                variable_vj = qubo.get_variable(name)\n",
    "                variable_vj = 1\n",
    "\n",
    "                ij_to_1 += [ [ (u, i), (v, j) ] ]\n",
    "\n",
    "            elif not G1.has_edge(i, j) == G2.has_edge(u, v):\n",
    "                name = f\"x_{u},{i}\"\n",
    "                variable_ui = qubo.get_variable(name)\n",
    "                variable_ui = 1\n",
    "                \n",
    "                name = f\"x_{v},{j}\"\n",
    "                variable_vj = qubo.get_variable(name)\n",
    "                variable_vj = 1\n",
    "\n",
    "                ij_to_1 += [ [ (u, i), (v, j) ] ]\n",
    "\n",
    "    for i in range(QUBO_matrix_size):\n",
    "        QUBO_matrix[i][i] = -1\n",
    "        \n",
    "    for (i, j) in ij_list:\n",
    "        QUBO_matrix[i][j] = 1\n",
    "\n",
    "    # print(ij_list)\n",
    "\n",
    "    matrix_test = np.zeros((QUBO_matrix_size, QUBO_matrix_size))\n",
    "    # pprint(ij_to_1)\n",
    "    ij_to_1_dict = {}\n",
    "\n",
    "    for (row, col) in ij_to_1:\n",
    "        row = list(row)\n",
    "        col = list(col)\n",
    "        i = ij_list.index(row)\n",
    "        j = ij_list.index(col)\n",
    "        ij_to_1_dict[ (i,j) ] = (row, col)\n",
    "        matrix_test[i][j] = 1\n",
    "\n",
    "    for row in range(QUBO_matrix_size): \n",
    "      for column in range(QUBO_matrix_size): \n",
    "         matrix_test[row][row] = -1\n",
    "    \n",
    "    QUBO_matrix_final = np.triu(matrix_test)\n",
    "    QUBO_matrix_upper = np.triu(matrix_test)\n",
    "    QUBO_matrix_lower = np.tril(matrix_test)\n",
    "    \n",
    "    # print(QUBO_matrix_lower)\n",
    "    \n",
    "    # Convert to upper triangular\n",
    "    for i in range(QUBO_matrix_size):\n",
    "      for j in range(QUBO_matrix_size): \n",
    "        if (i>j): \n",
    "          matrix_test[i][j] = matrix_test[i][j] + matrix_test[j][i]\n",
    "          matrix_test[i][j] = 0\n",
    "    \n",
    "\n",
    "\n",
    "    # pprint(ij_to_1_dict)\n",
    "    # print(QUBO_matrix_final)\n",
    "\n",
    "\n",
    "\n",
    "\n",
    "\n",
    "\n",
    "    return matrix_test"
   ]
  },
  {
   "cell_type": "code",
   "execution_count": 32,
   "metadata": {},
   "outputs": [
    {
     "output_type": "stream",
     "name": "stdout",
     "text": [
      "[[-1.  1.  1.  0.  0.]\n [ 0. -1.  0.  1.  0.]\n [ 0.  0. -1.  1.  0.]\n [ 0.  0.  0. -1.  0.]\n [ 0.  0.  0.  0. -1.]]\n"
     ]
    }
   ],
   "source": [
    "QUBO_Matrix = qubo_matrix_generator(G1,G2)\n",
    "\n",
    "print(QUBO_Matrix)"
   ]
  },
  {
   "cell_type": "code",
   "execution_count": 28,
   "metadata": {},
   "outputs": [
    {
     "output_type": "stream",
     "name": "stdout",
     "text": [
      "Offset:  0.0\nQUBO:  {(0, 1): 1.0, (0, 2): 1.0, (1, 3): 1.0, (2, 3): 1.0, (0, 0): -1.0, (1, 1): -1.0, (2, 2): -1.0, (3, 3): -1.0, (4, 4): -1.0}\n"
     ]
    }
   ],
   "source": [
    "import neal\n",
    "\n",
    "bqm = dimod.BinaryQuadraticModel.from_numpy_matrix(QUBO_Matrix)\n",
    "qubo, offset = bqm.to_qubo()\n",
    "print(\"Offset: \", offset)\n",
    "print(\"QUBO: \", qubo)\n",
    "\n"
   ]
  },
  {
   "cell_type": "code",
   "execution_count": 29,
   "metadata": {},
   "outputs": [],
   "source": [
    "from dwave.system import LeapHybridSampler\n",
    "from dimod import BinaryQuadraticModel\n",
    "\n",
    "bqm = BinaryQuadraticModel.from_qubo(QUBO_Matrix)"
   ]
  },
  {
   "cell_type": "code",
   "execution_count": 30,
   "metadata": {},
   "outputs": [
    {
     "output_type": "stream",
     "name": "stdout",
     "text": [
      "\n",
      "Sending problem to hybrid sampler...\n",
      "Done!\n"
     ]
    }
   ],
   "source": [
    "print(\"\\nSending problem to hybrid sampler...\")\n",
    "sampler = LeapHybridSampler()\n",
    "results = sampler.sample_qubo(qubo, label='Graph Isomorphism')\n",
    "print(\"Done!\")"
   ]
  },
  {
   "cell_type": "code",
   "execution_count": 31,
   "metadata": {},
   "outputs": [
    {
     "output_type": "stream",
     "name": "stdout",
     "text": [
      "   0  1  2  3  4 energy num_oc.\n0  0  1  1  0  1   -3.0       1\n['BINARY', 1 rows, 1 samples, 5 variables]\n"
     ]
    }
   ],
   "source": [
    "smpl = results.first.sample\n",
    "print(results)"
   ]
  },
  {
   "cell_type": "code",
   "execution_count": 15,
   "metadata": {},
   "outputs": [],
   "source": [
    "for _ in qubo: \n",
    "    if _ == 0: \n",
    "        print(qubo[_], \"FOUND!!\")\n",
    "    else: \n",
    "        print(qubo[_], \"Not found\")"
   ]
  },
  {
   "cell_type": "code",
   "execution_count": 16,
   "metadata": {},
   "outputs": [],
   "source": [
    "sampleset = dimod.ExactSolver().sample(qubo)"
   ]
  },
  {
   "cell_type": "code",
   "execution_count": 17,
   "metadata": {
    "tags": []
   },
   "outputs": [],
   "source": [
    "energies = []\n",
    "for d in sampleset.data(fields=[\"sample\", \"energy\"]):\n",
    "    energies.append(d.energy)\n",
    "print(energies)"
   ]
  },
  {
   "source": [
    "# Lucas QUBO"
   ],
   "cell_type": "markdown",
   "metadata": {}
  },
  {
   "cell_type": "code",
   "execution_count": 18,
   "metadata": {},
   "outputs": [],
   "source": [
    "def generateQUBO(G1, G2):\n",
    "  n = G1.order()\n",
    "  # print(n)\n",
    "  varsDict = {}\n",
    "  index = 0\n",
    "  for i in range(n):\n",
    "    for j in range(n):\n",
    "      varsDict[(i,j)] = index\n",
    "      index += 1\n",
    "\n",
    "  # initialize Q\n",
    "  Q = {}\n",
    "  for i in range(n*n):\n",
    "    for j in range(n*n): \n",
    "      Q[i,j] = 0\n",
    "\n",
    "  # HA part 1\n",
    "  for i in range(n):\n",
    "    for iprime in range(n):\n",
    "      index = varsDict[(i, iprime )]\n",
    "      Q[index , index ] -= 2\n",
    "  \n",
    "  for iprime1 in range(n):\n",
    "    for iprime2 in range(n):\n",
    "      index1 = varsDict[(i, iprime1 )]\n",
    "      index2 = varsDict [(i, iprime2 )]\n",
    "      Q[ index1 , index2 ] += 1\n",
    "\n",
    "  # HA part 2\n",
    "  for iprime in range(n):\n",
    "    for i in range(n):\n",
    "      index = varsDict[(i, iprime )]\n",
    "      Q[index , index ] -= 2\n",
    "\n",
    "  for i1 in range(n):\n",
    "    for i2 in range(n):\n",
    "      index1 = varsDict[(i1 , iprime )]\n",
    "      index2 = varsDict[(i2 , iprime )]\n",
    "      Q[ index1 , index2 ] += 1\n",
    "  \n",
    "  # HB part 1\n",
    "  for i in range(n):\n",
    "    for j in range(n):\n",
    "      if i in G1[j]: continue\n",
    "      for (u,v) in G2.edges():\n",
    "        x1= varsDict[(u,i)]\n",
    "        x2= varsDict[(v,j)]\n",
    "        Q[x1 ,x2] += 1\n",
    "        x1= varsDict[(v,i)]\n",
    "        x2= varsDict[(u,j)]\n",
    "        Q[x1 ,x2] += 1\n",
    "\n",
    "  # HB part 2\n",
    "  for (i,j) in G1.edges():\n",
    "    for u in range(n):\n",
    "      for v in range(n):\n",
    "        if u in G2[v]: continue\n",
    "        x1= varsDict[(u,i)]\n",
    "        x2= varsDict[(v,j)]\n",
    "        Q[x1 ,x2] += 1\n",
    "        x1= varsDict[(u,j)]\n",
    "        x2= varsDict[(v,i)]\n",
    "        Q[x1 ,x2] += 1\n",
    "  \n",
    "  # Making Q uppertriangular\n",
    "  for i in range(n*n):\n",
    "    for j in range(n*n):\n",
    "      if (i > j) and ( not (Q[i,j ]==0) ):\n",
    "        Q[j,i] += Q[i,j]\n",
    "        Q[i,j] = 0\n",
    "  \n",
    "  lucas_qubo_matrix = np.zeros((n*n, n*n)) \n",
    "\n",
    "  # print(n*n)\n",
    "  for i in range(n*n):\n",
    "    for j in range(n*n):\n",
    "      lucas_qubo_matrix[i][j] = Q[i,j]\n",
    "      # print(Q[i,j], end =' ')\n",
    "    # print()\n",
    "\n",
    "  return lucas_qubo_matrix\n"
   ]
  },
  {
   "cell_type": "code",
   "execution_count": 19,
   "metadata": {},
   "outputs": [],
   "source": [
    "lucas_QUBO = generateQUBO(G1,G2)\n",
    "print(lucas_QUBO)"
   ]
  },
  {
   "cell_type": "code",
   "execution_count": 20,
   "metadata": {},
   "outputs": [
    {
     "output_type": "error",
     "ename": "NameError",
     "evalue": "name 'lucas_QUBO' is not defined",
     "traceback": [
      "\u001b[0;31m---------------------------------------------------------------------------\u001b[0m",
      "\u001b[0;31mNameError\u001b[0m                                 Traceback (most recent call last)",
      "\u001b[0;32m/tmp/ipykernel_13790/4088551613.py\u001b[0m in \u001b[0;36m<module>\u001b[0;34m\u001b[0m\n\u001b[0;32m----> 1\u001b[0;31m \u001b[0mbqm\u001b[0m \u001b[0;34m=\u001b[0m \u001b[0mdimod\u001b[0m\u001b[0;34m.\u001b[0m\u001b[0mBinaryQuadraticModel\u001b[0m\u001b[0;34m.\u001b[0m\u001b[0mfrom_numpy_matrix\u001b[0m\u001b[0;34m(\u001b[0m\u001b[0mlucas_QUBO\u001b[0m\u001b[0;34m)\u001b[0m\u001b[0;34m\u001b[0m\u001b[0;34m\u001b[0m\u001b[0m\n\u001b[0m",
      "\u001b[0;31mNameError\u001b[0m: name 'lucas_QUBO' is not defined"
     ]
    }
   ],
   "source": [
    "bqm = dimod.BinaryQuadraticModel.from_numpy_matrix(lucas_QUBO)"
   ]
  },
  {
   "cell_type": "code",
   "execution_count": 19,
   "metadata": {},
   "outputs": [],
   "source": [
    "sampleset = dimod.ExactSolver().sample(bqm)"
   ]
  },
  {
   "cell_type": "code",
   "execution_count": 20,
   "metadata": {},
   "outputs": [
    {
     "output_type": "stream",
     "name": "stdout",
     "text": [
      "-28.0\n"
     ]
    }
   ],
   "source": [
    "energies = []\n",
    "for d in sampleset.data(fields=[\"sample\", \"energy\"]):\n",
    "    energies.append(d.energy)\n",
    "print(energies[0])"
   ]
  },
  {
   "cell_type": "code",
   "execution_count": 21,
   "metadata": {},
   "outputs": [],
   "source": [
    "from dwave_qbsolv import QBSolv\n",
    "response = QBSolv().sample(bqm)\n"
   ]
  },
  {
   "cell_type": "code",
   "execution_count": 22,
   "metadata": {},
   "outputs": [
    {
     "output_type": "stream",
     "name": "stdout",
     "text": [
      "   0  1  2  3  4  5  6  7  8  9 10 11 12 13 14 15 energy num_oc.\n0  0  1  1  0  0  1  1  1  0  1  1  1  0  0  0  0  -28.0      15\n1  0  1  1  1  0  1  1  0  0  1  1  1  0  0  0  0  -28.0      16\n2  0  1  1  1  0  1  1  1  0  1  1  0  0  0  0  0  -28.0      20\n['BINARY', 3 rows, 51 samples, 16 variables]\n"
     ]
    }
   ],
   "source": [
    "# print(response)"
   ]
  },
  {
   "cell_type": "code",
   "execution_count": null,
   "metadata": {},
   "outputs": [],
   "source": []
  }
 ]
}